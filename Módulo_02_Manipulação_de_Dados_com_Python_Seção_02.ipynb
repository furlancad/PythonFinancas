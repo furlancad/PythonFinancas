{
  "nbformat": 4,
  "nbformat_minor": 0,
  "metadata": {
    "colab": {
      "provenance": [],
      "collapsed_sections": [
        "y8ns3QUJhPwg",
        "hFJuMbHYMYPF",
        "zD-3YVkENkQI",
        "VSMc733LU_0M",
        "EcBn-L_zjEY4",
        "ZTGxRk1Gdg9G",
        "UfNW0sImiQUC",
        "FCFYsItOy4O0",
        "CnKiOE3-7hWq",
        "2Ro6oezVapDM",
        "8iclchReew4N",
        "8yKsB0S_gZfm",
        "OkET95r30dq-",
        "U5ehqDTW0MEN",
        "vO5ST-hi5v4O",
        "2qO6gGhb2mTt",
        "J3KkQNy22Aqk",
        "TZpjgFgKgr9s",
        "NvW6JDTcIGFm",
        "LT4VXbrMJcMR",
        "5fy45nZLK9IN",
        "9e8LMwrlhXjp",
        "eeOcs3IoiM8p",
        "iDO30yudsiwv",
        "MwCWz1FAEdpP",
        "iNK609Styfaf",
        "NmkozYfzydEL",
        "AVvSUeSlz9vd",
        "bMq4ofgtQNbf",
        "sIi7RNteVSrd",
        "5ZrwWaVag-QF",
        "T_Nzege6qQJ9"
      ],
      "include_colab_link": true
    },
    "kernelspec": {
      "name": "python3",
      "display_name": "Python 3"
    },
    "language_info": {
      "name": "python"
    }
  },
  "cells": [
    {
      "cell_type": "markdown",
      "metadata": {
        "id": "view-in-github",
        "colab_type": "text"
      },
      "source": [
        "<a href=\"https://colab.research.google.com/github/furlancad/PythonFinancas/blob/main/M%C3%B3dulo_02_Manipula%C3%A7%C3%A3o_de_Dados_com_Python_Se%C3%A7%C3%A3o_02.ipynb\" target=\"_parent\"><img src=\"https://colab.research.google.com/assets/colab-badge.svg\" alt=\"Open In Colab\"/></a>"
      ]
    },
    {
      "cell_type": "markdown",
      "source": [
        "<center><img src = \"https://github.com/Trading-com-Dados/pmf/blob/main/logotipo-trading-com-dados.svg?raw=true\" width = \"200\">"
      ],
      "metadata": {
        "id": "LhC1zhTvkPk_"
      }
    },
    {
      "cell_type": "markdown",
      "source": [
        "<center><img src = \"https://github.com/Trading-com-Dados/pmf/blob/main/PMF%20002.png?raw=true\" width = \"700\">"
      ],
      "metadata": {
        "id": "2nM6YF8pimKI"
      }
    },
    {
      "cell_type": "markdown",
      "source": [
        "# **Módulo 02 - Manipulação de Dados com Python**"
      ],
      "metadata": {
        "id": "M-VdkjxzgPJz"
      }
    },
    {
      "cell_type": "markdown",
      "source": [
        "O objetivo deste módulo é dar início ao processo de transformação e processamento de dados utilizando a biblioteca Pandas. Assim, vamos deixar nossos dados no formato que precisamos antes de realizar as análises de mercado financeiro e construção de estratégias. Além disso, mostraremos como filtrar, modificar e juntar diferentes tipos de dados.\n",
        "\n",
        "Por fim, entraremos em conceitos de finanças quantitativas e mostraremos como obter e manipular dados de mercado financeiro usando diferentes bibliotecas.\n",
        "\n",
        "Este Módulo abrange as seguintes seções:"
      ],
      "metadata": {
        "id": "BRmJt3SyPrK7"
      }
    },
    {
      "cell_type": "markdown",
      "source": [
        "**1. Noções básicas da obtenção e processamento de dados**\n",
        "\n",
        "**2. Manipulação de dados**\n",
        "\n",
        "**3. Consolidação de dataframes**\n",
        "\n",
        "**4. Finanças quantitativas**"
      ],
      "metadata": {
        "id": "ixwBNNTURpBD"
      }
    },
    {
      "cell_type": "markdown",
      "source": [
        "# **2. Manipulação de dados**"
      ],
      "metadata": {
        "id": "XFYVBo6ZJ8-W"
      }
    },
    {
      "cell_type": "markdown",
      "source": [
        "## 2.0. Importação dos dados"
      ],
      "metadata": {
        "id": "y8ns3QUJhPwg"
      }
    },
    {
      "cell_type": "code",
      "source": [
        "import pandas as pd"
      ],
      "metadata": {
        "id": "56UlWvNwKANt"
      },
      "execution_count": 1,
      "outputs": []
    },
    {
      "cell_type": "code",
      "source": [
        "pd.read_csv('cotacoes_pd_series.csv')"
      ],
      "metadata": {
        "colab": {
          "base_uri": "https://localhost:8080/",
          "height": 423
        },
        "id": "jB1JTPpcLhlI",
        "outputId": "9c262ec5-c426-4113-fc1c-0952aaea559c"
      },
      "execution_count": 3,
      "outputs": [
        {
          "output_type": "execute_result",
          "data": {
            "text/plain": [
              "              Date;Adj Close\n",
              "0     04/01/2010;13.81743431\n",
              "1      05/01/2010;13.6989584\n",
              "2     06/01/2010;13.88407612\n",
              "3     07/01/2010;13.75449371\n",
              "4     08/01/2010;13.68044472\n",
              "...                      ...\n",
              "3212  13/12/2022;23.31999969\n",
              "3213  14/12/2022;21.46999931\n",
              "3214  15/12/2022;22.04000092\n",
              "3215  16/12/2022;22.04999924\n",
              "3216  19/12/2022;22.35000038\n",
              "\n",
              "[3217 rows x 1 columns]"
            ],
            "text/html": [
              "\n",
              "  <div id=\"df-2562a906-4924-4e85-8587-f013d3f80df7\" class=\"colab-df-container\">\n",
              "    <div>\n",
              "<style scoped>\n",
              "    .dataframe tbody tr th:only-of-type {\n",
              "        vertical-align: middle;\n",
              "    }\n",
              "\n",
              "    .dataframe tbody tr th {\n",
              "        vertical-align: top;\n",
              "    }\n",
              "\n",
              "    .dataframe thead th {\n",
              "        text-align: right;\n",
              "    }\n",
              "</style>\n",
              "<table border=\"1\" class=\"dataframe\">\n",
              "  <thead>\n",
              "    <tr style=\"text-align: right;\">\n",
              "      <th></th>\n",
              "      <th>Date;Adj Close</th>\n",
              "    </tr>\n",
              "  </thead>\n",
              "  <tbody>\n",
              "    <tr>\n",
              "      <th>0</th>\n",
              "      <td>04/01/2010;13.81743431</td>\n",
              "    </tr>\n",
              "    <tr>\n",
              "      <th>1</th>\n",
              "      <td>05/01/2010;13.6989584</td>\n",
              "    </tr>\n",
              "    <tr>\n",
              "      <th>2</th>\n",
              "      <td>06/01/2010;13.88407612</td>\n",
              "    </tr>\n",
              "    <tr>\n",
              "      <th>3</th>\n",
              "      <td>07/01/2010;13.75449371</td>\n",
              "    </tr>\n",
              "    <tr>\n",
              "      <th>4</th>\n",
              "      <td>08/01/2010;13.68044472</td>\n",
              "    </tr>\n",
              "    <tr>\n",
              "      <th>...</th>\n",
              "      <td>...</td>\n",
              "    </tr>\n",
              "    <tr>\n",
              "      <th>3212</th>\n",
              "      <td>13/12/2022;23.31999969</td>\n",
              "    </tr>\n",
              "    <tr>\n",
              "      <th>3213</th>\n",
              "      <td>14/12/2022;21.46999931</td>\n",
              "    </tr>\n",
              "    <tr>\n",
              "      <th>3214</th>\n",
              "      <td>15/12/2022;22.04000092</td>\n",
              "    </tr>\n",
              "    <tr>\n",
              "      <th>3215</th>\n",
              "      <td>16/12/2022;22.04999924</td>\n",
              "    </tr>\n",
              "    <tr>\n",
              "      <th>3216</th>\n",
              "      <td>19/12/2022;22.35000038</td>\n",
              "    </tr>\n",
              "  </tbody>\n",
              "</table>\n",
              "<p>3217 rows × 1 columns</p>\n",
              "</div>\n",
              "    <div class=\"colab-df-buttons\">\n",
              "\n",
              "  <div class=\"colab-df-container\">\n",
              "    <button class=\"colab-df-convert\" onclick=\"convertToInteractive('df-2562a906-4924-4e85-8587-f013d3f80df7')\"\n",
              "            title=\"Convert this dataframe to an interactive table.\"\n",
              "            style=\"display:none;\">\n",
              "\n",
              "  <svg xmlns=\"http://www.w3.org/2000/svg\" height=\"24px\" viewBox=\"0 -960 960 960\">\n",
              "    <path d=\"M120-120v-720h720v720H120Zm60-500h600v-160H180v160Zm220 220h160v-160H400v160Zm0 220h160v-160H400v160ZM180-400h160v-160H180v160Zm440 0h160v-160H620v160ZM180-180h160v-160H180v160Zm440 0h160v-160H620v160Z\"/>\n",
              "  </svg>\n",
              "    </button>\n",
              "\n",
              "  <style>\n",
              "    .colab-df-container {\n",
              "      display:flex;\n",
              "      gap: 12px;\n",
              "    }\n",
              "\n",
              "    .colab-df-convert {\n",
              "      background-color: #E8F0FE;\n",
              "      border: none;\n",
              "      border-radius: 50%;\n",
              "      cursor: pointer;\n",
              "      display: none;\n",
              "      fill: #1967D2;\n",
              "      height: 32px;\n",
              "      padding: 0 0 0 0;\n",
              "      width: 32px;\n",
              "    }\n",
              "\n",
              "    .colab-df-convert:hover {\n",
              "      background-color: #E2EBFA;\n",
              "      box-shadow: 0px 1px 2px rgba(60, 64, 67, 0.3), 0px 1px 3px 1px rgba(60, 64, 67, 0.15);\n",
              "      fill: #174EA6;\n",
              "    }\n",
              "\n",
              "    .colab-df-buttons div {\n",
              "      margin-bottom: 4px;\n",
              "    }\n",
              "\n",
              "    [theme=dark] .colab-df-convert {\n",
              "      background-color: #3B4455;\n",
              "      fill: #D2E3FC;\n",
              "    }\n",
              "\n",
              "    [theme=dark] .colab-df-convert:hover {\n",
              "      background-color: #434B5C;\n",
              "      box-shadow: 0px 1px 3px 1px rgba(0, 0, 0, 0.15);\n",
              "      filter: drop-shadow(0px 1px 2px rgba(0, 0, 0, 0.3));\n",
              "      fill: #FFFFFF;\n",
              "    }\n",
              "  </style>\n",
              "\n",
              "    <script>\n",
              "      const buttonEl =\n",
              "        document.querySelector('#df-2562a906-4924-4e85-8587-f013d3f80df7 button.colab-df-convert');\n",
              "      buttonEl.style.display =\n",
              "        google.colab.kernel.accessAllowed ? 'block' : 'none';\n",
              "\n",
              "      async function convertToInteractive(key) {\n",
              "        const element = document.querySelector('#df-2562a906-4924-4e85-8587-f013d3f80df7');\n",
              "        const dataTable =\n",
              "          await google.colab.kernel.invokeFunction('convertToInteractive',\n",
              "                                                    [key], {});\n",
              "        if (!dataTable) return;\n",
              "\n",
              "        const docLinkHtml = 'Like what you see? Visit the ' +\n",
              "          '<a target=\"_blank\" href=https://colab.research.google.com/notebooks/data_table.ipynb>data table notebook</a>'\n",
              "          + ' to learn more about interactive tables.';\n",
              "        element.innerHTML = '';\n",
              "        dataTable['output_type'] = 'display_data';\n",
              "        await google.colab.output.renderOutput(dataTable, element);\n",
              "        const docLink = document.createElement('div');\n",
              "        docLink.innerHTML = docLinkHtml;\n",
              "        element.appendChild(docLink);\n",
              "      }\n",
              "    </script>\n",
              "  </div>\n",
              "\n",
              "\n",
              "<div id=\"df-65ecf296-91a9-4013-b715-43b6743797a4\">\n",
              "  <button class=\"colab-df-quickchart\" onclick=\"quickchart('df-65ecf296-91a9-4013-b715-43b6743797a4')\"\n",
              "            title=\"Suggest charts.\"\n",
              "            style=\"display:none;\">\n",
              "\n",
              "<svg xmlns=\"http://www.w3.org/2000/svg\" height=\"24px\"viewBox=\"0 0 24 24\"\n",
              "     width=\"24px\">\n",
              "    <g>\n",
              "        <path d=\"M19 3H5c-1.1 0-2 .9-2 2v14c0 1.1.9 2 2 2h14c1.1 0 2-.9 2-2V5c0-1.1-.9-2-2-2zM9 17H7v-7h2v7zm4 0h-2V7h2v10zm4 0h-2v-4h2v4z\"/>\n",
              "    </g>\n",
              "</svg>\n",
              "  </button>\n",
              "\n",
              "<style>\n",
              "  .colab-df-quickchart {\n",
              "      --bg-color: #E8F0FE;\n",
              "      --fill-color: #1967D2;\n",
              "      --hover-bg-color: #E2EBFA;\n",
              "      --hover-fill-color: #174EA6;\n",
              "      --disabled-fill-color: #AAA;\n",
              "      --disabled-bg-color: #DDD;\n",
              "  }\n",
              "\n",
              "  [theme=dark] .colab-df-quickchart {\n",
              "      --bg-color: #3B4455;\n",
              "      --fill-color: #D2E3FC;\n",
              "      --hover-bg-color: #434B5C;\n",
              "      --hover-fill-color: #FFFFFF;\n",
              "      --disabled-bg-color: #3B4455;\n",
              "      --disabled-fill-color: #666;\n",
              "  }\n",
              "\n",
              "  .colab-df-quickchart {\n",
              "    background-color: var(--bg-color);\n",
              "    border: none;\n",
              "    border-radius: 50%;\n",
              "    cursor: pointer;\n",
              "    display: none;\n",
              "    fill: var(--fill-color);\n",
              "    height: 32px;\n",
              "    padding: 0;\n",
              "    width: 32px;\n",
              "  }\n",
              "\n",
              "  .colab-df-quickchart:hover {\n",
              "    background-color: var(--hover-bg-color);\n",
              "    box-shadow: 0 1px 2px rgba(60, 64, 67, 0.3), 0 1px 3px 1px rgba(60, 64, 67, 0.15);\n",
              "    fill: var(--button-hover-fill-color);\n",
              "  }\n",
              "\n",
              "  .colab-df-quickchart-complete:disabled,\n",
              "  .colab-df-quickchart-complete:disabled:hover {\n",
              "    background-color: var(--disabled-bg-color);\n",
              "    fill: var(--disabled-fill-color);\n",
              "    box-shadow: none;\n",
              "  }\n",
              "\n",
              "  .colab-df-spinner {\n",
              "    border: 2px solid var(--fill-color);\n",
              "    border-color: transparent;\n",
              "    border-bottom-color: var(--fill-color);\n",
              "    animation:\n",
              "      spin 1s steps(1) infinite;\n",
              "  }\n",
              "\n",
              "  @keyframes spin {\n",
              "    0% {\n",
              "      border-color: transparent;\n",
              "      border-bottom-color: var(--fill-color);\n",
              "      border-left-color: var(--fill-color);\n",
              "    }\n",
              "    20% {\n",
              "      border-color: transparent;\n",
              "      border-left-color: var(--fill-color);\n",
              "      border-top-color: var(--fill-color);\n",
              "    }\n",
              "    30% {\n",
              "      border-color: transparent;\n",
              "      border-left-color: var(--fill-color);\n",
              "      border-top-color: var(--fill-color);\n",
              "      border-right-color: var(--fill-color);\n",
              "    }\n",
              "    40% {\n",
              "      border-color: transparent;\n",
              "      border-right-color: var(--fill-color);\n",
              "      border-top-color: var(--fill-color);\n",
              "    }\n",
              "    60% {\n",
              "      border-color: transparent;\n",
              "      border-right-color: var(--fill-color);\n",
              "    }\n",
              "    80% {\n",
              "      border-color: transparent;\n",
              "      border-right-color: var(--fill-color);\n",
              "      border-bottom-color: var(--fill-color);\n",
              "    }\n",
              "    90% {\n",
              "      border-color: transparent;\n",
              "      border-bottom-color: var(--fill-color);\n",
              "    }\n",
              "  }\n",
              "</style>\n",
              "\n",
              "  <script>\n",
              "    async function quickchart(key) {\n",
              "      const quickchartButtonEl =\n",
              "        document.querySelector('#' + key + ' button');\n",
              "      quickchartButtonEl.disabled = true;  // To prevent multiple clicks.\n",
              "      quickchartButtonEl.classList.add('colab-df-spinner');\n",
              "      try {\n",
              "        const charts = await google.colab.kernel.invokeFunction(\n",
              "            'suggestCharts', [key], {});\n",
              "      } catch (error) {\n",
              "        console.error('Error during call to suggestCharts:', error);\n",
              "      }\n",
              "      quickchartButtonEl.classList.remove('colab-df-spinner');\n",
              "      quickchartButtonEl.classList.add('colab-df-quickchart-complete');\n",
              "    }\n",
              "    (() => {\n",
              "      let quickchartButtonEl =\n",
              "        document.querySelector('#df-65ecf296-91a9-4013-b715-43b6743797a4 button');\n",
              "      quickchartButtonEl.style.display =\n",
              "        google.colab.kernel.accessAllowed ? 'block' : 'none';\n",
              "    })();\n",
              "  </script>\n",
              "</div>\n",
              "    </div>\n",
              "  </div>\n"
            ]
          },
          "metadata": {},
          "execution_count": 3
        }
      ]
    },
    {
      "cell_type": "markdown",
      "source": [
        "Estamos com alguns problemas de formatação"
      ],
      "metadata": {
        "id": "xKGkM2R7LnKv"
      }
    },
    {
      "cell_type": "code",
      "source": [
        "cotacoes = pd.read_csv('cotacoes_pd_series.csv', sep = ';', index_col = 0)"
      ],
      "metadata": {
        "id": "wQKtjcqkLrxv"
      },
      "execution_count": 6,
      "outputs": []
    },
    {
      "cell_type": "code",
      "source": [
        "cotacoes.index = pd.to_datetime(cotacoes.index)"
      ],
      "metadata": {
        "id": "0zsaAeiBLyq1",
        "colab": {
          "base_uri": "https://localhost:8080/"
        },
        "outputId": "98a07601-3e92-4ebb-9054-c10ef199817c"
      },
      "execution_count": 7,
      "outputs": [
        {
          "output_type": "stream",
          "name": "stderr",
          "text": [
            "<ipython-input-7-80ddd973d020>:1: UserWarning: Parsing dates in DD/MM/YYYY format when dayfirst=False (the default) was specified. This may lead to inconsistently parsed dates! Specify a format to ensure consistent parsing.\n",
            "  cotacoes.index = pd.to_datetime(cotacoes.index)\n"
          ]
        }
      ]
    },
    {
      "cell_type": "code",
      "source": [
        "cotacoes"
      ],
      "metadata": {
        "colab": {
          "base_uri": "https://localhost:8080/",
          "height": 455
        },
        "id": "Og6DeFrEMXat",
        "outputId": "2158eab7-9a9e-4c68-e0af-42575b3c920d"
      },
      "execution_count": 8,
      "outputs": [
        {
          "output_type": "execute_result",
          "data": {
            "text/plain": [
              "            Adj Close\n",
              "Date                 \n",
              "2010-04-01  13.817434\n",
              "2010-05-01  13.698958\n",
              "2010-06-01  13.884076\n",
              "2010-07-01  13.754494\n",
              "2010-08-01  13.680445\n",
              "...               ...\n",
              "2022-12-13  23.320000\n",
              "2022-12-14  21.469999\n",
              "2022-12-15  22.040001\n",
              "2022-12-16  22.049999\n",
              "2022-12-19  22.350000\n",
              "\n",
              "[3217 rows x 1 columns]"
            ],
            "text/html": [
              "\n",
              "  <div id=\"df-15173ecb-9109-45b0-8d6a-11a1428340ce\" class=\"colab-df-container\">\n",
              "    <div>\n",
              "<style scoped>\n",
              "    .dataframe tbody tr th:only-of-type {\n",
              "        vertical-align: middle;\n",
              "    }\n",
              "\n",
              "    .dataframe tbody tr th {\n",
              "        vertical-align: top;\n",
              "    }\n",
              "\n",
              "    .dataframe thead th {\n",
              "        text-align: right;\n",
              "    }\n",
              "</style>\n",
              "<table border=\"1\" class=\"dataframe\">\n",
              "  <thead>\n",
              "    <tr style=\"text-align: right;\">\n",
              "      <th></th>\n",
              "      <th>Adj Close</th>\n",
              "    </tr>\n",
              "    <tr>\n",
              "      <th>Date</th>\n",
              "      <th></th>\n",
              "    </tr>\n",
              "  </thead>\n",
              "  <tbody>\n",
              "    <tr>\n",
              "      <th>2010-04-01</th>\n",
              "      <td>13.817434</td>\n",
              "    </tr>\n",
              "    <tr>\n",
              "      <th>2010-05-01</th>\n",
              "      <td>13.698958</td>\n",
              "    </tr>\n",
              "    <tr>\n",
              "      <th>2010-06-01</th>\n",
              "      <td>13.884076</td>\n",
              "    </tr>\n",
              "    <tr>\n",
              "      <th>2010-07-01</th>\n",
              "      <td>13.754494</td>\n",
              "    </tr>\n",
              "    <tr>\n",
              "      <th>2010-08-01</th>\n",
              "      <td>13.680445</td>\n",
              "    </tr>\n",
              "    <tr>\n",
              "      <th>...</th>\n",
              "      <td>...</td>\n",
              "    </tr>\n",
              "    <tr>\n",
              "      <th>2022-12-13</th>\n",
              "      <td>23.320000</td>\n",
              "    </tr>\n",
              "    <tr>\n",
              "      <th>2022-12-14</th>\n",
              "      <td>21.469999</td>\n",
              "    </tr>\n",
              "    <tr>\n",
              "      <th>2022-12-15</th>\n",
              "      <td>22.040001</td>\n",
              "    </tr>\n",
              "    <tr>\n",
              "      <th>2022-12-16</th>\n",
              "      <td>22.049999</td>\n",
              "    </tr>\n",
              "    <tr>\n",
              "      <th>2022-12-19</th>\n",
              "      <td>22.350000</td>\n",
              "    </tr>\n",
              "  </tbody>\n",
              "</table>\n",
              "<p>3217 rows × 1 columns</p>\n",
              "</div>\n",
              "    <div class=\"colab-df-buttons\">\n",
              "\n",
              "  <div class=\"colab-df-container\">\n",
              "    <button class=\"colab-df-convert\" onclick=\"convertToInteractive('df-15173ecb-9109-45b0-8d6a-11a1428340ce')\"\n",
              "            title=\"Convert this dataframe to an interactive table.\"\n",
              "            style=\"display:none;\">\n",
              "\n",
              "  <svg xmlns=\"http://www.w3.org/2000/svg\" height=\"24px\" viewBox=\"0 -960 960 960\">\n",
              "    <path d=\"M120-120v-720h720v720H120Zm60-500h600v-160H180v160Zm220 220h160v-160H400v160Zm0 220h160v-160H400v160ZM180-400h160v-160H180v160Zm440 0h160v-160H620v160ZM180-180h160v-160H180v160Zm440 0h160v-160H620v160Z\"/>\n",
              "  </svg>\n",
              "    </button>\n",
              "\n",
              "  <style>\n",
              "    .colab-df-container {\n",
              "      display:flex;\n",
              "      gap: 12px;\n",
              "    }\n",
              "\n",
              "    .colab-df-convert {\n",
              "      background-color: #E8F0FE;\n",
              "      border: none;\n",
              "      border-radius: 50%;\n",
              "      cursor: pointer;\n",
              "      display: none;\n",
              "      fill: #1967D2;\n",
              "      height: 32px;\n",
              "      padding: 0 0 0 0;\n",
              "      width: 32px;\n",
              "    }\n",
              "\n",
              "    .colab-df-convert:hover {\n",
              "      background-color: #E2EBFA;\n",
              "      box-shadow: 0px 1px 2px rgba(60, 64, 67, 0.3), 0px 1px 3px 1px rgba(60, 64, 67, 0.15);\n",
              "      fill: #174EA6;\n",
              "    }\n",
              "\n",
              "    .colab-df-buttons div {\n",
              "      margin-bottom: 4px;\n",
              "    }\n",
              "\n",
              "    [theme=dark] .colab-df-convert {\n",
              "      background-color: #3B4455;\n",
              "      fill: #D2E3FC;\n",
              "    }\n",
              "\n",
              "    [theme=dark] .colab-df-convert:hover {\n",
              "      background-color: #434B5C;\n",
              "      box-shadow: 0px 1px 3px 1px rgba(0, 0, 0, 0.15);\n",
              "      filter: drop-shadow(0px 1px 2px rgba(0, 0, 0, 0.3));\n",
              "      fill: #FFFFFF;\n",
              "    }\n",
              "  </style>\n",
              "\n",
              "    <script>\n",
              "      const buttonEl =\n",
              "        document.querySelector('#df-15173ecb-9109-45b0-8d6a-11a1428340ce button.colab-df-convert');\n",
              "      buttonEl.style.display =\n",
              "        google.colab.kernel.accessAllowed ? 'block' : 'none';\n",
              "\n",
              "      async function convertToInteractive(key) {\n",
              "        const element = document.querySelector('#df-15173ecb-9109-45b0-8d6a-11a1428340ce');\n",
              "        const dataTable =\n",
              "          await google.colab.kernel.invokeFunction('convertToInteractive',\n",
              "                                                    [key], {});\n",
              "        if (!dataTable) return;\n",
              "\n",
              "        const docLinkHtml = 'Like what you see? Visit the ' +\n",
              "          '<a target=\"_blank\" href=https://colab.research.google.com/notebooks/data_table.ipynb>data table notebook</a>'\n",
              "          + ' to learn more about interactive tables.';\n",
              "        element.innerHTML = '';\n",
              "        dataTable['output_type'] = 'display_data';\n",
              "        await google.colab.output.renderOutput(dataTable, element);\n",
              "        const docLink = document.createElement('div');\n",
              "        docLink.innerHTML = docLinkHtml;\n",
              "        element.appendChild(docLink);\n",
              "      }\n",
              "    </script>\n",
              "  </div>\n",
              "\n",
              "\n",
              "<div id=\"df-bbe0a083-9098-4d6a-be06-4b1a8856b9ac\">\n",
              "  <button class=\"colab-df-quickchart\" onclick=\"quickchart('df-bbe0a083-9098-4d6a-be06-4b1a8856b9ac')\"\n",
              "            title=\"Suggest charts.\"\n",
              "            style=\"display:none;\">\n",
              "\n",
              "<svg xmlns=\"http://www.w3.org/2000/svg\" height=\"24px\"viewBox=\"0 0 24 24\"\n",
              "     width=\"24px\">\n",
              "    <g>\n",
              "        <path d=\"M19 3H5c-1.1 0-2 .9-2 2v14c0 1.1.9 2 2 2h14c1.1 0 2-.9 2-2V5c0-1.1-.9-2-2-2zM9 17H7v-7h2v7zm4 0h-2V7h2v10zm4 0h-2v-4h2v4z\"/>\n",
              "    </g>\n",
              "</svg>\n",
              "  </button>\n",
              "\n",
              "<style>\n",
              "  .colab-df-quickchart {\n",
              "      --bg-color: #E8F0FE;\n",
              "      --fill-color: #1967D2;\n",
              "      --hover-bg-color: #E2EBFA;\n",
              "      --hover-fill-color: #174EA6;\n",
              "      --disabled-fill-color: #AAA;\n",
              "      --disabled-bg-color: #DDD;\n",
              "  }\n",
              "\n",
              "  [theme=dark] .colab-df-quickchart {\n",
              "      --bg-color: #3B4455;\n",
              "      --fill-color: #D2E3FC;\n",
              "      --hover-bg-color: #434B5C;\n",
              "      --hover-fill-color: #FFFFFF;\n",
              "      --disabled-bg-color: #3B4455;\n",
              "      --disabled-fill-color: #666;\n",
              "  }\n",
              "\n",
              "  .colab-df-quickchart {\n",
              "    background-color: var(--bg-color);\n",
              "    border: none;\n",
              "    border-radius: 50%;\n",
              "    cursor: pointer;\n",
              "    display: none;\n",
              "    fill: var(--fill-color);\n",
              "    height: 32px;\n",
              "    padding: 0;\n",
              "    width: 32px;\n",
              "  }\n",
              "\n",
              "  .colab-df-quickchart:hover {\n",
              "    background-color: var(--hover-bg-color);\n",
              "    box-shadow: 0 1px 2px rgba(60, 64, 67, 0.3), 0 1px 3px 1px rgba(60, 64, 67, 0.15);\n",
              "    fill: var(--button-hover-fill-color);\n",
              "  }\n",
              "\n",
              "  .colab-df-quickchart-complete:disabled,\n",
              "  .colab-df-quickchart-complete:disabled:hover {\n",
              "    background-color: var(--disabled-bg-color);\n",
              "    fill: var(--disabled-fill-color);\n",
              "    box-shadow: none;\n",
              "  }\n",
              "\n",
              "  .colab-df-spinner {\n",
              "    border: 2px solid var(--fill-color);\n",
              "    border-color: transparent;\n",
              "    border-bottom-color: var(--fill-color);\n",
              "    animation:\n",
              "      spin 1s steps(1) infinite;\n",
              "  }\n",
              "\n",
              "  @keyframes spin {\n",
              "    0% {\n",
              "      border-color: transparent;\n",
              "      border-bottom-color: var(--fill-color);\n",
              "      border-left-color: var(--fill-color);\n",
              "    }\n",
              "    20% {\n",
              "      border-color: transparent;\n",
              "      border-left-color: var(--fill-color);\n",
              "      border-top-color: var(--fill-color);\n",
              "    }\n",
              "    30% {\n",
              "      border-color: transparent;\n",
              "      border-left-color: var(--fill-color);\n",
              "      border-top-color: var(--fill-color);\n",
              "      border-right-color: var(--fill-color);\n",
              "    }\n",
              "    40% {\n",
              "      border-color: transparent;\n",
              "      border-right-color: var(--fill-color);\n",
              "      border-top-color: var(--fill-color);\n",
              "    }\n",
              "    60% {\n",
              "      border-color: transparent;\n",
              "      border-right-color: var(--fill-color);\n",
              "    }\n",
              "    80% {\n",
              "      border-color: transparent;\n",
              "      border-right-color: var(--fill-color);\n",
              "      border-bottom-color: var(--fill-color);\n",
              "    }\n",
              "    90% {\n",
              "      border-color: transparent;\n",
              "      border-bottom-color: var(--fill-color);\n",
              "    }\n",
              "  }\n",
              "</style>\n",
              "\n",
              "  <script>\n",
              "    async function quickchart(key) {\n",
              "      const quickchartButtonEl =\n",
              "        document.querySelector('#' + key + ' button');\n",
              "      quickchartButtonEl.disabled = true;  // To prevent multiple clicks.\n",
              "      quickchartButtonEl.classList.add('colab-df-spinner');\n",
              "      try {\n",
              "        const charts = await google.colab.kernel.invokeFunction(\n",
              "            'suggestCharts', [key], {});\n",
              "      } catch (error) {\n",
              "        console.error('Error during call to suggestCharts:', error);\n",
              "      }\n",
              "      quickchartButtonEl.classList.remove('colab-df-spinner');\n",
              "      quickchartButtonEl.classList.add('colab-df-quickchart-complete');\n",
              "    }\n",
              "    (() => {\n",
              "      let quickchartButtonEl =\n",
              "        document.querySelector('#df-bbe0a083-9098-4d6a-be06-4b1a8856b9ac button');\n",
              "      quickchartButtonEl.style.display =\n",
              "        google.colab.kernel.accessAllowed ? 'block' : 'none';\n",
              "    })();\n",
              "  </script>\n",
              "</div>\n",
              "    </div>\n",
              "  </div>\n"
            ]
          },
          "metadata": {},
          "execution_count": 8
        }
      ]
    },
    {
      "cell_type": "markdown",
      "source": [
        "## 2.1. Dataframe simples (uma coluna) vs Pandas Series"
      ],
      "metadata": {
        "id": "hFJuMbHYMYPF"
      }
    },
    {
      "cell_type": "markdown",
      "source": [
        "Observe a estrutura do objeto abaixo. Perceba que ele não possui tao claramente as delimitações de index e colunas típicas do Dataframe\n",
        "\n",
        "Trata-se de outro objeto importante da Pandas: as Series"
      ],
      "metadata": {
        "id": "jJTWcvzAMmGb"
      }
    },
    {
      "cell_type": "code",
      "source": [
        "cotacoes['Adj Close']"
      ],
      "metadata": {
        "colab": {
          "base_uri": "https://localhost:8080/"
        },
        "id": "RdZ-7zg2MvCU",
        "outputId": "b0b7ac54-9846-4003-c94d-591bfa6cda45"
      },
      "execution_count": 11,
      "outputs": [
        {
          "output_type": "execute_result",
          "data": {
            "text/plain": [
              "Date\n",
              "2010-04-01    13.817434\n",
              "2010-05-01    13.698958\n",
              "2010-06-01    13.884076\n",
              "2010-07-01    13.754494\n",
              "2010-08-01    13.680445\n",
              "                ...    \n",
              "2022-12-13    23.320000\n",
              "2022-12-14    21.469999\n",
              "2022-12-15    22.040001\n",
              "2022-12-16    22.049999\n",
              "2022-12-19    22.350000\n",
              "Name: Adj Close, Length: 3217, dtype: float64"
            ]
          },
          "metadata": {},
          "execution_count": 11
        }
      ]
    },
    {
      "cell_type": "markdown",
      "source": [
        "Dataframes podem ser um pouco mais fáceis visualizar e trabalhar. Veja algumas formas de trabalhar a transição entre pandas Series e pandas Dataframes"
      ],
      "metadata": {
        "id": "fmkJf74rMyQf"
      }
    },
    {
      "cell_type": "markdown",
      "source": [
        "Nesse caso, forçamos uma lista de colunas com uma coluna apenas, mantendo o formato df"
      ],
      "metadata": {
        "id": "zJNS4C1eM5n1"
      }
    },
    {
      "cell_type": "code",
      "source": [
        "cotacoes[['Adj Close']]"
      ],
      "metadata": {
        "colab": {
          "base_uri": "https://localhost:8080/",
          "height": 455
        },
        "id": "LZpeBwFZNDG1",
        "outputId": "90504978-fce6-40f2-e81d-f93e6eab579a"
      },
      "execution_count": 12,
      "outputs": [
        {
          "output_type": "execute_result",
          "data": {
            "text/plain": [
              "            Adj Close\n",
              "Date                 \n",
              "2010-04-01  13.817434\n",
              "2010-05-01  13.698958\n",
              "2010-06-01  13.884076\n",
              "2010-07-01  13.754494\n",
              "2010-08-01  13.680445\n",
              "...               ...\n",
              "2022-12-13  23.320000\n",
              "2022-12-14  21.469999\n",
              "2022-12-15  22.040001\n",
              "2022-12-16  22.049999\n",
              "2022-12-19  22.350000\n",
              "\n",
              "[3217 rows x 1 columns]"
            ],
            "text/html": [
              "\n",
              "  <div id=\"df-16ab140c-0aca-42a4-8680-f2c5a46c4226\" class=\"colab-df-container\">\n",
              "    <div>\n",
              "<style scoped>\n",
              "    .dataframe tbody tr th:only-of-type {\n",
              "        vertical-align: middle;\n",
              "    }\n",
              "\n",
              "    .dataframe tbody tr th {\n",
              "        vertical-align: top;\n",
              "    }\n",
              "\n",
              "    .dataframe thead th {\n",
              "        text-align: right;\n",
              "    }\n",
              "</style>\n",
              "<table border=\"1\" class=\"dataframe\">\n",
              "  <thead>\n",
              "    <tr style=\"text-align: right;\">\n",
              "      <th></th>\n",
              "      <th>Adj Close</th>\n",
              "    </tr>\n",
              "    <tr>\n",
              "      <th>Date</th>\n",
              "      <th></th>\n",
              "    </tr>\n",
              "  </thead>\n",
              "  <tbody>\n",
              "    <tr>\n",
              "      <th>2010-04-01</th>\n",
              "      <td>13.817434</td>\n",
              "    </tr>\n",
              "    <tr>\n",
              "      <th>2010-05-01</th>\n",
              "      <td>13.698958</td>\n",
              "    </tr>\n",
              "    <tr>\n",
              "      <th>2010-06-01</th>\n",
              "      <td>13.884076</td>\n",
              "    </tr>\n",
              "    <tr>\n",
              "      <th>2010-07-01</th>\n",
              "      <td>13.754494</td>\n",
              "    </tr>\n",
              "    <tr>\n",
              "      <th>2010-08-01</th>\n",
              "      <td>13.680445</td>\n",
              "    </tr>\n",
              "    <tr>\n",
              "      <th>...</th>\n",
              "      <td>...</td>\n",
              "    </tr>\n",
              "    <tr>\n",
              "      <th>2022-12-13</th>\n",
              "      <td>23.320000</td>\n",
              "    </tr>\n",
              "    <tr>\n",
              "      <th>2022-12-14</th>\n",
              "      <td>21.469999</td>\n",
              "    </tr>\n",
              "    <tr>\n",
              "      <th>2022-12-15</th>\n",
              "      <td>22.040001</td>\n",
              "    </tr>\n",
              "    <tr>\n",
              "      <th>2022-12-16</th>\n",
              "      <td>22.049999</td>\n",
              "    </tr>\n",
              "    <tr>\n",
              "      <th>2022-12-19</th>\n",
              "      <td>22.350000</td>\n",
              "    </tr>\n",
              "  </tbody>\n",
              "</table>\n",
              "<p>3217 rows × 1 columns</p>\n",
              "</div>\n",
              "    <div class=\"colab-df-buttons\">\n",
              "\n",
              "  <div class=\"colab-df-container\">\n",
              "    <button class=\"colab-df-convert\" onclick=\"convertToInteractive('df-16ab140c-0aca-42a4-8680-f2c5a46c4226')\"\n",
              "            title=\"Convert this dataframe to an interactive table.\"\n",
              "            style=\"display:none;\">\n",
              "\n",
              "  <svg xmlns=\"http://www.w3.org/2000/svg\" height=\"24px\" viewBox=\"0 -960 960 960\">\n",
              "    <path d=\"M120-120v-720h720v720H120Zm60-500h600v-160H180v160Zm220 220h160v-160H400v160Zm0 220h160v-160H400v160ZM180-400h160v-160H180v160Zm440 0h160v-160H620v160ZM180-180h160v-160H180v160Zm440 0h160v-160H620v160Z\"/>\n",
              "  </svg>\n",
              "    </button>\n",
              "\n",
              "  <style>\n",
              "    .colab-df-container {\n",
              "      display:flex;\n",
              "      gap: 12px;\n",
              "    }\n",
              "\n",
              "    .colab-df-convert {\n",
              "      background-color: #E8F0FE;\n",
              "      border: none;\n",
              "      border-radius: 50%;\n",
              "      cursor: pointer;\n",
              "      display: none;\n",
              "      fill: #1967D2;\n",
              "      height: 32px;\n",
              "      padding: 0 0 0 0;\n",
              "      width: 32px;\n",
              "    }\n",
              "\n",
              "    .colab-df-convert:hover {\n",
              "      background-color: #E2EBFA;\n",
              "      box-shadow: 0px 1px 2px rgba(60, 64, 67, 0.3), 0px 1px 3px 1px rgba(60, 64, 67, 0.15);\n",
              "      fill: #174EA6;\n",
              "    }\n",
              "\n",
              "    .colab-df-buttons div {\n",
              "      margin-bottom: 4px;\n",
              "    }\n",
              "\n",
              "    [theme=dark] .colab-df-convert {\n",
              "      background-color: #3B4455;\n",
              "      fill: #D2E3FC;\n",
              "    }\n",
              "\n",
              "    [theme=dark] .colab-df-convert:hover {\n",
              "      background-color: #434B5C;\n",
              "      box-shadow: 0px 1px 3px 1px rgba(0, 0, 0, 0.15);\n",
              "      filter: drop-shadow(0px 1px 2px rgba(0, 0, 0, 0.3));\n",
              "      fill: #FFFFFF;\n",
              "    }\n",
              "  </style>\n",
              "\n",
              "    <script>\n",
              "      const buttonEl =\n",
              "        document.querySelector('#df-16ab140c-0aca-42a4-8680-f2c5a46c4226 button.colab-df-convert');\n",
              "      buttonEl.style.display =\n",
              "        google.colab.kernel.accessAllowed ? 'block' : 'none';\n",
              "\n",
              "      async function convertToInteractive(key) {\n",
              "        const element = document.querySelector('#df-16ab140c-0aca-42a4-8680-f2c5a46c4226');\n",
              "        const dataTable =\n",
              "          await google.colab.kernel.invokeFunction('convertToInteractive',\n",
              "                                                    [key], {});\n",
              "        if (!dataTable) return;\n",
              "\n",
              "        const docLinkHtml = 'Like what you see? Visit the ' +\n",
              "          '<a target=\"_blank\" href=https://colab.research.google.com/notebooks/data_table.ipynb>data table notebook</a>'\n",
              "          + ' to learn more about interactive tables.';\n",
              "        element.innerHTML = '';\n",
              "        dataTable['output_type'] = 'display_data';\n",
              "        await google.colab.output.renderOutput(dataTable, element);\n",
              "        const docLink = document.createElement('div');\n",
              "        docLink.innerHTML = docLinkHtml;\n",
              "        element.appendChild(docLink);\n",
              "      }\n",
              "    </script>\n",
              "  </div>\n",
              "\n",
              "\n",
              "<div id=\"df-5e94aba2-c329-4cf2-a916-bfa83c8591b7\">\n",
              "  <button class=\"colab-df-quickchart\" onclick=\"quickchart('df-5e94aba2-c329-4cf2-a916-bfa83c8591b7')\"\n",
              "            title=\"Suggest charts.\"\n",
              "            style=\"display:none;\">\n",
              "\n",
              "<svg xmlns=\"http://www.w3.org/2000/svg\" height=\"24px\"viewBox=\"0 0 24 24\"\n",
              "     width=\"24px\">\n",
              "    <g>\n",
              "        <path d=\"M19 3H5c-1.1 0-2 .9-2 2v14c0 1.1.9 2 2 2h14c1.1 0 2-.9 2-2V5c0-1.1-.9-2-2-2zM9 17H7v-7h2v7zm4 0h-2V7h2v10zm4 0h-2v-4h2v4z\"/>\n",
              "    </g>\n",
              "</svg>\n",
              "  </button>\n",
              "\n",
              "<style>\n",
              "  .colab-df-quickchart {\n",
              "      --bg-color: #E8F0FE;\n",
              "      --fill-color: #1967D2;\n",
              "      --hover-bg-color: #E2EBFA;\n",
              "      --hover-fill-color: #174EA6;\n",
              "      --disabled-fill-color: #AAA;\n",
              "      --disabled-bg-color: #DDD;\n",
              "  }\n",
              "\n",
              "  [theme=dark] .colab-df-quickchart {\n",
              "      --bg-color: #3B4455;\n",
              "      --fill-color: #D2E3FC;\n",
              "      --hover-bg-color: #434B5C;\n",
              "      --hover-fill-color: #FFFFFF;\n",
              "      --disabled-bg-color: #3B4455;\n",
              "      --disabled-fill-color: #666;\n",
              "  }\n",
              "\n",
              "  .colab-df-quickchart {\n",
              "    background-color: var(--bg-color);\n",
              "    border: none;\n",
              "    border-radius: 50%;\n",
              "    cursor: pointer;\n",
              "    display: none;\n",
              "    fill: var(--fill-color);\n",
              "    height: 32px;\n",
              "    padding: 0;\n",
              "    width: 32px;\n",
              "  }\n",
              "\n",
              "  .colab-df-quickchart:hover {\n",
              "    background-color: var(--hover-bg-color);\n",
              "    box-shadow: 0 1px 2px rgba(60, 64, 67, 0.3), 0 1px 3px 1px rgba(60, 64, 67, 0.15);\n",
              "    fill: var(--button-hover-fill-color);\n",
              "  }\n",
              "\n",
              "  .colab-df-quickchart-complete:disabled,\n",
              "  .colab-df-quickchart-complete:disabled:hover {\n",
              "    background-color: var(--disabled-bg-color);\n",
              "    fill: var(--disabled-fill-color);\n",
              "    box-shadow: none;\n",
              "  }\n",
              "\n",
              "  .colab-df-spinner {\n",
              "    border: 2px solid var(--fill-color);\n",
              "    border-color: transparent;\n",
              "    border-bottom-color: var(--fill-color);\n",
              "    animation:\n",
              "      spin 1s steps(1) infinite;\n",
              "  }\n",
              "\n",
              "  @keyframes spin {\n",
              "    0% {\n",
              "      border-color: transparent;\n",
              "      border-bottom-color: var(--fill-color);\n",
              "      border-left-color: var(--fill-color);\n",
              "    }\n",
              "    20% {\n",
              "      border-color: transparent;\n",
              "      border-left-color: var(--fill-color);\n",
              "      border-top-color: var(--fill-color);\n",
              "    }\n",
              "    30% {\n",
              "      border-color: transparent;\n",
              "      border-left-color: var(--fill-color);\n",
              "      border-top-color: var(--fill-color);\n",
              "      border-right-color: var(--fill-color);\n",
              "    }\n",
              "    40% {\n",
              "      border-color: transparent;\n",
              "      border-right-color: var(--fill-color);\n",
              "      border-top-color: var(--fill-color);\n",
              "    }\n",
              "    60% {\n",
              "      border-color: transparent;\n",
              "      border-right-color: var(--fill-color);\n",
              "    }\n",
              "    80% {\n",
              "      border-color: transparent;\n",
              "      border-right-color: var(--fill-color);\n",
              "      border-bottom-color: var(--fill-color);\n",
              "    }\n",
              "    90% {\n",
              "      border-color: transparent;\n",
              "      border-bottom-color: var(--fill-color);\n",
              "    }\n",
              "  }\n",
              "</style>\n",
              "\n",
              "  <script>\n",
              "    async function quickchart(key) {\n",
              "      const quickchartButtonEl =\n",
              "        document.querySelector('#' + key + ' button');\n",
              "      quickchartButtonEl.disabled = true;  // To prevent multiple clicks.\n",
              "      quickchartButtonEl.classList.add('colab-df-spinner');\n",
              "      try {\n",
              "        const charts = await google.colab.kernel.invokeFunction(\n",
              "            'suggestCharts', [key], {});\n",
              "      } catch (error) {\n",
              "        console.error('Error during call to suggestCharts:', error);\n",
              "      }\n",
              "      quickchartButtonEl.classList.remove('colab-df-spinner');\n",
              "      quickchartButtonEl.classList.add('colab-df-quickchart-complete');\n",
              "    }\n",
              "    (() => {\n",
              "      let quickchartButtonEl =\n",
              "        document.querySelector('#df-5e94aba2-c329-4cf2-a916-bfa83c8591b7 button');\n",
              "      quickchartButtonEl.style.display =\n",
              "        google.colab.kernel.accessAllowed ? 'block' : 'none';\n",
              "    })();\n",
              "  </script>\n",
              "</div>\n",
              "    </div>\n",
              "  </div>\n"
            ]
          },
          "metadata": {},
          "execution_count": 12
        }
      ]
    },
    {
      "cell_type": "markdown",
      "source": [
        "Transformar um Serie para df"
      ],
      "metadata": {
        "id": "Hmszm8AVNG5-"
      }
    },
    {
      "cell_type": "code",
      "source": [
        "type(cotacoes['Adj Close'])"
      ],
      "metadata": {
        "colab": {
          "base_uri": "https://localhost:8080/"
        },
        "id": "0IGLHNlrNPiV",
        "outputId": "715971db-5d7f-4aca-e3ae-0218c67bd8a1"
      },
      "execution_count": 15,
      "outputs": [
        {
          "output_type": "execute_result",
          "data": {
            "text/plain": [
              "pandas.core.series.Series"
            ]
          },
          "metadata": {},
          "execution_count": 15
        }
      ]
    },
    {
      "cell_type": "code",
      "source": [
        "cotacoes['Adj Close'].to_frame()"
      ],
      "metadata": {
        "colab": {
          "base_uri": "https://localhost:8080/",
          "height": 455
        },
        "id": "E3hifJfvNSNt",
        "outputId": "d80716b6-c4b6-4fbc-b2b7-7933e493d560"
      },
      "execution_count": 14,
      "outputs": [
        {
          "output_type": "execute_result",
          "data": {
            "text/plain": [
              "            Adj Close\n",
              "Date                 \n",
              "2010-04-01  13.817434\n",
              "2010-05-01  13.698958\n",
              "2010-06-01  13.884076\n",
              "2010-07-01  13.754494\n",
              "2010-08-01  13.680445\n",
              "...               ...\n",
              "2022-12-13  23.320000\n",
              "2022-12-14  21.469999\n",
              "2022-12-15  22.040001\n",
              "2022-12-16  22.049999\n",
              "2022-12-19  22.350000\n",
              "\n",
              "[3217 rows x 1 columns]"
            ],
            "text/html": [
              "\n",
              "  <div id=\"df-64e1129e-8ed4-4809-a24d-a193b194f035\" class=\"colab-df-container\">\n",
              "    <div>\n",
              "<style scoped>\n",
              "    .dataframe tbody tr th:only-of-type {\n",
              "        vertical-align: middle;\n",
              "    }\n",
              "\n",
              "    .dataframe tbody tr th {\n",
              "        vertical-align: top;\n",
              "    }\n",
              "\n",
              "    .dataframe thead th {\n",
              "        text-align: right;\n",
              "    }\n",
              "</style>\n",
              "<table border=\"1\" class=\"dataframe\">\n",
              "  <thead>\n",
              "    <tr style=\"text-align: right;\">\n",
              "      <th></th>\n",
              "      <th>Adj Close</th>\n",
              "    </tr>\n",
              "    <tr>\n",
              "      <th>Date</th>\n",
              "      <th></th>\n",
              "    </tr>\n",
              "  </thead>\n",
              "  <tbody>\n",
              "    <tr>\n",
              "      <th>2010-04-01</th>\n",
              "      <td>13.817434</td>\n",
              "    </tr>\n",
              "    <tr>\n",
              "      <th>2010-05-01</th>\n",
              "      <td>13.698958</td>\n",
              "    </tr>\n",
              "    <tr>\n",
              "      <th>2010-06-01</th>\n",
              "      <td>13.884076</td>\n",
              "    </tr>\n",
              "    <tr>\n",
              "      <th>2010-07-01</th>\n",
              "      <td>13.754494</td>\n",
              "    </tr>\n",
              "    <tr>\n",
              "      <th>2010-08-01</th>\n",
              "      <td>13.680445</td>\n",
              "    </tr>\n",
              "    <tr>\n",
              "      <th>...</th>\n",
              "      <td>...</td>\n",
              "    </tr>\n",
              "    <tr>\n",
              "      <th>2022-12-13</th>\n",
              "      <td>23.320000</td>\n",
              "    </tr>\n",
              "    <tr>\n",
              "      <th>2022-12-14</th>\n",
              "      <td>21.469999</td>\n",
              "    </tr>\n",
              "    <tr>\n",
              "      <th>2022-12-15</th>\n",
              "      <td>22.040001</td>\n",
              "    </tr>\n",
              "    <tr>\n",
              "      <th>2022-12-16</th>\n",
              "      <td>22.049999</td>\n",
              "    </tr>\n",
              "    <tr>\n",
              "      <th>2022-12-19</th>\n",
              "      <td>22.350000</td>\n",
              "    </tr>\n",
              "  </tbody>\n",
              "</table>\n",
              "<p>3217 rows × 1 columns</p>\n",
              "</div>\n",
              "    <div class=\"colab-df-buttons\">\n",
              "\n",
              "  <div class=\"colab-df-container\">\n",
              "    <button class=\"colab-df-convert\" onclick=\"convertToInteractive('df-64e1129e-8ed4-4809-a24d-a193b194f035')\"\n",
              "            title=\"Convert this dataframe to an interactive table.\"\n",
              "            style=\"display:none;\">\n",
              "\n",
              "  <svg xmlns=\"http://www.w3.org/2000/svg\" height=\"24px\" viewBox=\"0 -960 960 960\">\n",
              "    <path d=\"M120-120v-720h720v720H120Zm60-500h600v-160H180v160Zm220 220h160v-160H400v160Zm0 220h160v-160H400v160ZM180-400h160v-160H180v160Zm440 0h160v-160H620v160ZM180-180h160v-160H180v160Zm440 0h160v-160H620v160Z\"/>\n",
              "  </svg>\n",
              "    </button>\n",
              "\n",
              "  <style>\n",
              "    .colab-df-container {\n",
              "      display:flex;\n",
              "      gap: 12px;\n",
              "    }\n",
              "\n",
              "    .colab-df-convert {\n",
              "      background-color: #E8F0FE;\n",
              "      border: none;\n",
              "      border-radius: 50%;\n",
              "      cursor: pointer;\n",
              "      display: none;\n",
              "      fill: #1967D2;\n",
              "      height: 32px;\n",
              "      padding: 0 0 0 0;\n",
              "      width: 32px;\n",
              "    }\n",
              "\n",
              "    .colab-df-convert:hover {\n",
              "      background-color: #E2EBFA;\n",
              "      box-shadow: 0px 1px 2px rgba(60, 64, 67, 0.3), 0px 1px 3px 1px rgba(60, 64, 67, 0.15);\n",
              "      fill: #174EA6;\n",
              "    }\n",
              "\n",
              "    .colab-df-buttons div {\n",
              "      margin-bottom: 4px;\n",
              "    }\n",
              "\n",
              "    [theme=dark] .colab-df-convert {\n",
              "      background-color: #3B4455;\n",
              "      fill: #D2E3FC;\n",
              "    }\n",
              "\n",
              "    [theme=dark] .colab-df-convert:hover {\n",
              "      background-color: #434B5C;\n",
              "      box-shadow: 0px 1px 3px 1px rgba(0, 0, 0, 0.15);\n",
              "      filter: drop-shadow(0px 1px 2px rgba(0, 0, 0, 0.3));\n",
              "      fill: #FFFFFF;\n",
              "    }\n",
              "  </style>\n",
              "\n",
              "    <script>\n",
              "      const buttonEl =\n",
              "        document.querySelector('#df-64e1129e-8ed4-4809-a24d-a193b194f035 button.colab-df-convert');\n",
              "      buttonEl.style.display =\n",
              "        google.colab.kernel.accessAllowed ? 'block' : 'none';\n",
              "\n",
              "      async function convertToInteractive(key) {\n",
              "        const element = document.querySelector('#df-64e1129e-8ed4-4809-a24d-a193b194f035');\n",
              "        const dataTable =\n",
              "          await google.colab.kernel.invokeFunction('convertToInteractive',\n",
              "                                                    [key], {});\n",
              "        if (!dataTable) return;\n",
              "\n",
              "        const docLinkHtml = 'Like what you see? Visit the ' +\n",
              "          '<a target=\"_blank\" href=https://colab.research.google.com/notebooks/data_table.ipynb>data table notebook</a>'\n",
              "          + ' to learn more about interactive tables.';\n",
              "        element.innerHTML = '';\n",
              "        dataTable['output_type'] = 'display_data';\n",
              "        await google.colab.output.renderOutput(dataTable, element);\n",
              "        const docLink = document.createElement('div');\n",
              "        docLink.innerHTML = docLinkHtml;\n",
              "        element.appendChild(docLink);\n",
              "      }\n",
              "    </script>\n",
              "  </div>\n",
              "\n",
              "\n",
              "<div id=\"df-b8366e5c-944d-4599-a465-5298d2ad804c\">\n",
              "  <button class=\"colab-df-quickchart\" onclick=\"quickchart('df-b8366e5c-944d-4599-a465-5298d2ad804c')\"\n",
              "            title=\"Suggest charts.\"\n",
              "            style=\"display:none;\">\n",
              "\n",
              "<svg xmlns=\"http://www.w3.org/2000/svg\" height=\"24px\"viewBox=\"0 0 24 24\"\n",
              "     width=\"24px\">\n",
              "    <g>\n",
              "        <path d=\"M19 3H5c-1.1 0-2 .9-2 2v14c0 1.1.9 2 2 2h14c1.1 0 2-.9 2-2V5c0-1.1-.9-2-2-2zM9 17H7v-7h2v7zm4 0h-2V7h2v10zm4 0h-2v-4h2v4z\"/>\n",
              "    </g>\n",
              "</svg>\n",
              "  </button>\n",
              "\n",
              "<style>\n",
              "  .colab-df-quickchart {\n",
              "      --bg-color: #E8F0FE;\n",
              "      --fill-color: #1967D2;\n",
              "      --hover-bg-color: #E2EBFA;\n",
              "      --hover-fill-color: #174EA6;\n",
              "      --disabled-fill-color: #AAA;\n",
              "      --disabled-bg-color: #DDD;\n",
              "  }\n",
              "\n",
              "  [theme=dark] .colab-df-quickchart {\n",
              "      --bg-color: #3B4455;\n",
              "      --fill-color: #D2E3FC;\n",
              "      --hover-bg-color: #434B5C;\n",
              "      --hover-fill-color: #FFFFFF;\n",
              "      --disabled-bg-color: #3B4455;\n",
              "      --disabled-fill-color: #666;\n",
              "  }\n",
              "\n",
              "  .colab-df-quickchart {\n",
              "    background-color: var(--bg-color);\n",
              "    border: none;\n",
              "    border-radius: 50%;\n",
              "    cursor: pointer;\n",
              "    display: none;\n",
              "    fill: var(--fill-color);\n",
              "    height: 32px;\n",
              "    padding: 0;\n",
              "    width: 32px;\n",
              "  }\n",
              "\n",
              "  .colab-df-quickchart:hover {\n",
              "    background-color: var(--hover-bg-color);\n",
              "    box-shadow: 0 1px 2px rgba(60, 64, 67, 0.3), 0 1px 3px 1px rgba(60, 64, 67, 0.15);\n",
              "    fill: var(--button-hover-fill-color);\n",
              "  }\n",
              "\n",
              "  .colab-df-quickchart-complete:disabled,\n",
              "  .colab-df-quickchart-complete:disabled:hover {\n",
              "    background-color: var(--disabled-bg-color);\n",
              "    fill: var(--disabled-fill-color);\n",
              "    box-shadow: none;\n",
              "  }\n",
              "\n",
              "  .colab-df-spinner {\n",
              "    border: 2px solid var(--fill-color);\n",
              "    border-color: transparent;\n",
              "    border-bottom-color: var(--fill-color);\n",
              "    animation:\n",
              "      spin 1s steps(1) infinite;\n",
              "  }\n",
              "\n",
              "  @keyframes spin {\n",
              "    0% {\n",
              "      border-color: transparent;\n",
              "      border-bottom-color: var(--fill-color);\n",
              "      border-left-color: var(--fill-color);\n",
              "    }\n",
              "    20% {\n",
              "      border-color: transparent;\n",
              "      border-left-color: var(--fill-color);\n",
              "      border-top-color: var(--fill-color);\n",
              "    }\n",
              "    30% {\n",
              "      border-color: transparent;\n",
              "      border-left-color: var(--fill-color);\n",
              "      border-top-color: var(--fill-color);\n",
              "      border-right-color: var(--fill-color);\n",
              "    }\n",
              "    40% {\n",
              "      border-color: transparent;\n",
              "      border-right-color: var(--fill-color);\n",
              "      border-top-color: var(--fill-color);\n",
              "    }\n",
              "    60% {\n",
              "      border-color: transparent;\n",
              "      border-right-color: var(--fill-color);\n",
              "    }\n",
              "    80% {\n",
              "      border-color: transparent;\n",
              "      border-right-color: var(--fill-color);\n",
              "      border-bottom-color: var(--fill-color);\n",
              "    }\n",
              "    90% {\n",
              "      border-color: transparent;\n",
              "      border-bottom-color: var(--fill-color);\n",
              "    }\n",
              "  }\n",
              "</style>\n",
              "\n",
              "  <script>\n",
              "    async function quickchart(key) {\n",
              "      const quickchartButtonEl =\n",
              "        document.querySelector('#' + key + ' button');\n",
              "      quickchartButtonEl.disabled = true;  // To prevent multiple clicks.\n",
              "      quickchartButtonEl.classList.add('colab-df-spinner');\n",
              "      try {\n",
              "        const charts = await google.colab.kernel.invokeFunction(\n",
              "            'suggestCharts', [key], {});\n",
              "      } catch (error) {\n",
              "        console.error('Error during call to suggestCharts:', error);\n",
              "      }\n",
              "      quickchartButtonEl.classList.remove('colab-df-spinner');\n",
              "      quickchartButtonEl.classList.add('colab-df-quickchart-complete');\n",
              "    }\n",
              "    (() => {\n",
              "      let quickchartButtonEl =\n",
              "        document.querySelector('#df-b8366e5c-944d-4599-a465-5298d2ad804c button');\n",
              "      quickchartButtonEl.style.display =\n",
              "        google.colab.kernel.accessAllowed ? 'block' : 'none';\n",
              "    })();\n",
              "  </script>\n",
              "</div>\n",
              "    </div>\n",
              "  </div>\n"
            ]
          },
          "metadata": {},
          "execution_count": 14
        }
      ]
    },
    {
      "cell_type": "markdown",
      "source": [
        "Os dataframes lembram muito os nossos conhecidos arquivos de planilha como Excel ou Google Sheets"
      ],
      "metadata": {
        "id": "9uJVxFnhNZ5d"
      }
    },
    {
      "cell_type": "markdown",
      "source": [
        "## 2.2. Manipulações iniciais"
      ],
      "metadata": {
        "id": "zD-3YVkENkQI"
      }
    },
    {
      "cell_type": "code",
      "source": [
        "petr = pd.read_csv('PETR4.csv')"
      ],
      "metadata": {
        "id": "Ee624lQNNnzt"
      },
      "execution_count": 16,
      "outputs": []
    },
    {
      "cell_type": "code",
      "source": [
        "petr.head()"
      ],
      "metadata": {
        "colab": {
          "base_uri": "https://localhost:8080/",
          "height": 206
        },
        "id": "raaI6CbGNxVd",
        "outputId": "59f4b73c-ef2a-4184-e0f8-e79edee226b4"
      },
      "execution_count": 17,
      "outputs": [
        {
          "output_type": "execute_result",
          "data": {
            "text/plain": [
              "         Date   Open   High    Low  Close  Adj Close       Volume\n",
              "0  2000-01-03  5.875  5.875  5.875  5.875   1.872027  35389440000\n",
              "1  2000-01-04  5.550  5.550  5.550  5.550   1.768469  28861440000\n",
              "2  2000-01-05  5.494  5.494  5.494  5.494   1.750625  43033600000\n",
              "3  2000-01-06  5.475  5.475  5.475  5.475   1.744570  34055680000\n",
              "4  2000-01-07  5.500  5.500  5.500  5.500   1.752536  20912640000"
            ],
            "text/html": [
              "\n",
              "  <div id=\"df-c1561d80-63c6-468b-9bbd-922b017501ce\" class=\"colab-df-container\">\n",
              "    <div>\n",
              "<style scoped>\n",
              "    .dataframe tbody tr th:only-of-type {\n",
              "        vertical-align: middle;\n",
              "    }\n",
              "\n",
              "    .dataframe tbody tr th {\n",
              "        vertical-align: top;\n",
              "    }\n",
              "\n",
              "    .dataframe thead th {\n",
              "        text-align: right;\n",
              "    }\n",
              "</style>\n",
              "<table border=\"1\" class=\"dataframe\">\n",
              "  <thead>\n",
              "    <tr style=\"text-align: right;\">\n",
              "      <th></th>\n",
              "      <th>Date</th>\n",
              "      <th>Open</th>\n",
              "      <th>High</th>\n",
              "      <th>Low</th>\n",
              "      <th>Close</th>\n",
              "      <th>Adj Close</th>\n",
              "      <th>Volume</th>\n",
              "    </tr>\n",
              "  </thead>\n",
              "  <tbody>\n",
              "    <tr>\n",
              "      <th>0</th>\n",
              "      <td>2000-01-03</td>\n",
              "      <td>5.875</td>\n",
              "      <td>5.875</td>\n",
              "      <td>5.875</td>\n",
              "      <td>5.875</td>\n",
              "      <td>1.872027</td>\n",
              "      <td>35389440000</td>\n",
              "    </tr>\n",
              "    <tr>\n",
              "      <th>1</th>\n",
              "      <td>2000-01-04</td>\n",
              "      <td>5.550</td>\n",
              "      <td>5.550</td>\n",
              "      <td>5.550</td>\n",
              "      <td>5.550</td>\n",
              "      <td>1.768469</td>\n",
              "      <td>28861440000</td>\n",
              "    </tr>\n",
              "    <tr>\n",
              "      <th>2</th>\n",
              "      <td>2000-01-05</td>\n",
              "      <td>5.494</td>\n",
              "      <td>5.494</td>\n",
              "      <td>5.494</td>\n",
              "      <td>5.494</td>\n",
              "      <td>1.750625</td>\n",
              "      <td>43033600000</td>\n",
              "    </tr>\n",
              "    <tr>\n",
              "      <th>3</th>\n",
              "      <td>2000-01-06</td>\n",
              "      <td>5.475</td>\n",
              "      <td>5.475</td>\n",
              "      <td>5.475</td>\n",
              "      <td>5.475</td>\n",
              "      <td>1.744570</td>\n",
              "      <td>34055680000</td>\n",
              "    </tr>\n",
              "    <tr>\n",
              "      <th>4</th>\n",
              "      <td>2000-01-07</td>\n",
              "      <td>5.500</td>\n",
              "      <td>5.500</td>\n",
              "      <td>5.500</td>\n",
              "      <td>5.500</td>\n",
              "      <td>1.752536</td>\n",
              "      <td>20912640000</td>\n",
              "    </tr>\n",
              "  </tbody>\n",
              "</table>\n",
              "</div>\n",
              "    <div class=\"colab-df-buttons\">\n",
              "\n",
              "  <div class=\"colab-df-container\">\n",
              "    <button class=\"colab-df-convert\" onclick=\"convertToInteractive('df-c1561d80-63c6-468b-9bbd-922b017501ce')\"\n",
              "            title=\"Convert this dataframe to an interactive table.\"\n",
              "            style=\"display:none;\">\n",
              "\n",
              "  <svg xmlns=\"http://www.w3.org/2000/svg\" height=\"24px\" viewBox=\"0 -960 960 960\">\n",
              "    <path d=\"M120-120v-720h720v720H120Zm60-500h600v-160H180v160Zm220 220h160v-160H400v160Zm0 220h160v-160H400v160ZM180-400h160v-160H180v160Zm440 0h160v-160H620v160ZM180-180h160v-160H180v160Zm440 0h160v-160H620v160Z\"/>\n",
              "  </svg>\n",
              "    </button>\n",
              "\n",
              "  <style>\n",
              "    .colab-df-container {\n",
              "      display:flex;\n",
              "      gap: 12px;\n",
              "    }\n",
              "\n",
              "    .colab-df-convert {\n",
              "      background-color: #E8F0FE;\n",
              "      border: none;\n",
              "      border-radius: 50%;\n",
              "      cursor: pointer;\n",
              "      display: none;\n",
              "      fill: #1967D2;\n",
              "      height: 32px;\n",
              "      padding: 0 0 0 0;\n",
              "      width: 32px;\n",
              "    }\n",
              "\n",
              "    .colab-df-convert:hover {\n",
              "      background-color: #E2EBFA;\n",
              "      box-shadow: 0px 1px 2px rgba(60, 64, 67, 0.3), 0px 1px 3px 1px rgba(60, 64, 67, 0.15);\n",
              "      fill: #174EA6;\n",
              "    }\n",
              "\n",
              "    .colab-df-buttons div {\n",
              "      margin-bottom: 4px;\n",
              "    }\n",
              "\n",
              "    [theme=dark] .colab-df-convert {\n",
              "      background-color: #3B4455;\n",
              "      fill: #D2E3FC;\n",
              "    }\n",
              "\n",
              "    [theme=dark] .colab-df-convert:hover {\n",
              "      background-color: #434B5C;\n",
              "      box-shadow: 0px 1px 3px 1px rgba(0, 0, 0, 0.15);\n",
              "      filter: drop-shadow(0px 1px 2px rgba(0, 0, 0, 0.3));\n",
              "      fill: #FFFFFF;\n",
              "    }\n",
              "  </style>\n",
              "\n",
              "    <script>\n",
              "      const buttonEl =\n",
              "        document.querySelector('#df-c1561d80-63c6-468b-9bbd-922b017501ce button.colab-df-convert');\n",
              "      buttonEl.style.display =\n",
              "        google.colab.kernel.accessAllowed ? 'block' : 'none';\n",
              "\n",
              "      async function convertToInteractive(key) {\n",
              "        const element = document.querySelector('#df-c1561d80-63c6-468b-9bbd-922b017501ce');\n",
              "        const dataTable =\n",
              "          await google.colab.kernel.invokeFunction('convertToInteractive',\n",
              "                                                    [key], {});\n",
              "        if (!dataTable) return;\n",
              "\n",
              "        const docLinkHtml = 'Like what you see? Visit the ' +\n",
              "          '<a target=\"_blank\" href=https://colab.research.google.com/notebooks/data_table.ipynb>data table notebook</a>'\n",
              "          + ' to learn more about interactive tables.';\n",
              "        element.innerHTML = '';\n",
              "        dataTable['output_type'] = 'display_data';\n",
              "        await google.colab.output.renderOutput(dataTable, element);\n",
              "        const docLink = document.createElement('div');\n",
              "        docLink.innerHTML = docLinkHtml;\n",
              "        element.appendChild(docLink);\n",
              "      }\n",
              "    </script>\n",
              "  </div>\n",
              "\n",
              "\n",
              "<div id=\"df-96b3c1bf-25f5-4ec3-87b8-07a9e6ffbc90\">\n",
              "  <button class=\"colab-df-quickchart\" onclick=\"quickchart('df-96b3c1bf-25f5-4ec3-87b8-07a9e6ffbc90')\"\n",
              "            title=\"Suggest charts.\"\n",
              "            style=\"display:none;\">\n",
              "\n",
              "<svg xmlns=\"http://www.w3.org/2000/svg\" height=\"24px\"viewBox=\"0 0 24 24\"\n",
              "     width=\"24px\">\n",
              "    <g>\n",
              "        <path d=\"M19 3H5c-1.1 0-2 .9-2 2v14c0 1.1.9 2 2 2h14c1.1 0 2-.9 2-2V5c0-1.1-.9-2-2-2zM9 17H7v-7h2v7zm4 0h-2V7h2v10zm4 0h-2v-4h2v4z\"/>\n",
              "    </g>\n",
              "</svg>\n",
              "  </button>\n",
              "\n",
              "<style>\n",
              "  .colab-df-quickchart {\n",
              "      --bg-color: #E8F0FE;\n",
              "      --fill-color: #1967D2;\n",
              "      --hover-bg-color: #E2EBFA;\n",
              "      --hover-fill-color: #174EA6;\n",
              "      --disabled-fill-color: #AAA;\n",
              "      --disabled-bg-color: #DDD;\n",
              "  }\n",
              "\n",
              "  [theme=dark] .colab-df-quickchart {\n",
              "      --bg-color: #3B4455;\n",
              "      --fill-color: #D2E3FC;\n",
              "      --hover-bg-color: #434B5C;\n",
              "      --hover-fill-color: #FFFFFF;\n",
              "      --disabled-bg-color: #3B4455;\n",
              "      --disabled-fill-color: #666;\n",
              "  }\n",
              "\n",
              "  .colab-df-quickchart {\n",
              "    background-color: var(--bg-color);\n",
              "    border: none;\n",
              "    border-radius: 50%;\n",
              "    cursor: pointer;\n",
              "    display: none;\n",
              "    fill: var(--fill-color);\n",
              "    height: 32px;\n",
              "    padding: 0;\n",
              "    width: 32px;\n",
              "  }\n",
              "\n",
              "  .colab-df-quickchart:hover {\n",
              "    background-color: var(--hover-bg-color);\n",
              "    box-shadow: 0 1px 2px rgba(60, 64, 67, 0.3), 0 1px 3px 1px rgba(60, 64, 67, 0.15);\n",
              "    fill: var(--button-hover-fill-color);\n",
              "  }\n",
              "\n",
              "  .colab-df-quickchart-complete:disabled,\n",
              "  .colab-df-quickchart-complete:disabled:hover {\n",
              "    background-color: var(--disabled-bg-color);\n",
              "    fill: var(--disabled-fill-color);\n",
              "    box-shadow: none;\n",
              "  }\n",
              "\n",
              "  .colab-df-spinner {\n",
              "    border: 2px solid var(--fill-color);\n",
              "    border-color: transparent;\n",
              "    border-bottom-color: var(--fill-color);\n",
              "    animation:\n",
              "      spin 1s steps(1) infinite;\n",
              "  }\n",
              "\n",
              "  @keyframes spin {\n",
              "    0% {\n",
              "      border-color: transparent;\n",
              "      border-bottom-color: var(--fill-color);\n",
              "      border-left-color: var(--fill-color);\n",
              "    }\n",
              "    20% {\n",
              "      border-color: transparent;\n",
              "      border-left-color: var(--fill-color);\n",
              "      border-top-color: var(--fill-color);\n",
              "    }\n",
              "    30% {\n",
              "      border-color: transparent;\n",
              "      border-left-color: var(--fill-color);\n",
              "      border-top-color: var(--fill-color);\n",
              "      border-right-color: var(--fill-color);\n",
              "    }\n",
              "    40% {\n",
              "      border-color: transparent;\n",
              "      border-right-color: var(--fill-color);\n",
              "      border-top-color: var(--fill-color);\n",
              "    }\n",
              "    60% {\n",
              "      border-color: transparent;\n",
              "      border-right-color: var(--fill-color);\n",
              "    }\n",
              "    80% {\n",
              "      border-color: transparent;\n",
              "      border-right-color: var(--fill-color);\n",
              "      border-bottom-color: var(--fill-color);\n",
              "    }\n",
              "    90% {\n",
              "      border-color: transparent;\n",
              "      border-bottom-color: var(--fill-color);\n",
              "    }\n",
              "  }\n",
              "</style>\n",
              "\n",
              "  <script>\n",
              "    async function quickchart(key) {\n",
              "      const quickchartButtonEl =\n",
              "        document.querySelector('#' + key + ' button');\n",
              "      quickchartButtonEl.disabled = true;  // To prevent multiple clicks.\n",
              "      quickchartButtonEl.classList.add('colab-df-spinner');\n",
              "      try {\n",
              "        const charts = await google.colab.kernel.invokeFunction(\n",
              "            'suggestCharts', [key], {});\n",
              "      } catch (error) {\n",
              "        console.error('Error during call to suggestCharts:', error);\n",
              "      }\n",
              "      quickchartButtonEl.classList.remove('colab-df-spinner');\n",
              "      quickchartButtonEl.classList.add('colab-df-quickchart-complete');\n",
              "    }\n",
              "    (() => {\n",
              "      let quickchartButtonEl =\n",
              "        document.querySelector('#df-96b3c1bf-25f5-4ec3-87b8-07a9e6ffbc90 button');\n",
              "      quickchartButtonEl.style.display =\n",
              "        google.colab.kernel.accessAllowed ? 'block' : 'none';\n",
              "    })();\n",
              "  </script>\n",
              "</div>\n",
              "    </div>\n",
              "  </div>\n"
            ]
          },
          "metadata": {},
          "execution_count": 17
        }
      ]
    },
    {
      "cell_type": "markdown",
      "source": [
        "Perceba que no nosso dataframe a data está como coluna, e não como índice.\n",
        "\n",
        "Mas o que é o índice de um dataframe afinal?"
      ],
      "metadata": {
        "id": "u2q5qjUSNx9V"
      }
    },
    {
      "cell_type": "markdown",
      "source": [
        "Transformando a data em índice"
      ],
      "metadata": {
        "id": "S-eb5kYKN1Yv"
      }
    },
    {
      "cell_type": "code",
      "source": [
        "petr.index = petr.Date"
      ],
      "metadata": {
        "id": "6ePWrflVN-kV"
      },
      "execution_count": 18,
      "outputs": []
    },
    {
      "cell_type": "code",
      "source": [
        "petr.head()"
      ],
      "metadata": {
        "colab": {
          "base_uri": "https://localhost:8080/",
          "height": 237
        },
        "id": "eLqsMWBZOA7E",
        "outputId": "3024993a-8088-4a55-cef6-cff1abdd1334"
      },
      "execution_count": 19,
      "outputs": [
        {
          "output_type": "execute_result",
          "data": {
            "text/plain": [
              "                  Date   Open   High    Low  Close  Adj Close       Volume\n",
              "Date                                                                      \n",
              "2000-01-03  2000-01-03  5.875  5.875  5.875  5.875   1.872027  35389440000\n",
              "2000-01-04  2000-01-04  5.550  5.550  5.550  5.550   1.768469  28861440000\n",
              "2000-01-05  2000-01-05  5.494  5.494  5.494  5.494   1.750625  43033600000\n",
              "2000-01-06  2000-01-06  5.475  5.475  5.475  5.475   1.744570  34055680000\n",
              "2000-01-07  2000-01-07  5.500  5.500  5.500  5.500   1.752536  20912640000"
            ],
            "text/html": [
              "\n",
              "  <div id=\"df-b17de7cd-c601-459c-8925-e21680133a84\" class=\"colab-df-container\">\n",
              "    <div>\n",
              "<style scoped>\n",
              "    .dataframe tbody tr th:only-of-type {\n",
              "        vertical-align: middle;\n",
              "    }\n",
              "\n",
              "    .dataframe tbody tr th {\n",
              "        vertical-align: top;\n",
              "    }\n",
              "\n",
              "    .dataframe thead th {\n",
              "        text-align: right;\n",
              "    }\n",
              "</style>\n",
              "<table border=\"1\" class=\"dataframe\">\n",
              "  <thead>\n",
              "    <tr style=\"text-align: right;\">\n",
              "      <th></th>\n",
              "      <th>Date</th>\n",
              "      <th>Open</th>\n",
              "      <th>High</th>\n",
              "      <th>Low</th>\n",
              "      <th>Close</th>\n",
              "      <th>Adj Close</th>\n",
              "      <th>Volume</th>\n",
              "    </tr>\n",
              "    <tr>\n",
              "      <th>Date</th>\n",
              "      <th></th>\n",
              "      <th></th>\n",
              "      <th></th>\n",
              "      <th></th>\n",
              "      <th></th>\n",
              "      <th></th>\n",
              "      <th></th>\n",
              "    </tr>\n",
              "  </thead>\n",
              "  <tbody>\n",
              "    <tr>\n",
              "      <th>2000-01-03</th>\n",
              "      <td>2000-01-03</td>\n",
              "      <td>5.875</td>\n",
              "      <td>5.875</td>\n",
              "      <td>5.875</td>\n",
              "      <td>5.875</td>\n",
              "      <td>1.872027</td>\n",
              "      <td>35389440000</td>\n",
              "    </tr>\n",
              "    <tr>\n",
              "      <th>2000-01-04</th>\n",
              "      <td>2000-01-04</td>\n",
              "      <td>5.550</td>\n",
              "      <td>5.550</td>\n",
              "      <td>5.550</td>\n",
              "      <td>5.550</td>\n",
              "      <td>1.768469</td>\n",
              "      <td>28861440000</td>\n",
              "    </tr>\n",
              "    <tr>\n",
              "      <th>2000-01-05</th>\n",
              "      <td>2000-01-05</td>\n",
              "      <td>5.494</td>\n",
              "      <td>5.494</td>\n",
              "      <td>5.494</td>\n",
              "      <td>5.494</td>\n",
              "      <td>1.750625</td>\n",
              "      <td>43033600000</td>\n",
              "    </tr>\n",
              "    <tr>\n",
              "      <th>2000-01-06</th>\n",
              "      <td>2000-01-06</td>\n",
              "      <td>5.475</td>\n",
              "      <td>5.475</td>\n",
              "      <td>5.475</td>\n",
              "      <td>5.475</td>\n",
              "      <td>1.744570</td>\n",
              "      <td>34055680000</td>\n",
              "    </tr>\n",
              "    <tr>\n",
              "      <th>2000-01-07</th>\n",
              "      <td>2000-01-07</td>\n",
              "      <td>5.500</td>\n",
              "      <td>5.500</td>\n",
              "      <td>5.500</td>\n",
              "      <td>5.500</td>\n",
              "      <td>1.752536</td>\n",
              "      <td>20912640000</td>\n",
              "    </tr>\n",
              "  </tbody>\n",
              "</table>\n",
              "</div>\n",
              "    <div class=\"colab-df-buttons\">\n",
              "\n",
              "  <div class=\"colab-df-container\">\n",
              "    <button class=\"colab-df-convert\" onclick=\"convertToInteractive('df-b17de7cd-c601-459c-8925-e21680133a84')\"\n",
              "            title=\"Convert this dataframe to an interactive table.\"\n",
              "            style=\"display:none;\">\n",
              "\n",
              "  <svg xmlns=\"http://www.w3.org/2000/svg\" height=\"24px\" viewBox=\"0 -960 960 960\">\n",
              "    <path d=\"M120-120v-720h720v720H120Zm60-500h600v-160H180v160Zm220 220h160v-160H400v160Zm0 220h160v-160H400v160ZM180-400h160v-160H180v160Zm440 0h160v-160H620v160ZM180-180h160v-160H180v160Zm440 0h160v-160H620v160Z\"/>\n",
              "  </svg>\n",
              "    </button>\n",
              "\n",
              "  <style>\n",
              "    .colab-df-container {\n",
              "      display:flex;\n",
              "      gap: 12px;\n",
              "    }\n",
              "\n",
              "    .colab-df-convert {\n",
              "      background-color: #E8F0FE;\n",
              "      border: none;\n",
              "      border-radius: 50%;\n",
              "      cursor: pointer;\n",
              "      display: none;\n",
              "      fill: #1967D2;\n",
              "      height: 32px;\n",
              "      padding: 0 0 0 0;\n",
              "      width: 32px;\n",
              "    }\n",
              "\n",
              "    .colab-df-convert:hover {\n",
              "      background-color: #E2EBFA;\n",
              "      box-shadow: 0px 1px 2px rgba(60, 64, 67, 0.3), 0px 1px 3px 1px rgba(60, 64, 67, 0.15);\n",
              "      fill: #174EA6;\n",
              "    }\n",
              "\n",
              "    .colab-df-buttons div {\n",
              "      margin-bottom: 4px;\n",
              "    }\n",
              "\n",
              "    [theme=dark] .colab-df-convert {\n",
              "      background-color: #3B4455;\n",
              "      fill: #D2E3FC;\n",
              "    }\n",
              "\n",
              "    [theme=dark] .colab-df-convert:hover {\n",
              "      background-color: #434B5C;\n",
              "      box-shadow: 0px 1px 3px 1px rgba(0, 0, 0, 0.15);\n",
              "      filter: drop-shadow(0px 1px 2px rgba(0, 0, 0, 0.3));\n",
              "      fill: #FFFFFF;\n",
              "    }\n",
              "  </style>\n",
              "\n",
              "    <script>\n",
              "      const buttonEl =\n",
              "        document.querySelector('#df-b17de7cd-c601-459c-8925-e21680133a84 button.colab-df-convert');\n",
              "      buttonEl.style.display =\n",
              "        google.colab.kernel.accessAllowed ? 'block' : 'none';\n",
              "\n",
              "      async function convertToInteractive(key) {\n",
              "        const element = document.querySelector('#df-b17de7cd-c601-459c-8925-e21680133a84');\n",
              "        const dataTable =\n",
              "          await google.colab.kernel.invokeFunction('convertToInteractive',\n",
              "                                                    [key], {});\n",
              "        if (!dataTable) return;\n",
              "\n",
              "        const docLinkHtml = 'Like what you see? Visit the ' +\n",
              "          '<a target=\"_blank\" href=https://colab.research.google.com/notebooks/data_table.ipynb>data table notebook</a>'\n",
              "          + ' to learn more about interactive tables.';\n",
              "        element.innerHTML = '';\n",
              "        dataTable['output_type'] = 'display_data';\n",
              "        await google.colab.output.renderOutput(dataTable, element);\n",
              "        const docLink = document.createElement('div');\n",
              "        docLink.innerHTML = docLinkHtml;\n",
              "        element.appendChild(docLink);\n",
              "      }\n",
              "    </script>\n",
              "  </div>\n",
              "\n",
              "\n",
              "<div id=\"df-d36d2e2a-783d-4304-a916-8a9944ec9a4b\">\n",
              "  <button class=\"colab-df-quickchart\" onclick=\"quickchart('df-d36d2e2a-783d-4304-a916-8a9944ec9a4b')\"\n",
              "            title=\"Suggest charts.\"\n",
              "            style=\"display:none;\">\n",
              "\n",
              "<svg xmlns=\"http://www.w3.org/2000/svg\" height=\"24px\"viewBox=\"0 0 24 24\"\n",
              "     width=\"24px\">\n",
              "    <g>\n",
              "        <path d=\"M19 3H5c-1.1 0-2 .9-2 2v14c0 1.1.9 2 2 2h14c1.1 0 2-.9 2-2V5c0-1.1-.9-2-2-2zM9 17H7v-7h2v7zm4 0h-2V7h2v10zm4 0h-2v-4h2v4z\"/>\n",
              "    </g>\n",
              "</svg>\n",
              "  </button>\n",
              "\n",
              "<style>\n",
              "  .colab-df-quickchart {\n",
              "      --bg-color: #E8F0FE;\n",
              "      --fill-color: #1967D2;\n",
              "      --hover-bg-color: #E2EBFA;\n",
              "      --hover-fill-color: #174EA6;\n",
              "      --disabled-fill-color: #AAA;\n",
              "      --disabled-bg-color: #DDD;\n",
              "  }\n",
              "\n",
              "  [theme=dark] .colab-df-quickchart {\n",
              "      --bg-color: #3B4455;\n",
              "      --fill-color: #D2E3FC;\n",
              "      --hover-bg-color: #434B5C;\n",
              "      --hover-fill-color: #FFFFFF;\n",
              "      --disabled-bg-color: #3B4455;\n",
              "      --disabled-fill-color: #666;\n",
              "  }\n",
              "\n",
              "  .colab-df-quickchart {\n",
              "    background-color: var(--bg-color);\n",
              "    border: none;\n",
              "    border-radius: 50%;\n",
              "    cursor: pointer;\n",
              "    display: none;\n",
              "    fill: var(--fill-color);\n",
              "    height: 32px;\n",
              "    padding: 0;\n",
              "    width: 32px;\n",
              "  }\n",
              "\n",
              "  .colab-df-quickchart:hover {\n",
              "    background-color: var(--hover-bg-color);\n",
              "    box-shadow: 0 1px 2px rgba(60, 64, 67, 0.3), 0 1px 3px 1px rgba(60, 64, 67, 0.15);\n",
              "    fill: var(--button-hover-fill-color);\n",
              "  }\n",
              "\n",
              "  .colab-df-quickchart-complete:disabled,\n",
              "  .colab-df-quickchart-complete:disabled:hover {\n",
              "    background-color: var(--disabled-bg-color);\n",
              "    fill: var(--disabled-fill-color);\n",
              "    box-shadow: none;\n",
              "  }\n",
              "\n",
              "  .colab-df-spinner {\n",
              "    border: 2px solid var(--fill-color);\n",
              "    border-color: transparent;\n",
              "    border-bottom-color: var(--fill-color);\n",
              "    animation:\n",
              "      spin 1s steps(1) infinite;\n",
              "  }\n",
              "\n",
              "  @keyframes spin {\n",
              "    0% {\n",
              "      border-color: transparent;\n",
              "      border-bottom-color: var(--fill-color);\n",
              "      border-left-color: var(--fill-color);\n",
              "    }\n",
              "    20% {\n",
              "      border-color: transparent;\n",
              "      border-left-color: var(--fill-color);\n",
              "      border-top-color: var(--fill-color);\n",
              "    }\n",
              "    30% {\n",
              "      border-color: transparent;\n",
              "      border-left-color: var(--fill-color);\n",
              "      border-top-color: var(--fill-color);\n",
              "      border-right-color: var(--fill-color);\n",
              "    }\n",
              "    40% {\n",
              "      border-color: transparent;\n",
              "      border-right-color: var(--fill-color);\n",
              "      border-top-color: var(--fill-color);\n",
              "    }\n",
              "    60% {\n",
              "      border-color: transparent;\n",
              "      border-right-color: var(--fill-color);\n",
              "    }\n",
              "    80% {\n",
              "      border-color: transparent;\n",
              "      border-right-color: var(--fill-color);\n",
              "      border-bottom-color: var(--fill-color);\n",
              "    }\n",
              "    90% {\n",
              "      border-color: transparent;\n",
              "      border-bottom-color: var(--fill-color);\n",
              "    }\n",
              "  }\n",
              "</style>\n",
              "\n",
              "  <script>\n",
              "    async function quickchart(key) {\n",
              "      const quickchartButtonEl =\n",
              "        document.querySelector('#' + key + ' button');\n",
              "      quickchartButtonEl.disabled = true;  // To prevent multiple clicks.\n",
              "      quickchartButtonEl.classList.add('colab-df-spinner');\n",
              "      try {\n",
              "        const charts = await google.colab.kernel.invokeFunction(\n",
              "            'suggestCharts', [key], {});\n",
              "      } catch (error) {\n",
              "        console.error('Error during call to suggestCharts:', error);\n",
              "      }\n",
              "      quickchartButtonEl.classList.remove('colab-df-spinner');\n",
              "      quickchartButtonEl.classList.add('colab-df-quickchart-complete');\n",
              "    }\n",
              "    (() => {\n",
              "      let quickchartButtonEl =\n",
              "        document.querySelector('#df-d36d2e2a-783d-4304-a916-8a9944ec9a4b button');\n",
              "      quickchartButtonEl.style.display =\n",
              "        google.colab.kernel.accessAllowed ? 'block' : 'none';\n",
              "    })();\n",
              "  </script>\n",
              "</div>\n",
              "    </div>\n",
              "  </div>\n"
            ]
          },
          "metadata": {},
          "execution_count": 19
        }
      ]
    },
    {
      "cell_type": "markdown",
      "source": [
        "Observe que agora a data se tornou o índice\n",
        "\n",
        "Vamos agora remover então a coluna \"Date\" para que não haja redundância"
      ],
      "metadata": {
        "id": "i-d76_exOBnm"
      }
    },
    {
      "cell_type": "code",
      "source": [
        "petr.drop([\"Date\"], axis = 1)"
      ],
      "metadata": {
        "colab": {
          "base_uri": "https://localhost:8080/",
          "height": 455
        },
        "id": "Xi3SqdvdOG9V",
        "outputId": "131ed71b-cf51-47b7-a113-3901311898fe"
      },
      "execution_count": 21,
      "outputs": [
        {
          "output_type": "execute_result",
          "data": {
            "text/plain": [
              "                 Open       High        Low      Close  Adj Close       Volume\n",
              "Date                                                                          \n",
              "2000-01-03   5.875000   5.875000   5.875000   5.875000   1.872027  35389440000\n",
              "2000-01-04   5.550000   5.550000   5.550000   5.550000   1.768469  28861440000\n",
              "2000-01-05   5.494000   5.494000   5.494000   5.494000   1.750625  43033600000\n",
              "2000-01-06   5.475000   5.475000   5.475000   5.475000   1.744570  34055680000\n",
              "2000-01-07   5.500000   5.500000   5.500000   5.500000   1.752536  20912640000\n",
              "...               ...        ...        ...        ...        ...          ...\n",
              "2022-12-13  24.100000  24.200001  23.309999  23.320000  23.320000    102533100\n",
              "2022-12-14  22.500000  22.600000  20.770000  21.469999  21.469999    319501600\n",
              "2022-12-15  21.000000  22.370001  20.830000  22.040001  22.040001    132385600\n",
              "2022-12-16  21.959999  22.110001  21.510000  22.049999  22.049999     90767300\n",
              "2022-12-19  22.100000  22.469999  21.639999  22.350000  22.350000     37837300\n",
              "\n",
              "[5770 rows x 6 columns]"
            ],
            "text/html": [
              "\n",
              "  <div id=\"df-ffaa34d1-9357-4261-86a0-232454a2aafc\" class=\"colab-df-container\">\n",
              "    <div>\n",
              "<style scoped>\n",
              "    .dataframe tbody tr th:only-of-type {\n",
              "        vertical-align: middle;\n",
              "    }\n",
              "\n",
              "    .dataframe tbody tr th {\n",
              "        vertical-align: top;\n",
              "    }\n",
              "\n",
              "    .dataframe thead th {\n",
              "        text-align: right;\n",
              "    }\n",
              "</style>\n",
              "<table border=\"1\" class=\"dataframe\">\n",
              "  <thead>\n",
              "    <tr style=\"text-align: right;\">\n",
              "      <th></th>\n",
              "      <th>Open</th>\n",
              "      <th>High</th>\n",
              "      <th>Low</th>\n",
              "      <th>Close</th>\n",
              "      <th>Adj Close</th>\n",
              "      <th>Volume</th>\n",
              "    </tr>\n",
              "    <tr>\n",
              "      <th>Date</th>\n",
              "      <th></th>\n",
              "      <th></th>\n",
              "      <th></th>\n",
              "      <th></th>\n",
              "      <th></th>\n",
              "      <th></th>\n",
              "    </tr>\n",
              "  </thead>\n",
              "  <tbody>\n",
              "    <tr>\n",
              "      <th>2000-01-03</th>\n",
              "      <td>5.875000</td>\n",
              "      <td>5.875000</td>\n",
              "      <td>5.875000</td>\n",
              "      <td>5.875000</td>\n",
              "      <td>1.872027</td>\n",
              "      <td>35389440000</td>\n",
              "    </tr>\n",
              "    <tr>\n",
              "      <th>2000-01-04</th>\n",
              "      <td>5.550000</td>\n",
              "      <td>5.550000</td>\n",
              "      <td>5.550000</td>\n",
              "      <td>5.550000</td>\n",
              "      <td>1.768469</td>\n",
              "      <td>28861440000</td>\n",
              "    </tr>\n",
              "    <tr>\n",
              "      <th>2000-01-05</th>\n",
              "      <td>5.494000</td>\n",
              "      <td>5.494000</td>\n",
              "      <td>5.494000</td>\n",
              "      <td>5.494000</td>\n",
              "      <td>1.750625</td>\n",
              "      <td>43033600000</td>\n",
              "    </tr>\n",
              "    <tr>\n",
              "      <th>2000-01-06</th>\n",
              "      <td>5.475000</td>\n",
              "      <td>5.475000</td>\n",
              "      <td>5.475000</td>\n",
              "      <td>5.475000</td>\n",
              "      <td>1.744570</td>\n",
              "      <td>34055680000</td>\n",
              "    </tr>\n",
              "    <tr>\n",
              "      <th>2000-01-07</th>\n",
              "      <td>5.500000</td>\n",
              "      <td>5.500000</td>\n",
              "      <td>5.500000</td>\n",
              "      <td>5.500000</td>\n",
              "      <td>1.752536</td>\n",
              "      <td>20912640000</td>\n",
              "    </tr>\n",
              "    <tr>\n",
              "      <th>...</th>\n",
              "      <td>...</td>\n",
              "      <td>...</td>\n",
              "      <td>...</td>\n",
              "      <td>...</td>\n",
              "      <td>...</td>\n",
              "      <td>...</td>\n",
              "    </tr>\n",
              "    <tr>\n",
              "      <th>2022-12-13</th>\n",
              "      <td>24.100000</td>\n",
              "      <td>24.200001</td>\n",
              "      <td>23.309999</td>\n",
              "      <td>23.320000</td>\n",
              "      <td>23.320000</td>\n",
              "      <td>102533100</td>\n",
              "    </tr>\n",
              "    <tr>\n",
              "      <th>2022-12-14</th>\n",
              "      <td>22.500000</td>\n",
              "      <td>22.600000</td>\n",
              "      <td>20.770000</td>\n",
              "      <td>21.469999</td>\n",
              "      <td>21.469999</td>\n",
              "      <td>319501600</td>\n",
              "    </tr>\n",
              "    <tr>\n",
              "      <th>2022-12-15</th>\n",
              "      <td>21.000000</td>\n",
              "      <td>22.370001</td>\n",
              "      <td>20.830000</td>\n",
              "      <td>22.040001</td>\n",
              "      <td>22.040001</td>\n",
              "      <td>132385600</td>\n",
              "    </tr>\n",
              "    <tr>\n",
              "      <th>2022-12-16</th>\n",
              "      <td>21.959999</td>\n",
              "      <td>22.110001</td>\n",
              "      <td>21.510000</td>\n",
              "      <td>22.049999</td>\n",
              "      <td>22.049999</td>\n",
              "      <td>90767300</td>\n",
              "    </tr>\n",
              "    <tr>\n",
              "      <th>2022-12-19</th>\n",
              "      <td>22.100000</td>\n",
              "      <td>22.469999</td>\n",
              "      <td>21.639999</td>\n",
              "      <td>22.350000</td>\n",
              "      <td>22.350000</td>\n",
              "      <td>37837300</td>\n",
              "    </tr>\n",
              "  </tbody>\n",
              "</table>\n",
              "<p>5770 rows × 6 columns</p>\n",
              "</div>\n",
              "    <div class=\"colab-df-buttons\">\n",
              "\n",
              "  <div class=\"colab-df-container\">\n",
              "    <button class=\"colab-df-convert\" onclick=\"convertToInteractive('df-ffaa34d1-9357-4261-86a0-232454a2aafc')\"\n",
              "            title=\"Convert this dataframe to an interactive table.\"\n",
              "            style=\"display:none;\">\n",
              "\n",
              "  <svg xmlns=\"http://www.w3.org/2000/svg\" height=\"24px\" viewBox=\"0 -960 960 960\">\n",
              "    <path d=\"M120-120v-720h720v720H120Zm60-500h600v-160H180v160Zm220 220h160v-160H400v160Zm0 220h160v-160H400v160ZM180-400h160v-160H180v160Zm440 0h160v-160H620v160ZM180-180h160v-160H180v160Zm440 0h160v-160H620v160Z\"/>\n",
              "  </svg>\n",
              "    </button>\n",
              "\n",
              "  <style>\n",
              "    .colab-df-container {\n",
              "      display:flex;\n",
              "      gap: 12px;\n",
              "    }\n",
              "\n",
              "    .colab-df-convert {\n",
              "      background-color: #E8F0FE;\n",
              "      border: none;\n",
              "      border-radius: 50%;\n",
              "      cursor: pointer;\n",
              "      display: none;\n",
              "      fill: #1967D2;\n",
              "      height: 32px;\n",
              "      padding: 0 0 0 0;\n",
              "      width: 32px;\n",
              "    }\n",
              "\n",
              "    .colab-df-convert:hover {\n",
              "      background-color: #E2EBFA;\n",
              "      box-shadow: 0px 1px 2px rgba(60, 64, 67, 0.3), 0px 1px 3px 1px rgba(60, 64, 67, 0.15);\n",
              "      fill: #174EA6;\n",
              "    }\n",
              "\n",
              "    .colab-df-buttons div {\n",
              "      margin-bottom: 4px;\n",
              "    }\n",
              "\n",
              "    [theme=dark] .colab-df-convert {\n",
              "      background-color: #3B4455;\n",
              "      fill: #D2E3FC;\n",
              "    }\n",
              "\n",
              "    [theme=dark] .colab-df-convert:hover {\n",
              "      background-color: #434B5C;\n",
              "      box-shadow: 0px 1px 3px 1px rgba(0, 0, 0, 0.15);\n",
              "      filter: drop-shadow(0px 1px 2px rgba(0, 0, 0, 0.3));\n",
              "      fill: #FFFFFF;\n",
              "    }\n",
              "  </style>\n",
              "\n",
              "    <script>\n",
              "      const buttonEl =\n",
              "        document.querySelector('#df-ffaa34d1-9357-4261-86a0-232454a2aafc button.colab-df-convert');\n",
              "      buttonEl.style.display =\n",
              "        google.colab.kernel.accessAllowed ? 'block' : 'none';\n",
              "\n",
              "      async function convertToInteractive(key) {\n",
              "        const element = document.querySelector('#df-ffaa34d1-9357-4261-86a0-232454a2aafc');\n",
              "        const dataTable =\n",
              "          await google.colab.kernel.invokeFunction('convertToInteractive',\n",
              "                                                    [key], {});\n",
              "        if (!dataTable) return;\n",
              "\n",
              "        const docLinkHtml = 'Like what you see? Visit the ' +\n",
              "          '<a target=\"_blank\" href=https://colab.research.google.com/notebooks/data_table.ipynb>data table notebook</a>'\n",
              "          + ' to learn more about interactive tables.';\n",
              "        element.innerHTML = '';\n",
              "        dataTable['output_type'] = 'display_data';\n",
              "        await google.colab.output.renderOutput(dataTable, element);\n",
              "        const docLink = document.createElement('div');\n",
              "        docLink.innerHTML = docLinkHtml;\n",
              "        element.appendChild(docLink);\n",
              "      }\n",
              "    </script>\n",
              "  </div>\n",
              "\n",
              "\n",
              "<div id=\"df-fc6e004d-f930-4927-8b20-65a9558fbb7c\">\n",
              "  <button class=\"colab-df-quickchart\" onclick=\"quickchart('df-fc6e004d-f930-4927-8b20-65a9558fbb7c')\"\n",
              "            title=\"Suggest charts.\"\n",
              "            style=\"display:none;\">\n",
              "\n",
              "<svg xmlns=\"http://www.w3.org/2000/svg\" height=\"24px\"viewBox=\"0 0 24 24\"\n",
              "     width=\"24px\">\n",
              "    <g>\n",
              "        <path d=\"M19 3H5c-1.1 0-2 .9-2 2v14c0 1.1.9 2 2 2h14c1.1 0 2-.9 2-2V5c0-1.1-.9-2-2-2zM9 17H7v-7h2v7zm4 0h-2V7h2v10zm4 0h-2v-4h2v4z\"/>\n",
              "    </g>\n",
              "</svg>\n",
              "  </button>\n",
              "\n",
              "<style>\n",
              "  .colab-df-quickchart {\n",
              "      --bg-color: #E8F0FE;\n",
              "      --fill-color: #1967D2;\n",
              "      --hover-bg-color: #E2EBFA;\n",
              "      --hover-fill-color: #174EA6;\n",
              "      --disabled-fill-color: #AAA;\n",
              "      --disabled-bg-color: #DDD;\n",
              "  }\n",
              "\n",
              "  [theme=dark] .colab-df-quickchart {\n",
              "      --bg-color: #3B4455;\n",
              "      --fill-color: #D2E3FC;\n",
              "      --hover-bg-color: #434B5C;\n",
              "      --hover-fill-color: #FFFFFF;\n",
              "      --disabled-bg-color: #3B4455;\n",
              "      --disabled-fill-color: #666;\n",
              "  }\n",
              "\n",
              "  .colab-df-quickchart {\n",
              "    background-color: var(--bg-color);\n",
              "    border: none;\n",
              "    border-radius: 50%;\n",
              "    cursor: pointer;\n",
              "    display: none;\n",
              "    fill: var(--fill-color);\n",
              "    height: 32px;\n",
              "    padding: 0;\n",
              "    width: 32px;\n",
              "  }\n",
              "\n",
              "  .colab-df-quickchart:hover {\n",
              "    background-color: var(--hover-bg-color);\n",
              "    box-shadow: 0 1px 2px rgba(60, 64, 67, 0.3), 0 1px 3px 1px rgba(60, 64, 67, 0.15);\n",
              "    fill: var(--button-hover-fill-color);\n",
              "  }\n",
              "\n",
              "  .colab-df-quickchart-complete:disabled,\n",
              "  .colab-df-quickchart-complete:disabled:hover {\n",
              "    background-color: var(--disabled-bg-color);\n",
              "    fill: var(--disabled-fill-color);\n",
              "    box-shadow: none;\n",
              "  }\n",
              "\n",
              "  .colab-df-spinner {\n",
              "    border: 2px solid var(--fill-color);\n",
              "    border-color: transparent;\n",
              "    border-bottom-color: var(--fill-color);\n",
              "    animation:\n",
              "      spin 1s steps(1) infinite;\n",
              "  }\n",
              "\n",
              "  @keyframes spin {\n",
              "    0% {\n",
              "      border-color: transparent;\n",
              "      border-bottom-color: var(--fill-color);\n",
              "      border-left-color: var(--fill-color);\n",
              "    }\n",
              "    20% {\n",
              "      border-color: transparent;\n",
              "      border-left-color: var(--fill-color);\n",
              "      border-top-color: var(--fill-color);\n",
              "    }\n",
              "    30% {\n",
              "      border-color: transparent;\n",
              "      border-left-color: var(--fill-color);\n",
              "      border-top-color: var(--fill-color);\n",
              "      border-right-color: var(--fill-color);\n",
              "    }\n",
              "    40% {\n",
              "      border-color: transparent;\n",
              "      border-right-color: var(--fill-color);\n",
              "      border-top-color: var(--fill-color);\n",
              "    }\n",
              "    60% {\n",
              "      border-color: transparent;\n",
              "      border-right-color: var(--fill-color);\n",
              "    }\n",
              "    80% {\n",
              "      border-color: transparent;\n",
              "      border-right-color: var(--fill-color);\n",
              "      border-bottom-color: var(--fill-color);\n",
              "    }\n",
              "    90% {\n",
              "      border-color: transparent;\n",
              "      border-bottom-color: var(--fill-color);\n",
              "    }\n",
              "  }\n",
              "</style>\n",
              "\n",
              "  <script>\n",
              "    async function quickchart(key) {\n",
              "      const quickchartButtonEl =\n",
              "        document.querySelector('#' + key + ' button');\n",
              "      quickchartButtonEl.disabled = true;  // To prevent multiple clicks.\n",
              "      quickchartButtonEl.classList.add('colab-df-spinner');\n",
              "      try {\n",
              "        const charts = await google.colab.kernel.invokeFunction(\n",
              "            'suggestCharts', [key], {});\n",
              "      } catch (error) {\n",
              "        console.error('Error during call to suggestCharts:', error);\n",
              "      }\n",
              "      quickchartButtonEl.classList.remove('colab-df-spinner');\n",
              "      quickchartButtonEl.classList.add('colab-df-quickchart-complete');\n",
              "    }\n",
              "    (() => {\n",
              "      let quickchartButtonEl =\n",
              "        document.querySelector('#df-fc6e004d-f930-4927-8b20-65a9558fbb7c button');\n",
              "      quickchartButtonEl.style.display =\n",
              "        google.colab.kernel.accessAllowed ? 'block' : 'none';\n",
              "    })();\n",
              "  </script>\n",
              "</div>\n",
              "    </div>\n",
              "  </div>\n"
            ]
          },
          "metadata": {},
          "execution_count": 21
        }
      ]
    },
    {
      "cell_type": "code",
      "source": [
        "petr"
      ],
      "metadata": {
        "colab": {
          "base_uri": "https://localhost:8080/",
          "height": 455
        },
        "id": "OVCf6z1nOdMF",
        "outputId": "19187e86-16be-463f-80c0-5f70cbadbc2f"
      },
      "execution_count": 22,
      "outputs": [
        {
          "output_type": "execute_result",
          "data": {
            "text/plain": [
              "                  Date       Open       High        Low      Close  Adj Close  \\\n",
              "Date                                                                            \n",
              "2000-01-03  2000-01-03   5.875000   5.875000   5.875000   5.875000   1.872027   \n",
              "2000-01-04  2000-01-04   5.550000   5.550000   5.550000   5.550000   1.768469   \n",
              "2000-01-05  2000-01-05   5.494000   5.494000   5.494000   5.494000   1.750625   \n",
              "2000-01-06  2000-01-06   5.475000   5.475000   5.475000   5.475000   1.744570   \n",
              "2000-01-07  2000-01-07   5.500000   5.500000   5.500000   5.500000   1.752536   \n",
              "...                ...        ...        ...        ...        ...        ...   \n",
              "2022-12-13  2022-12-13  24.100000  24.200001  23.309999  23.320000  23.320000   \n",
              "2022-12-14  2022-12-14  22.500000  22.600000  20.770000  21.469999  21.469999   \n",
              "2022-12-15  2022-12-15  21.000000  22.370001  20.830000  22.040001  22.040001   \n",
              "2022-12-16  2022-12-16  21.959999  22.110001  21.510000  22.049999  22.049999   \n",
              "2022-12-19  2022-12-19  22.100000  22.469999  21.639999  22.350000  22.350000   \n",
              "\n",
              "                 Volume  \n",
              "Date                     \n",
              "2000-01-03  35389440000  \n",
              "2000-01-04  28861440000  \n",
              "2000-01-05  43033600000  \n",
              "2000-01-06  34055680000  \n",
              "2000-01-07  20912640000  \n",
              "...                 ...  \n",
              "2022-12-13    102533100  \n",
              "2022-12-14    319501600  \n",
              "2022-12-15    132385600  \n",
              "2022-12-16     90767300  \n",
              "2022-12-19     37837300  \n",
              "\n",
              "[5770 rows x 7 columns]"
            ],
            "text/html": [
              "\n",
              "  <div id=\"df-cfdeda45-442d-468e-b1d6-aad55fe17c2e\" class=\"colab-df-container\">\n",
              "    <div>\n",
              "<style scoped>\n",
              "    .dataframe tbody tr th:only-of-type {\n",
              "        vertical-align: middle;\n",
              "    }\n",
              "\n",
              "    .dataframe tbody tr th {\n",
              "        vertical-align: top;\n",
              "    }\n",
              "\n",
              "    .dataframe thead th {\n",
              "        text-align: right;\n",
              "    }\n",
              "</style>\n",
              "<table border=\"1\" class=\"dataframe\">\n",
              "  <thead>\n",
              "    <tr style=\"text-align: right;\">\n",
              "      <th></th>\n",
              "      <th>Date</th>\n",
              "      <th>Open</th>\n",
              "      <th>High</th>\n",
              "      <th>Low</th>\n",
              "      <th>Close</th>\n",
              "      <th>Adj Close</th>\n",
              "      <th>Volume</th>\n",
              "    </tr>\n",
              "    <tr>\n",
              "      <th>Date</th>\n",
              "      <th></th>\n",
              "      <th></th>\n",
              "      <th></th>\n",
              "      <th></th>\n",
              "      <th></th>\n",
              "      <th></th>\n",
              "      <th></th>\n",
              "    </tr>\n",
              "  </thead>\n",
              "  <tbody>\n",
              "    <tr>\n",
              "      <th>2000-01-03</th>\n",
              "      <td>2000-01-03</td>\n",
              "      <td>5.875000</td>\n",
              "      <td>5.875000</td>\n",
              "      <td>5.875000</td>\n",
              "      <td>5.875000</td>\n",
              "      <td>1.872027</td>\n",
              "      <td>35389440000</td>\n",
              "    </tr>\n",
              "    <tr>\n",
              "      <th>2000-01-04</th>\n",
              "      <td>2000-01-04</td>\n",
              "      <td>5.550000</td>\n",
              "      <td>5.550000</td>\n",
              "      <td>5.550000</td>\n",
              "      <td>5.550000</td>\n",
              "      <td>1.768469</td>\n",
              "      <td>28861440000</td>\n",
              "    </tr>\n",
              "    <tr>\n",
              "      <th>2000-01-05</th>\n",
              "      <td>2000-01-05</td>\n",
              "      <td>5.494000</td>\n",
              "      <td>5.494000</td>\n",
              "      <td>5.494000</td>\n",
              "      <td>5.494000</td>\n",
              "      <td>1.750625</td>\n",
              "      <td>43033600000</td>\n",
              "    </tr>\n",
              "    <tr>\n",
              "      <th>2000-01-06</th>\n",
              "      <td>2000-01-06</td>\n",
              "      <td>5.475000</td>\n",
              "      <td>5.475000</td>\n",
              "      <td>5.475000</td>\n",
              "      <td>5.475000</td>\n",
              "      <td>1.744570</td>\n",
              "      <td>34055680000</td>\n",
              "    </tr>\n",
              "    <tr>\n",
              "      <th>2000-01-07</th>\n",
              "      <td>2000-01-07</td>\n",
              "      <td>5.500000</td>\n",
              "      <td>5.500000</td>\n",
              "      <td>5.500000</td>\n",
              "      <td>5.500000</td>\n",
              "      <td>1.752536</td>\n",
              "      <td>20912640000</td>\n",
              "    </tr>\n",
              "    <tr>\n",
              "      <th>...</th>\n",
              "      <td>...</td>\n",
              "      <td>...</td>\n",
              "      <td>...</td>\n",
              "      <td>...</td>\n",
              "      <td>...</td>\n",
              "      <td>...</td>\n",
              "      <td>...</td>\n",
              "    </tr>\n",
              "    <tr>\n",
              "      <th>2022-12-13</th>\n",
              "      <td>2022-12-13</td>\n",
              "      <td>24.100000</td>\n",
              "      <td>24.200001</td>\n",
              "      <td>23.309999</td>\n",
              "      <td>23.320000</td>\n",
              "      <td>23.320000</td>\n",
              "      <td>102533100</td>\n",
              "    </tr>\n",
              "    <tr>\n",
              "      <th>2022-12-14</th>\n",
              "      <td>2022-12-14</td>\n",
              "      <td>22.500000</td>\n",
              "      <td>22.600000</td>\n",
              "      <td>20.770000</td>\n",
              "      <td>21.469999</td>\n",
              "      <td>21.469999</td>\n",
              "      <td>319501600</td>\n",
              "    </tr>\n",
              "    <tr>\n",
              "      <th>2022-12-15</th>\n",
              "      <td>2022-12-15</td>\n",
              "      <td>21.000000</td>\n",
              "      <td>22.370001</td>\n",
              "      <td>20.830000</td>\n",
              "      <td>22.040001</td>\n",
              "      <td>22.040001</td>\n",
              "      <td>132385600</td>\n",
              "    </tr>\n",
              "    <tr>\n",
              "      <th>2022-12-16</th>\n",
              "      <td>2022-12-16</td>\n",
              "      <td>21.959999</td>\n",
              "      <td>22.110001</td>\n",
              "      <td>21.510000</td>\n",
              "      <td>22.049999</td>\n",
              "      <td>22.049999</td>\n",
              "      <td>90767300</td>\n",
              "    </tr>\n",
              "    <tr>\n",
              "      <th>2022-12-19</th>\n",
              "      <td>2022-12-19</td>\n",
              "      <td>22.100000</td>\n",
              "      <td>22.469999</td>\n",
              "      <td>21.639999</td>\n",
              "      <td>22.350000</td>\n",
              "      <td>22.350000</td>\n",
              "      <td>37837300</td>\n",
              "    </tr>\n",
              "  </tbody>\n",
              "</table>\n",
              "<p>5770 rows × 7 columns</p>\n",
              "</div>\n",
              "    <div class=\"colab-df-buttons\">\n",
              "\n",
              "  <div class=\"colab-df-container\">\n",
              "    <button class=\"colab-df-convert\" onclick=\"convertToInteractive('df-cfdeda45-442d-468e-b1d6-aad55fe17c2e')\"\n",
              "            title=\"Convert this dataframe to an interactive table.\"\n",
              "            style=\"display:none;\">\n",
              "\n",
              "  <svg xmlns=\"http://www.w3.org/2000/svg\" height=\"24px\" viewBox=\"0 -960 960 960\">\n",
              "    <path d=\"M120-120v-720h720v720H120Zm60-500h600v-160H180v160Zm220 220h160v-160H400v160Zm0 220h160v-160H400v160ZM180-400h160v-160H180v160Zm440 0h160v-160H620v160ZM180-180h160v-160H180v160Zm440 0h160v-160H620v160Z\"/>\n",
              "  </svg>\n",
              "    </button>\n",
              "\n",
              "  <style>\n",
              "    .colab-df-container {\n",
              "      display:flex;\n",
              "      gap: 12px;\n",
              "    }\n",
              "\n",
              "    .colab-df-convert {\n",
              "      background-color: #E8F0FE;\n",
              "      border: none;\n",
              "      border-radius: 50%;\n",
              "      cursor: pointer;\n",
              "      display: none;\n",
              "      fill: #1967D2;\n",
              "      height: 32px;\n",
              "      padding: 0 0 0 0;\n",
              "      width: 32px;\n",
              "    }\n",
              "\n",
              "    .colab-df-convert:hover {\n",
              "      background-color: #E2EBFA;\n",
              "      box-shadow: 0px 1px 2px rgba(60, 64, 67, 0.3), 0px 1px 3px 1px rgba(60, 64, 67, 0.15);\n",
              "      fill: #174EA6;\n",
              "    }\n",
              "\n",
              "    .colab-df-buttons div {\n",
              "      margin-bottom: 4px;\n",
              "    }\n",
              "\n",
              "    [theme=dark] .colab-df-convert {\n",
              "      background-color: #3B4455;\n",
              "      fill: #D2E3FC;\n",
              "    }\n",
              "\n",
              "    [theme=dark] .colab-df-convert:hover {\n",
              "      background-color: #434B5C;\n",
              "      box-shadow: 0px 1px 3px 1px rgba(0, 0, 0, 0.15);\n",
              "      filter: drop-shadow(0px 1px 2px rgba(0, 0, 0, 0.3));\n",
              "      fill: #FFFFFF;\n",
              "    }\n",
              "  </style>\n",
              "\n",
              "    <script>\n",
              "      const buttonEl =\n",
              "        document.querySelector('#df-cfdeda45-442d-468e-b1d6-aad55fe17c2e button.colab-df-convert');\n",
              "      buttonEl.style.display =\n",
              "        google.colab.kernel.accessAllowed ? 'block' : 'none';\n",
              "\n",
              "      async function convertToInteractive(key) {\n",
              "        const element = document.querySelector('#df-cfdeda45-442d-468e-b1d6-aad55fe17c2e');\n",
              "        const dataTable =\n",
              "          await google.colab.kernel.invokeFunction('convertToInteractive',\n",
              "                                                    [key], {});\n",
              "        if (!dataTable) return;\n",
              "\n",
              "        const docLinkHtml = 'Like what you see? Visit the ' +\n",
              "          '<a target=\"_blank\" href=https://colab.research.google.com/notebooks/data_table.ipynb>data table notebook</a>'\n",
              "          + ' to learn more about interactive tables.';\n",
              "        element.innerHTML = '';\n",
              "        dataTable['output_type'] = 'display_data';\n",
              "        await google.colab.output.renderOutput(dataTable, element);\n",
              "        const docLink = document.createElement('div');\n",
              "        docLink.innerHTML = docLinkHtml;\n",
              "        element.appendChild(docLink);\n",
              "      }\n",
              "    </script>\n",
              "  </div>\n",
              "\n",
              "\n",
              "<div id=\"df-d391d571-f915-4763-8565-c36051a33ba2\">\n",
              "  <button class=\"colab-df-quickchart\" onclick=\"quickchart('df-d391d571-f915-4763-8565-c36051a33ba2')\"\n",
              "            title=\"Suggest charts.\"\n",
              "            style=\"display:none;\">\n",
              "\n",
              "<svg xmlns=\"http://www.w3.org/2000/svg\" height=\"24px\"viewBox=\"0 0 24 24\"\n",
              "     width=\"24px\">\n",
              "    <g>\n",
              "        <path d=\"M19 3H5c-1.1 0-2 .9-2 2v14c0 1.1.9 2 2 2h14c1.1 0 2-.9 2-2V5c0-1.1-.9-2-2-2zM9 17H7v-7h2v7zm4 0h-2V7h2v10zm4 0h-2v-4h2v4z\"/>\n",
              "    </g>\n",
              "</svg>\n",
              "  </button>\n",
              "\n",
              "<style>\n",
              "  .colab-df-quickchart {\n",
              "      --bg-color: #E8F0FE;\n",
              "      --fill-color: #1967D2;\n",
              "      --hover-bg-color: #E2EBFA;\n",
              "      --hover-fill-color: #174EA6;\n",
              "      --disabled-fill-color: #AAA;\n",
              "      --disabled-bg-color: #DDD;\n",
              "  }\n",
              "\n",
              "  [theme=dark] .colab-df-quickchart {\n",
              "      --bg-color: #3B4455;\n",
              "      --fill-color: #D2E3FC;\n",
              "      --hover-bg-color: #434B5C;\n",
              "      --hover-fill-color: #FFFFFF;\n",
              "      --disabled-bg-color: #3B4455;\n",
              "      --disabled-fill-color: #666;\n",
              "  }\n",
              "\n",
              "  .colab-df-quickchart {\n",
              "    background-color: var(--bg-color);\n",
              "    border: none;\n",
              "    border-radius: 50%;\n",
              "    cursor: pointer;\n",
              "    display: none;\n",
              "    fill: var(--fill-color);\n",
              "    height: 32px;\n",
              "    padding: 0;\n",
              "    width: 32px;\n",
              "  }\n",
              "\n",
              "  .colab-df-quickchart:hover {\n",
              "    background-color: var(--hover-bg-color);\n",
              "    box-shadow: 0 1px 2px rgba(60, 64, 67, 0.3), 0 1px 3px 1px rgba(60, 64, 67, 0.15);\n",
              "    fill: var(--button-hover-fill-color);\n",
              "  }\n",
              "\n",
              "  .colab-df-quickchart-complete:disabled,\n",
              "  .colab-df-quickchart-complete:disabled:hover {\n",
              "    background-color: var(--disabled-bg-color);\n",
              "    fill: var(--disabled-fill-color);\n",
              "    box-shadow: none;\n",
              "  }\n",
              "\n",
              "  .colab-df-spinner {\n",
              "    border: 2px solid var(--fill-color);\n",
              "    border-color: transparent;\n",
              "    border-bottom-color: var(--fill-color);\n",
              "    animation:\n",
              "      spin 1s steps(1) infinite;\n",
              "  }\n",
              "\n",
              "  @keyframes spin {\n",
              "    0% {\n",
              "      border-color: transparent;\n",
              "      border-bottom-color: var(--fill-color);\n",
              "      border-left-color: var(--fill-color);\n",
              "    }\n",
              "    20% {\n",
              "      border-color: transparent;\n",
              "      border-left-color: var(--fill-color);\n",
              "      border-top-color: var(--fill-color);\n",
              "    }\n",
              "    30% {\n",
              "      border-color: transparent;\n",
              "      border-left-color: var(--fill-color);\n",
              "      border-top-color: var(--fill-color);\n",
              "      border-right-color: var(--fill-color);\n",
              "    }\n",
              "    40% {\n",
              "      border-color: transparent;\n",
              "      border-right-color: var(--fill-color);\n",
              "      border-top-color: var(--fill-color);\n",
              "    }\n",
              "    60% {\n",
              "      border-color: transparent;\n",
              "      border-right-color: var(--fill-color);\n",
              "    }\n",
              "    80% {\n",
              "      border-color: transparent;\n",
              "      border-right-color: var(--fill-color);\n",
              "      border-bottom-color: var(--fill-color);\n",
              "    }\n",
              "    90% {\n",
              "      border-color: transparent;\n",
              "      border-bottom-color: var(--fill-color);\n",
              "    }\n",
              "  }\n",
              "</style>\n",
              "\n",
              "  <script>\n",
              "    async function quickchart(key) {\n",
              "      const quickchartButtonEl =\n",
              "        document.querySelector('#' + key + ' button');\n",
              "      quickchartButtonEl.disabled = true;  // To prevent multiple clicks.\n",
              "      quickchartButtonEl.classList.add('colab-df-spinner');\n",
              "      try {\n",
              "        const charts = await google.colab.kernel.invokeFunction(\n",
              "            'suggestCharts', [key], {});\n",
              "      } catch (error) {\n",
              "        console.error('Error during call to suggestCharts:', error);\n",
              "      }\n",
              "      quickchartButtonEl.classList.remove('colab-df-spinner');\n",
              "      quickchartButtonEl.classList.add('colab-df-quickchart-complete');\n",
              "    }\n",
              "    (() => {\n",
              "      let quickchartButtonEl =\n",
              "        document.querySelector('#df-d391d571-f915-4763-8565-c36051a33ba2 button');\n",
              "      quickchartButtonEl.style.display =\n",
              "        google.colab.kernel.accessAllowed ? 'block' : 'none';\n",
              "    })();\n",
              "  </script>\n",
              "</div>\n",
              "    </div>\n",
              "  </div>\n"
            ]
          },
          "metadata": {},
          "execution_count": 22
        }
      ]
    },
    {
      "cell_type": "markdown",
      "source": [
        "Repare que a coluna 'Date' voltou"
      ],
      "metadata": {
        "id": "t6_DCdghO_-d"
      }
    },
    {
      "cell_type": "code",
      "source": [
        "petr.drop([\"Date\", 'Volume'], axis = 1)"
      ],
      "metadata": {
        "colab": {
          "base_uri": "https://localhost:8080/",
          "height": 455
        },
        "id": "ZSYG1L6nPD9-",
        "outputId": "ebdebc43-1584-46fb-d577-85b046bd4608"
      },
      "execution_count": 23,
      "outputs": [
        {
          "output_type": "execute_result",
          "data": {
            "text/plain": [
              "                 Open       High        Low      Close  Adj Close\n",
              "Date                                                             \n",
              "2000-01-03   5.875000   5.875000   5.875000   5.875000   1.872027\n",
              "2000-01-04   5.550000   5.550000   5.550000   5.550000   1.768469\n",
              "2000-01-05   5.494000   5.494000   5.494000   5.494000   1.750625\n",
              "2000-01-06   5.475000   5.475000   5.475000   5.475000   1.744570\n",
              "2000-01-07   5.500000   5.500000   5.500000   5.500000   1.752536\n",
              "...               ...        ...        ...        ...        ...\n",
              "2022-12-13  24.100000  24.200001  23.309999  23.320000  23.320000\n",
              "2022-12-14  22.500000  22.600000  20.770000  21.469999  21.469999\n",
              "2022-12-15  21.000000  22.370001  20.830000  22.040001  22.040001\n",
              "2022-12-16  21.959999  22.110001  21.510000  22.049999  22.049999\n",
              "2022-12-19  22.100000  22.469999  21.639999  22.350000  22.350000\n",
              "\n",
              "[5770 rows x 5 columns]"
            ],
            "text/html": [
              "\n",
              "  <div id=\"df-28d17c5d-ff4e-4034-9559-a1b4a9a81e5c\" class=\"colab-df-container\">\n",
              "    <div>\n",
              "<style scoped>\n",
              "    .dataframe tbody tr th:only-of-type {\n",
              "        vertical-align: middle;\n",
              "    }\n",
              "\n",
              "    .dataframe tbody tr th {\n",
              "        vertical-align: top;\n",
              "    }\n",
              "\n",
              "    .dataframe thead th {\n",
              "        text-align: right;\n",
              "    }\n",
              "</style>\n",
              "<table border=\"1\" class=\"dataframe\">\n",
              "  <thead>\n",
              "    <tr style=\"text-align: right;\">\n",
              "      <th></th>\n",
              "      <th>Open</th>\n",
              "      <th>High</th>\n",
              "      <th>Low</th>\n",
              "      <th>Close</th>\n",
              "      <th>Adj Close</th>\n",
              "    </tr>\n",
              "    <tr>\n",
              "      <th>Date</th>\n",
              "      <th></th>\n",
              "      <th></th>\n",
              "      <th></th>\n",
              "      <th></th>\n",
              "      <th></th>\n",
              "    </tr>\n",
              "  </thead>\n",
              "  <tbody>\n",
              "    <tr>\n",
              "      <th>2000-01-03</th>\n",
              "      <td>5.875000</td>\n",
              "      <td>5.875000</td>\n",
              "      <td>5.875000</td>\n",
              "      <td>5.875000</td>\n",
              "      <td>1.872027</td>\n",
              "    </tr>\n",
              "    <tr>\n",
              "      <th>2000-01-04</th>\n",
              "      <td>5.550000</td>\n",
              "      <td>5.550000</td>\n",
              "      <td>5.550000</td>\n",
              "      <td>5.550000</td>\n",
              "      <td>1.768469</td>\n",
              "    </tr>\n",
              "    <tr>\n",
              "      <th>2000-01-05</th>\n",
              "      <td>5.494000</td>\n",
              "      <td>5.494000</td>\n",
              "      <td>5.494000</td>\n",
              "      <td>5.494000</td>\n",
              "      <td>1.750625</td>\n",
              "    </tr>\n",
              "    <tr>\n",
              "      <th>2000-01-06</th>\n",
              "      <td>5.475000</td>\n",
              "      <td>5.475000</td>\n",
              "      <td>5.475000</td>\n",
              "      <td>5.475000</td>\n",
              "      <td>1.744570</td>\n",
              "    </tr>\n",
              "    <tr>\n",
              "      <th>2000-01-07</th>\n",
              "      <td>5.500000</td>\n",
              "      <td>5.500000</td>\n",
              "      <td>5.500000</td>\n",
              "      <td>5.500000</td>\n",
              "      <td>1.752536</td>\n",
              "    </tr>\n",
              "    <tr>\n",
              "      <th>...</th>\n",
              "      <td>...</td>\n",
              "      <td>...</td>\n",
              "      <td>...</td>\n",
              "      <td>...</td>\n",
              "      <td>...</td>\n",
              "    </tr>\n",
              "    <tr>\n",
              "      <th>2022-12-13</th>\n",
              "      <td>24.100000</td>\n",
              "      <td>24.200001</td>\n",
              "      <td>23.309999</td>\n",
              "      <td>23.320000</td>\n",
              "      <td>23.320000</td>\n",
              "    </tr>\n",
              "    <tr>\n",
              "      <th>2022-12-14</th>\n",
              "      <td>22.500000</td>\n",
              "      <td>22.600000</td>\n",
              "      <td>20.770000</td>\n",
              "      <td>21.469999</td>\n",
              "      <td>21.469999</td>\n",
              "    </tr>\n",
              "    <tr>\n",
              "      <th>2022-12-15</th>\n",
              "      <td>21.000000</td>\n",
              "      <td>22.370001</td>\n",
              "      <td>20.830000</td>\n",
              "      <td>22.040001</td>\n",
              "      <td>22.040001</td>\n",
              "    </tr>\n",
              "    <tr>\n",
              "      <th>2022-12-16</th>\n",
              "      <td>21.959999</td>\n",
              "      <td>22.110001</td>\n",
              "      <td>21.510000</td>\n",
              "      <td>22.049999</td>\n",
              "      <td>22.049999</td>\n",
              "    </tr>\n",
              "    <tr>\n",
              "      <th>2022-12-19</th>\n",
              "      <td>22.100000</td>\n",
              "      <td>22.469999</td>\n",
              "      <td>21.639999</td>\n",
              "      <td>22.350000</td>\n",
              "      <td>22.350000</td>\n",
              "    </tr>\n",
              "  </tbody>\n",
              "</table>\n",
              "<p>5770 rows × 5 columns</p>\n",
              "</div>\n",
              "    <div class=\"colab-df-buttons\">\n",
              "\n",
              "  <div class=\"colab-df-container\">\n",
              "    <button class=\"colab-df-convert\" onclick=\"convertToInteractive('df-28d17c5d-ff4e-4034-9559-a1b4a9a81e5c')\"\n",
              "            title=\"Convert this dataframe to an interactive table.\"\n",
              "            style=\"display:none;\">\n",
              "\n",
              "  <svg xmlns=\"http://www.w3.org/2000/svg\" height=\"24px\" viewBox=\"0 -960 960 960\">\n",
              "    <path d=\"M120-120v-720h720v720H120Zm60-500h600v-160H180v160Zm220 220h160v-160H400v160Zm0 220h160v-160H400v160ZM180-400h160v-160H180v160Zm440 0h160v-160H620v160ZM180-180h160v-160H180v160Zm440 0h160v-160H620v160Z\"/>\n",
              "  </svg>\n",
              "    </button>\n",
              "\n",
              "  <style>\n",
              "    .colab-df-container {\n",
              "      display:flex;\n",
              "      gap: 12px;\n",
              "    }\n",
              "\n",
              "    .colab-df-convert {\n",
              "      background-color: #E8F0FE;\n",
              "      border: none;\n",
              "      border-radius: 50%;\n",
              "      cursor: pointer;\n",
              "      display: none;\n",
              "      fill: #1967D2;\n",
              "      height: 32px;\n",
              "      padding: 0 0 0 0;\n",
              "      width: 32px;\n",
              "    }\n",
              "\n",
              "    .colab-df-convert:hover {\n",
              "      background-color: #E2EBFA;\n",
              "      box-shadow: 0px 1px 2px rgba(60, 64, 67, 0.3), 0px 1px 3px 1px rgba(60, 64, 67, 0.15);\n",
              "      fill: #174EA6;\n",
              "    }\n",
              "\n",
              "    .colab-df-buttons div {\n",
              "      margin-bottom: 4px;\n",
              "    }\n",
              "\n",
              "    [theme=dark] .colab-df-convert {\n",
              "      background-color: #3B4455;\n",
              "      fill: #D2E3FC;\n",
              "    }\n",
              "\n",
              "    [theme=dark] .colab-df-convert:hover {\n",
              "      background-color: #434B5C;\n",
              "      box-shadow: 0px 1px 3px 1px rgba(0, 0, 0, 0.15);\n",
              "      filter: drop-shadow(0px 1px 2px rgba(0, 0, 0, 0.3));\n",
              "      fill: #FFFFFF;\n",
              "    }\n",
              "  </style>\n",
              "\n",
              "    <script>\n",
              "      const buttonEl =\n",
              "        document.querySelector('#df-28d17c5d-ff4e-4034-9559-a1b4a9a81e5c button.colab-df-convert');\n",
              "      buttonEl.style.display =\n",
              "        google.colab.kernel.accessAllowed ? 'block' : 'none';\n",
              "\n",
              "      async function convertToInteractive(key) {\n",
              "        const element = document.querySelector('#df-28d17c5d-ff4e-4034-9559-a1b4a9a81e5c');\n",
              "        const dataTable =\n",
              "          await google.colab.kernel.invokeFunction('convertToInteractive',\n",
              "                                                    [key], {});\n",
              "        if (!dataTable) return;\n",
              "\n",
              "        const docLinkHtml = 'Like what you see? Visit the ' +\n",
              "          '<a target=\"_blank\" href=https://colab.research.google.com/notebooks/data_table.ipynb>data table notebook</a>'\n",
              "          + ' to learn more about interactive tables.';\n",
              "        element.innerHTML = '';\n",
              "        dataTable['output_type'] = 'display_data';\n",
              "        await google.colab.output.renderOutput(dataTable, element);\n",
              "        const docLink = document.createElement('div');\n",
              "        docLink.innerHTML = docLinkHtml;\n",
              "        element.appendChild(docLink);\n",
              "      }\n",
              "    </script>\n",
              "  </div>\n",
              "\n",
              "\n",
              "<div id=\"df-01ea8e1c-cd09-4a31-a1a1-cba6318ffde8\">\n",
              "  <button class=\"colab-df-quickchart\" onclick=\"quickchart('df-01ea8e1c-cd09-4a31-a1a1-cba6318ffde8')\"\n",
              "            title=\"Suggest charts.\"\n",
              "            style=\"display:none;\">\n",
              "\n",
              "<svg xmlns=\"http://www.w3.org/2000/svg\" height=\"24px\"viewBox=\"0 0 24 24\"\n",
              "     width=\"24px\">\n",
              "    <g>\n",
              "        <path d=\"M19 3H5c-1.1 0-2 .9-2 2v14c0 1.1.9 2 2 2h14c1.1 0 2-.9 2-2V5c0-1.1-.9-2-2-2zM9 17H7v-7h2v7zm4 0h-2V7h2v10zm4 0h-2v-4h2v4z\"/>\n",
              "    </g>\n",
              "</svg>\n",
              "  </button>\n",
              "\n",
              "<style>\n",
              "  .colab-df-quickchart {\n",
              "      --bg-color: #E8F0FE;\n",
              "      --fill-color: #1967D2;\n",
              "      --hover-bg-color: #E2EBFA;\n",
              "      --hover-fill-color: #174EA6;\n",
              "      --disabled-fill-color: #AAA;\n",
              "      --disabled-bg-color: #DDD;\n",
              "  }\n",
              "\n",
              "  [theme=dark] .colab-df-quickchart {\n",
              "      --bg-color: #3B4455;\n",
              "      --fill-color: #D2E3FC;\n",
              "      --hover-bg-color: #434B5C;\n",
              "      --hover-fill-color: #FFFFFF;\n",
              "      --disabled-bg-color: #3B4455;\n",
              "      --disabled-fill-color: #666;\n",
              "  }\n",
              "\n",
              "  .colab-df-quickchart {\n",
              "    background-color: var(--bg-color);\n",
              "    border: none;\n",
              "    border-radius: 50%;\n",
              "    cursor: pointer;\n",
              "    display: none;\n",
              "    fill: var(--fill-color);\n",
              "    height: 32px;\n",
              "    padding: 0;\n",
              "    width: 32px;\n",
              "  }\n",
              "\n",
              "  .colab-df-quickchart:hover {\n",
              "    background-color: var(--hover-bg-color);\n",
              "    box-shadow: 0 1px 2px rgba(60, 64, 67, 0.3), 0 1px 3px 1px rgba(60, 64, 67, 0.15);\n",
              "    fill: var(--button-hover-fill-color);\n",
              "  }\n",
              "\n",
              "  .colab-df-quickchart-complete:disabled,\n",
              "  .colab-df-quickchart-complete:disabled:hover {\n",
              "    background-color: var(--disabled-bg-color);\n",
              "    fill: var(--disabled-fill-color);\n",
              "    box-shadow: none;\n",
              "  }\n",
              "\n",
              "  .colab-df-spinner {\n",
              "    border: 2px solid var(--fill-color);\n",
              "    border-color: transparent;\n",
              "    border-bottom-color: var(--fill-color);\n",
              "    animation:\n",
              "      spin 1s steps(1) infinite;\n",
              "  }\n",
              "\n",
              "  @keyframes spin {\n",
              "    0% {\n",
              "      border-color: transparent;\n",
              "      border-bottom-color: var(--fill-color);\n",
              "      border-left-color: var(--fill-color);\n",
              "    }\n",
              "    20% {\n",
              "      border-color: transparent;\n",
              "      border-left-color: var(--fill-color);\n",
              "      border-top-color: var(--fill-color);\n",
              "    }\n",
              "    30% {\n",
              "      border-color: transparent;\n",
              "      border-left-color: var(--fill-color);\n",
              "      border-top-color: var(--fill-color);\n",
              "      border-right-color: var(--fill-color);\n",
              "    }\n",
              "    40% {\n",
              "      border-color: transparent;\n",
              "      border-right-color: var(--fill-color);\n",
              "      border-top-color: var(--fill-color);\n",
              "    }\n",
              "    60% {\n",
              "      border-color: transparent;\n",
              "      border-right-color: var(--fill-color);\n",
              "    }\n",
              "    80% {\n",
              "      border-color: transparent;\n",
              "      border-right-color: var(--fill-color);\n",
              "      border-bottom-color: var(--fill-color);\n",
              "    }\n",
              "    90% {\n",
              "      border-color: transparent;\n",
              "      border-bottom-color: var(--fill-color);\n",
              "    }\n",
              "  }\n",
              "</style>\n",
              "\n",
              "  <script>\n",
              "    async function quickchart(key) {\n",
              "      const quickchartButtonEl =\n",
              "        document.querySelector('#' + key + ' button');\n",
              "      quickchartButtonEl.disabled = true;  // To prevent multiple clicks.\n",
              "      quickchartButtonEl.classList.add('colab-df-spinner');\n",
              "      try {\n",
              "        const charts = await google.colab.kernel.invokeFunction(\n",
              "            'suggestCharts', [key], {});\n",
              "      } catch (error) {\n",
              "        console.error('Error during call to suggestCharts:', error);\n",
              "      }\n",
              "      quickchartButtonEl.classList.remove('colab-df-spinner');\n",
              "      quickchartButtonEl.classList.add('colab-df-quickchart-complete');\n",
              "    }\n",
              "    (() => {\n",
              "      let quickchartButtonEl =\n",
              "        document.querySelector('#df-01ea8e1c-cd09-4a31-a1a1-cba6318ffde8 button');\n",
              "      quickchartButtonEl.style.display =\n",
              "        google.colab.kernel.accessAllowed ? 'block' : 'none';\n",
              "    })();\n",
              "  </script>\n",
              "</div>\n",
              "    </div>\n",
              "  </div>\n"
            ]
          },
          "metadata": {},
          "execution_count": 23
        }
      ]
    },
    {
      "cell_type": "code",
      "source": [
        "petr"
      ],
      "metadata": {
        "colab": {
          "base_uri": "https://localhost:8080/",
          "height": 455
        },
        "id": "LK7a9WAxPIaE",
        "outputId": "efcc6d9d-fe48-4b3c-b5d4-8483e0c421fe"
      },
      "execution_count": 24,
      "outputs": [
        {
          "output_type": "execute_result",
          "data": {
            "text/plain": [
              "                  Date       Open       High        Low      Close  Adj Close  \\\n",
              "Date                                                                            \n",
              "2000-01-03  2000-01-03   5.875000   5.875000   5.875000   5.875000   1.872027   \n",
              "2000-01-04  2000-01-04   5.550000   5.550000   5.550000   5.550000   1.768469   \n",
              "2000-01-05  2000-01-05   5.494000   5.494000   5.494000   5.494000   1.750625   \n",
              "2000-01-06  2000-01-06   5.475000   5.475000   5.475000   5.475000   1.744570   \n",
              "2000-01-07  2000-01-07   5.500000   5.500000   5.500000   5.500000   1.752536   \n",
              "...                ...        ...        ...        ...        ...        ...   \n",
              "2022-12-13  2022-12-13  24.100000  24.200001  23.309999  23.320000  23.320000   \n",
              "2022-12-14  2022-12-14  22.500000  22.600000  20.770000  21.469999  21.469999   \n",
              "2022-12-15  2022-12-15  21.000000  22.370001  20.830000  22.040001  22.040001   \n",
              "2022-12-16  2022-12-16  21.959999  22.110001  21.510000  22.049999  22.049999   \n",
              "2022-12-19  2022-12-19  22.100000  22.469999  21.639999  22.350000  22.350000   \n",
              "\n",
              "                 Volume  \n",
              "Date                     \n",
              "2000-01-03  35389440000  \n",
              "2000-01-04  28861440000  \n",
              "2000-01-05  43033600000  \n",
              "2000-01-06  34055680000  \n",
              "2000-01-07  20912640000  \n",
              "...                 ...  \n",
              "2022-12-13    102533100  \n",
              "2022-12-14    319501600  \n",
              "2022-12-15    132385600  \n",
              "2022-12-16     90767300  \n",
              "2022-12-19     37837300  \n",
              "\n",
              "[5770 rows x 7 columns]"
            ],
            "text/html": [
              "\n",
              "  <div id=\"df-0bb04f02-8782-4620-8963-c4c0c90df0c0\" class=\"colab-df-container\">\n",
              "    <div>\n",
              "<style scoped>\n",
              "    .dataframe tbody tr th:only-of-type {\n",
              "        vertical-align: middle;\n",
              "    }\n",
              "\n",
              "    .dataframe tbody tr th {\n",
              "        vertical-align: top;\n",
              "    }\n",
              "\n",
              "    .dataframe thead th {\n",
              "        text-align: right;\n",
              "    }\n",
              "</style>\n",
              "<table border=\"1\" class=\"dataframe\">\n",
              "  <thead>\n",
              "    <tr style=\"text-align: right;\">\n",
              "      <th></th>\n",
              "      <th>Date</th>\n",
              "      <th>Open</th>\n",
              "      <th>High</th>\n",
              "      <th>Low</th>\n",
              "      <th>Close</th>\n",
              "      <th>Adj Close</th>\n",
              "      <th>Volume</th>\n",
              "    </tr>\n",
              "    <tr>\n",
              "      <th>Date</th>\n",
              "      <th></th>\n",
              "      <th></th>\n",
              "      <th></th>\n",
              "      <th></th>\n",
              "      <th></th>\n",
              "      <th></th>\n",
              "      <th></th>\n",
              "    </tr>\n",
              "  </thead>\n",
              "  <tbody>\n",
              "    <tr>\n",
              "      <th>2000-01-03</th>\n",
              "      <td>2000-01-03</td>\n",
              "      <td>5.875000</td>\n",
              "      <td>5.875000</td>\n",
              "      <td>5.875000</td>\n",
              "      <td>5.875000</td>\n",
              "      <td>1.872027</td>\n",
              "      <td>35389440000</td>\n",
              "    </tr>\n",
              "    <tr>\n",
              "      <th>2000-01-04</th>\n",
              "      <td>2000-01-04</td>\n",
              "      <td>5.550000</td>\n",
              "      <td>5.550000</td>\n",
              "      <td>5.550000</td>\n",
              "      <td>5.550000</td>\n",
              "      <td>1.768469</td>\n",
              "      <td>28861440000</td>\n",
              "    </tr>\n",
              "    <tr>\n",
              "      <th>2000-01-05</th>\n",
              "      <td>2000-01-05</td>\n",
              "      <td>5.494000</td>\n",
              "      <td>5.494000</td>\n",
              "      <td>5.494000</td>\n",
              "      <td>5.494000</td>\n",
              "      <td>1.750625</td>\n",
              "      <td>43033600000</td>\n",
              "    </tr>\n",
              "    <tr>\n",
              "      <th>2000-01-06</th>\n",
              "      <td>2000-01-06</td>\n",
              "      <td>5.475000</td>\n",
              "      <td>5.475000</td>\n",
              "      <td>5.475000</td>\n",
              "      <td>5.475000</td>\n",
              "      <td>1.744570</td>\n",
              "      <td>34055680000</td>\n",
              "    </tr>\n",
              "    <tr>\n",
              "      <th>2000-01-07</th>\n",
              "      <td>2000-01-07</td>\n",
              "      <td>5.500000</td>\n",
              "      <td>5.500000</td>\n",
              "      <td>5.500000</td>\n",
              "      <td>5.500000</td>\n",
              "      <td>1.752536</td>\n",
              "      <td>20912640000</td>\n",
              "    </tr>\n",
              "    <tr>\n",
              "      <th>...</th>\n",
              "      <td>...</td>\n",
              "      <td>...</td>\n",
              "      <td>...</td>\n",
              "      <td>...</td>\n",
              "      <td>...</td>\n",
              "      <td>...</td>\n",
              "      <td>...</td>\n",
              "    </tr>\n",
              "    <tr>\n",
              "      <th>2022-12-13</th>\n",
              "      <td>2022-12-13</td>\n",
              "      <td>24.100000</td>\n",
              "      <td>24.200001</td>\n",
              "      <td>23.309999</td>\n",
              "      <td>23.320000</td>\n",
              "      <td>23.320000</td>\n",
              "      <td>102533100</td>\n",
              "    </tr>\n",
              "    <tr>\n",
              "      <th>2022-12-14</th>\n",
              "      <td>2022-12-14</td>\n",
              "      <td>22.500000</td>\n",
              "      <td>22.600000</td>\n",
              "      <td>20.770000</td>\n",
              "      <td>21.469999</td>\n",
              "      <td>21.469999</td>\n",
              "      <td>319501600</td>\n",
              "    </tr>\n",
              "    <tr>\n",
              "      <th>2022-12-15</th>\n",
              "      <td>2022-12-15</td>\n",
              "      <td>21.000000</td>\n",
              "      <td>22.370001</td>\n",
              "      <td>20.830000</td>\n",
              "      <td>22.040001</td>\n",
              "      <td>22.040001</td>\n",
              "      <td>132385600</td>\n",
              "    </tr>\n",
              "    <tr>\n",
              "      <th>2022-12-16</th>\n",
              "      <td>2022-12-16</td>\n",
              "      <td>21.959999</td>\n",
              "      <td>22.110001</td>\n",
              "      <td>21.510000</td>\n",
              "      <td>22.049999</td>\n",
              "      <td>22.049999</td>\n",
              "      <td>90767300</td>\n",
              "    </tr>\n",
              "    <tr>\n",
              "      <th>2022-12-19</th>\n",
              "      <td>2022-12-19</td>\n",
              "      <td>22.100000</td>\n",
              "      <td>22.469999</td>\n",
              "      <td>21.639999</td>\n",
              "      <td>22.350000</td>\n",
              "      <td>22.350000</td>\n",
              "      <td>37837300</td>\n",
              "    </tr>\n",
              "  </tbody>\n",
              "</table>\n",
              "<p>5770 rows × 7 columns</p>\n",
              "</div>\n",
              "    <div class=\"colab-df-buttons\">\n",
              "\n",
              "  <div class=\"colab-df-container\">\n",
              "    <button class=\"colab-df-convert\" onclick=\"convertToInteractive('df-0bb04f02-8782-4620-8963-c4c0c90df0c0')\"\n",
              "            title=\"Convert this dataframe to an interactive table.\"\n",
              "            style=\"display:none;\">\n",
              "\n",
              "  <svg xmlns=\"http://www.w3.org/2000/svg\" height=\"24px\" viewBox=\"0 -960 960 960\">\n",
              "    <path d=\"M120-120v-720h720v720H120Zm60-500h600v-160H180v160Zm220 220h160v-160H400v160Zm0 220h160v-160H400v160ZM180-400h160v-160H180v160Zm440 0h160v-160H620v160ZM180-180h160v-160H180v160Zm440 0h160v-160H620v160Z\"/>\n",
              "  </svg>\n",
              "    </button>\n",
              "\n",
              "  <style>\n",
              "    .colab-df-container {\n",
              "      display:flex;\n",
              "      gap: 12px;\n",
              "    }\n",
              "\n",
              "    .colab-df-convert {\n",
              "      background-color: #E8F0FE;\n",
              "      border: none;\n",
              "      border-radius: 50%;\n",
              "      cursor: pointer;\n",
              "      display: none;\n",
              "      fill: #1967D2;\n",
              "      height: 32px;\n",
              "      padding: 0 0 0 0;\n",
              "      width: 32px;\n",
              "    }\n",
              "\n",
              "    .colab-df-convert:hover {\n",
              "      background-color: #E2EBFA;\n",
              "      box-shadow: 0px 1px 2px rgba(60, 64, 67, 0.3), 0px 1px 3px 1px rgba(60, 64, 67, 0.15);\n",
              "      fill: #174EA6;\n",
              "    }\n",
              "\n",
              "    .colab-df-buttons div {\n",
              "      margin-bottom: 4px;\n",
              "    }\n",
              "\n",
              "    [theme=dark] .colab-df-convert {\n",
              "      background-color: #3B4455;\n",
              "      fill: #D2E3FC;\n",
              "    }\n",
              "\n",
              "    [theme=dark] .colab-df-convert:hover {\n",
              "      background-color: #434B5C;\n",
              "      box-shadow: 0px 1px 3px 1px rgba(0, 0, 0, 0.15);\n",
              "      filter: drop-shadow(0px 1px 2px rgba(0, 0, 0, 0.3));\n",
              "      fill: #FFFFFF;\n",
              "    }\n",
              "  </style>\n",
              "\n",
              "    <script>\n",
              "      const buttonEl =\n",
              "        document.querySelector('#df-0bb04f02-8782-4620-8963-c4c0c90df0c0 button.colab-df-convert');\n",
              "      buttonEl.style.display =\n",
              "        google.colab.kernel.accessAllowed ? 'block' : 'none';\n",
              "\n",
              "      async function convertToInteractive(key) {\n",
              "        const element = document.querySelector('#df-0bb04f02-8782-4620-8963-c4c0c90df0c0');\n",
              "        const dataTable =\n",
              "          await google.colab.kernel.invokeFunction('convertToInteractive',\n",
              "                                                    [key], {});\n",
              "        if (!dataTable) return;\n",
              "\n",
              "        const docLinkHtml = 'Like what you see? Visit the ' +\n",
              "          '<a target=\"_blank\" href=https://colab.research.google.com/notebooks/data_table.ipynb>data table notebook</a>'\n",
              "          + ' to learn more about interactive tables.';\n",
              "        element.innerHTML = '';\n",
              "        dataTable['output_type'] = 'display_data';\n",
              "        await google.colab.output.renderOutput(dataTable, element);\n",
              "        const docLink = document.createElement('div');\n",
              "        docLink.innerHTML = docLinkHtml;\n",
              "        element.appendChild(docLink);\n",
              "      }\n",
              "    </script>\n",
              "  </div>\n",
              "\n",
              "\n",
              "<div id=\"df-520c6dff-c17c-420b-9de8-e24798a7ae05\">\n",
              "  <button class=\"colab-df-quickchart\" onclick=\"quickchart('df-520c6dff-c17c-420b-9de8-e24798a7ae05')\"\n",
              "            title=\"Suggest charts.\"\n",
              "            style=\"display:none;\">\n",
              "\n",
              "<svg xmlns=\"http://www.w3.org/2000/svg\" height=\"24px\"viewBox=\"0 0 24 24\"\n",
              "     width=\"24px\">\n",
              "    <g>\n",
              "        <path d=\"M19 3H5c-1.1 0-2 .9-2 2v14c0 1.1.9 2 2 2h14c1.1 0 2-.9 2-2V5c0-1.1-.9-2-2-2zM9 17H7v-7h2v7zm4 0h-2V7h2v10zm4 0h-2v-4h2v4z\"/>\n",
              "    </g>\n",
              "</svg>\n",
              "  </button>\n",
              "\n",
              "<style>\n",
              "  .colab-df-quickchart {\n",
              "      --bg-color: #E8F0FE;\n",
              "      --fill-color: #1967D2;\n",
              "      --hover-bg-color: #E2EBFA;\n",
              "      --hover-fill-color: #174EA6;\n",
              "      --disabled-fill-color: #AAA;\n",
              "      --disabled-bg-color: #DDD;\n",
              "  }\n",
              "\n",
              "  [theme=dark] .colab-df-quickchart {\n",
              "      --bg-color: #3B4455;\n",
              "      --fill-color: #D2E3FC;\n",
              "      --hover-bg-color: #434B5C;\n",
              "      --hover-fill-color: #FFFFFF;\n",
              "      --disabled-bg-color: #3B4455;\n",
              "      --disabled-fill-color: #666;\n",
              "  }\n",
              "\n",
              "  .colab-df-quickchart {\n",
              "    background-color: var(--bg-color);\n",
              "    border: none;\n",
              "    border-radius: 50%;\n",
              "    cursor: pointer;\n",
              "    display: none;\n",
              "    fill: var(--fill-color);\n",
              "    height: 32px;\n",
              "    padding: 0;\n",
              "    width: 32px;\n",
              "  }\n",
              "\n",
              "  .colab-df-quickchart:hover {\n",
              "    background-color: var(--hover-bg-color);\n",
              "    box-shadow: 0 1px 2px rgba(60, 64, 67, 0.3), 0 1px 3px 1px rgba(60, 64, 67, 0.15);\n",
              "    fill: var(--button-hover-fill-color);\n",
              "  }\n",
              "\n",
              "  .colab-df-quickchart-complete:disabled,\n",
              "  .colab-df-quickchart-complete:disabled:hover {\n",
              "    background-color: var(--disabled-bg-color);\n",
              "    fill: var(--disabled-fill-color);\n",
              "    box-shadow: none;\n",
              "  }\n",
              "\n",
              "  .colab-df-spinner {\n",
              "    border: 2px solid var(--fill-color);\n",
              "    border-color: transparent;\n",
              "    border-bottom-color: var(--fill-color);\n",
              "    animation:\n",
              "      spin 1s steps(1) infinite;\n",
              "  }\n",
              "\n",
              "  @keyframes spin {\n",
              "    0% {\n",
              "      border-color: transparent;\n",
              "      border-bottom-color: var(--fill-color);\n",
              "      border-left-color: var(--fill-color);\n",
              "    }\n",
              "    20% {\n",
              "      border-color: transparent;\n",
              "      border-left-color: var(--fill-color);\n",
              "      border-top-color: var(--fill-color);\n",
              "    }\n",
              "    30% {\n",
              "      border-color: transparent;\n",
              "      border-left-color: var(--fill-color);\n",
              "      border-top-color: var(--fill-color);\n",
              "      border-right-color: var(--fill-color);\n",
              "    }\n",
              "    40% {\n",
              "      border-color: transparent;\n",
              "      border-right-color: var(--fill-color);\n",
              "      border-top-color: var(--fill-color);\n",
              "    }\n",
              "    60% {\n",
              "      border-color: transparent;\n",
              "      border-right-color: var(--fill-color);\n",
              "    }\n",
              "    80% {\n",
              "      border-color: transparent;\n",
              "      border-right-color: var(--fill-color);\n",
              "      border-bottom-color: var(--fill-color);\n",
              "    }\n",
              "    90% {\n",
              "      border-color: transparent;\n",
              "      border-bottom-color: var(--fill-color);\n",
              "    }\n",
              "  }\n",
              "</style>\n",
              "\n",
              "  <script>\n",
              "    async function quickchart(key) {\n",
              "      const quickchartButtonEl =\n",
              "        document.querySelector('#' + key + ' button');\n",
              "      quickchartButtonEl.disabled = true;  // To prevent multiple clicks.\n",
              "      quickchartButtonEl.classList.add('colab-df-spinner');\n",
              "      try {\n",
              "        const charts = await google.colab.kernel.invokeFunction(\n",
              "            'suggestCharts', [key], {});\n",
              "      } catch (error) {\n",
              "        console.error('Error during call to suggestCharts:', error);\n",
              "      }\n",
              "      quickchartButtonEl.classList.remove('colab-df-spinner');\n",
              "      quickchartButtonEl.classList.add('colab-df-quickchart-complete');\n",
              "    }\n",
              "    (() => {\n",
              "      let quickchartButtonEl =\n",
              "        document.querySelector('#df-520c6dff-c17c-420b-9de8-e24798a7ae05 button');\n",
              "      quickchartButtonEl.style.display =\n",
              "        google.colab.kernel.accessAllowed ? 'block' : 'none';\n",
              "    })();\n",
              "  </script>\n",
              "</div>\n",
              "    </div>\n",
              "  </div>\n"
            ]
          },
          "metadata": {},
          "execution_count": 24
        }
      ]
    },
    {
      "cell_type": "markdown",
      "source": [
        "Vamos garantir que as operações tenham validade global"
      ],
      "metadata": {
        "id": "tuMRJiZgPKpl"
      }
    },
    {
      "cell_type": "code",
      "source": [
        "petr.drop([\"Date\", 'Volume'], axis = 1, inplace = True)"
      ],
      "metadata": {
        "id": "BogZi8HWPazM"
      },
      "execution_count": 25,
      "outputs": []
    },
    {
      "cell_type": "code",
      "source": [
        "petr"
      ],
      "metadata": {
        "colab": {
          "base_uri": "https://localhost:8080/",
          "height": 455
        },
        "id": "dRHdRH-CPoxh",
        "outputId": "862ced18-accf-4f1c-a063-b988573690dd"
      },
      "execution_count": 26,
      "outputs": [
        {
          "output_type": "execute_result",
          "data": {
            "text/plain": [
              "                 Open       High        Low      Close  Adj Close\n",
              "Date                                                             \n",
              "2000-01-03   5.875000   5.875000   5.875000   5.875000   1.872027\n",
              "2000-01-04   5.550000   5.550000   5.550000   5.550000   1.768469\n",
              "2000-01-05   5.494000   5.494000   5.494000   5.494000   1.750625\n",
              "2000-01-06   5.475000   5.475000   5.475000   5.475000   1.744570\n",
              "2000-01-07   5.500000   5.500000   5.500000   5.500000   1.752536\n",
              "...               ...        ...        ...        ...        ...\n",
              "2022-12-13  24.100000  24.200001  23.309999  23.320000  23.320000\n",
              "2022-12-14  22.500000  22.600000  20.770000  21.469999  21.469999\n",
              "2022-12-15  21.000000  22.370001  20.830000  22.040001  22.040001\n",
              "2022-12-16  21.959999  22.110001  21.510000  22.049999  22.049999\n",
              "2022-12-19  22.100000  22.469999  21.639999  22.350000  22.350000\n",
              "\n",
              "[5770 rows x 5 columns]"
            ],
            "text/html": [
              "\n",
              "  <div id=\"df-eafea78f-655a-462d-b6ca-80f0a8663dbc\" class=\"colab-df-container\">\n",
              "    <div>\n",
              "<style scoped>\n",
              "    .dataframe tbody tr th:only-of-type {\n",
              "        vertical-align: middle;\n",
              "    }\n",
              "\n",
              "    .dataframe tbody tr th {\n",
              "        vertical-align: top;\n",
              "    }\n",
              "\n",
              "    .dataframe thead th {\n",
              "        text-align: right;\n",
              "    }\n",
              "</style>\n",
              "<table border=\"1\" class=\"dataframe\">\n",
              "  <thead>\n",
              "    <tr style=\"text-align: right;\">\n",
              "      <th></th>\n",
              "      <th>Open</th>\n",
              "      <th>High</th>\n",
              "      <th>Low</th>\n",
              "      <th>Close</th>\n",
              "      <th>Adj Close</th>\n",
              "    </tr>\n",
              "    <tr>\n",
              "      <th>Date</th>\n",
              "      <th></th>\n",
              "      <th></th>\n",
              "      <th></th>\n",
              "      <th></th>\n",
              "      <th></th>\n",
              "    </tr>\n",
              "  </thead>\n",
              "  <tbody>\n",
              "    <tr>\n",
              "      <th>2000-01-03</th>\n",
              "      <td>5.875000</td>\n",
              "      <td>5.875000</td>\n",
              "      <td>5.875000</td>\n",
              "      <td>5.875000</td>\n",
              "      <td>1.872027</td>\n",
              "    </tr>\n",
              "    <tr>\n",
              "      <th>2000-01-04</th>\n",
              "      <td>5.550000</td>\n",
              "      <td>5.550000</td>\n",
              "      <td>5.550000</td>\n",
              "      <td>5.550000</td>\n",
              "      <td>1.768469</td>\n",
              "    </tr>\n",
              "    <tr>\n",
              "      <th>2000-01-05</th>\n",
              "      <td>5.494000</td>\n",
              "      <td>5.494000</td>\n",
              "      <td>5.494000</td>\n",
              "      <td>5.494000</td>\n",
              "      <td>1.750625</td>\n",
              "    </tr>\n",
              "    <tr>\n",
              "      <th>2000-01-06</th>\n",
              "      <td>5.475000</td>\n",
              "      <td>5.475000</td>\n",
              "      <td>5.475000</td>\n",
              "      <td>5.475000</td>\n",
              "      <td>1.744570</td>\n",
              "    </tr>\n",
              "    <tr>\n",
              "      <th>2000-01-07</th>\n",
              "      <td>5.500000</td>\n",
              "      <td>5.500000</td>\n",
              "      <td>5.500000</td>\n",
              "      <td>5.500000</td>\n",
              "      <td>1.752536</td>\n",
              "    </tr>\n",
              "    <tr>\n",
              "      <th>...</th>\n",
              "      <td>...</td>\n",
              "      <td>...</td>\n",
              "      <td>...</td>\n",
              "      <td>...</td>\n",
              "      <td>...</td>\n",
              "    </tr>\n",
              "    <tr>\n",
              "      <th>2022-12-13</th>\n",
              "      <td>24.100000</td>\n",
              "      <td>24.200001</td>\n",
              "      <td>23.309999</td>\n",
              "      <td>23.320000</td>\n",
              "      <td>23.320000</td>\n",
              "    </tr>\n",
              "    <tr>\n",
              "      <th>2022-12-14</th>\n",
              "      <td>22.500000</td>\n",
              "      <td>22.600000</td>\n",
              "      <td>20.770000</td>\n",
              "      <td>21.469999</td>\n",
              "      <td>21.469999</td>\n",
              "    </tr>\n",
              "    <tr>\n",
              "      <th>2022-12-15</th>\n",
              "      <td>21.000000</td>\n",
              "      <td>22.370001</td>\n",
              "      <td>20.830000</td>\n",
              "      <td>22.040001</td>\n",
              "      <td>22.040001</td>\n",
              "    </tr>\n",
              "    <tr>\n",
              "      <th>2022-12-16</th>\n",
              "      <td>21.959999</td>\n",
              "      <td>22.110001</td>\n",
              "      <td>21.510000</td>\n",
              "      <td>22.049999</td>\n",
              "      <td>22.049999</td>\n",
              "    </tr>\n",
              "    <tr>\n",
              "      <th>2022-12-19</th>\n",
              "      <td>22.100000</td>\n",
              "      <td>22.469999</td>\n",
              "      <td>21.639999</td>\n",
              "      <td>22.350000</td>\n",
              "      <td>22.350000</td>\n",
              "    </tr>\n",
              "  </tbody>\n",
              "</table>\n",
              "<p>5770 rows × 5 columns</p>\n",
              "</div>\n",
              "    <div class=\"colab-df-buttons\">\n",
              "\n",
              "  <div class=\"colab-df-container\">\n",
              "    <button class=\"colab-df-convert\" onclick=\"convertToInteractive('df-eafea78f-655a-462d-b6ca-80f0a8663dbc')\"\n",
              "            title=\"Convert this dataframe to an interactive table.\"\n",
              "            style=\"display:none;\">\n",
              "\n",
              "  <svg xmlns=\"http://www.w3.org/2000/svg\" height=\"24px\" viewBox=\"0 -960 960 960\">\n",
              "    <path d=\"M120-120v-720h720v720H120Zm60-500h600v-160H180v160Zm220 220h160v-160H400v160Zm0 220h160v-160H400v160ZM180-400h160v-160H180v160Zm440 0h160v-160H620v160ZM180-180h160v-160H180v160Zm440 0h160v-160H620v160Z\"/>\n",
              "  </svg>\n",
              "    </button>\n",
              "\n",
              "  <style>\n",
              "    .colab-df-container {\n",
              "      display:flex;\n",
              "      gap: 12px;\n",
              "    }\n",
              "\n",
              "    .colab-df-convert {\n",
              "      background-color: #E8F0FE;\n",
              "      border: none;\n",
              "      border-radius: 50%;\n",
              "      cursor: pointer;\n",
              "      display: none;\n",
              "      fill: #1967D2;\n",
              "      height: 32px;\n",
              "      padding: 0 0 0 0;\n",
              "      width: 32px;\n",
              "    }\n",
              "\n",
              "    .colab-df-convert:hover {\n",
              "      background-color: #E2EBFA;\n",
              "      box-shadow: 0px 1px 2px rgba(60, 64, 67, 0.3), 0px 1px 3px 1px rgba(60, 64, 67, 0.15);\n",
              "      fill: #174EA6;\n",
              "    }\n",
              "\n",
              "    .colab-df-buttons div {\n",
              "      margin-bottom: 4px;\n",
              "    }\n",
              "\n",
              "    [theme=dark] .colab-df-convert {\n",
              "      background-color: #3B4455;\n",
              "      fill: #D2E3FC;\n",
              "    }\n",
              "\n",
              "    [theme=dark] .colab-df-convert:hover {\n",
              "      background-color: #434B5C;\n",
              "      box-shadow: 0px 1px 3px 1px rgba(0, 0, 0, 0.15);\n",
              "      filter: drop-shadow(0px 1px 2px rgba(0, 0, 0, 0.3));\n",
              "      fill: #FFFFFF;\n",
              "    }\n",
              "  </style>\n",
              "\n",
              "    <script>\n",
              "      const buttonEl =\n",
              "        document.querySelector('#df-eafea78f-655a-462d-b6ca-80f0a8663dbc button.colab-df-convert');\n",
              "      buttonEl.style.display =\n",
              "        google.colab.kernel.accessAllowed ? 'block' : 'none';\n",
              "\n",
              "      async function convertToInteractive(key) {\n",
              "        const element = document.querySelector('#df-eafea78f-655a-462d-b6ca-80f0a8663dbc');\n",
              "        const dataTable =\n",
              "          await google.colab.kernel.invokeFunction('convertToInteractive',\n",
              "                                                    [key], {});\n",
              "        if (!dataTable) return;\n",
              "\n",
              "        const docLinkHtml = 'Like what you see? Visit the ' +\n",
              "          '<a target=\"_blank\" href=https://colab.research.google.com/notebooks/data_table.ipynb>data table notebook</a>'\n",
              "          + ' to learn more about interactive tables.';\n",
              "        element.innerHTML = '';\n",
              "        dataTable['output_type'] = 'display_data';\n",
              "        await google.colab.output.renderOutput(dataTable, element);\n",
              "        const docLink = document.createElement('div');\n",
              "        docLink.innerHTML = docLinkHtml;\n",
              "        element.appendChild(docLink);\n",
              "      }\n",
              "    </script>\n",
              "  </div>\n",
              "\n",
              "\n",
              "<div id=\"df-16457062-b79f-46b7-be26-b30fdf44d33a\">\n",
              "  <button class=\"colab-df-quickchart\" onclick=\"quickchart('df-16457062-b79f-46b7-be26-b30fdf44d33a')\"\n",
              "            title=\"Suggest charts.\"\n",
              "            style=\"display:none;\">\n",
              "\n",
              "<svg xmlns=\"http://www.w3.org/2000/svg\" height=\"24px\"viewBox=\"0 0 24 24\"\n",
              "     width=\"24px\">\n",
              "    <g>\n",
              "        <path d=\"M19 3H5c-1.1 0-2 .9-2 2v14c0 1.1.9 2 2 2h14c1.1 0 2-.9 2-2V5c0-1.1-.9-2-2-2zM9 17H7v-7h2v7zm4 0h-2V7h2v10zm4 0h-2v-4h2v4z\"/>\n",
              "    </g>\n",
              "</svg>\n",
              "  </button>\n",
              "\n",
              "<style>\n",
              "  .colab-df-quickchart {\n",
              "      --bg-color: #E8F0FE;\n",
              "      --fill-color: #1967D2;\n",
              "      --hover-bg-color: #E2EBFA;\n",
              "      --hover-fill-color: #174EA6;\n",
              "      --disabled-fill-color: #AAA;\n",
              "      --disabled-bg-color: #DDD;\n",
              "  }\n",
              "\n",
              "  [theme=dark] .colab-df-quickchart {\n",
              "      --bg-color: #3B4455;\n",
              "      --fill-color: #D2E3FC;\n",
              "      --hover-bg-color: #434B5C;\n",
              "      --hover-fill-color: #FFFFFF;\n",
              "      --disabled-bg-color: #3B4455;\n",
              "      --disabled-fill-color: #666;\n",
              "  }\n",
              "\n",
              "  .colab-df-quickchart {\n",
              "    background-color: var(--bg-color);\n",
              "    border: none;\n",
              "    border-radius: 50%;\n",
              "    cursor: pointer;\n",
              "    display: none;\n",
              "    fill: var(--fill-color);\n",
              "    height: 32px;\n",
              "    padding: 0;\n",
              "    width: 32px;\n",
              "  }\n",
              "\n",
              "  .colab-df-quickchart:hover {\n",
              "    background-color: var(--hover-bg-color);\n",
              "    box-shadow: 0 1px 2px rgba(60, 64, 67, 0.3), 0 1px 3px 1px rgba(60, 64, 67, 0.15);\n",
              "    fill: var(--button-hover-fill-color);\n",
              "  }\n",
              "\n",
              "  .colab-df-quickchart-complete:disabled,\n",
              "  .colab-df-quickchart-complete:disabled:hover {\n",
              "    background-color: var(--disabled-bg-color);\n",
              "    fill: var(--disabled-fill-color);\n",
              "    box-shadow: none;\n",
              "  }\n",
              "\n",
              "  .colab-df-spinner {\n",
              "    border: 2px solid var(--fill-color);\n",
              "    border-color: transparent;\n",
              "    border-bottom-color: var(--fill-color);\n",
              "    animation:\n",
              "      spin 1s steps(1) infinite;\n",
              "  }\n",
              "\n",
              "  @keyframes spin {\n",
              "    0% {\n",
              "      border-color: transparent;\n",
              "      border-bottom-color: var(--fill-color);\n",
              "      border-left-color: var(--fill-color);\n",
              "    }\n",
              "    20% {\n",
              "      border-color: transparent;\n",
              "      border-left-color: var(--fill-color);\n",
              "      border-top-color: var(--fill-color);\n",
              "    }\n",
              "    30% {\n",
              "      border-color: transparent;\n",
              "      border-left-color: var(--fill-color);\n",
              "      border-top-color: var(--fill-color);\n",
              "      border-right-color: var(--fill-color);\n",
              "    }\n",
              "    40% {\n",
              "      border-color: transparent;\n",
              "      border-right-color: var(--fill-color);\n",
              "      border-top-color: var(--fill-color);\n",
              "    }\n",
              "    60% {\n",
              "      border-color: transparent;\n",
              "      border-right-color: var(--fill-color);\n",
              "    }\n",
              "    80% {\n",
              "      border-color: transparent;\n",
              "      border-right-color: var(--fill-color);\n",
              "      border-bottom-color: var(--fill-color);\n",
              "    }\n",
              "    90% {\n",
              "      border-color: transparent;\n",
              "      border-bottom-color: var(--fill-color);\n",
              "    }\n",
              "  }\n",
              "</style>\n",
              "\n",
              "  <script>\n",
              "    async function quickchart(key) {\n",
              "      const quickchartButtonEl =\n",
              "        document.querySelector('#' + key + ' button');\n",
              "      quickchartButtonEl.disabled = true;  // To prevent multiple clicks.\n",
              "      quickchartButtonEl.classList.add('colab-df-spinner');\n",
              "      try {\n",
              "        const charts = await google.colab.kernel.invokeFunction(\n",
              "            'suggestCharts', [key], {});\n",
              "      } catch (error) {\n",
              "        console.error('Error during call to suggestCharts:', error);\n",
              "      }\n",
              "      quickchartButtonEl.classList.remove('colab-df-spinner');\n",
              "      quickchartButtonEl.classList.add('colab-df-quickchart-complete');\n",
              "    }\n",
              "    (() => {\n",
              "      let quickchartButtonEl =\n",
              "        document.querySelector('#df-16457062-b79f-46b7-be26-b30fdf44d33a button');\n",
              "      quickchartButtonEl.style.display =\n",
              "        google.colab.kernel.accessAllowed ? 'block' : 'none';\n",
              "    })();\n",
              "  </script>\n",
              "</div>\n",
              "    </div>\n",
              "  </div>\n"
            ]
          },
          "metadata": {},
          "execution_count": 26
        }
      ]
    },
    {
      "cell_type": "markdown",
      "source": [
        "Agora chegaremos ao mesmo objetivo mas de outra forma. Essa é uma das muitas belezas da programação\n",
        "\n",
        "Carregando novamente para o index original"
      ],
      "metadata": {
        "id": "uVwGTcD9Rvl9"
      }
    },
    {
      "cell_type": "code",
      "source": [
        "petr = pd.read_csv('PETR4.csv')"
      ],
      "metadata": {
        "id": "P92OjENZSHQ4"
      },
      "execution_count": 27,
      "outputs": []
    },
    {
      "cell_type": "code",
      "source": [
        "petr"
      ],
      "metadata": {
        "colab": {
          "base_uri": "https://localhost:8080/",
          "height": 423
        },
        "id": "z4gSbQElSMoF",
        "outputId": "b4841763-5530-45e0-e086-c350187b2c43"
      },
      "execution_count": 28,
      "outputs": [
        {
          "output_type": "execute_result",
          "data": {
            "text/plain": [
              "            Date       Open       High        Low      Close  Adj Close  \\\n",
              "0     2000-01-03   5.875000   5.875000   5.875000   5.875000   1.872027   \n",
              "1     2000-01-04   5.550000   5.550000   5.550000   5.550000   1.768469   \n",
              "2     2000-01-05   5.494000   5.494000   5.494000   5.494000   1.750625   \n",
              "3     2000-01-06   5.475000   5.475000   5.475000   5.475000   1.744570   \n",
              "4     2000-01-07   5.500000   5.500000   5.500000   5.500000   1.752536   \n",
              "...          ...        ...        ...        ...        ...        ...   \n",
              "5765  2022-12-13  24.100000  24.200001  23.309999  23.320000  23.320000   \n",
              "5766  2022-12-14  22.500000  22.600000  20.770000  21.469999  21.469999   \n",
              "5767  2022-12-15  21.000000  22.370001  20.830000  22.040001  22.040001   \n",
              "5768  2022-12-16  21.959999  22.110001  21.510000  22.049999  22.049999   \n",
              "5769  2022-12-19  22.100000  22.469999  21.639999  22.350000  22.350000   \n",
              "\n",
              "           Volume  \n",
              "0     35389440000  \n",
              "1     28861440000  \n",
              "2     43033600000  \n",
              "3     34055680000  \n",
              "4     20912640000  \n",
              "...           ...  \n",
              "5765    102533100  \n",
              "5766    319501600  \n",
              "5767    132385600  \n",
              "5768     90767300  \n",
              "5769     37837300  \n",
              "\n",
              "[5770 rows x 7 columns]"
            ],
            "text/html": [
              "\n",
              "  <div id=\"df-a7b353bb-dd4a-4328-86fb-0a6306ae8179\" class=\"colab-df-container\">\n",
              "    <div>\n",
              "<style scoped>\n",
              "    .dataframe tbody tr th:only-of-type {\n",
              "        vertical-align: middle;\n",
              "    }\n",
              "\n",
              "    .dataframe tbody tr th {\n",
              "        vertical-align: top;\n",
              "    }\n",
              "\n",
              "    .dataframe thead th {\n",
              "        text-align: right;\n",
              "    }\n",
              "</style>\n",
              "<table border=\"1\" class=\"dataframe\">\n",
              "  <thead>\n",
              "    <tr style=\"text-align: right;\">\n",
              "      <th></th>\n",
              "      <th>Date</th>\n",
              "      <th>Open</th>\n",
              "      <th>High</th>\n",
              "      <th>Low</th>\n",
              "      <th>Close</th>\n",
              "      <th>Adj Close</th>\n",
              "      <th>Volume</th>\n",
              "    </tr>\n",
              "  </thead>\n",
              "  <tbody>\n",
              "    <tr>\n",
              "      <th>0</th>\n",
              "      <td>2000-01-03</td>\n",
              "      <td>5.875000</td>\n",
              "      <td>5.875000</td>\n",
              "      <td>5.875000</td>\n",
              "      <td>5.875000</td>\n",
              "      <td>1.872027</td>\n",
              "      <td>35389440000</td>\n",
              "    </tr>\n",
              "    <tr>\n",
              "      <th>1</th>\n",
              "      <td>2000-01-04</td>\n",
              "      <td>5.550000</td>\n",
              "      <td>5.550000</td>\n",
              "      <td>5.550000</td>\n",
              "      <td>5.550000</td>\n",
              "      <td>1.768469</td>\n",
              "      <td>28861440000</td>\n",
              "    </tr>\n",
              "    <tr>\n",
              "      <th>2</th>\n",
              "      <td>2000-01-05</td>\n",
              "      <td>5.494000</td>\n",
              "      <td>5.494000</td>\n",
              "      <td>5.494000</td>\n",
              "      <td>5.494000</td>\n",
              "      <td>1.750625</td>\n",
              "      <td>43033600000</td>\n",
              "    </tr>\n",
              "    <tr>\n",
              "      <th>3</th>\n",
              "      <td>2000-01-06</td>\n",
              "      <td>5.475000</td>\n",
              "      <td>5.475000</td>\n",
              "      <td>5.475000</td>\n",
              "      <td>5.475000</td>\n",
              "      <td>1.744570</td>\n",
              "      <td>34055680000</td>\n",
              "    </tr>\n",
              "    <tr>\n",
              "      <th>4</th>\n",
              "      <td>2000-01-07</td>\n",
              "      <td>5.500000</td>\n",
              "      <td>5.500000</td>\n",
              "      <td>5.500000</td>\n",
              "      <td>5.500000</td>\n",
              "      <td>1.752536</td>\n",
              "      <td>20912640000</td>\n",
              "    </tr>\n",
              "    <tr>\n",
              "      <th>...</th>\n",
              "      <td>...</td>\n",
              "      <td>...</td>\n",
              "      <td>...</td>\n",
              "      <td>...</td>\n",
              "      <td>...</td>\n",
              "      <td>...</td>\n",
              "      <td>...</td>\n",
              "    </tr>\n",
              "    <tr>\n",
              "      <th>5765</th>\n",
              "      <td>2022-12-13</td>\n",
              "      <td>24.100000</td>\n",
              "      <td>24.200001</td>\n",
              "      <td>23.309999</td>\n",
              "      <td>23.320000</td>\n",
              "      <td>23.320000</td>\n",
              "      <td>102533100</td>\n",
              "    </tr>\n",
              "    <tr>\n",
              "      <th>5766</th>\n",
              "      <td>2022-12-14</td>\n",
              "      <td>22.500000</td>\n",
              "      <td>22.600000</td>\n",
              "      <td>20.770000</td>\n",
              "      <td>21.469999</td>\n",
              "      <td>21.469999</td>\n",
              "      <td>319501600</td>\n",
              "    </tr>\n",
              "    <tr>\n",
              "      <th>5767</th>\n",
              "      <td>2022-12-15</td>\n",
              "      <td>21.000000</td>\n",
              "      <td>22.370001</td>\n",
              "      <td>20.830000</td>\n",
              "      <td>22.040001</td>\n",
              "      <td>22.040001</td>\n",
              "      <td>132385600</td>\n",
              "    </tr>\n",
              "    <tr>\n",
              "      <th>5768</th>\n",
              "      <td>2022-12-16</td>\n",
              "      <td>21.959999</td>\n",
              "      <td>22.110001</td>\n",
              "      <td>21.510000</td>\n",
              "      <td>22.049999</td>\n",
              "      <td>22.049999</td>\n",
              "      <td>90767300</td>\n",
              "    </tr>\n",
              "    <tr>\n",
              "      <th>5769</th>\n",
              "      <td>2022-12-19</td>\n",
              "      <td>22.100000</td>\n",
              "      <td>22.469999</td>\n",
              "      <td>21.639999</td>\n",
              "      <td>22.350000</td>\n",
              "      <td>22.350000</td>\n",
              "      <td>37837300</td>\n",
              "    </tr>\n",
              "  </tbody>\n",
              "</table>\n",
              "<p>5770 rows × 7 columns</p>\n",
              "</div>\n",
              "    <div class=\"colab-df-buttons\">\n",
              "\n",
              "  <div class=\"colab-df-container\">\n",
              "    <button class=\"colab-df-convert\" onclick=\"convertToInteractive('df-a7b353bb-dd4a-4328-86fb-0a6306ae8179')\"\n",
              "            title=\"Convert this dataframe to an interactive table.\"\n",
              "            style=\"display:none;\">\n",
              "\n",
              "  <svg xmlns=\"http://www.w3.org/2000/svg\" height=\"24px\" viewBox=\"0 -960 960 960\">\n",
              "    <path d=\"M120-120v-720h720v720H120Zm60-500h600v-160H180v160Zm220 220h160v-160H400v160Zm0 220h160v-160H400v160ZM180-400h160v-160H180v160Zm440 0h160v-160H620v160ZM180-180h160v-160H180v160Zm440 0h160v-160H620v160Z\"/>\n",
              "  </svg>\n",
              "    </button>\n",
              "\n",
              "  <style>\n",
              "    .colab-df-container {\n",
              "      display:flex;\n",
              "      gap: 12px;\n",
              "    }\n",
              "\n",
              "    .colab-df-convert {\n",
              "      background-color: #E8F0FE;\n",
              "      border: none;\n",
              "      border-radius: 50%;\n",
              "      cursor: pointer;\n",
              "      display: none;\n",
              "      fill: #1967D2;\n",
              "      height: 32px;\n",
              "      padding: 0 0 0 0;\n",
              "      width: 32px;\n",
              "    }\n",
              "\n",
              "    .colab-df-convert:hover {\n",
              "      background-color: #E2EBFA;\n",
              "      box-shadow: 0px 1px 2px rgba(60, 64, 67, 0.3), 0px 1px 3px 1px rgba(60, 64, 67, 0.15);\n",
              "      fill: #174EA6;\n",
              "    }\n",
              "\n",
              "    .colab-df-buttons div {\n",
              "      margin-bottom: 4px;\n",
              "    }\n",
              "\n",
              "    [theme=dark] .colab-df-convert {\n",
              "      background-color: #3B4455;\n",
              "      fill: #D2E3FC;\n",
              "    }\n",
              "\n",
              "    [theme=dark] .colab-df-convert:hover {\n",
              "      background-color: #434B5C;\n",
              "      box-shadow: 0px 1px 3px 1px rgba(0, 0, 0, 0.15);\n",
              "      filter: drop-shadow(0px 1px 2px rgba(0, 0, 0, 0.3));\n",
              "      fill: #FFFFFF;\n",
              "    }\n",
              "  </style>\n",
              "\n",
              "    <script>\n",
              "      const buttonEl =\n",
              "        document.querySelector('#df-a7b353bb-dd4a-4328-86fb-0a6306ae8179 button.colab-df-convert');\n",
              "      buttonEl.style.display =\n",
              "        google.colab.kernel.accessAllowed ? 'block' : 'none';\n",
              "\n",
              "      async function convertToInteractive(key) {\n",
              "        const element = document.querySelector('#df-a7b353bb-dd4a-4328-86fb-0a6306ae8179');\n",
              "        const dataTable =\n",
              "          await google.colab.kernel.invokeFunction('convertToInteractive',\n",
              "                                                    [key], {});\n",
              "        if (!dataTable) return;\n",
              "\n",
              "        const docLinkHtml = 'Like what you see? Visit the ' +\n",
              "          '<a target=\"_blank\" href=https://colab.research.google.com/notebooks/data_table.ipynb>data table notebook</a>'\n",
              "          + ' to learn more about interactive tables.';\n",
              "        element.innerHTML = '';\n",
              "        dataTable['output_type'] = 'display_data';\n",
              "        await google.colab.output.renderOutput(dataTable, element);\n",
              "        const docLink = document.createElement('div');\n",
              "        docLink.innerHTML = docLinkHtml;\n",
              "        element.appendChild(docLink);\n",
              "      }\n",
              "    </script>\n",
              "  </div>\n",
              "\n",
              "\n",
              "<div id=\"df-d45e5395-587f-48f0-84cb-e4a105b2aa63\">\n",
              "  <button class=\"colab-df-quickchart\" onclick=\"quickchart('df-d45e5395-587f-48f0-84cb-e4a105b2aa63')\"\n",
              "            title=\"Suggest charts.\"\n",
              "            style=\"display:none;\">\n",
              "\n",
              "<svg xmlns=\"http://www.w3.org/2000/svg\" height=\"24px\"viewBox=\"0 0 24 24\"\n",
              "     width=\"24px\">\n",
              "    <g>\n",
              "        <path d=\"M19 3H5c-1.1 0-2 .9-2 2v14c0 1.1.9 2 2 2h14c1.1 0 2-.9 2-2V5c0-1.1-.9-2-2-2zM9 17H7v-7h2v7zm4 0h-2V7h2v10zm4 0h-2v-4h2v4z\"/>\n",
              "    </g>\n",
              "</svg>\n",
              "  </button>\n",
              "\n",
              "<style>\n",
              "  .colab-df-quickchart {\n",
              "      --bg-color: #E8F0FE;\n",
              "      --fill-color: #1967D2;\n",
              "      --hover-bg-color: #E2EBFA;\n",
              "      --hover-fill-color: #174EA6;\n",
              "      --disabled-fill-color: #AAA;\n",
              "      --disabled-bg-color: #DDD;\n",
              "  }\n",
              "\n",
              "  [theme=dark] .colab-df-quickchart {\n",
              "      --bg-color: #3B4455;\n",
              "      --fill-color: #D2E3FC;\n",
              "      --hover-bg-color: #434B5C;\n",
              "      --hover-fill-color: #FFFFFF;\n",
              "      --disabled-bg-color: #3B4455;\n",
              "      --disabled-fill-color: #666;\n",
              "  }\n",
              "\n",
              "  .colab-df-quickchart {\n",
              "    background-color: var(--bg-color);\n",
              "    border: none;\n",
              "    border-radius: 50%;\n",
              "    cursor: pointer;\n",
              "    display: none;\n",
              "    fill: var(--fill-color);\n",
              "    height: 32px;\n",
              "    padding: 0;\n",
              "    width: 32px;\n",
              "  }\n",
              "\n",
              "  .colab-df-quickchart:hover {\n",
              "    background-color: var(--hover-bg-color);\n",
              "    box-shadow: 0 1px 2px rgba(60, 64, 67, 0.3), 0 1px 3px 1px rgba(60, 64, 67, 0.15);\n",
              "    fill: var(--button-hover-fill-color);\n",
              "  }\n",
              "\n",
              "  .colab-df-quickchart-complete:disabled,\n",
              "  .colab-df-quickchart-complete:disabled:hover {\n",
              "    background-color: var(--disabled-bg-color);\n",
              "    fill: var(--disabled-fill-color);\n",
              "    box-shadow: none;\n",
              "  }\n",
              "\n",
              "  .colab-df-spinner {\n",
              "    border: 2px solid var(--fill-color);\n",
              "    border-color: transparent;\n",
              "    border-bottom-color: var(--fill-color);\n",
              "    animation:\n",
              "      spin 1s steps(1) infinite;\n",
              "  }\n",
              "\n",
              "  @keyframes spin {\n",
              "    0% {\n",
              "      border-color: transparent;\n",
              "      border-bottom-color: var(--fill-color);\n",
              "      border-left-color: var(--fill-color);\n",
              "    }\n",
              "    20% {\n",
              "      border-color: transparent;\n",
              "      border-left-color: var(--fill-color);\n",
              "      border-top-color: var(--fill-color);\n",
              "    }\n",
              "    30% {\n",
              "      border-color: transparent;\n",
              "      border-left-color: var(--fill-color);\n",
              "      border-top-color: var(--fill-color);\n",
              "      border-right-color: var(--fill-color);\n",
              "    }\n",
              "    40% {\n",
              "      border-color: transparent;\n",
              "      border-right-color: var(--fill-color);\n",
              "      border-top-color: var(--fill-color);\n",
              "    }\n",
              "    60% {\n",
              "      border-color: transparent;\n",
              "      border-right-color: var(--fill-color);\n",
              "    }\n",
              "    80% {\n",
              "      border-color: transparent;\n",
              "      border-right-color: var(--fill-color);\n",
              "      border-bottom-color: var(--fill-color);\n",
              "    }\n",
              "    90% {\n",
              "      border-color: transparent;\n",
              "      border-bottom-color: var(--fill-color);\n",
              "    }\n",
              "  }\n",
              "</style>\n",
              "\n",
              "  <script>\n",
              "    async function quickchart(key) {\n",
              "      const quickchartButtonEl =\n",
              "        document.querySelector('#' + key + ' button');\n",
              "      quickchartButtonEl.disabled = true;  // To prevent multiple clicks.\n",
              "      quickchartButtonEl.classList.add('colab-df-spinner');\n",
              "      try {\n",
              "        const charts = await google.colab.kernel.invokeFunction(\n",
              "            'suggestCharts', [key], {});\n",
              "      } catch (error) {\n",
              "        console.error('Error during call to suggestCharts:', error);\n",
              "      }\n",
              "      quickchartButtonEl.classList.remove('colab-df-spinner');\n",
              "      quickchartButtonEl.classList.add('colab-df-quickchart-complete');\n",
              "    }\n",
              "    (() => {\n",
              "      let quickchartButtonEl =\n",
              "        document.querySelector('#df-d45e5395-587f-48f0-84cb-e4a105b2aa63 button');\n",
              "      quickchartButtonEl.style.display =\n",
              "        google.colab.kernel.accessAllowed ? 'block' : 'none';\n",
              "    })();\n",
              "  </script>\n",
              "</div>\n",
              "    </div>\n",
              "  </div>\n"
            ]
          },
          "metadata": {},
          "execution_count": 28
        }
      ]
    },
    {
      "cell_type": "code",
      "source": [
        "petr = petr.set_index('Date')"
      ],
      "metadata": {
        "id": "7U_XIBrsSNec"
      },
      "execution_count": 29,
      "outputs": []
    },
    {
      "cell_type": "code",
      "source": [
        "petr"
      ],
      "metadata": {
        "colab": {
          "base_uri": "https://localhost:8080/",
          "height": 455
        },
        "id": "lMyui-bJSftM",
        "outputId": "16f9bacb-6361-400f-b536-d686a1b4f9c3"
      },
      "execution_count": 30,
      "outputs": [
        {
          "output_type": "execute_result",
          "data": {
            "text/plain": [
              "                 Open       High        Low      Close  Adj Close       Volume\n",
              "Date                                                                          \n",
              "2000-01-03   5.875000   5.875000   5.875000   5.875000   1.872027  35389440000\n",
              "2000-01-04   5.550000   5.550000   5.550000   5.550000   1.768469  28861440000\n",
              "2000-01-05   5.494000   5.494000   5.494000   5.494000   1.750625  43033600000\n",
              "2000-01-06   5.475000   5.475000   5.475000   5.475000   1.744570  34055680000\n",
              "2000-01-07   5.500000   5.500000   5.500000   5.500000   1.752536  20912640000\n",
              "...               ...        ...        ...        ...        ...          ...\n",
              "2022-12-13  24.100000  24.200001  23.309999  23.320000  23.320000    102533100\n",
              "2022-12-14  22.500000  22.600000  20.770000  21.469999  21.469999    319501600\n",
              "2022-12-15  21.000000  22.370001  20.830000  22.040001  22.040001    132385600\n",
              "2022-12-16  21.959999  22.110001  21.510000  22.049999  22.049999     90767300\n",
              "2022-12-19  22.100000  22.469999  21.639999  22.350000  22.350000     37837300\n",
              "\n",
              "[5770 rows x 6 columns]"
            ],
            "text/html": [
              "\n",
              "  <div id=\"df-c73a0329-02d0-4d64-ba9f-b98a6376396c\" class=\"colab-df-container\">\n",
              "    <div>\n",
              "<style scoped>\n",
              "    .dataframe tbody tr th:only-of-type {\n",
              "        vertical-align: middle;\n",
              "    }\n",
              "\n",
              "    .dataframe tbody tr th {\n",
              "        vertical-align: top;\n",
              "    }\n",
              "\n",
              "    .dataframe thead th {\n",
              "        text-align: right;\n",
              "    }\n",
              "</style>\n",
              "<table border=\"1\" class=\"dataframe\">\n",
              "  <thead>\n",
              "    <tr style=\"text-align: right;\">\n",
              "      <th></th>\n",
              "      <th>Open</th>\n",
              "      <th>High</th>\n",
              "      <th>Low</th>\n",
              "      <th>Close</th>\n",
              "      <th>Adj Close</th>\n",
              "      <th>Volume</th>\n",
              "    </tr>\n",
              "    <tr>\n",
              "      <th>Date</th>\n",
              "      <th></th>\n",
              "      <th></th>\n",
              "      <th></th>\n",
              "      <th></th>\n",
              "      <th></th>\n",
              "      <th></th>\n",
              "    </tr>\n",
              "  </thead>\n",
              "  <tbody>\n",
              "    <tr>\n",
              "      <th>2000-01-03</th>\n",
              "      <td>5.875000</td>\n",
              "      <td>5.875000</td>\n",
              "      <td>5.875000</td>\n",
              "      <td>5.875000</td>\n",
              "      <td>1.872027</td>\n",
              "      <td>35389440000</td>\n",
              "    </tr>\n",
              "    <tr>\n",
              "      <th>2000-01-04</th>\n",
              "      <td>5.550000</td>\n",
              "      <td>5.550000</td>\n",
              "      <td>5.550000</td>\n",
              "      <td>5.550000</td>\n",
              "      <td>1.768469</td>\n",
              "      <td>28861440000</td>\n",
              "    </tr>\n",
              "    <tr>\n",
              "      <th>2000-01-05</th>\n",
              "      <td>5.494000</td>\n",
              "      <td>5.494000</td>\n",
              "      <td>5.494000</td>\n",
              "      <td>5.494000</td>\n",
              "      <td>1.750625</td>\n",
              "      <td>43033600000</td>\n",
              "    </tr>\n",
              "    <tr>\n",
              "      <th>2000-01-06</th>\n",
              "      <td>5.475000</td>\n",
              "      <td>5.475000</td>\n",
              "      <td>5.475000</td>\n",
              "      <td>5.475000</td>\n",
              "      <td>1.744570</td>\n",
              "      <td>34055680000</td>\n",
              "    </tr>\n",
              "    <tr>\n",
              "      <th>2000-01-07</th>\n",
              "      <td>5.500000</td>\n",
              "      <td>5.500000</td>\n",
              "      <td>5.500000</td>\n",
              "      <td>5.500000</td>\n",
              "      <td>1.752536</td>\n",
              "      <td>20912640000</td>\n",
              "    </tr>\n",
              "    <tr>\n",
              "      <th>...</th>\n",
              "      <td>...</td>\n",
              "      <td>...</td>\n",
              "      <td>...</td>\n",
              "      <td>...</td>\n",
              "      <td>...</td>\n",
              "      <td>...</td>\n",
              "    </tr>\n",
              "    <tr>\n",
              "      <th>2022-12-13</th>\n",
              "      <td>24.100000</td>\n",
              "      <td>24.200001</td>\n",
              "      <td>23.309999</td>\n",
              "      <td>23.320000</td>\n",
              "      <td>23.320000</td>\n",
              "      <td>102533100</td>\n",
              "    </tr>\n",
              "    <tr>\n",
              "      <th>2022-12-14</th>\n",
              "      <td>22.500000</td>\n",
              "      <td>22.600000</td>\n",
              "      <td>20.770000</td>\n",
              "      <td>21.469999</td>\n",
              "      <td>21.469999</td>\n",
              "      <td>319501600</td>\n",
              "    </tr>\n",
              "    <tr>\n",
              "      <th>2022-12-15</th>\n",
              "      <td>21.000000</td>\n",
              "      <td>22.370001</td>\n",
              "      <td>20.830000</td>\n",
              "      <td>22.040001</td>\n",
              "      <td>22.040001</td>\n",
              "      <td>132385600</td>\n",
              "    </tr>\n",
              "    <tr>\n",
              "      <th>2022-12-16</th>\n",
              "      <td>21.959999</td>\n",
              "      <td>22.110001</td>\n",
              "      <td>21.510000</td>\n",
              "      <td>22.049999</td>\n",
              "      <td>22.049999</td>\n",
              "      <td>90767300</td>\n",
              "    </tr>\n",
              "    <tr>\n",
              "      <th>2022-12-19</th>\n",
              "      <td>22.100000</td>\n",
              "      <td>22.469999</td>\n",
              "      <td>21.639999</td>\n",
              "      <td>22.350000</td>\n",
              "      <td>22.350000</td>\n",
              "      <td>37837300</td>\n",
              "    </tr>\n",
              "  </tbody>\n",
              "</table>\n",
              "<p>5770 rows × 6 columns</p>\n",
              "</div>\n",
              "    <div class=\"colab-df-buttons\">\n",
              "\n",
              "  <div class=\"colab-df-container\">\n",
              "    <button class=\"colab-df-convert\" onclick=\"convertToInteractive('df-c73a0329-02d0-4d64-ba9f-b98a6376396c')\"\n",
              "            title=\"Convert this dataframe to an interactive table.\"\n",
              "            style=\"display:none;\">\n",
              "\n",
              "  <svg xmlns=\"http://www.w3.org/2000/svg\" height=\"24px\" viewBox=\"0 -960 960 960\">\n",
              "    <path d=\"M120-120v-720h720v720H120Zm60-500h600v-160H180v160Zm220 220h160v-160H400v160Zm0 220h160v-160H400v160ZM180-400h160v-160H180v160Zm440 0h160v-160H620v160ZM180-180h160v-160H180v160Zm440 0h160v-160H620v160Z\"/>\n",
              "  </svg>\n",
              "    </button>\n",
              "\n",
              "  <style>\n",
              "    .colab-df-container {\n",
              "      display:flex;\n",
              "      gap: 12px;\n",
              "    }\n",
              "\n",
              "    .colab-df-convert {\n",
              "      background-color: #E8F0FE;\n",
              "      border: none;\n",
              "      border-radius: 50%;\n",
              "      cursor: pointer;\n",
              "      display: none;\n",
              "      fill: #1967D2;\n",
              "      height: 32px;\n",
              "      padding: 0 0 0 0;\n",
              "      width: 32px;\n",
              "    }\n",
              "\n",
              "    .colab-df-convert:hover {\n",
              "      background-color: #E2EBFA;\n",
              "      box-shadow: 0px 1px 2px rgba(60, 64, 67, 0.3), 0px 1px 3px 1px rgba(60, 64, 67, 0.15);\n",
              "      fill: #174EA6;\n",
              "    }\n",
              "\n",
              "    .colab-df-buttons div {\n",
              "      margin-bottom: 4px;\n",
              "    }\n",
              "\n",
              "    [theme=dark] .colab-df-convert {\n",
              "      background-color: #3B4455;\n",
              "      fill: #D2E3FC;\n",
              "    }\n",
              "\n",
              "    [theme=dark] .colab-df-convert:hover {\n",
              "      background-color: #434B5C;\n",
              "      box-shadow: 0px 1px 3px 1px rgba(0, 0, 0, 0.15);\n",
              "      filter: drop-shadow(0px 1px 2px rgba(0, 0, 0, 0.3));\n",
              "      fill: #FFFFFF;\n",
              "    }\n",
              "  </style>\n",
              "\n",
              "    <script>\n",
              "      const buttonEl =\n",
              "        document.querySelector('#df-c73a0329-02d0-4d64-ba9f-b98a6376396c button.colab-df-convert');\n",
              "      buttonEl.style.display =\n",
              "        google.colab.kernel.accessAllowed ? 'block' : 'none';\n",
              "\n",
              "      async function convertToInteractive(key) {\n",
              "        const element = document.querySelector('#df-c73a0329-02d0-4d64-ba9f-b98a6376396c');\n",
              "        const dataTable =\n",
              "          await google.colab.kernel.invokeFunction('convertToInteractive',\n",
              "                                                    [key], {});\n",
              "        if (!dataTable) return;\n",
              "\n",
              "        const docLinkHtml = 'Like what you see? Visit the ' +\n",
              "          '<a target=\"_blank\" href=https://colab.research.google.com/notebooks/data_table.ipynb>data table notebook</a>'\n",
              "          + ' to learn more about interactive tables.';\n",
              "        element.innerHTML = '';\n",
              "        dataTable['output_type'] = 'display_data';\n",
              "        await google.colab.output.renderOutput(dataTable, element);\n",
              "        const docLink = document.createElement('div');\n",
              "        docLink.innerHTML = docLinkHtml;\n",
              "        element.appendChild(docLink);\n",
              "      }\n",
              "    </script>\n",
              "  </div>\n",
              "\n",
              "\n",
              "<div id=\"df-60917587-d0f5-441e-b74a-23f2c022df1f\">\n",
              "  <button class=\"colab-df-quickchart\" onclick=\"quickchart('df-60917587-d0f5-441e-b74a-23f2c022df1f')\"\n",
              "            title=\"Suggest charts.\"\n",
              "            style=\"display:none;\">\n",
              "\n",
              "<svg xmlns=\"http://www.w3.org/2000/svg\" height=\"24px\"viewBox=\"0 0 24 24\"\n",
              "     width=\"24px\">\n",
              "    <g>\n",
              "        <path d=\"M19 3H5c-1.1 0-2 .9-2 2v14c0 1.1.9 2 2 2h14c1.1 0 2-.9 2-2V5c0-1.1-.9-2-2-2zM9 17H7v-7h2v7zm4 0h-2V7h2v10zm4 0h-2v-4h2v4z\"/>\n",
              "    </g>\n",
              "</svg>\n",
              "  </button>\n",
              "\n",
              "<style>\n",
              "  .colab-df-quickchart {\n",
              "      --bg-color: #E8F0FE;\n",
              "      --fill-color: #1967D2;\n",
              "      --hover-bg-color: #E2EBFA;\n",
              "      --hover-fill-color: #174EA6;\n",
              "      --disabled-fill-color: #AAA;\n",
              "      --disabled-bg-color: #DDD;\n",
              "  }\n",
              "\n",
              "  [theme=dark] .colab-df-quickchart {\n",
              "      --bg-color: #3B4455;\n",
              "      --fill-color: #D2E3FC;\n",
              "      --hover-bg-color: #434B5C;\n",
              "      --hover-fill-color: #FFFFFF;\n",
              "      --disabled-bg-color: #3B4455;\n",
              "      --disabled-fill-color: #666;\n",
              "  }\n",
              "\n",
              "  .colab-df-quickchart {\n",
              "    background-color: var(--bg-color);\n",
              "    border: none;\n",
              "    border-radius: 50%;\n",
              "    cursor: pointer;\n",
              "    display: none;\n",
              "    fill: var(--fill-color);\n",
              "    height: 32px;\n",
              "    padding: 0;\n",
              "    width: 32px;\n",
              "  }\n",
              "\n",
              "  .colab-df-quickchart:hover {\n",
              "    background-color: var(--hover-bg-color);\n",
              "    box-shadow: 0 1px 2px rgba(60, 64, 67, 0.3), 0 1px 3px 1px rgba(60, 64, 67, 0.15);\n",
              "    fill: var(--button-hover-fill-color);\n",
              "  }\n",
              "\n",
              "  .colab-df-quickchart-complete:disabled,\n",
              "  .colab-df-quickchart-complete:disabled:hover {\n",
              "    background-color: var(--disabled-bg-color);\n",
              "    fill: var(--disabled-fill-color);\n",
              "    box-shadow: none;\n",
              "  }\n",
              "\n",
              "  .colab-df-spinner {\n",
              "    border: 2px solid var(--fill-color);\n",
              "    border-color: transparent;\n",
              "    border-bottom-color: var(--fill-color);\n",
              "    animation:\n",
              "      spin 1s steps(1) infinite;\n",
              "  }\n",
              "\n",
              "  @keyframes spin {\n",
              "    0% {\n",
              "      border-color: transparent;\n",
              "      border-bottom-color: var(--fill-color);\n",
              "      border-left-color: var(--fill-color);\n",
              "    }\n",
              "    20% {\n",
              "      border-color: transparent;\n",
              "      border-left-color: var(--fill-color);\n",
              "      border-top-color: var(--fill-color);\n",
              "    }\n",
              "    30% {\n",
              "      border-color: transparent;\n",
              "      border-left-color: var(--fill-color);\n",
              "      border-top-color: var(--fill-color);\n",
              "      border-right-color: var(--fill-color);\n",
              "    }\n",
              "    40% {\n",
              "      border-color: transparent;\n",
              "      border-right-color: var(--fill-color);\n",
              "      border-top-color: var(--fill-color);\n",
              "    }\n",
              "    60% {\n",
              "      border-color: transparent;\n",
              "      border-right-color: var(--fill-color);\n",
              "    }\n",
              "    80% {\n",
              "      border-color: transparent;\n",
              "      border-right-color: var(--fill-color);\n",
              "      border-bottom-color: var(--fill-color);\n",
              "    }\n",
              "    90% {\n",
              "      border-color: transparent;\n",
              "      border-bottom-color: var(--fill-color);\n",
              "    }\n",
              "  }\n",
              "</style>\n",
              "\n",
              "  <script>\n",
              "    async function quickchart(key) {\n",
              "      const quickchartButtonEl =\n",
              "        document.querySelector('#' + key + ' button');\n",
              "      quickchartButtonEl.disabled = true;  // To prevent multiple clicks.\n",
              "      quickchartButtonEl.classList.add('colab-df-spinner');\n",
              "      try {\n",
              "        const charts = await google.colab.kernel.invokeFunction(\n",
              "            'suggestCharts', [key], {});\n",
              "      } catch (error) {\n",
              "        console.error('Error during call to suggestCharts:', error);\n",
              "      }\n",
              "      quickchartButtonEl.classList.remove('colab-df-spinner');\n",
              "      quickchartButtonEl.classList.add('colab-df-quickchart-complete');\n",
              "    }\n",
              "    (() => {\n",
              "      let quickchartButtonEl =\n",
              "        document.querySelector('#df-60917587-d0f5-441e-b74a-23f2c022df1f button');\n",
              "      quickchartButtonEl.style.display =\n",
              "        google.colab.kernel.accessAllowed ? 'block' : 'none';\n",
              "    })();\n",
              "  </script>\n",
              "</div>\n",
              "    </div>\n",
              "  </div>\n"
            ]
          },
          "metadata": {},
          "execution_count": 30
        }
      ]
    },
    {
      "cell_type": "markdown",
      "source": [
        "Em qualquer lugar a transformação vai continuar válida"
      ],
      "metadata": {
        "id": "T0o8yJgkSuJN"
      }
    },
    {
      "cell_type": "code",
      "source": [
        "petr"
      ],
      "metadata": {
        "colab": {
          "base_uri": "https://localhost:8080/",
          "height": 455
        },
        "id": "XEXfSIbHSi28",
        "outputId": "ff1be3fa-8704-4bd3-dbc0-746800106094"
      },
      "execution_count": 31,
      "outputs": [
        {
          "output_type": "execute_result",
          "data": {
            "text/plain": [
              "                 Open       High        Low      Close  Adj Close       Volume\n",
              "Date                                                                          \n",
              "2000-01-03   5.875000   5.875000   5.875000   5.875000   1.872027  35389440000\n",
              "2000-01-04   5.550000   5.550000   5.550000   5.550000   1.768469  28861440000\n",
              "2000-01-05   5.494000   5.494000   5.494000   5.494000   1.750625  43033600000\n",
              "2000-01-06   5.475000   5.475000   5.475000   5.475000   1.744570  34055680000\n",
              "2000-01-07   5.500000   5.500000   5.500000   5.500000   1.752536  20912640000\n",
              "...               ...        ...        ...        ...        ...          ...\n",
              "2022-12-13  24.100000  24.200001  23.309999  23.320000  23.320000    102533100\n",
              "2022-12-14  22.500000  22.600000  20.770000  21.469999  21.469999    319501600\n",
              "2022-12-15  21.000000  22.370001  20.830000  22.040001  22.040001    132385600\n",
              "2022-12-16  21.959999  22.110001  21.510000  22.049999  22.049999     90767300\n",
              "2022-12-19  22.100000  22.469999  21.639999  22.350000  22.350000     37837300\n",
              "\n",
              "[5770 rows x 6 columns]"
            ],
            "text/html": [
              "\n",
              "  <div id=\"df-a0ad79ba-eb08-404b-802f-672502223a1f\" class=\"colab-df-container\">\n",
              "    <div>\n",
              "<style scoped>\n",
              "    .dataframe tbody tr th:only-of-type {\n",
              "        vertical-align: middle;\n",
              "    }\n",
              "\n",
              "    .dataframe tbody tr th {\n",
              "        vertical-align: top;\n",
              "    }\n",
              "\n",
              "    .dataframe thead th {\n",
              "        text-align: right;\n",
              "    }\n",
              "</style>\n",
              "<table border=\"1\" class=\"dataframe\">\n",
              "  <thead>\n",
              "    <tr style=\"text-align: right;\">\n",
              "      <th></th>\n",
              "      <th>Open</th>\n",
              "      <th>High</th>\n",
              "      <th>Low</th>\n",
              "      <th>Close</th>\n",
              "      <th>Adj Close</th>\n",
              "      <th>Volume</th>\n",
              "    </tr>\n",
              "    <tr>\n",
              "      <th>Date</th>\n",
              "      <th></th>\n",
              "      <th></th>\n",
              "      <th></th>\n",
              "      <th></th>\n",
              "      <th></th>\n",
              "      <th></th>\n",
              "    </tr>\n",
              "  </thead>\n",
              "  <tbody>\n",
              "    <tr>\n",
              "      <th>2000-01-03</th>\n",
              "      <td>5.875000</td>\n",
              "      <td>5.875000</td>\n",
              "      <td>5.875000</td>\n",
              "      <td>5.875000</td>\n",
              "      <td>1.872027</td>\n",
              "      <td>35389440000</td>\n",
              "    </tr>\n",
              "    <tr>\n",
              "      <th>2000-01-04</th>\n",
              "      <td>5.550000</td>\n",
              "      <td>5.550000</td>\n",
              "      <td>5.550000</td>\n",
              "      <td>5.550000</td>\n",
              "      <td>1.768469</td>\n",
              "      <td>28861440000</td>\n",
              "    </tr>\n",
              "    <tr>\n",
              "      <th>2000-01-05</th>\n",
              "      <td>5.494000</td>\n",
              "      <td>5.494000</td>\n",
              "      <td>5.494000</td>\n",
              "      <td>5.494000</td>\n",
              "      <td>1.750625</td>\n",
              "      <td>43033600000</td>\n",
              "    </tr>\n",
              "    <tr>\n",
              "      <th>2000-01-06</th>\n",
              "      <td>5.475000</td>\n",
              "      <td>5.475000</td>\n",
              "      <td>5.475000</td>\n",
              "      <td>5.475000</td>\n",
              "      <td>1.744570</td>\n",
              "      <td>34055680000</td>\n",
              "    </tr>\n",
              "    <tr>\n",
              "      <th>2000-01-07</th>\n",
              "      <td>5.500000</td>\n",
              "      <td>5.500000</td>\n",
              "      <td>5.500000</td>\n",
              "      <td>5.500000</td>\n",
              "      <td>1.752536</td>\n",
              "      <td>20912640000</td>\n",
              "    </tr>\n",
              "    <tr>\n",
              "      <th>...</th>\n",
              "      <td>...</td>\n",
              "      <td>...</td>\n",
              "      <td>...</td>\n",
              "      <td>...</td>\n",
              "      <td>...</td>\n",
              "      <td>...</td>\n",
              "    </tr>\n",
              "    <tr>\n",
              "      <th>2022-12-13</th>\n",
              "      <td>24.100000</td>\n",
              "      <td>24.200001</td>\n",
              "      <td>23.309999</td>\n",
              "      <td>23.320000</td>\n",
              "      <td>23.320000</td>\n",
              "      <td>102533100</td>\n",
              "    </tr>\n",
              "    <tr>\n",
              "      <th>2022-12-14</th>\n",
              "      <td>22.500000</td>\n",
              "      <td>22.600000</td>\n",
              "      <td>20.770000</td>\n",
              "      <td>21.469999</td>\n",
              "      <td>21.469999</td>\n",
              "      <td>319501600</td>\n",
              "    </tr>\n",
              "    <tr>\n",
              "      <th>2022-12-15</th>\n",
              "      <td>21.000000</td>\n",
              "      <td>22.370001</td>\n",
              "      <td>20.830000</td>\n",
              "      <td>22.040001</td>\n",
              "      <td>22.040001</td>\n",
              "      <td>132385600</td>\n",
              "    </tr>\n",
              "    <tr>\n",
              "      <th>2022-12-16</th>\n",
              "      <td>21.959999</td>\n",
              "      <td>22.110001</td>\n",
              "      <td>21.510000</td>\n",
              "      <td>22.049999</td>\n",
              "      <td>22.049999</td>\n",
              "      <td>90767300</td>\n",
              "    </tr>\n",
              "    <tr>\n",
              "      <th>2022-12-19</th>\n",
              "      <td>22.100000</td>\n",
              "      <td>22.469999</td>\n",
              "      <td>21.639999</td>\n",
              "      <td>22.350000</td>\n",
              "      <td>22.350000</td>\n",
              "      <td>37837300</td>\n",
              "    </tr>\n",
              "  </tbody>\n",
              "</table>\n",
              "<p>5770 rows × 6 columns</p>\n",
              "</div>\n",
              "    <div class=\"colab-df-buttons\">\n",
              "\n",
              "  <div class=\"colab-df-container\">\n",
              "    <button class=\"colab-df-convert\" onclick=\"convertToInteractive('df-a0ad79ba-eb08-404b-802f-672502223a1f')\"\n",
              "            title=\"Convert this dataframe to an interactive table.\"\n",
              "            style=\"display:none;\">\n",
              "\n",
              "  <svg xmlns=\"http://www.w3.org/2000/svg\" height=\"24px\" viewBox=\"0 -960 960 960\">\n",
              "    <path d=\"M120-120v-720h720v720H120Zm60-500h600v-160H180v160Zm220 220h160v-160H400v160Zm0 220h160v-160H400v160ZM180-400h160v-160H180v160Zm440 0h160v-160H620v160ZM180-180h160v-160H180v160Zm440 0h160v-160H620v160Z\"/>\n",
              "  </svg>\n",
              "    </button>\n",
              "\n",
              "  <style>\n",
              "    .colab-df-container {\n",
              "      display:flex;\n",
              "      gap: 12px;\n",
              "    }\n",
              "\n",
              "    .colab-df-convert {\n",
              "      background-color: #E8F0FE;\n",
              "      border: none;\n",
              "      border-radius: 50%;\n",
              "      cursor: pointer;\n",
              "      display: none;\n",
              "      fill: #1967D2;\n",
              "      height: 32px;\n",
              "      padding: 0 0 0 0;\n",
              "      width: 32px;\n",
              "    }\n",
              "\n",
              "    .colab-df-convert:hover {\n",
              "      background-color: #E2EBFA;\n",
              "      box-shadow: 0px 1px 2px rgba(60, 64, 67, 0.3), 0px 1px 3px 1px rgba(60, 64, 67, 0.15);\n",
              "      fill: #174EA6;\n",
              "    }\n",
              "\n",
              "    .colab-df-buttons div {\n",
              "      margin-bottom: 4px;\n",
              "    }\n",
              "\n",
              "    [theme=dark] .colab-df-convert {\n",
              "      background-color: #3B4455;\n",
              "      fill: #D2E3FC;\n",
              "    }\n",
              "\n",
              "    [theme=dark] .colab-df-convert:hover {\n",
              "      background-color: #434B5C;\n",
              "      box-shadow: 0px 1px 3px 1px rgba(0, 0, 0, 0.15);\n",
              "      filter: drop-shadow(0px 1px 2px rgba(0, 0, 0, 0.3));\n",
              "      fill: #FFFFFF;\n",
              "    }\n",
              "  </style>\n",
              "\n",
              "    <script>\n",
              "      const buttonEl =\n",
              "        document.querySelector('#df-a0ad79ba-eb08-404b-802f-672502223a1f button.colab-df-convert');\n",
              "      buttonEl.style.display =\n",
              "        google.colab.kernel.accessAllowed ? 'block' : 'none';\n",
              "\n",
              "      async function convertToInteractive(key) {\n",
              "        const element = document.querySelector('#df-a0ad79ba-eb08-404b-802f-672502223a1f');\n",
              "        const dataTable =\n",
              "          await google.colab.kernel.invokeFunction('convertToInteractive',\n",
              "                                                    [key], {});\n",
              "        if (!dataTable) return;\n",
              "\n",
              "        const docLinkHtml = 'Like what you see? Visit the ' +\n",
              "          '<a target=\"_blank\" href=https://colab.research.google.com/notebooks/data_table.ipynb>data table notebook</a>'\n",
              "          + ' to learn more about interactive tables.';\n",
              "        element.innerHTML = '';\n",
              "        dataTable['output_type'] = 'display_data';\n",
              "        await google.colab.output.renderOutput(dataTable, element);\n",
              "        const docLink = document.createElement('div');\n",
              "        docLink.innerHTML = docLinkHtml;\n",
              "        element.appendChild(docLink);\n",
              "      }\n",
              "    </script>\n",
              "  </div>\n",
              "\n",
              "\n",
              "<div id=\"df-025cebfa-f8e4-422b-a771-8f3032237e4c\">\n",
              "  <button class=\"colab-df-quickchart\" onclick=\"quickchart('df-025cebfa-f8e4-422b-a771-8f3032237e4c')\"\n",
              "            title=\"Suggest charts.\"\n",
              "            style=\"display:none;\">\n",
              "\n",
              "<svg xmlns=\"http://www.w3.org/2000/svg\" height=\"24px\"viewBox=\"0 0 24 24\"\n",
              "     width=\"24px\">\n",
              "    <g>\n",
              "        <path d=\"M19 3H5c-1.1 0-2 .9-2 2v14c0 1.1.9 2 2 2h14c1.1 0 2-.9 2-2V5c0-1.1-.9-2-2-2zM9 17H7v-7h2v7zm4 0h-2V7h2v10zm4 0h-2v-4h2v4z\"/>\n",
              "    </g>\n",
              "</svg>\n",
              "  </button>\n",
              "\n",
              "<style>\n",
              "  .colab-df-quickchart {\n",
              "      --bg-color: #E8F0FE;\n",
              "      --fill-color: #1967D2;\n",
              "      --hover-bg-color: #E2EBFA;\n",
              "      --hover-fill-color: #174EA6;\n",
              "      --disabled-fill-color: #AAA;\n",
              "      --disabled-bg-color: #DDD;\n",
              "  }\n",
              "\n",
              "  [theme=dark] .colab-df-quickchart {\n",
              "      --bg-color: #3B4455;\n",
              "      --fill-color: #D2E3FC;\n",
              "      --hover-bg-color: #434B5C;\n",
              "      --hover-fill-color: #FFFFFF;\n",
              "      --disabled-bg-color: #3B4455;\n",
              "      --disabled-fill-color: #666;\n",
              "  }\n",
              "\n",
              "  .colab-df-quickchart {\n",
              "    background-color: var(--bg-color);\n",
              "    border: none;\n",
              "    border-radius: 50%;\n",
              "    cursor: pointer;\n",
              "    display: none;\n",
              "    fill: var(--fill-color);\n",
              "    height: 32px;\n",
              "    padding: 0;\n",
              "    width: 32px;\n",
              "  }\n",
              "\n",
              "  .colab-df-quickchart:hover {\n",
              "    background-color: var(--hover-bg-color);\n",
              "    box-shadow: 0 1px 2px rgba(60, 64, 67, 0.3), 0 1px 3px 1px rgba(60, 64, 67, 0.15);\n",
              "    fill: var(--button-hover-fill-color);\n",
              "  }\n",
              "\n",
              "  .colab-df-quickchart-complete:disabled,\n",
              "  .colab-df-quickchart-complete:disabled:hover {\n",
              "    background-color: var(--disabled-bg-color);\n",
              "    fill: var(--disabled-fill-color);\n",
              "    box-shadow: none;\n",
              "  }\n",
              "\n",
              "  .colab-df-spinner {\n",
              "    border: 2px solid var(--fill-color);\n",
              "    border-color: transparent;\n",
              "    border-bottom-color: var(--fill-color);\n",
              "    animation:\n",
              "      spin 1s steps(1) infinite;\n",
              "  }\n",
              "\n",
              "  @keyframes spin {\n",
              "    0% {\n",
              "      border-color: transparent;\n",
              "      border-bottom-color: var(--fill-color);\n",
              "      border-left-color: var(--fill-color);\n",
              "    }\n",
              "    20% {\n",
              "      border-color: transparent;\n",
              "      border-left-color: var(--fill-color);\n",
              "      border-top-color: var(--fill-color);\n",
              "    }\n",
              "    30% {\n",
              "      border-color: transparent;\n",
              "      border-left-color: var(--fill-color);\n",
              "      border-top-color: var(--fill-color);\n",
              "      border-right-color: var(--fill-color);\n",
              "    }\n",
              "    40% {\n",
              "      border-color: transparent;\n",
              "      border-right-color: var(--fill-color);\n",
              "      border-top-color: var(--fill-color);\n",
              "    }\n",
              "    60% {\n",
              "      border-color: transparent;\n",
              "      border-right-color: var(--fill-color);\n",
              "    }\n",
              "    80% {\n",
              "      border-color: transparent;\n",
              "      border-right-color: var(--fill-color);\n",
              "      border-bottom-color: var(--fill-color);\n",
              "    }\n",
              "    90% {\n",
              "      border-color: transparent;\n",
              "      border-bottom-color: var(--fill-color);\n",
              "    }\n",
              "  }\n",
              "</style>\n",
              "\n",
              "  <script>\n",
              "    async function quickchart(key) {\n",
              "      const quickchartButtonEl =\n",
              "        document.querySelector('#' + key + ' button');\n",
              "      quickchartButtonEl.disabled = true;  // To prevent multiple clicks.\n",
              "      quickchartButtonEl.classList.add('colab-df-spinner');\n",
              "      try {\n",
              "        const charts = await google.colab.kernel.invokeFunction(\n",
              "            'suggestCharts', [key], {});\n",
              "      } catch (error) {\n",
              "        console.error('Error during call to suggestCharts:', error);\n",
              "      }\n",
              "      quickchartButtonEl.classList.remove('colab-df-spinner');\n",
              "      quickchartButtonEl.classList.add('colab-df-quickchart-complete');\n",
              "    }\n",
              "    (() => {\n",
              "      let quickchartButtonEl =\n",
              "        document.querySelector('#df-025cebfa-f8e4-422b-a771-8f3032237e4c button');\n",
              "      quickchartButtonEl.style.display =\n",
              "        google.colab.kernel.accessAllowed ? 'block' : 'none';\n",
              "    })();\n",
              "  </script>\n",
              "</div>\n",
              "    </div>\n",
              "  </div>\n"
            ]
          },
          "metadata": {},
          "execution_count": 31
        }
      ]
    },
    {
      "cell_type": "markdown",
      "source": [
        "E se quiséssemos criar um novo dataframe contendo apenas as informações de cotação e excluindo o Volume? Precisamos usar o método .copy"
      ],
      "metadata": {
        "id": "wZl4md1hStWc"
      }
    },
    {
      "cell_type": "code",
      "source": [
        "cotacoes_petr = petr.copy()"
      ],
      "metadata": {
        "id": "dBZ5-LqUTCaT"
      },
      "execution_count": 32,
      "outputs": []
    },
    {
      "cell_type": "code",
      "source": [
        "cotacoes_petr"
      ],
      "metadata": {
        "colab": {
          "base_uri": "https://localhost:8080/",
          "height": 455
        },
        "id": "NJOVcTEuTPcE",
        "outputId": "06ba27df-b390-4806-8138-1b1fcaa41fd3"
      },
      "execution_count": 33,
      "outputs": [
        {
          "output_type": "execute_result",
          "data": {
            "text/plain": [
              "                 Open       High        Low      Close  Adj Close       Volume\n",
              "Date                                                                          \n",
              "2000-01-03   5.875000   5.875000   5.875000   5.875000   1.872027  35389440000\n",
              "2000-01-04   5.550000   5.550000   5.550000   5.550000   1.768469  28861440000\n",
              "2000-01-05   5.494000   5.494000   5.494000   5.494000   1.750625  43033600000\n",
              "2000-01-06   5.475000   5.475000   5.475000   5.475000   1.744570  34055680000\n",
              "2000-01-07   5.500000   5.500000   5.500000   5.500000   1.752536  20912640000\n",
              "...               ...        ...        ...        ...        ...          ...\n",
              "2022-12-13  24.100000  24.200001  23.309999  23.320000  23.320000    102533100\n",
              "2022-12-14  22.500000  22.600000  20.770000  21.469999  21.469999    319501600\n",
              "2022-12-15  21.000000  22.370001  20.830000  22.040001  22.040001    132385600\n",
              "2022-12-16  21.959999  22.110001  21.510000  22.049999  22.049999     90767300\n",
              "2022-12-19  22.100000  22.469999  21.639999  22.350000  22.350000     37837300\n",
              "\n",
              "[5770 rows x 6 columns]"
            ],
            "text/html": [
              "\n",
              "  <div id=\"df-1f47d560-6204-4dcd-ac59-763c389631c9\" class=\"colab-df-container\">\n",
              "    <div>\n",
              "<style scoped>\n",
              "    .dataframe tbody tr th:only-of-type {\n",
              "        vertical-align: middle;\n",
              "    }\n",
              "\n",
              "    .dataframe tbody tr th {\n",
              "        vertical-align: top;\n",
              "    }\n",
              "\n",
              "    .dataframe thead th {\n",
              "        text-align: right;\n",
              "    }\n",
              "</style>\n",
              "<table border=\"1\" class=\"dataframe\">\n",
              "  <thead>\n",
              "    <tr style=\"text-align: right;\">\n",
              "      <th></th>\n",
              "      <th>Open</th>\n",
              "      <th>High</th>\n",
              "      <th>Low</th>\n",
              "      <th>Close</th>\n",
              "      <th>Adj Close</th>\n",
              "      <th>Volume</th>\n",
              "    </tr>\n",
              "    <tr>\n",
              "      <th>Date</th>\n",
              "      <th></th>\n",
              "      <th></th>\n",
              "      <th></th>\n",
              "      <th></th>\n",
              "      <th></th>\n",
              "      <th></th>\n",
              "    </tr>\n",
              "  </thead>\n",
              "  <tbody>\n",
              "    <tr>\n",
              "      <th>2000-01-03</th>\n",
              "      <td>5.875000</td>\n",
              "      <td>5.875000</td>\n",
              "      <td>5.875000</td>\n",
              "      <td>5.875000</td>\n",
              "      <td>1.872027</td>\n",
              "      <td>35389440000</td>\n",
              "    </tr>\n",
              "    <tr>\n",
              "      <th>2000-01-04</th>\n",
              "      <td>5.550000</td>\n",
              "      <td>5.550000</td>\n",
              "      <td>5.550000</td>\n",
              "      <td>5.550000</td>\n",
              "      <td>1.768469</td>\n",
              "      <td>28861440000</td>\n",
              "    </tr>\n",
              "    <tr>\n",
              "      <th>2000-01-05</th>\n",
              "      <td>5.494000</td>\n",
              "      <td>5.494000</td>\n",
              "      <td>5.494000</td>\n",
              "      <td>5.494000</td>\n",
              "      <td>1.750625</td>\n",
              "      <td>43033600000</td>\n",
              "    </tr>\n",
              "    <tr>\n",
              "      <th>2000-01-06</th>\n",
              "      <td>5.475000</td>\n",
              "      <td>5.475000</td>\n",
              "      <td>5.475000</td>\n",
              "      <td>5.475000</td>\n",
              "      <td>1.744570</td>\n",
              "      <td>34055680000</td>\n",
              "    </tr>\n",
              "    <tr>\n",
              "      <th>2000-01-07</th>\n",
              "      <td>5.500000</td>\n",
              "      <td>5.500000</td>\n",
              "      <td>5.500000</td>\n",
              "      <td>5.500000</td>\n",
              "      <td>1.752536</td>\n",
              "      <td>20912640000</td>\n",
              "    </tr>\n",
              "    <tr>\n",
              "      <th>...</th>\n",
              "      <td>...</td>\n",
              "      <td>...</td>\n",
              "      <td>...</td>\n",
              "      <td>...</td>\n",
              "      <td>...</td>\n",
              "      <td>...</td>\n",
              "    </tr>\n",
              "    <tr>\n",
              "      <th>2022-12-13</th>\n",
              "      <td>24.100000</td>\n",
              "      <td>24.200001</td>\n",
              "      <td>23.309999</td>\n",
              "      <td>23.320000</td>\n",
              "      <td>23.320000</td>\n",
              "      <td>102533100</td>\n",
              "    </tr>\n",
              "    <tr>\n",
              "      <th>2022-12-14</th>\n",
              "      <td>22.500000</td>\n",
              "      <td>22.600000</td>\n",
              "      <td>20.770000</td>\n",
              "      <td>21.469999</td>\n",
              "      <td>21.469999</td>\n",
              "      <td>319501600</td>\n",
              "    </tr>\n",
              "    <tr>\n",
              "      <th>2022-12-15</th>\n",
              "      <td>21.000000</td>\n",
              "      <td>22.370001</td>\n",
              "      <td>20.830000</td>\n",
              "      <td>22.040001</td>\n",
              "      <td>22.040001</td>\n",
              "      <td>132385600</td>\n",
              "    </tr>\n",
              "    <tr>\n",
              "      <th>2022-12-16</th>\n",
              "      <td>21.959999</td>\n",
              "      <td>22.110001</td>\n",
              "      <td>21.510000</td>\n",
              "      <td>22.049999</td>\n",
              "      <td>22.049999</td>\n",
              "      <td>90767300</td>\n",
              "    </tr>\n",
              "    <tr>\n",
              "      <th>2022-12-19</th>\n",
              "      <td>22.100000</td>\n",
              "      <td>22.469999</td>\n",
              "      <td>21.639999</td>\n",
              "      <td>22.350000</td>\n",
              "      <td>22.350000</td>\n",
              "      <td>37837300</td>\n",
              "    </tr>\n",
              "  </tbody>\n",
              "</table>\n",
              "<p>5770 rows × 6 columns</p>\n",
              "</div>\n",
              "    <div class=\"colab-df-buttons\">\n",
              "\n",
              "  <div class=\"colab-df-container\">\n",
              "    <button class=\"colab-df-convert\" onclick=\"convertToInteractive('df-1f47d560-6204-4dcd-ac59-763c389631c9')\"\n",
              "            title=\"Convert this dataframe to an interactive table.\"\n",
              "            style=\"display:none;\">\n",
              "\n",
              "  <svg xmlns=\"http://www.w3.org/2000/svg\" height=\"24px\" viewBox=\"0 -960 960 960\">\n",
              "    <path d=\"M120-120v-720h720v720H120Zm60-500h600v-160H180v160Zm220 220h160v-160H400v160Zm0 220h160v-160H400v160ZM180-400h160v-160H180v160Zm440 0h160v-160H620v160ZM180-180h160v-160H180v160Zm440 0h160v-160H620v160Z\"/>\n",
              "  </svg>\n",
              "    </button>\n",
              "\n",
              "  <style>\n",
              "    .colab-df-container {\n",
              "      display:flex;\n",
              "      gap: 12px;\n",
              "    }\n",
              "\n",
              "    .colab-df-convert {\n",
              "      background-color: #E8F0FE;\n",
              "      border: none;\n",
              "      border-radius: 50%;\n",
              "      cursor: pointer;\n",
              "      display: none;\n",
              "      fill: #1967D2;\n",
              "      height: 32px;\n",
              "      padding: 0 0 0 0;\n",
              "      width: 32px;\n",
              "    }\n",
              "\n",
              "    .colab-df-convert:hover {\n",
              "      background-color: #E2EBFA;\n",
              "      box-shadow: 0px 1px 2px rgba(60, 64, 67, 0.3), 0px 1px 3px 1px rgba(60, 64, 67, 0.15);\n",
              "      fill: #174EA6;\n",
              "    }\n",
              "\n",
              "    .colab-df-buttons div {\n",
              "      margin-bottom: 4px;\n",
              "    }\n",
              "\n",
              "    [theme=dark] .colab-df-convert {\n",
              "      background-color: #3B4455;\n",
              "      fill: #D2E3FC;\n",
              "    }\n",
              "\n",
              "    [theme=dark] .colab-df-convert:hover {\n",
              "      background-color: #434B5C;\n",
              "      box-shadow: 0px 1px 3px 1px rgba(0, 0, 0, 0.15);\n",
              "      filter: drop-shadow(0px 1px 2px rgba(0, 0, 0, 0.3));\n",
              "      fill: #FFFFFF;\n",
              "    }\n",
              "  </style>\n",
              "\n",
              "    <script>\n",
              "      const buttonEl =\n",
              "        document.querySelector('#df-1f47d560-6204-4dcd-ac59-763c389631c9 button.colab-df-convert');\n",
              "      buttonEl.style.display =\n",
              "        google.colab.kernel.accessAllowed ? 'block' : 'none';\n",
              "\n",
              "      async function convertToInteractive(key) {\n",
              "        const element = document.querySelector('#df-1f47d560-6204-4dcd-ac59-763c389631c9');\n",
              "        const dataTable =\n",
              "          await google.colab.kernel.invokeFunction('convertToInteractive',\n",
              "                                                    [key], {});\n",
              "        if (!dataTable) return;\n",
              "\n",
              "        const docLinkHtml = 'Like what you see? Visit the ' +\n",
              "          '<a target=\"_blank\" href=https://colab.research.google.com/notebooks/data_table.ipynb>data table notebook</a>'\n",
              "          + ' to learn more about interactive tables.';\n",
              "        element.innerHTML = '';\n",
              "        dataTable['output_type'] = 'display_data';\n",
              "        await google.colab.output.renderOutput(dataTable, element);\n",
              "        const docLink = document.createElement('div');\n",
              "        docLink.innerHTML = docLinkHtml;\n",
              "        element.appendChild(docLink);\n",
              "      }\n",
              "    </script>\n",
              "  </div>\n",
              "\n",
              "\n",
              "<div id=\"df-c77140b7-f7cb-4882-9954-6a95da3de936\">\n",
              "  <button class=\"colab-df-quickchart\" onclick=\"quickchart('df-c77140b7-f7cb-4882-9954-6a95da3de936')\"\n",
              "            title=\"Suggest charts.\"\n",
              "            style=\"display:none;\">\n",
              "\n",
              "<svg xmlns=\"http://www.w3.org/2000/svg\" height=\"24px\"viewBox=\"0 0 24 24\"\n",
              "     width=\"24px\">\n",
              "    <g>\n",
              "        <path d=\"M19 3H5c-1.1 0-2 .9-2 2v14c0 1.1.9 2 2 2h14c1.1 0 2-.9 2-2V5c0-1.1-.9-2-2-2zM9 17H7v-7h2v7zm4 0h-2V7h2v10zm4 0h-2v-4h2v4z\"/>\n",
              "    </g>\n",
              "</svg>\n",
              "  </button>\n",
              "\n",
              "<style>\n",
              "  .colab-df-quickchart {\n",
              "      --bg-color: #E8F0FE;\n",
              "      --fill-color: #1967D2;\n",
              "      --hover-bg-color: #E2EBFA;\n",
              "      --hover-fill-color: #174EA6;\n",
              "      --disabled-fill-color: #AAA;\n",
              "      --disabled-bg-color: #DDD;\n",
              "  }\n",
              "\n",
              "  [theme=dark] .colab-df-quickchart {\n",
              "      --bg-color: #3B4455;\n",
              "      --fill-color: #D2E3FC;\n",
              "      --hover-bg-color: #434B5C;\n",
              "      --hover-fill-color: #FFFFFF;\n",
              "      --disabled-bg-color: #3B4455;\n",
              "      --disabled-fill-color: #666;\n",
              "  }\n",
              "\n",
              "  .colab-df-quickchart {\n",
              "    background-color: var(--bg-color);\n",
              "    border: none;\n",
              "    border-radius: 50%;\n",
              "    cursor: pointer;\n",
              "    display: none;\n",
              "    fill: var(--fill-color);\n",
              "    height: 32px;\n",
              "    padding: 0;\n",
              "    width: 32px;\n",
              "  }\n",
              "\n",
              "  .colab-df-quickchart:hover {\n",
              "    background-color: var(--hover-bg-color);\n",
              "    box-shadow: 0 1px 2px rgba(60, 64, 67, 0.3), 0 1px 3px 1px rgba(60, 64, 67, 0.15);\n",
              "    fill: var(--button-hover-fill-color);\n",
              "  }\n",
              "\n",
              "  .colab-df-quickchart-complete:disabled,\n",
              "  .colab-df-quickchart-complete:disabled:hover {\n",
              "    background-color: var(--disabled-bg-color);\n",
              "    fill: var(--disabled-fill-color);\n",
              "    box-shadow: none;\n",
              "  }\n",
              "\n",
              "  .colab-df-spinner {\n",
              "    border: 2px solid var(--fill-color);\n",
              "    border-color: transparent;\n",
              "    border-bottom-color: var(--fill-color);\n",
              "    animation:\n",
              "      spin 1s steps(1) infinite;\n",
              "  }\n",
              "\n",
              "  @keyframes spin {\n",
              "    0% {\n",
              "      border-color: transparent;\n",
              "      border-bottom-color: var(--fill-color);\n",
              "      border-left-color: var(--fill-color);\n",
              "    }\n",
              "    20% {\n",
              "      border-color: transparent;\n",
              "      border-left-color: var(--fill-color);\n",
              "      border-top-color: var(--fill-color);\n",
              "    }\n",
              "    30% {\n",
              "      border-color: transparent;\n",
              "      border-left-color: var(--fill-color);\n",
              "      border-top-color: var(--fill-color);\n",
              "      border-right-color: var(--fill-color);\n",
              "    }\n",
              "    40% {\n",
              "      border-color: transparent;\n",
              "      border-right-color: var(--fill-color);\n",
              "      border-top-color: var(--fill-color);\n",
              "    }\n",
              "    60% {\n",
              "      border-color: transparent;\n",
              "      border-right-color: var(--fill-color);\n",
              "    }\n",
              "    80% {\n",
              "      border-color: transparent;\n",
              "      border-right-color: var(--fill-color);\n",
              "      border-bottom-color: var(--fill-color);\n",
              "    }\n",
              "    90% {\n",
              "      border-color: transparent;\n",
              "      border-bottom-color: var(--fill-color);\n",
              "    }\n",
              "  }\n",
              "</style>\n",
              "\n",
              "  <script>\n",
              "    async function quickchart(key) {\n",
              "      const quickchartButtonEl =\n",
              "        document.querySelector('#' + key + ' button');\n",
              "      quickchartButtonEl.disabled = true;  // To prevent multiple clicks.\n",
              "      quickchartButtonEl.classList.add('colab-df-spinner');\n",
              "      try {\n",
              "        const charts = await google.colab.kernel.invokeFunction(\n",
              "            'suggestCharts', [key], {});\n",
              "      } catch (error) {\n",
              "        console.error('Error during call to suggestCharts:', error);\n",
              "      }\n",
              "      quickchartButtonEl.classList.remove('colab-df-spinner');\n",
              "      quickchartButtonEl.classList.add('colab-df-quickchart-complete');\n",
              "    }\n",
              "    (() => {\n",
              "      let quickchartButtonEl =\n",
              "        document.querySelector('#df-c77140b7-f7cb-4882-9954-6a95da3de936 button');\n",
              "      quickchartButtonEl.style.display =\n",
              "        google.colab.kernel.accessAllowed ? 'block' : 'none';\n",
              "    })();\n",
              "  </script>\n",
              "</div>\n",
              "    </div>\n",
              "  </div>\n"
            ]
          },
          "metadata": {},
          "execution_count": 33
        }
      ]
    },
    {
      "cell_type": "code",
      "source": [
        "cotacoes_petr.drop(['Volume'], axis = 1, inplace = True)"
      ],
      "metadata": {
        "id": "9kEeZ8OYTQQ0"
      },
      "execution_count": 34,
      "outputs": []
    },
    {
      "cell_type": "code",
      "source": [
        "cotacoes_petr.tail()"
      ],
      "metadata": {
        "colab": {
          "base_uri": "https://localhost:8080/",
          "height": 237
        },
        "id": "r5_zVZG6ThlU",
        "outputId": "03184362-1852-4b42-f3e1-44acfc2bae58"
      },
      "execution_count": 35,
      "outputs": [
        {
          "output_type": "execute_result",
          "data": {
            "text/plain": [
              "                 Open       High        Low      Close  Adj Close\n",
              "Date                                                             \n",
              "2022-12-13  24.100000  24.200001  23.309999  23.320000  23.320000\n",
              "2022-12-14  22.500000  22.600000  20.770000  21.469999  21.469999\n",
              "2022-12-15  21.000000  22.370001  20.830000  22.040001  22.040001\n",
              "2022-12-16  21.959999  22.110001  21.510000  22.049999  22.049999\n",
              "2022-12-19  22.100000  22.469999  21.639999  22.350000  22.350000"
            ],
            "text/html": [
              "\n",
              "  <div id=\"df-6e73e2f4-9159-4508-9008-8e76caf74d7b\" class=\"colab-df-container\">\n",
              "    <div>\n",
              "<style scoped>\n",
              "    .dataframe tbody tr th:only-of-type {\n",
              "        vertical-align: middle;\n",
              "    }\n",
              "\n",
              "    .dataframe tbody tr th {\n",
              "        vertical-align: top;\n",
              "    }\n",
              "\n",
              "    .dataframe thead th {\n",
              "        text-align: right;\n",
              "    }\n",
              "</style>\n",
              "<table border=\"1\" class=\"dataframe\">\n",
              "  <thead>\n",
              "    <tr style=\"text-align: right;\">\n",
              "      <th></th>\n",
              "      <th>Open</th>\n",
              "      <th>High</th>\n",
              "      <th>Low</th>\n",
              "      <th>Close</th>\n",
              "      <th>Adj Close</th>\n",
              "    </tr>\n",
              "    <tr>\n",
              "      <th>Date</th>\n",
              "      <th></th>\n",
              "      <th></th>\n",
              "      <th></th>\n",
              "      <th></th>\n",
              "      <th></th>\n",
              "    </tr>\n",
              "  </thead>\n",
              "  <tbody>\n",
              "    <tr>\n",
              "      <th>2022-12-13</th>\n",
              "      <td>24.100000</td>\n",
              "      <td>24.200001</td>\n",
              "      <td>23.309999</td>\n",
              "      <td>23.320000</td>\n",
              "      <td>23.320000</td>\n",
              "    </tr>\n",
              "    <tr>\n",
              "      <th>2022-12-14</th>\n",
              "      <td>22.500000</td>\n",
              "      <td>22.600000</td>\n",
              "      <td>20.770000</td>\n",
              "      <td>21.469999</td>\n",
              "      <td>21.469999</td>\n",
              "    </tr>\n",
              "    <tr>\n",
              "      <th>2022-12-15</th>\n",
              "      <td>21.000000</td>\n",
              "      <td>22.370001</td>\n",
              "      <td>20.830000</td>\n",
              "      <td>22.040001</td>\n",
              "      <td>22.040001</td>\n",
              "    </tr>\n",
              "    <tr>\n",
              "      <th>2022-12-16</th>\n",
              "      <td>21.959999</td>\n",
              "      <td>22.110001</td>\n",
              "      <td>21.510000</td>\n",
              "      <td>22.049999</td>\n",
              "      <td>22.049999</td>\n",
              "    </tr>\n",
              "    <tr>\n",
              "      <th>2022-12-19</th>\n",
              "      <td>22.100000</td>\n",
              "      <td>22.469999</td>\n",
              "      <td>21.639999</td>\n",
              "      <td>22.350000</td>\n",
              "      <td>22.350000</td>\n",
              "    </tr>\n",
              "  </tbody>\n",
              "</table>\n",
              "</div>\n",
              "    <div class=\"colab-df-buttons\">\n",
              "\n",
              "  <div class=\"colab-df-container\">\n",
              "    <button class=\"colab-df-convert\" onclick=\"convertToInteractive('df-6e73e2f4-9159-4508-9008-8e76caf74d7b')\"\n",
              "            title=\"Convert this dataframe to an interactive table.\"\n",
              "            style=\"display:none;\">\n",
              "\n",
              "  <svg xmlns=\"http://www.w3.org/2000/svg\" height=\"24px\" viewBox=\"0 -960 960 960\">\n",
              "    <path d=\"M120-120v-720h720v720H120Zm60-500h600v-160H180v160Zm220 220h160v-160H400v160Zm0 220h160v-160H400v160ZM180-400h160v-160H180v160Zm440 0h160v-160H620v160ZM180-180h160v-160H180v160Zm440 0h160v-160H620v160Z\"/>\n",
              "  </svg>\n",
              "    </button>\n",
              "\n",
              "  <style>\n",
              "    .colab-df-container {\n",
              "      display:flex;\n",
              "      gap: 12px;\n",
              "    }\n",
              "\n",
              "    .colab-df-convert {\n",
              "      background-color: #E8F0FE;\n",
              "      border: none;\n",
              "      border-radius: 50%;\n",
              "      cursor: pointer;\n",
              "      display: none;\n",
              "      fill: #1967D2;\n",
              "      height: 32px;\n",
              "      padding: 0 0 0 0;\n",
              "      width: 32px;\n",
              "    }\n",
              "\n",
              "    .colab-df-convert:hover {\n",
              "      background-color: #E2EBFA;\n",
              "      box-shadow: 0px 1px 2px rgba(60, 64, 67, 0.3), 0px 1px 3px 1px rgba(60, 64, 67, 0.15);\n",
              "      fill: #174EA6;\n",
              "    }\n",
              "\n",
              "    .colab-df-buttons div {\n",
              "      margin-bottom: 4px;\n",
              "    }\n",
              "\n",
              "    [theme=dark] .colab-df-convert {\n",
              "      background-color: #3B4455;\n",
              "      fill: #D2E3FC;\n",
              "    }\n",
              "\n",
              "    [theme=dark] .colab-df-convert:hover {\n",
              "      background-color: #434B5C;\n",
              "      box-shadow: 0px 1px 3px 1px rgba(0, 0, 0, 0.15);\n",
              "      filter: drop-shadow(0px 1px 2px rgba(0, 0, 0, 0.3));\n",
              "      fill: #FFFFFF;\n",
              "    }\n",
              "  </style>\n",
              "\n",
              "    <script>\n",
              "      const buttonEl =\n",
              "        document.querySelector('#df-6e73e2f4-9159-4508-9008-8e76caf74d7b button.colab-df-convert');\n",
              "      buttonEl.style.display =\n",
              "        google.colab.kernel.accessAllowed ? 'block' : 'none';\n",
              "\n",
              "      async function convertToInteractive(key) {\n",
              "        const element = document.querySelector('#df-6e73e2f4-9159-4508-9008-8e76caf74d7b');\n",
              "        const dataTable =\n",
              "          await google.colab.kernel.invokeFunction('convertToInteractive',\n",
              "                                                    [key], {});\n",
              "        if (!dataTable) return;\n",
              "\n",
              "        const docLinkHtml = 'Like what you see? Visit the ' +\n",
              "          '<a target=\"_blank\" href=https://colab.research.google.com/notebooks/data_table.ipynb>data table notebook</a>'\n",
              "          + ' to learn more about interactive tables.';\n",
              "        element.innerHTML = '';\n",
              "        dataTable['output_type'] = 'display_data';\n",
              "        await google.colab.output.renderOutput(dataTable, element);\n",
              "        const docLink = document.createElement('div');\n",
              "        docLink.innerHTML = docLinkHtml;\n",
              "        element.appendChild(docLink);\n",
              "      }\n",
              "    </script>\n",
              "  </div>\n",
              "\n",
              "\n",
              "<div id=\"df-48d0d2f8-ff81-42ba-bb99-c66efec17072\">\n",
              "  <button class=\"colab-df-quickchart\" onclick=\"quickchart('df-48d0d2f8-ff81-42ba-bb99-c66efec17072')\"\n",
              "            title=\"Suggest charts.\"\n",
              "            style=\"display:none;\">\n",
              "\n",
              "<svg xmlns=\"http://www.w3.org/2000/svg\" height=\"24px\"viewBox=\"0 0 24 24\"\n",
              "     width=\"24px\">\n",
              "    <g>\n",
              "        <path d=\"M19 3H5c-1.1 0-2 .9-2 2v14c0 1.1.9 2 2 2h14c1.1 0 2-.9 2-2V5c0-1.1-.9-2-2-2zM9 17H7v-7h2v7zm4 0h-2V7h2v10zm4 0h-2v-4h2v4z\"/>\n",
              "    </g>\n",
              "</svg>\n",
              "  </button>\n",
              "\n",
              "<style>\n",
              "  .colab-df-quickchart {\n",
              "      --bg-color: #E8F0FE;\n",
              "      --fill-color: #1967D2;\n",
              "      --hover-bg-color: #E2EBFA;\n",
              "      --hover-fill-color: #174EA6;\n",
              "      --disabled-fill-color: #AAA;\n",
              "      --disabled-bg-color: #DDD;\n",
              "  }\n",
              "\n",
              "  [theme=dark] .colab-df-quickchart {\n",
              "      --bg-color: #3B4455;\n",
              "      --fill-color: #D2E3FC;\n",
              "      --hover-bg-color: #434B5C;\n",
              "      --hover-fill-color: #FFFFFF;\n",
              "      --disabled-bg-color: #3B4455;\n",
              "      --disabled-fill-color: #666;\n",
              "  }\n",
              "\n",
              "  .colab-df-quickchart {\n",
              "    background-color: var(--bg-color);\n",
              "    border: none;\n",
              "    border-radius: 50%;\n",
              "    cursor: pointer;\n",
              "    display: none;\n",
              "    fill: var(--fill-color);\n",
              "    height: 32px;\n",
              "    padding: 0;\n",
              "    width: 32px;\n",
              "  }\n",
              "\n",
              "  .colab-df-quickchart:hover {\n",
              "    background-color: var(--hover-bg-color);\n",
              "    box-shadow: 0 1px 2px rgba(60, 64, 67, 0.3), 0 1px 3px 1px rgba(60, 64, 67, 0.15);\n",
              "    fill: var(--button-hover-fill-color);\n",
              "  }\n",
              "\n",
              "  .colab-df-quickchart-complete:disabled,\n",
              "  .colab-df-quickchart-complete:disabled:hover {\n",
              "    background-color: var(--disabled-bg-color);\n",
              "    fill: var(--disabled-fill-color);\n",
              "    box-shadow: none;\n",
              "  }\n",
              "\n",
              "  .colab-df-spinner {\n",
              "    border: 2px solid var(--fill-color);\n",
              "    border-color: transparent;\n",
              "    border-bottom-color: var(--fill-color);\n",
              "    animation:\n",
              "      spin 1s steps(1) infinite;\n",
              "  }\n",
              "\n",
              "  @keyframes spin {\n",
              "    0% {\n",
              "      border-color: transparent;\n",
              "      border-bottom-color: var(--fill-color);\n",
              "      border-left-color: var(--fill-color);\n",
              "    }\n",
              "    20% {\n",
              "      border-color: transparent;\n",
              "      border-left-color: var(--fill-color);\n",
              "      border-top-color: var(--fill-color);\n",
              "    }\n",
              "    30% {\n",
              "      border-color: transparent;\n",
              "      border-left-color: var(--fill-color);\n",
              "      border-top-color: var(--fill-color);\n",
              "      border-right-color: var(--fill-color);\n",
              "    }\n",
              "    40% {\n",
              "      border-color: transparent;\n",
              "      border-right-color: var(--fill-color);\n",
              "      border-top-color: var(--fill-color);\n",
              "    }\n",
              "    60% {\n",
              "      border-color: transparent;\n",
              "      border-right-color: var(--fill-color);\n",
              "    }\n",
              "    80% {\n",
              "      border-color: transparent;\n",
              "      border-right-color: var(--fill-color);\n",
              "      border-bottom-color: var(--fill-color);\n",
              "    }\n",
              "    90% {\n",
              "      border-color: transparent;\n",
              "      border-bottom-color: var(--fill-color);\n",
              "    }\n",
              "  }\n",
              "</style>\n",
              "\n",
              "  <script>\n",
              "    async function quickchart(key) {\n",
              "      const quickchartButtonEl =\n",
              "        document.querySelector('#' + key + ' button');\n",
              "      quickchartButtonEl.disabled = true;  // To prevent multiple clicks.\n",
              "      quickchartButtonEl.classList.add('colab-df-spinner');\n",
              "      try {\n",
              "        const charts = await google.colab.kernel.invokeFunction(\n",
              "            'suggestCharts', [key], {});\n",
              "      } catch (error) {\n",
              "        console.error('Error during call to suggestCharts:', error);\n",
              "      }\n",
              "      quickchartButtonEl.classList.remove('colab-df-spinner');\n",
              "      quickchartButtonEl.classList.add('colab-df-quickchart-complete');\n",
              "    }\n",
              "    (() => {\n",
              "      let quickchartButtonEl =\n",
              "        document.querySelector('#df-48d0d2f8-ff81-42ba-bb99-c66efec17072 button');\n",
              "      quickchartButtonEl.style.display =\n",
              "        google.colab.kernel.accessAllowed ? 'block' : 'none';\n",
              "    })();\n",
              "  </script>\n",
              "</div>\n",
              "    </div>\n",
              "  </div>\n"
            ]
          },
          "metadata": {},
          "execution_count": 35
        }
      ]
    },
    {
      "cell_type": "markdown",
      "source": [
        "Basta agora plotar o data frame inteiro!"
      ],
      "metadata": {
        "id": "nJGfHvYTTkFB"
      }
    },
    {
      "cell_type": "code",
      "source": [
        "cotacoes_petr.plot();"
      ],
      "metadata": {
        "colab": {
          "base_uri": "https://localhost:8080/",
          "height": 451
        },
        "id": "B6wo3ldMTnzn",
        "outputId": "be9c95d5-8e49-4d7b-92ac-a58420042b0a"
      },
      "execution_count": 36,
      "outputs": [
        {
          "output_type": "display_data",
          "data": {
            "text/plain": [
              "<Figure size 640x480 with 1 Axes>"
            ],
            "image/png": "[encoded data removed]"
          },
          "metadata": {}
        }
      ]
    },
    {
      "cell_type": "code",
      "source": [
        "cotacoes_petr[['High', 'Open', 'Close']].plot();"
      ],
      "metadata": {
        "colab": {
          "base_uri": "https://localhost:8080/",
          "height": 451
        },
        "id": "Tl5lN_98TsU8",
        "outputId": "d456cf78-4305-466f-e18d-3e2cc4b33d24"
      },
      "execution_count": 37,
      "outputs": [
        {
          "output_type": "display_data",
          "data": {
            "text/plain": [
              "<Figure size 640x480 with 1 Axes>"
            ],
            "image/png": "[encoded data removed]"
          },
          "metadata": {}
        }
      ]
    },
    {
      "cell_type": "markdown",
      "source": [
        "E se quiséssemos dar um 'zoom' em datas mais recentes?\n",
        "\n",
        "Por exemplo, nos 100 pregões mais recentes?"
      ],
      "metadata": {
        "id": "PeCU3Dc6T3M0"
      }
    },
    {
      "cell_type": "code",
      "source": [
        "cotacoes_petr.tail(100).Close.plot();"
      ],
      "metadata": {
        "colab": {
          "base_uri": "https://localhost:8080/",
          "height": 449
        },
        "id": "kR_qZo5fUDSq",
        "outputId": "0181cab9-a74d-45e0-f5c9-55b0031ab295"
      },
      "execution_count": 38,
      "outputs": [
        {
          "output_type": "display_data",
          "data": {
            "text/plain": [
              "<Figure size 640x480 with 1 Axes>"
            ],
            "image/png": "[encoded data removed]"
          },
          "metadata": {}
        }
      ]
    },
    {
      "cell_type": "code",
      "source": [
        "cotacoes_petr.tail(100)[['Open', 'Close']].plot();"
      ],
      "metadata": {
        "colab": {
          "base_uri": "https://localhost:8080/",
          "height": 449
        },
        "id": "TEuc1tgfUNYL",
        "outputId": "8baa8f02-d49f-43e4-ddef-a879899b4e1f"
      },
      "execution_count": 39,
      "outputs": [
        {
          "output_type": "display_data",
          "data": {
            "text/plain": [
              "<Figure size 640x480 with 1 Axes>"
            ],
            "image/png": "[encoded data removed]"
          },
          "metadata": {}
        }
      ]
    },
    {
      "cell_type": "markdown",
      "source": [
        "Podemos também utilizar o operador slicing"
      ],
      "metadata": {
        "id": "IeFK31SZUbwc"
      }
    },
    {
      "cell_type": "code",
      "source": [
        "cotacoes_petr[0:10]"
      ],
      "metadata": {
        "colab": {
          "base_uri": "https://localhost:8080/",
          "height": 394
        },
        "id": "AQyjpvSMUij7",
        "outputId": "aeee5530-0d62-4e2d-e266-7832133ae41f"
      },
      "execution_count": 40,
      "outputs": [
        {
          "output_type": "execute_result",
          "data": {
            "text/plain": [
              "             Open   High    Low  Close  Adj Close\n",
              "Date                                             \n",
              "2000-01-03  5.875  5.875  5.875  5.875   1.872027\n",
              "2000-01-04  5.550  5.550  5.550  5.550   1.768469\n",
              "2000-01-05  5.494  5.494  5.494  5.494   1.750625\n",
              "2000-01-06  5.475  5.475  5.475  5.475   1.744570\n",
              "2000-01-07  5.500  5.500  5.500  5.500   1.752536\n",
              "2000-01-10  5.613  5.613  5.613  5.613   1.788543\n",
              "2000-01-11  5.475  5.475  5.475  5.475   1.744570\n",
              "2000-01-12  5.483  5.483  5.483  5.483   1.747119\n",
              "2000-01-13  5.325  5.325  5.325  5.325   1.696774\n",
              "2000-01-14  5.400  5.400  5.400  5.400   1.720672"
            ],
            "text/html": [
              "\n",
              "  <div id=\"df-e9dd4fe1-2343-491c-afe7-5f0af4a533e2\" class=\"colab-df-container\">\n",
              "    <div>\n",
              "<style scoped>\n",
              "    .dataframe tbody tr th:only-of-type {\n",
              "        vertical-align: middle;\n",
              "    }\n",
              "\n",
              "    .dataframe tbody tr th {\n",
              "        vertical-align: top;\n",
              "    }\n",
              "\n",
              "    .dataframe thead th {\n",
              "        text-align: right;\n",
              "    }\n",
              "</style>\n",
              "<table border=\"1\" class=\"dataframe\">\n",
              "  <thead>\n",
              "    <tr style=\"text-align: right;\">\n",
              "      <th></th>\n",
              "      <th>Open</th>\n",
              "      <th>High</th>\n",
              "      <th>Low</th>\n",
              "      <th>Close</th>\n",
              "      <th>Adj Close</th>\n",
              "    </tr>\n",
              "    <tr>\n",
              "      <th>Date</th>\n",
              "      <th></th>\n",
              "      <th></th>\n",
              "      <th></th>\n",
              "      <th></th>\n",
              "      <th></th>\n",
              "    </tr>\n",
              "  </thead>\n",
              "  <tbody>\n",
              "    <tr>\n",
              "      <th>2000-01-03</th>\n",
              "      <td>5.875</td>\n",
              "      <td>5.875</td>\n",
              "      <td>5.875</td>\n",
              "      <td>5.875</td>\n",
              "      <td>1.872027</td>\n",
              "    </tr>\n",
              "    <tr>\n",
              "      <th>2000-01-04</th>\n",
              "      <td>5.550</td>\n",
              "      <td>5.550</td>\n",
              "      <td>5.550</td>\n",
              "      <td>5.550</td>\n",
              "      <td>1.768469</td>\n",
              "    </tr>\n",
              "    <tr>\n",
              "      <th>2000-01-05</th>\n",
              "      <td>5.494</td>\n",
              "      <td>5.494</td>\n",
              "      <td>5.494</td>\n",
              "      <td>5.494</td>\n",
              "      <td>1.750625</td>\n",
              "    </tr>\n",
              "    <tr>\n",
              "      <th>2000-01-06</th>\n",
              "      <td>5.475</td>\n",
              "      <td>5.475</td>\n",
              "      <td>5.475</td>\n",
              "      <td>5.475</td>\n",
              "      <td>1.744570</td>\n",
              "    </tr>\n",
              "    <tr>\n",
              "      <th>2000-01-07</th>\n",
              "      <td>5.500</td>\n",
              "      <td>5.500</td>\n",
              "      <td>5.500</td>\n",
              "      <td>5.500</td>\n",
              "      <td>1.752536</td>\n",
              "    </tr>\n",
              "    <tr>\n",
              "      <th>2000-01-10</th>\n",
              "      <td>5.613</td>\n",
              "      <td>5.613</td>\n",
              "      <td>5.613</td>\n",
              "      <td>5.613</td>\n",
              "      <td>1.788543</td>\n",
              "    </tr>\n",
              "    <tr>\n",
              "      <th>2000-01-11</th>\n",
              "      <td>5.475</td>\n",
              "      <td>5.475</td>\n",
              "      <td>5.475</td>\n",
              "      <td>5.475</td>\n",
              "      <td>1.744570</td>\n",
              "    </tr>\n",
              "    <tr>\n",
              "      <th>2000-01-12</th>\n",
              "      <td>5.483</td>\n",
              "      <td>5.483</td>\n",
              "      <td>5.483</td>\n",
              "      <td>5.483</td>\n",
              "      <td>1.747119</td>\n",
              "    </tr>\n",
              "    <tr>\n",
              "      <th>2000-01-13</th>\n",
              "      <td>5.325</td>\n",
              "      <td>5.325</td>\n",
              "      <td>5.325</td>\n",
              "      <td>5.325</td>\n",
              "      <td>1.696774</td>\n",
              "    </tr>\n",
              "    <tr>\n",
              "      <th>2000-01-14</th>\n",
              "      <td>5.400</td>\n",
              "      <td>5.400</td>\n",
              "      <td>5.400</td>\n",
              "      <td>5.400</td>\n",
              "      <td>1.720672</td>\n",
              "    </tr>\n",
              "  </tbody>\n",
              "</table>\n",
              "</div>\n",
              "    <div class=\"colab-df-buttons\">\n",
              "\n",
              "  <div class=\"colab-df-container\">\n",
              "    <button class=\"colab-df-convert\" onclick=\"convertToInteractive('df-e9dd4fe1-2343-491c-afe7-5f0af4a533e2')\"\n",
              "            title=\"Convert this dataframe to an interactive table.\"\n",
              "            style=\"display:none;\">\n",
              "\n",
              "  <svg xmlns=\"http://www.w3.org/2000/svg\" height=\"24px\" viewBox=\"0 -960 960 960\">\n",
              "    <path d=\"M120-120v-720h720v720H120Zm60-500h600v-160H180v160Zm220 220h160v-160H400v160Zm0 220h160v-160H400v160ZM180-400h160v-160H180v160Zm440 0h160v-160H620v160ZM180-180h160v-160H180v160Zm440 0h160v-160H620v160Z\"/>\n",
              "  </svg>\n",
              "    </button>\n",
              "\n",
              "  <style>\n",
              "    .colab-df-container {\n",
              "      display:flex;\n",
              "      gap: 12px;\n",
              "    }\n",
              "\n",
              "    .colab-df-convert {\n",
              "      background-color: #E8F0FE;\n",
              "      border: none;\n",
              "      border-radius: 50%;\n",
              "      cursor: pointer;\n",
              "      display: none;\n",
              "      fill: #1967D2;\n",
              "      height: 32px;\n",
              "      padding: 0 0 0 0;\n",
              "      width: 32px;\n",
              "    }\n",
              "\n",
              "    .colab-df-convert:hover {\n",
              "      background-color: #E2EBFA;\n",
              "      box-shadow: 0px 1px 2px rgba(60, 64, 67, 0.3), 0px 1px 3px 1px rgba(60, 64, 67, 0.15);\n",
              "      fill: #174EA6;\n",
              "    }\n",
              "\n",
              "    .colab-df-buttons div {\n",
              "      margin-bottom: 4px;\n",
              "    }\n",
              "\n",
              "    [theme=dark] .colab-df-convert {\n",
              "      background-color: #3B4455;\n",
              "      fill: #D2E3FC;\n",
              "    }\n",
              "\n",
              "    [theme=dark] .colab-df-convert:hover {\n",
              "      background-color: #434B5C;\n",
              "      box-shadow: 0px 1px 3px 1px rgba(0, 0, 0, 0.15);\n",
              "      filter: drop-shadow(0px 1px 2px rgba(0, 0, 0, 0.3));\n",
              "      fill: #FFFFFF;\n",
              "    }\n",
              "  </style>\n",
              "\n",
              "    <script>\n",
              "      const buttonEl =\n",
              "        document.querySelector('#df-e9dd4fe1-2343-491c-afe7-5f0af4a533e2 button.colab-df-convert');\n",
              "      buttonEl.style.display =\n",
              "        google.colab.kernel.accessAllowed ? 'block' : 'none';\n",
              "\n",
              "      async function convertToInteractive(key) {\n",
              "        const element = document.querySelector('#df-e9dd4fe1-2343-491c-afe7-5f0af4a533e2');\n",
              "        const dataTable =\n",
              "          await google.colab.kernel.invokeFunction('convertToInteractive',\n",
              "                                                    [key], {});\n",
              "        if (!dataTable) return;\n",
              "\n",
              "        const docLinkHtml = 'Like what you see? Visit the ' +\n",
              "          '<a target=\"_blank\" href=https://colab.research.google.com/notebooks/data_table.ipynb>data table notebook</a>'\n",
              "          + ' to learn more about interactive tables.';\n",
              "        element.innerHTML = '';\n",
              "        dataTable['output_type'] = 'display_data';\n",
              "        await google.colab.output.renderOutput(dataTable, element);\n",
              "        const docLink = document.createElement('div');\n",
              "        docLink.innerHTML = docLinkHtml;\n",
              "        element.appendChild(docLink);\n",
              "      }\n",
              "    </script>\n",
              "  </div>\n",
              "\n",
              "\n",
              "<div id=\"df-414091ab-a5a8-4989-adce-e0d854b3cf6b\">\n",
              "  <button class=\"colab-df-quickchart\" onclick=\"quickchart('df-414091ab-a5a8-4989-adce-e0d854b3cf6b')\"\n",
              "            title=\"Suggest charts.\"\n",
              "            style=\"display:none;\">\n",
              "\n",
              "<svg xmlns=\"http://www.w3.org/2000/svg\" height=\"24px\"viewBox=\"0 0 24 24\"\n",
              "     width=\"24px\">\n",
              "    <g>\n",
              "        <path d=\"M19 3H5c-1.1 0-2 .9-2 2v14c0 1.1.9 2 2 2h14c1.1 0 2-.9 2-2V5c0-1.1-.9-2-2-2zM9 17H7v-7h2v7zm4 0h-2V7h2v10zm4 0h-2v-4h2v4z\"/>\n",
              "    </g>\n",
              "</svg>\n",
              "  </button>\n",
              "\n",
              "<style>\n",
              "  .colab-df-quickchart {\n",
              "      --bg-color: #E8F0FE;\n",
              "      --fill-color: #1967D2;\n",
              "      --hover-bg-color: #E2EBFA;\n",
              "      --hover-fill-color: #174EA6;\n",
              "      --disabled-fill-color: #AAA;\n",
              "      --disabled-bg-color: #DDD;\n",
              "  }\n",
              "\n",
              "  [theme=dark] .colab-df-quickchart {\n",
              "      --bg-color: #3B4455;\n",
              "      --fill-color: #D2E3FC;\n",
              "      --hover-bg-color: #434B5C;\n",
              "      --hover-fill-color: #FFFFFF;\n",
              "      --disabled-bg-color: #3B4455;\n",
              "      --disabled-fill-color: #666;\n",
              "  }\n",
              "\n",
              "  .colab-df-quickchart {\n",
              "    background-color: var(--bg-color);\n",
              "    border: none;\n",
              "    border-radius: 50%;\n",
              "    cursor: pointer;\n",
              "    display: none;\n",
              "    fill: var(--fill-color);\n",
              "    height: 32px;\n",
              "    padding: 0;\n",
              "    width: 32px;\n",
              "  }\n",
              "\n",
              "  .colab-df-quickchart:hover {\n",
              "    background-color: var(--hover-bg-color);\n",
              "    box-shadow: 0 1px 2px rgba(60, 64, 67, 0.3), 0 1px 3px 1px rgba(60, 64, 67, 0.15);\n",
              "    fill: var(--button-hover-fill-color);\n",
              "  }\n",
              "\n",
              "  .colab-df-quickchart-complete:disabled,\n",
              "  .colab-df-quickchart-complete:disabled:hover {\n",
              "    background-color: var(--disabled-bg-color);\n",
              "    fill: var(--disabled-fill-color);\n",
              "    box-shadow: none;\n",
              "  }\n",
              "\n",
              "  .colab-df-spinner {\n",
              "    border: 2px solid var(--fill-color);\n",
              "    border-color: transparent;\n",
              "    border-bottom-color: var(--fill-color);\n",
              "    animation:\n",
              "      spin 1s steps(1) infinite;\n",
              "  }\n",
              "\n",
              "  @keyframes spin {\n",
              "    0% {\n",
              "      border-color: transparent;\n",
              "      border-bottom-color: var(--fill-color);\n",
              "      border-left-color: var(--fill-color);\n",
              "    }\n",
              "    20% {\n",
              "      border-color: transparent;\n",
              "      border-left-color: var(--fill-color);\n",
              "      border-top-color: var(--fill-color);\n",
              "    }\n",
              "    30% {\n",
              "      border-color: transparent;\n",
              "      border-left-color: var(--fill-color);\n",
              "      border-top-color: var(--fill-color);\n",
              "      border-right-color: var(--fill-color);\n",
              "    }\n",
              "    40% {\n",
              "      border-color: transparent;\n",
              "      border-right-color: var(--fill-color);\n",
              "      border-top-color: var(--fill-color);\n",
              "    }\n",
              "    60% {\n",
              "      border-color: transparent;\n",
              "      border-right-color: var(--fill-color);\n",
              "    }\n",
              "    80% {\n",
              "      border-color: transparent;\n",
              "      border-right-color: var(--fill-color);\n",
              "      border-bottom-color: var(--fill-color);\n",
              "    }\n",
              "    90% {\n",
              "      border-color: transparent;\n",
              "      border-bottom-color: var(--fill-color);\n",
              "    }\n",
              "  }\n",
              "</style>\n",
              "\n",
              "  <script>\n",
              "    async function quickchart(key) {\n",
              "      const quickchartButtonEl =\n",
              "        document.querySelector('#' + key + ' button');\n",
              "      quickchartButtonEl.disabled = true;  // To prevent multiple clicks.\n",
              "      quickchartButtonEl.classList.add('colab-df-spinner');\n",
              "      try {\n",
              "        const charts = await google.colab.kernel.invokeFunction(\n",
              "            'suggestCharts', [key], {});\n",
              "      } catch (error) {\n",
              "        console.error('Error during call to suggestCharts:', error);\n",
              "      }\n",
              "      quickchartButtonEl.classList.remove('colab-df-spinner');\n",
              "      quickchartButtonEl.classList.add('colab-df-quickchart-complete');\n",
              "    }\n",
              "    (() => {\n",
              "      let quickchartButtonEl =\n",
              "        document.querySelector('#df-414091ab-a5a8-4989-adce-e0d854b3cf6b button');\n",
              "      quickchartButtonEl.style.display =\n",
              "        google.colab.kernel.accessAllowed ? 'block' : 'none';\n",
              "    })();\n",
              "  </script>\n",
              "</div>\n",
              "    </div>\n",
              "  </div>\n"
            ]
          },
          "metadata": {},
          "execution_count": 40
        }
      ]
    },
    {
      "cell_type": "code",
      "source": [
        "cotacoes_petr[:-1]"
      ],
      "metadata": {
        "colab": {
          "base_uri": "https://localhost:8080/",
          "height": 455
        },
        "id": "1vqS1UK_Uksk",
        "outputId": "20216307-b9e1-46d5-f4b4-906127890484"
      },
      "execution_count": 41,
      "outputs": [
        {
          "output_type": "execute_result",
          "data": {
            "text/plain": [
              "                 Open       High        Low      Close  Adj Close\n",
              "Date                                                             \n",
              "2000-01-03   5.875000   5.875000   5.875000   5.875000   1.872027\n",
              "2000-01-04   5.550000   5.550000   5.550000   5.550000   1.768469\n",
              "2000-01-05   5.494000   5.494000   5.494000   5.494000   1.750625\n",
              "2000-01-06   5.475000   5.475000   5.475000   5.475000   1.744570\n",
              "2000-01-07   5.500000   5.500000   5.500000   5.500000   1.752536\n",
              "...               ...        ...        ...        ...        ...\n",
              "2022-12-12  24.580000  24.660000  23.129999  23.910000  23.910000\n",
              "2022-12-13  24.100000  24.200001  23.309999  23.320000  23.320000\n",
              "2022-12-14  22.500000  22.600000  20.770000  21.469999  21.469999\n",
              "2022-12-15  21.000000  22.370001  20.830000  22.040001  22.040001\n",
              "2022-12-16  21.959999  22.110001  21.510000  22.049999  22.049999\n",
              "\n",
              "[5769 rows x 5 columns]"
            ],
            "text/html": [
              "\n",
              "  <div id=\"df-317e0545-51e8-4c73-8a75-999648965fa1\" class=\"colab-df-container\">\n",
              "    <div>\n",
              "<style scoped>\n",
              "    .dataframe tbody tr th:only-of-type {\n",
              "        vertical-align: middle;\n",
              "    }\n",
              "\n",
              "    .dataframe tbody tr th {\n",
              "        vertical-align: top;\n",
              "    }\n",
              "\n",
              "    .dataframe thead th {\n",
              "        text-align: right;\n",
              "    }\n",
              "</style>\n",
              "<table border=\"1\" class=\"dataframe\">\n",
              "  <thead>\n",
              "    <tr style=\"text-align: right;\">\n",
              "      <th></th>\n",
              "      <th>Open</th>\n",
              "      <th>High</th>\n",
              "      <th>Low</th>\n",
              "      <th>Close</th>\n",
              "      <th>Adj Close</th>\n",
              "    </tr>\n",
              "    <tr>\n",
              "      <th>Date</th>\n",
              "      <th></th>\n",
              "      <th></th>\n",
              "      <th></th>\n",
              "      <th></th>\n",
              "      <th></th>\n",
              "    </tr>\n",
              "  </thead>\n",
              "  <tbody>\n",
              "    <tr>\n",
              "      <th>2000-01-03</th>\n",
              "      <td>5.875000</td>\n",
              "      <td>5.875000</td>\n",
              "      <td>5.875000</td>\n",
              "      <td>5.875000</td>\n",
              "      <td>1.872027</td>\n",
              "    </tr>\n",
              "    <tr>\n",
              "      <th>2000-01-04</th>\n",
              "      <td>5.550000</td>\n",
              "      <td>5.550000</td>\n",
              "      <td>5.550000</td>\n",
              "      <td>5.550000</td>\n",
              "      <td>1.768469</td>\n",
              "    </tr>\n",
              "    <tr>\n",
              "      <th>2000-01-05</th>\n",
              "      <td>5.494000</td>\n",
              "      <td>5.494000</td>\n",
              "      <td>5.494000</td>\n",
              "      <td>5.494000</td>\n",
              "      <td>1.750625</td>\n",
              "    </tr>\n",
              "    <tr>\n",
              "      <th>2000-01-06</th>\n",
              "      <td>5.475000</td>\n",
              "      <td>5.475000</td>\n",
              "      <td>5.475000</td>\n",
              "      <td>5.475000</td>\n",
              "      <td>1.744570</td>\n",
              "    </tr>\n",
              "    <tr>\n",
              "      <th>2000-01-07</th>\n",
              "      <td>5.500000</td>\n",
              "      <td>5.500000</td>\n",
              "      <td>5.500000</td>\n",
              "      <td>5.500000</td>\n",
              "      <td>1.752536</td>\n",
              "    </tr>\n",
              "    <tr>\n",
              "      <th>...</th>\n",
              "      <td>...</td>\n",
              "      <td>...</td>\n",
              "      <td>...</td>\n",
              "      <td>...</td>\n",
              "      <td>...</td>\n",
              "    </tr>\n",
              "    <tr>\n",
              "      <th>2022-12-12</th>\n",
              "      <td>24.580000</td>\n",
              "      <td>24.660000</td>\n",
              "      <td>23.129999</td>\n",
              "      <td>23.910000</td>\n",
              "      <td>23.910000</td>\n",
              "    </tr>\n",
              "    <tr>\n",
              "      <th>2022-12-13</th>\n",
              "      <td>24.100000</td>\n",
              "      <td>24.200001</td>\n",
              "      <td>23.309999</td>\n",
              "      <td>23.320000</td>\n",
              "      <td>23.320000</td>\n",
              "    </tr>\n",
              "    <tr>\n",
              "      <th>2022-12-14</th>\n",
              "      <td>22.500000</td>\n",
              "      <td>22.600000</td>\n",
              "      <td>20.770000</td>\n",
              "      <td>21.469999</td>\n",
              "      <td>21.469999</td>\n",
              "    </tr>\n",
              "    <tr>\n",
              "      <th>2022-12-15</th>\n",
              "      <td>21.000000</td>\n",
              "      <td>22.370001</td>\n",
              "      <td>20.830000</td>\n",
              "      <td>22.040001</td>\n",
              "      <td>22.040001</td>\n",
              "    </tr>\n",
              "    <tr>\n",
              "      <th>2022-12-16</th>\n",
              "      <td>21.959999</td>\n",
              "      <td>22.110001</td>\n",
              "      <td>21.510000</td>\n",
              "      <td>22.049999</td>\n",
              "      <td>22.049999</td>\n",
              "    </tr>\n",
              "  </tbody>\n",
              "</table>\n",
              "<p>5769 rows × 5 columns</p>\n",
              "</div>\n",
              "    <div class=\"colab-df-buttons\">\n",
              "\n",
              "  <div class=\"colab-df-container\">\n",
              "    <button class=\"colab-df-convert\" onclick=\"convertToInteractive('df-317e0545-51e8-4c73-8a75-999648965fa1')\"\n",
              "            title=\"Convert this dataframe to an interactive table.\"\n",
              "            style=\"display:none;\">\n",
              "\n",
              "  <svg xmlns=\"http://www.w3.org/2000/svg\" height=\"24px\" viewBox=\"0 -960 960 960\">\n",
              "    <path d=\"M120-120v-720h720v720H120Zm60-500h600v-160H180v160Zm220 220h160v-160H400v160Zm0 220h160v-160H400v160ZM180-400h160v-160H180v160Zm440 0h160v-160H620v160ZM180-180h160v-160H180v160Zm440 0h160v-160H620v160Z\"/>\n",
              "  </svg>\n",
              "    </button>\n",
              "\n",
              "  <style>\n",
              "    .colab-df-container {\n",
              "      display:flex;\n",
              "      gap: 12px;\n",
              "    }\n",
              "\n",
              "    .colab-df-convert {\n",
              "      background-color: #E8F0FE;\n",
              "      border: none;\n",
              "      border-radius: 50%;\n",
              "      cursor: pointer;\n",
              "      display: none;\n",
              "      fill: #1967D2;\n",
              "      height: 32px;\n",
              "      padding: 0 0 0 0;\n",
              "      width: 32px;\n",
              "    }\n",
              "\n",
              "    .colab-df-convert:hover {\n",
              "      background-color: #E2EBFA;\n",
              "      box-shadow: 0px 1px 2px rgba(60, 64, 67, 0.3), 0px 1px 3px 1px rgba(60, 64, 67, 0.15);\n",
              "      fill: #174EA6;\n",
              "    }\n",
              "\n",
              "    .colab-df-buttons div {\n",
              "      margin-bottom: 4px;\n",
              "    }\n",
              "\n",
              "    [theme=dark] .colab-df-convert {\n",
              "      background-color: #3B4455;\n",
              "      fill: #D2E3FC;\n",
              "    }\n",
              "\n",
              "    [theme=dark] .colab-df-convert:hover {\n",
              "      background-color: #434B5C;\n",
              "      box-shadow: 0px 1px 3px 1px rgba(0, 0, 0, 0.15);\n",
              "      filter: drop-shadow(0px 1px 2px rgba(0, 0, 0, 0.3));\n",
              "      fill: #FFFFFF;\n",
              "    }\n",
              "  </style>\n",
              "\n",
              "    <script>\n",
              "      const buttonEl =\n",
              "        document.querySelector('#df-317e0545-51e8-4c73-8a75-999648965fa1 button.colab-df-convert');\n",
              "      buttonEl.style.display =\n",
              "        google.colab.kernel.accessAllowed ? 'block' : 'none';\n",
              "\n",
              "      async function convertToInteractive(key) {\n",
              "        const element = document.querySelector('#df-317e0545-51e8-4c73-8a75-999648965fa1');\n",
              "        const dataTable =\n",
              "          await google.colab.kernel.invokeFunction('convertToInteractive',\n",
              "                                                    [key], {});\n",
              "        if (!dataTable) return;\n",
              "\n",
              "        const docLinkHtml = 'Like what you see? Visit the ' +\n",
              "          '<a target=\"_blank\" href=https://colab.research.google.com/notebooks/data_table.ipynb>data table notebook</a>'\n",
              "          + ' to learn more about interactive tables.';\n",
              "        element.innerHTML = '';\n",
              "        dataTable['output_type'] = 'display_data';\n",
              "        await google.colab.output.renderOutput(dataTable, element);\n",
              "        const docLink = document.createElement('div');\n",
              "        docLink.innerHTML = docLinkHtml;\n",
              "        element.appendChild(docLink);\n",
              "      }\n",
              "    </script>\n",
              "  </div>\n",
              "\n",
              "\n",
              "<div id=\"df-21f5251b-20ae-42cc-89bb-d5c27d8afe8f\">\n",
              "  <button class=\"colab-df-quickchart\" onclick=\"quickchart('df-21f5251b-20ae-42cc-89bb-d5c27d8afe8f')\"\n",
              "            title=\"Suggest charts.\"\n",
              "            style=\"display:none;\">\n",
              "\n",
              "<svg xmlns=\"http://www.w3.org/2000/svg\" height=\"24px\"viewBox=\"0 0 24 24\"\n",
              "     width=\"24px\">\n",
              "    <g>\n",
              "        <path d=\"M19 3H5c-1.1 0-2 .9-2 2v14c0 1.1.9 2 2 2h14c1.1 0 2-.9 2-2V5c0-1.1-.9-2-2-2zM9 17H7v-7h2v7zm4 0h-2V7h2v10zm4 0h-2v-4h2v4z\"/>\n",
              "    </g>\n",
              "</svg>\n",
              "  </button>\n",
              "\n",
              "<style>\n",
              "  .colab-df-quickchart {\n",
              "      --bg-color: #E8F0FE;\n",
              "      --fill-color: #1967D2;\n",
              "      --hover-bg-color: #E2EBFA;\n",
              "      --hover-fill-color: #174EA6;\n",
              "      --disabled-fill-color: #AAA;\n",
              "      --disabled-bg-color: #DDD;\n",
              "  }\n",
              "\n",
              "  [theme=dark] .colab-df-quickchart {\n",
              "      --bg-color: #3B4455;\n",
              "      --fill-color: #D2E3FC;\n",
              "      --hover-bg-color: #434B5C;\n",
              "      --hover-fill-color: #FFFFFF;\n",
              "      --disabled-bg-color: #3B4455;\n",
              "      --disabled-fill-color: #666;\n",
              "  }\n",
              "\n",
              "  .colab-df-quickchart {\n",
              "    background-color: var(--bg-color);\n",
              "    border: none;\n",
              "    border-radius: 50%;\n",
              "    cursor: pointer;\n",
              "    display: none;\n",
              "    fill: var(--fill-color);\n",
              "    height: 32px;\n",
              "    padding: 0;\n",
              "    width: 32px;\n",
              "  }\n",
              "\n",
              "  .colab-df-quickchart:hover {\n",
              "    background-color: var(--hover-bg-color);\n",
              "    box-shadow: 0 1px 2px rgba(60, 64, 67, 0.3), 0 1px 3px 1px rgba(60, 64, 67, 0.15);\n",
              "    fill: var(--button-hover-fill-color);\n",
              "  }\n",
              "\n",
              "  .colab-df-quickchart-complete:disabled,\n",
              "  .colab-df-quickchart-complete:disabled:hover {\n",
              "    background-color: var(--disabled-bg-color);\n",
              "    fill: var(--disabled-fill-color);\n",
              "    box-shadow: none;\n",
              "  }\n",
              "\n",
              "  .colab-df-spinner {\n",
              "    border: 2px solid var(--fill-color);\n",
              "    border-color: transparent;\n",
              "    border-bottom-color: var(--fill-color);\n",
              "    animation:\n",
              "      spin 1s steps(1) infinite;\n",
              "  }\n",
              "\n",
              "  @keyframes spin {\n",
              "    0% {\n",
              "      border-color: transparent;\n",
              "      border-bottom-color: var(--fill-color);\n",
              "      border-left-color: var(--fill-color);\n",
              "    }\n",
              "    20% {\n",
              "      border-color: transparent;\n",
              "      border-left-color: var(--fill-color);\n",
              "      border-top-color: var(--fill-color);\n",
              "    }\n",
              "    30% {\n",
              "      border-color: transparent;\n",
              "      border-left-color: var(--fill-color);\n",
              "      border-top-color: var(--fill-color);\n",
              "      border-right-color: var(--fill-color);\n",
              "    }\n",
              "    40% {\n",
              "      border-color: transparent;\n",
              "      border-right-color: var(--fill-color);\n",
              "      border-top-color: var(--fill-color);\n",
              "    }\n",
              "    60% {\n",
              "      border-color: transparent;\n",
              "      border-right-color: var(--fill-color);\n",
              "    }\n",
              "    80% {\n",
              "      border-color: transparent;\n",
              "      border-right-color: var(--fill-color);\n",
              "      border-bottom-color: var(--fill-color);\n",
              "    }\n",
              "    90% {\n",
              "      border-color: transparent;\n",
              "      border-bottom-color: var(--fill-color);\n",
              "    }\n",
              "  }\n",
              "</style>\n",
              "\n",
              "  <script>\n",
              "    async function quickchart(key) {\n",
              "      const quickchartButtonEl =\n",
              "        document.querySelector('#' + key + ' button');\n",
              "      quickchartButtonEl.disabled = true;  // To prevent multiple clicks.\n",
              "      quickchartButtonEl.classList.add('colab-df-spinner');\n",
              "      try {\n",
              "        const charts = await google.colab.kernel.invokeFunction(\n",
              "            'suggestCharts', [key], {});\n",
              "      } catch (error) {\n",
              "        console.error('Error during call to suggestCharts:', error);\n",
              "      }\n",
              "      quickchartButtonEl.classList.remove('colab-df-spinner');\n",
              "      quickchartButtonEl.classList.add('colab-df-quickchart-complete');\n",
              "    }\n",
              "    (() => {\n",
              "      let quickchartButtonEl =\n",
              "        document.querySelector('#df-21f5251b-20ae-42cc-89bb-d5c27d8afe8f button');\n",
              "      quickchartButtonEl.style.display =\n",
              "        google.colab.kernel.accessAllowed ? 'block' : 'none';\n",
              "    })();\n",
              "  </script>\n",
              "</div>\n",
              "    </div>\n",
              "  </div>\n"
            ]
          },
          "metadata": {},
          "execution_count": 41
        }
      ]
    },
    {
      "cell_type": "code",
      "source": [
        "cotacoes_petr"
      ],
      "metadata": {
        "colab": {
          "base_uri": "https://localhost:8080/",
          "height": 455
        },
        "id": "4Iq_VCMNU1Fj",
        "outputId": "ad74bb98-d897-45c3-e671-fc2b68f6f69c"
      },
      "execution_count": 42,
      "outputs": [
        {
          "output_type": "execute_result",
          "data": {
            "text/plain": [
              "                 Open       High        Low      Close  Adj Close\n",
              "Date                                                             \n",
              "2000-01-03   5.875000   5.875000   5.875000   5.875000   1.872027\n",
              "2000-01-04   5.550000   5.550000   5.550000   5.550000   1.768469\n",
              "2000-01-05   5.494000   5.494000   5.494000   5.494000   1.750625\n",
              "2000-01-06   5.475000   5.475000   5.475000   5.475000   1.744570\n",
              "2000-01-07   5.500000   5.500000   5.500000   5.500000   1.752536\n",
              "...               ...        ...        ...        ...        ...\n",
              "2022-12-13  24.100000  24.200001  23.309999  23.320000  23.320000\n",
              "2022-12-14  22.500000  22.600000  20.770000  21.469999  21.469999\n",
              "2022-12-15  21.000000  22.370001  20.830000  22.040001  22.040001\n",
              "2022-12-16  21.959999  22.110001  21.510000  22.049999  22.049999\n",
              "2022-12-19  22.100000  22.469999  21.639999  22.350000  22.350000\n",
              "\n",
              "[5770 rows x 5 columns]"
            ],
            "text/html": [
              "\n",
              "  <div id=\"df-99c67023-2db4-4913-a5da-9714ecd89866\" class=\"colab-df-container\">\n",
              "    <div>\n",
              "<style scoped>\n",
              "    .dataframe tbody tr th:only-of-type {\n",
              "        vertical-align: middle;\n",
              "    }\n",
              "\n",
              "    .dataframe tbody tr th {\n",
              "        vertical-align: top;\n",
              "    }\n",
              "\n",
              "    .dataframe thead th {\n",
              "        text-align: right;\n",
              "    }\n",
              "</style>\n",
              "<table border=\"1\" class=\"dataframe\">\n",
              "  <thead>\n",
              "    <tr style=\"text-align: right;\">\n",
              "      <th></th>\n",
              "      <th>Open</th>\n",
              "      <th>High</th>\n",
              "      <th>Low</th>\n",
              "      <th>Close</th>\n",
              "      <th>Adj Close</th>\n",
              "    </tr>\n",
              "    <tr>\n",
              "      <th>Date</th>\n",
              "      <th></th>\n",
              "      <th></th>\n",
              "      <th></th>\n",
              "      <th></th>\n",
              "      <th></th>\n",
              "    </tr>\n",
              "  </thead>\n",
              "  <tbody>\n",
              "    <tr>\n",
              "      <th>2000-01-03</th>\n",
              "      <td>5.875000</td>\n",
              "      <td>5.875000</td>\n",
              "      <td>5.875000</td>\n",
              "      <td>5.875000</td>\n",
              "      <td>1.872027</td>\n",
              "    </tr>\n",
              "    <tr>\n",
              "      <th>2000-01-04</th>\n",
              "      <td>5.550000</td>\n",
              "      <td>5.550000</td>\n",
              "      <td>5.550000</td>\n",
              "      <td>5.550000</td>\n",
              "      <td>1.768469</td>\n",
              "    </tr>\n",
              "    <tr>\n",
              "      <th>2000-01-05</th>\n",
              "      <td>5.494000</td>\n",
              "      <td>5.494000</td>\n",
              "      <td>5.494000</td>\n",
              "      <td>5.494000</td>\n",
              "      <td>1.750625</td>\n",
              "    </tr>\n",
              "    <tr>\n",
              "      <th>2000-01-06</th>\n",
              "      <td>5.475000</td>\n",
              "      <td>5.475000</td>\n",
              "      <td>5.475000</td>\n",
              "      <td>5.475000</td>\n",
              "      <td>1.744570</td>\n",
              "    </tr>\n",
              "    <tr>\n",
              "      <th>2000-01-07</th>\n",
              "      <td>5.500000</td>\n",
              "      <td>5.500000</td>\n",
              "      <td>5.500000</td>\n",
              "      <td>5.500000</td>\n",
              "      <td>1.752536</td>\n",
              "    </tr>\n",
              "    <tr>\n",
              "      <th>...</th>\n",
              "      <td>...</td>\n",
              "      <td>...</td>\n",
              "      <td>...</td>\n",
              "      <td>...</td>\n",
              "      <td>...</td>\n",
              "    </tr>\n",
              "    <tr>\n",
              "      <th>2022-12-13</th>\n",
              "      <td>24.100000</td>\n",
              "      <td>24.200001</td>\n",
              "      <td>23.309999</td>\n",
              "      <td>23.320000</td>\n",
              "      <td>23.320000</td>\n",
              "    </tr>\n",
              "    <tr>\n",
              "      <th>2022-12-14</th>\n",
              "      <td>22.500000</td>\n",
              "      <td>22.600000</td>\n",
              "      <td>20.770000</td>\n",
              "      <td>21.469999</td>\n",
              "      <td>21.469999</td>\n",
              "    </tr>\n",
              "    <tr>\n",
              "      <th>2022-12-15</th>\n",
              "      <td>21.000000</td>\n",
              "      <td>22.370001</td>\n",
              "      <td>20.830000</td>\n",
              "      <td>22.040001</td>\n",
              "      <td>22.040001</td>\n",
              "    </tr>\n",
              "    <tr>\n",
              "      <th>2022-12-16</th>\n",
              "      <td>21.959999</td>\n",
              "      <td>22.110001</td>\n",
              "      <td>21.510000</td>\n",
              "      <td>22.049999</td>\n",
              "      <td>22.049999</td>\n",
              "    </tr>\n",
              "    <tr>\n",
              "      <th>2022-12-19</th>\n",
              "      <td>22.100000</td>\n",
              "      <td>22.469999</td>\n",
              "      <td>21.639999</td>\n",
              "      <td>22.350000</td>\n",
              "      <td>22.350000</td>\n",
              "    </tr>\n",
              "  </tbody>\n",
              "</table>\n",
              "<p>5770 rows × 5 columns</p>\n",
              "</div>\n",
              "    <div class=\"colab-df-buttons\">\n",
              "\n",
              "  <div class=\"colab-df-container\">\n",
              "    <button class=\"colab-df-convert\" onclick=\"convertToInteractive('df-99c67023-2db4-4913-a5da-9714ecd89866')\"\n",
              "            title=\"Convert this dataframe to an interactive table.\"\n",
              "            style=\"display:none;\">\n",
              "\n",
              "  <svg xmlns=\"http://www.w3.org/2000/svg\" height=\"24px\" viewBox=\"0 -960 960 960\">\n",
              "    <path d=\"M120-120v-720h720v720H120Zm60-500h600v-160H180v160Zm220 220h160v-160H400v160Zm0 220h160v-160H400v160ZM180-400h160v-160H180v160Zm440 0h160v-160H620v160ZM180-180h160v-160H180v160Zm440 0h160v-160H620v160Z\"/>\n",
              "  </svg>\n",
              "    </button>\n",
              "\n",
              "  <style>\n",
              "    .colab-df-container {\n",
              "      display:flex;\n",
              "      gap: 12px;\n",
              "    }\n",
              "\n",
              "    .colab-df-convert {\n",
              "      background-color: #E8F0FE;\n",
              "      border: none;\n",
              "      border-radius: 50%;\n",
              "      cursor: pointer;\n",
              "      display: none;\n",
              "      fill: #1967D2;\n",
              "      height: 32px;\n",
              "      padding: 0 0 0 0;\n",
              "      width: 32px;\n",
              "    }\n",
              "\n",
              "    .colab-df-convert:hover {\n",
              "      background-color: #E2EBFA;\n",
              "      box-shadow: 0px 1px 2px rgba(60, 64, 67, 0.3), 0px 1px 3px 1px rgba(60, 64, 67, 0.15);\n",
              "      fill: #174EA6;\n",
              "    }\n",
              "\n",
              "    .colab-df-buttons div {\n",
              "      margin-bottom: 4px;\n",
              "    }\n",
              "\n",
              "    [theme=dark] .colab-df-convert {\n",
              "      background-color: #3B4455;\n",
              "      fill: #D2E3FC;\n",
              "    }\n",
              "\n",
              "    [theme=dark] .colab-df-convert:hover {\n",
              "      background-color: #434B5C;\n",
              "      box-shadow: 0px 1px 3px 1px rgba(0, 0, 0, 0.15);\n",
              "      filter: drop-shadow(0px 1px 2px rgba(0, 0, 0, 0.3));\n",
              "      fill: #FFFFFF;\n",
              "    }\n",
              "  </style>\n",
              "\n",
              "    <script>\n",
              "      const buttonEl =\n",
              "        document.querySelector('#df-99c67023-2db4-4913-a5da-9714ecd89866 button.colab-df-convert');\n",
              "      buttonEl.style.display =\n",
              "        google.colab.kernel.accessAllowed ? 'block' : 'none';\n",
              "\n",
              "      async function convertToInteractive(key) {\n",
              "        const element = document.querySelector('#df-99c67023-2db4-4913-a5da-9714ecd89866');\n",
              "        const dataTable =\n",
              "          await google.colab.kernel.invokeFunction('convertToInteractive',\n",
              "                                                    [key], {});\n",
              "        if (!dataTable) return;\n",
              "\n",
              "        const docLinkHtml = 'Like what you see? Visit the ' +\n",
              "          '<a target=\"_blank\" href=https://colab.research.google.com/notebooks/data_table.ipynb>data table notebook</a>'\n",
              "          + ' to learn more about interactive tables.';\n",
              "        element.innerHTML = '';\n",
              "        dataTable['output_type'] = 'display_data';\n",
              "        await google.colab.output.renderOutput(dataTable, element);\n",
              "        const docLink = document.createElement('div');\n",
              "        docLink.innerHTML = docLinkHtml;\n",
              "        element.appendChild(docLink);\n",
              "      }\n",
              "    </script>\n",
              "  </div>\n",
              "\n",
              "\n",
              "<div id=\"df-2972691c-043c-412f-8f76-374205cc9577\">\n",
              "  <button class=\"colab-df-quickchart\" onclick=\"quickchart('df-2972691c-043c-412f-8f76-374205cc9577')\"\n",
              "            title=\"Suggest charts.\"\n",
              "            style=\"display:none;\">\n",
              "\n",
              "<svg xmlns=\"http://www.w3.org/2000/svg\" height=\"24px\"viewBox=\"0 0 24 24\"\n",
              "     width=\"24px\">\n",
              "    <g>\n",
              "        <path d=\"M19 3H5c-1.1 0-2 .9-2 2v14c0 1.1.9 2 2 2h14c1.1 0 2-.9 2-2V5c0-1.1-.9-2-2-2zM9 17H7v-7h2v7zm4 0h-2V7h2v10zm4 0h-2v-4h2v4z\"/>\n",
              "    </g>\n",
              "</svg>\n",
              "  </button>\n",
              "\n",
              "<style>\n",
              "  .colab-df-quickchart {\n",
              "      --bg-color: #E8F0FE;\n",
              "      --fill-color: #1967D2;\n",
              "      --hover-bg-color: #E2EBFA;\n",
              "      --hover-fill-color: #174EA6;\n",
              "      --disabled-fill-color: #AAA;\n",
              "      --disabled-bg-color: #DDD;\n",
              "  }\n",
              "\n",
              "  [theme=dark] .colab-df-quickchart {\n",
              "      --bg-color: #3B4455;\n",
              "      --fill-color: #D2E3FC;\n",
              "      --hover-bg-color: #434B5C;\n",
              "      --hover-fill-color: #FFFFFF;\n",
              "      --disabled-bg-color: #3B4455;\n",
              "      --disabled-fill-color: #666;\n",
              "  }\n",
              "\n",
              "  .colab-df-quickchart {\n",
              "    background-color: var(--bg-color);\n",
              "    border: none;\n",
              "    border-radius: 50%;\n",
              "    cursor: pointer;\n",
              "    display: none;\n",
              "    fill: var(--fill-color);\n",
              "    height: 32px;\n",
              "    padding: 0;\n",
              "    width: 32px;\n",
              "  }\n",
              "\n",
              "  .colab-df-quickchart:hover {\n",
              "    background-color: var(--hover-bg-color);\n",
              "    box-shadow: 0 1px 2px rgba(60, 64, 67, 0.3), 0 1px 3px 1px rgba(60, 64, 67, 0.15);\n",
              "    fill: var(--button-hover-fill-color);\n",
              "  }\n",
              "\n",
              "  .colab-df-quickchart-complete:disabled,\n",
              "  .colab-df-quickchart-complete:disabled:hover {\n",
              "    background-color: var(--disabled-bg-color);\n",
              "    fill: var(--disabled-fill-color);\n",
              "    box-shadow: none;\n",
              "  }\n",
              "\n",
              "  .colab-df-spinner {\n",
              "    border: 2px solid var(--fill-color);\n",
              "    border-color: transparent;\n",
              "    border-bottom-color: var(--fill-color);\n",
              "    animation:\n",
              "      spin 1s steps(1) infinite;\n",
              "  }\n",
              "\n",
              "  @keyframes spin {\n",
              "    0% {\n",
              "      border-color: transparent;\n",
              "      border-bottom-color: var(--fill-color);\n",
              "      border-left-color: var(--fill-color);\n",
              "    }\n",
              "    20% {\n",
              "      border-color: transparent;\n",
              "      border-left-color: var(--fill-color);\n",
              "      border-top-color: var(--fill-color);\n",
              "    }\n",
              "    30% {\n",
              "      border-color: transparent;\n",
              "      border-left-color: var(--fill-color);\n",
              "      border-top-color: var(--fill-color);\n",
              "      border-right-color: var(--fill-color);\n",
              "    }\n",
              "    40% {\n",
              "      border-color: transparent;\n",
              "      border-right-color: var(--fill-color);\n",
              "      border-top-color: var(--fill-color);\n",
              "    }\n",
              "    60% {\n",
              "      border-color: transparent;\n",
              "      border-right-color: var(--fill-color);\n",
              "    }\n",
              "    80% {\n",
              "      border-color: transparent;\n",
              "      border-right-color: var(--fill-color);\n",
              "      border-bottom-color: var(--fill-color);\n",
              "    }\n",
              "    90% {\n",
              "      border-color: transparent;\n",
              "      border-bottom-color: var(--fill-color);\n",
              "    }\n",
              "  }\n",
              "</style>\n",
              "\n",
              "  <script>\n",
              "    async function quickchart(key) {\n",
              "      const quickchartButtonEl =\n",
              "        document.querySelector('#' + key + ' button');\n",
              "      quickchartButtonEl.disabled = true;  // To prevent multiple clicks.\n",
              "      quickchartButtonEl.classList.add('colab-df-spinner');\n",
              "      try {\n",
              "        const charts = await google.colab.kernel.invokeFunction(\n",
              "            'suggestCharts', [key], {});\n",
              "      } catch (error) {\n",
              "        console.error('Error during call to suggestCharts:', error);\n",
              "      }\n",
              "      quickchartButtonEl.classList.remove('colab-df-spinner');\n",
              "      quickchartButtonEl.classList.add('colab-df-quickchart-complete');\n",
              "    }\n",
              "    (() => {\n",
              "      let quickchartButtonEl =\n",
              "        document.querySelector('#df-2972691c-043c-412f-8f76-374205cc9577 button');\n",
              "      quickchartButtonEl.style.display =\n",
              "        google.colab.kernel.accessAllowed ? 'block' : 'none';\n",
              "    })();\n",
              "  </script>\n",
              "</div>\n",
              "    </div>\n",
              "  </div>\n"
            ]
          },
          "metadata": {},
          "execution_count": 42
        }
      ]
    },
    {
      "cell_type": "code",
      "source": [
        "cotacoes_petr[-3:]"
      ],
      "metadata": {
        "colab": {
          "base_uri": "https://localhost:8080/",
          "height": 174
        },
        "id": "KppJTf2iU3m0",
        "outputId": "1124cc77-92e7-493c-c288-2998e1e81704"
      },
      "execution_count": 43,
      "outputs": [
        {
          "output_type": "execute_result",
          "data": {
            "text/plain": [
              "                 Open       High        Low      Close  Adj Close\n",
              "Date                                                             \n",
              "2022-12-15  21.000000  22.370001  20.830000  22.040001  22.040001\n",
              "2022-12-16  21.959999  22.110001  21.510000  22.049999  22.049999\n",
              "2022-12-19  22.100000  22.469999  21.639999  22.350000  22.350000"
            ],
            "text/html": [
              "\n",
              "  <div id=\"df-3c2b76bf-4a8c-421b-9b96-39ab2e2e5923\" class=\"colab-df-container\">\n",
              "    <div>\n",
              "<style scoped>\n",
              "    .dataframe tbody tr th:only-of-type {\n",
              "        vertical-align: middle;\n",
              "    }\n",
              "\n",
              "    .dataframe tbody tr th {\n",
              "        vertical-align: top;\n",
              "    }\n",
              "\n",
              "    .dataframe thead th {\n",
              "        text-align: right;\n",
              "    }\n",
              "</style>\n",
              "<table border=\"1\" class=\"dataframe\">\n",
              "  <thead>\n",
              "    <tr style=\"text-align: right;\">\n",
              "      <th></th>\n",
              "      <th>Open</th>\n",
              "      <th>High</th>\n",
              "      <th>Low</th>\n",
              "      <th>Close</th>\n",
              "      <th>Adj Close</th>\n",
              "    </tr>\n",
              "    <tr>\n",
              "      <th>Date</th>\n",
              "      <th></th>\n",
              "      <th></th>\n",
              "      <th></th>\n",
              "      <th></th>\n",
              "      <th></th>\n",
              "    </tr>\n",
              "  </thead>\n",
              "  <tbody>\n",
              "    <tr>\n",
              "      <th>2022-12-15</th>\n",
              "      <td>21.000000</td>\n",
              "      <td>22.370001</td>\n",
              "      <td>20.830000</td>\n",
              "      <td>22.040001</td>\n",
              "      <td>22.040001</td>\n",
              "    </tr>\n",
              "    <tr>\n",
              "      <th>2022-12-16</th>\n",
              "      <td>21.959999</td>\n",
              "      <td>22.110001</td>\n",
              "      <td>21.510000</td>\n",
              "      <td>22.049999</td>\n",
              "      <td>22.049999</td>\n",
              "    </tr>\n",
              "    <tr>\n",
              "      <th>2022-12-19</th>\n",
              "      <td>22.100000</td>\n",
              "      <td>22.469999</td>\n",
              "      <td>21.639999</td>\n",
              "      <td>22.350000</td>\n",
              "      <td>22.350000</td>\n",
              "    </tr>\n",
              "  </tbody>\n",
              "</table>\n",
              "</div>\n",
              "    <div class=\"colab-df-buttons\">\n",
              "\n",
              "  <div class=\"colab-df-container\">\n",
              "    <button class=\"colab-df-convert\" onclick=\"convertToInteractive('df-3c2b76bf-4a8c-421b-9b96-39ab2e2e5923')\"\n",
              "            title=\"Convert this dataframe to an interactive table.\"\n",
              "            style=\"display:none;\">\n",
              "\n",
              "  <svg xmlns=\"http://www.w3.org/2000/svg\" height=\"24px\" viewBox=\"0 -960 960 960\">\n",
              "    <path d=\"M120-120v-720h720v720H120Zm60-500h600v-160H180v160Zm220 220h160v-160H400v160Zm0 220h160v-160H400v160ZM180-400h160v-160H180v160Zm440 0h160v-160H620v160ZM180-180h160v-160H180v160Zm440 0h160v-160H620v160Z\"/>\n",
              "  </svg>\n",
              "    </button>\n",
              "\n",
              "  <style>\n",
              "    .colab-df-container {\n",
              "      display:flex;\n",
              "      gap: 12px;\n",
              "    }\n",
              "\n",
              "    .colab-df-convert {\n",
              "      background-color: #E8F0FE;\n",
              "      border: none;\n",
              "      border-radius: 50%;\n",
              "      cursor: pointer;\n",
              "      display: none;\n",
              "      fill: #1967D2;\n",
              "      height: 32px;\n",
              "      padding: 0 0 0 0;\n",
              "      width: 32px;\n",
              "    }\n",
              "\n",
              "    .colab-df-convert:hover {\n",
              "      background-color: #E2EBFA;\n",
              "      box-shadow: 0px 1px 2px rgba(60, 64, 67, 0.3), 0px 1px 3px 1px rgba(60, 64, 67, 0.15);\n",
              "      fill: #174EA6;\n",
              "    }\n",
              "\n",
              "    .colab-df-buttons div {\n",
              "      margin-bottom: 4px;\n",
              "    }\n",
              "\n",
              "    [theme=dark] .colab-df-convert {\n",
              "      background-color: #3B4455;\n",
              "      fill: #D2E3FC;\n",
              "    }\n",
              "\n",
              "    [theme=dark] .colab-df-convert:hover {\n",
              "      background-color: #434B5C;\n",
              "      box-shadow: 0px 1px 3px 1px rgba(0, 0, 0, 0.15);\n",
              "      filter: drop-shadow(0px 1px 2px rgba(0, 0, 0, 0.3));\n",
              "      fill: #FFFFFF;\n",
              "    }\n",
              "  </style>\n",
              "\n",
              "    <script>\n",
              "      const buttonEl =\n",
              "        document.querySelector('#df-3c2b76bf-4a8c-421b-9b96-39ab2e2e5923 button.colab-df-convert');\n",
              "      buttonEl.style.display =\n",
              "        google.colab.kernel.accessAllowed ? 'block' : 'none';\n",
              "\n",
              "      async function convertToInteractive(key) {\n",
              "        const element = document.querySelector('#df-3c2b76bf-4a8c-421b-9b96-39ab2e2e5923');\n",
              "        const dataTable =\n",
              "          await google.colab.kernel.invokeFunction('convertToInteractive',\n",
              "                                                    [key], {});\n",
              "        if (!dataTable) return;\n",
              "\n",
              "        const docLinkHtml = 'Like what you see? Visit the ' +\n",
              "          '<a target=\"_blank\" href=https://colab.research.google.com/notebooks/data_table.ipynb>data table notebook</a>'\n",
              "          + ' to learn more about interactive tables.';\n",
              "        element.innerHTML = '';\n",
              "        dataTable['output_type'] = 'display_data';\n",
              "        await google.colab.output.renderOutput(dataTable, element);\n",
              "        const docLink = document.createElement('div');\n",
              "        docLink.innerHTML = docLinkHtml;\n",
              "        element.appendChild(docLink);\n",
              "      }\n",
              "    </script>\n",
              "  </div>\n",
              "\n",
              "\n",
              "<div id=\"df-ed5e6ae3-a984-4d94-8236-7c731ab30337\">\n",
              "  <button class=\"colab-df-quickchart\" onclick=\"quickchart('df-ed5e6ae3-a984-4d94-8236-7c731ab30337')\"\n",
              "            title=\"Suggest charts.\"\n",
              "            style=\"display:none;\">\n",
              "\n",
              "<svg xmlns=\"http://www.w3.org/2000/svg\" height=\"24px\"viewBox=\"0 0 24 24\"\n",
              "     width=\"24px\">\n",
              "    <g>\n",
              "        <path d=\"M19 3H5c-1.1 0-2 .9-2 2v14c0 1.1.9 2 2 2h14c1.1 0 2-.9 2-2V5c0-1.1-.9-2-2-2zM9 17H7v-7h2v7zm4 0h-2V7h2v10zm4 0h-2v-4h2v4z\"/>\n",
              "    </g>\n",
              "</svg>\n",
              "  </button>\n",
              "\n",
              "<style>\n",
              "  .colab-df-quickchart {\n",
              "      --bg-color: #E8F0FE;\n",
              "      --fill-color: #1967D2;\n",
              "      --hover-bg-color: #E2EBFA;\n",
              "      --hover-fill-color: #174EA6;\n",
              "      --disabled-fill-color: #AAA;\n",
              "      --disabled-bg-color: #DDD;\n",
              "  }\n",
              "\n",
              "  [theme=dark] .colab-df-quickchart {\n",
              "      --bg-color: #3B4455;\n",
              "      --fill-color: #D2E3FC;\n",
              "      --hover-bg-color: #434B5C;\n",
              "      --hover-fill-color: #FFFFFF;\n",
              "      --disabled-bg-color: #3B4455;\n",
              "      --disabled-fill-color: #666;\n",
              "  }\n",
              "\n",
              "  .colab-df-quickchart {\n",
              "    background-color: var(--bg-color);\n",
              "    border: none;\n",
              "    border-radius: 50%;\n",
              "    cursor: pointer;\n",
              "    display: none;\n",
              "    fill: var(--fill-color);\n",
              "    height: 32px;\n",
              "    padding: 0;\n",
              "    width: 32px;\n",
              "  }\n",
              "\n",
              "  .colab-df-quickchart:hover {\n",
              "    background-color: var(--hover-bg-color);\n",
              "    box-shadow: 0 1px 2px rgba(60, 64, 67, 0.3), 0 1px 3px 1px rgba(60, 64, 67, 0.15);\n",
              "    fill: var(--button-hover-fill-color);\n",
              "  }\n",
              "\n",
              "  .colab-df-quickchart-complete:disabled,\n",
              "  .colab-df-quickchart-complete:disabled:hover {\n",
              "    background-color: var(--disabled-bg-color);\n",
              "    fill: var(--disabled-fill-color);\n",
              "    box-shadow: none;\n",
              "  }\n",
              "\n",
              "  .colab-df-spinner {\n",
              "    border: 2px solid var(--fill-color);\n",
              "    border-color: transparent;\n",
              "    border-bottom-color: var(--fill-color);\n",
              "    animation:\n",
              "      spin 1s steps(1) infinite;\n",
              "  }\n",
              "\n",
              "  @keyframes spin {\n",
              "    0% {\n",
              "      border-color: transparent;\n",
              "      border-bottom-color: var(--fill-color);\n",
              "      border-left-color: var(--fill-color);\n",
              "    }\n",
              "    20% {\n",
              "      border-color: transparent;\n",
              "      border-left-color: var(--fill-color);\n",
              "      border-top-color: var(--fill-color);\n",
              "    }\n",
              "    30% {\n",
              "      border-color: transparent;\n",
              "      border-left-color: var(--fill-color);\n",
              "      border-top-color: var(--fill-color);\n",
              "      border-right-color: var(--fill-color);\n",
              "    }\n",
              "    40% {\n",
              "      border-color: transparent;\n",
              "      border-right-color: var(--fill-color);\n",
              "      border-top-color: var(--fill-color);\n",
              "    }\n",
              "    60% {\n",
              "      border-color: transparent;\n",
              "      border-right-color: var(--fill-color);\n",
              "    }\n",
              "    80% {\n",
              "      border-color: transparent;\n",
              "      border-right-color: var(--fill-color);\n",
              "      border-bottom-color: var(--fill-color);\n",
              "    }\n",
              "    90% {\n",
              "      border-color: transparent;\n",
              "      border-bottom-color: var(--fill-color);\n",
              "    }\n",
              "  }\n",
              "</style>\n",
              "\n",
              "  <script>\n",
              "    async function quickchart(key) {\n",
              "      const quickchartButtonEl =\n",
              "        document.querySelector('#' + key + ' button');\n",
              "      quickchartButtonEl.disabled = true;  // To prevent multiple clicks.\n",
              "      quickchartButtonEl.classList.add('colab-df-spinner');\n",
              "      try {\n",
              "        const charts = await google.colab.kernel.invokeFunction(\n",
              "            'suggestCharts', [key], {});\n",
              "      } catch (error) {\n",
              "        console.error('Error during call to suggestCharts:', error);\n",
              "      }\n",
              "      quickchartButtonEl.classList.remove('colab-df-spinner');\n",
              "      quickchartButtonEl.classList.add('colab-df-quickchart-complete');\n",
              "    }\n",
              "    (() => {\n",
              "      let quickchartButtonEl =\n",
              "        document.querySelector('#df-ed5e6ae3-a984-4d94-8236-7c731ab30337 button');\n",
              "      quickchartButtonEl.style.display =\n",
              "        google.colab.kernel.accessAllowed ? 'block' : 'none';\n",
              "    })();\n",
              "  </script>\n",
              "</div>\n",
              "    </div>\n",
              "  </div>\n"
            ]
          },
          "metadata": {},
          "execution_count": 43
        }
      ]
    },
    {
      "cell_type": "markdown",
      "source": [
        "## 2.3. Acessar células específicas do dataframe: filtros simples e shift"
      ],
      "metadata": {
        "id": "VSMc733LU_0M"
      }
    },
    {
      "cell_type": "markdown",
      "source": [
        "Imagine que você trabalha precisa selecionar alguns valores de OHLC para dias específicos. Como você poderia fazer?\n",
        "\n",
        "É para resolver problemas assim que existem os métodos .loc e .iloc. Como eles funcionam?\n",
        "\n",
        "Uma das ideias desses métodos é de possibilitar um filtro nos nossos dados para obter uma linha ou célula específicas."
      ],
      "metadata": {
        "id": "mLoP34MUaiIc"
      }
    },
    {
      "cell_type": "code",
      "source": [
        "cotacoes_petr.head()"
      ],
      "metadata": {
        "id": "KEN0nKuxam5q"
      },
      "execution_count": null,
      "outputs": []
    },
    {
      "cell_type": "markdown",
      "source": [
        "### 2.3.1. O método .loc"
      ],
      "metadata": {
        "id": "2gHuqgVwayPr"
      }
    },
    {
      "cell_type": "markdown",
      "source": [
        "O .loc é utilizado quando o filtro deve ser feito com a métrica em uso no índice do nosso dataframe.\n",
        "\n",
        "Por exemplo, a métrica utilizada como índice no nosso dataframe é data. Portanto, nesse caso devemos usar o .loc com a data que queremos fazer o filtro.\n",
        "\n",
        "Imagine que o seu gestor te perguntou quais eram os valores de OHLC de PETR4 no dia 26/05/21\n",
        "\n",
        "Você poderia ter feito assim:"
      ],
      "metadata": {
        "id": "SJVqgVUma2ca"
      }
    },
    {
      "cell_type": "code",
      "source": [
        "cotacoes_petr.loc['2021-05-26']"
      ],
      "metadata": {
        "id": "72IdEBv6bAbI"
      },
      "execution_count": null,
      "outputs": []
    },
    {
      "cell_type": "code",
      "source": [
        "pd.DataFrame(cotacoes_petr.loc['2021-05-26'])"
      ],
      "metadata": {
        "id": "m1nlIk3xbOJz"
      },
      "execution_count": null,
      "outputs": []
    },
    {
      "cell_type": "code",
      "source": [
        "petr_filtrada = cotacoes_petr.loc['2021-05-26']"
      ],
      "metadata": {
        "id": "IKYoBgGAbTUT"
      },
      "execution_count": null,
      "outputs": []
    },
    {
      "cell_type": "code",
      "source": [
        "petr_filtrada"
      ],
      "metadata": {
        "id": "v-3CyQNHbY8D"
      },
      "execution_count": null,
      "outputs": []
    },
    {
      "cell_type": "markdown",
      "source": [
        "Para obter os dados entre duas datas específicas"
      ],
      "metadata": {
        "id": "U9qcfgMkbZ4j"
      }
    },
    {
      "cell_type": "code",
      "source": [
        "petr_filtrada = cotacoes_petr.loc['2020-01-01':'2021-05-26']"
      ],
      "metadata": {
        "id": "C3ntxzfAbgEz"
      },
      "execution_count": null,
      "outputs": []
    },
    {
      "cell_type": "code",
      "source": [
        "petr_filtrada.plot();"
      ],
      "metadata": {
        "id": "xOYvYb9vbqjC"
      },
      "execution_count": null,
      "outputs": []
    },
    {
      "cell_type": "markdown",
      "source": [
        "Embora mais usualmente usados em relação ao index, esses métodos também podem ser usados para acessar não apenas linhas mas colunas"
      ],
      "metadata": {
        "id": "UmVoVFSDbsRr"
      }
    },
    {
      "cell_type": "code",
      "source": [
        "petr_filtrada = cotacoes_petr.loc['2020-01-01':'2021-05-26', 'Close']"
      ],
      "metadata": {
        "id": "jH5PpaJ4b6uV"
      },
      "execution_count": null,
      "outputs": []
    },
    {
      "cell_type": "code",
      "source": [
        "petr_filtrada.plot();"
      ],
      "metadata": {
        "id": "SFFjTTgQb-0q"
      },
      "execution_count": null,
      "outputs": []
    },
    {
      "cell_type": "code",
      "source": [
        "petr_filtrada = cotacoes_petr.loc['2021-02-01':'2021-05-26', ['Open','Close']]\n",
        "petr_filtrada.plot();"
      ],
      "metadata": {
        "id": "dmomdi9qcAT6"
      },
      "execution_count": null,
      "outputs": []
    },
    {
      "cell_type": "markdown",
      "source": [
        "Filtrando a partir de uma data específica e indo até o último dia disponível"
      ],
      "metadata": {
        "id": "W32OoKrFcSQ6"
      }
    },
    {
      "cell_type": "code",
      "source": [
        "petr_filtrada = cotacoes_petr.loc['2021-02-01':]\n",
        "petr_filtrada.plot();"
      ],
      "metadata": {
        "id": "mmTPqS1Rcc3r"
      },
      "execution_count": null,
      "outputs": []
    },
    {
      "cell_type": "markdown",
      "source": [
        "Obtendo os dados desde o início e indo até uma data limite específica, nesse caso 26/03/2017"
      ],
      "metadata": {
        "id": "rSIpQPRtcrO5"
      }
    },
    {
      "cell_type": "code",
      "source": [
        "petr_filtrada = cotacoes_petr.loc[:'2017-03-26']\n",
        "petr_filtrada.plot();"
      ],
      "metadata": {
        "id": "DNfeBGMicwp8"
      },
      "execution_count": null,
      "outputs": []
    },
    {
      "cell_type": "code",
      "source": [
        "petr_filtrada"
      ],
      "metadata": {
        "id": "CFW0ZLojdXwL"
      },
      "execution_count": null,
      "outputs": []
    },
    {
      "cell_type": "markdown",
      "source": [
        "### 2.3.2. O método .iloc"
      ],
      "metadata": {
        "id": "8UXWvsCrc3na"
      }
    },
    {
      "cell_type": "markdown",
      "source": [
        "O .iloc é utilizado quando o filtro deve ser feito com a posição da linha dentro do nosso dataframe.\n",
        "\n",
        "Por exemplo, caso você precise da linha 0 ou linha 1. Ou mesmo se precisar da linha 200 até a linha 500.\n",
        "\n",
        "Exemplos:"
      ],
      "metadata": {
        "id": "PtSu02i-dBGc"
      }
    },
    {
      "cell_type": "markdown",
      "source": [
        "Obtendo a linha 0 (primeira linha, excluindo o cabeçalho)"
      ],
      "metadata": {
        "id": "veUUsvHFdcpf"
      }
    },
    {
      "cell_type": "code",
      "source": [
        "cotacoes_petr.iloc[0]"
      ],
      "metadata": {
        "id": "VZPtxlP9djAi"
      },
      "execution_count": null,
      "outputs": []
    },
    {
      "cell_type": "code",
      "source": [
        "cotacoes_petr.iloc[1]"
      ],
      "metadata": {
        "id": "w_G8TRzRdmeq"
      },
      "execution_count": null,
      "outputs": []
    },
    {
      "cell_type": "code",
      "source": [
        "cotacoes_petr.iloc[200]"
      ],
      "metadata": {
        "id": "MV3uuyqfdnha"
      },
      "execution_count": null,
      "outputs": []
    },
    {
      "cell_type": "markdown",
      "source": [
        "Obtendo a última linha"
      ],
      "metadata": {
        "id": "cydBuGRsdz1S"
      }
    },
    {
      "cell_type": "code",
      "source": [
        "cotacoes_petr.iloc[-1]"
      ],
      "metadata": {
        "id": "i4v9EyZ8eVIR"
      },
      "execution_count": null,
      "outputs": []
    },
    {
      "cell_type": "markdown",
      "source": [
        "Obtendo da linha 20 até a linha 200 (lembrando também da indexação, 200 não inclusiva)"
      ],
      "metadata": {
        "id": "5HuTZySJeXXp"
      }
    },
    {
      "cell_type": "code",
      "source": [
        "cotacoes_petr.iloc[20:200]"
      ],
      "metadata": {
        "id": "EN7ml5LbebTZ"
      },
      "execution_count": null,
      "outputs": []
    },
    {
      "cell_type": "code",
      "source": [
        "petr_filtrada = cotacoes_petr.iloc[20:200]"
      ],
      "metadata": {
        "id": "x9rzXy_3efUl"
      },
      "execution_count": null,
      "outputs": []
    },
    {
      "cell_type": "code",
      "source": [
        "petr_filtrada.plot();"
      ],
      "metadata": {
        "id": "cry2_hdleixi"
      },
      "execution_count": null,
      "outputs": []
    },
    {
      "cell_type": "markdown",
      "source": [
        "Obtendo todas as linhas até a linha 100 (linha 100 não entra)"
      ],
      "metadata": {
        "id": "HOVLpmVLelAq"
      }
    },
    {
      "cell_type": "code",
      "source": [
        "petr_filtrada = cotacoes_petr.iloc[:100]\n",
        "petr_filtrada.plot();"
      ],
      "metadata": {
        "id": "v4B-U0WFetqt"
      },
      "execution_count": null,
      "outputs": []
    },
    {
      "cell_type": "code",
      "source": [
        "petr_filtrada = cotacoes_petr.iloc[4000:]\n",
        "petr_filtrada.plot();"
      ],
      "metadata": {
        "id": "xvYd3rc_eyxi"
      },
      "execution_count": null,
      "outputs": []
    },
    {
      "cell_type": "markdown",
      "source": [
        "Da mesma que fizemos com o loc, incluindo o filtro de linhas e colunas no iloc"
      ],
      "metadata": {
        "id": "805HVyAZe206"
      }
    },
    {
      "cell_type": "code",
      "source": [
        "cotacoes_petr.iloc[0:5, [0,3,4]]"
      ],
      "metadata": {
        "id": "TcQIeegvfGTP"
      },
      "execution_count": null,
      "outputs": []
    },
    {
      "cell_type": "code",
      "source": [
        "cotacoes_petr.iloc[0:5, 2:4]"
      ],
      "metadata": {
        "id": "RS6pBEuIfH5Z"
      },
      "execution_count": null,
      "outputs": []
    },
    {
      "cell_type": "markdown",
      "source": [
        "Também conseguimos fazer filtro de várias colunas usando o loc"
      ],
      "metadata": {
        "id": "vA4GOR5qfnkK"
      }
    },
    {
      "cell_type": "markdown",
      "source": [
        "Vazio incluindo todas as linhas"
      ],
      "metadata": {
        "id": "-DppQW8tgs_i"
      }
    },
    {
      "cell_type": "code",
      "source": [
        "cotacoes_petr.loc[:,['Open','Close']]"
      ],
      "metadata": {
        "id": "qhWS1vrpgk_A"
      },
      "execution_count": null,
      "outputs": []
    },
    {
      "cell_type": "markdown",
      "source": [
        "Vazio incluindo todas as linhas de duas em duas"
      ],
      "metadata": {
        "id": "TBVA9iqfg1Jj"
      }
    },
    {
      "cell_type": "code",
      "source": [
        "cotacoes_petr.loc[::2,['Open','Close']]"
      ],
      "metadata": {
        "id": "tEyoSD9FhCTx"
      },
      "execution_count": null,
      "outputs": []
    },
    {
      "cell_type": "markdown",
      "source": [
        "Invertendo os dados de trás pra frente"
      ],
      "metadata": {
        "id": "BEKrxxBHhMHx"
      }
    },
    {
      "cell_type": "code",
      "source": [
        "petr_invertida = cotacoes_petr.iloc[::-1]\n",
        "\n",
        "petr_invertida.plot();"
      ],
      "metadata": {
        "id": "lhBb8jNxhUmJ"
      },
      "execution_count": null,
      "outputs": []
    },
    {
      "cell_type": "markdown",
      "source": [
        "### 2.3.3. O método .shift"
      ],
      "metadata": {
        "id": "pNjTWkWGhkX5"
      }
    },
    {
      "cell_type": "markdown",
      "source": [
        "Permite acessar linhas anteriores, extramamente útil em dados séries temporais.\n",
        "\n",
        "Ex., criar uma coluna com o fechamento do dia anterior"
      ],
      "metadata": {
        "id": "EBYFdEHQhtiP"
      }
    },
    {
      "cell_type": "code",
      "source": [
        "cotacoes_petr.head()"
      ],
      "metadata": {
        "id": "Xyk6mhgDh01J"
      },
      "execution_count": null,
      "outputs": []
    },
    {
      "cell_type": "code",
      "source": [
        "cotacoes_petr['Close']"
      ],
      "metadata": {
        "id": "S5kh6cFNh7bx"
      },
      "execution_count": null,
      "outputs": []
    },
    {
      "cell_type": "code",
      "source": [
        "cotacoes_petr['Close'].shift(2)"
      ],
      "metadata": {
        "id": "uTa-qdeAiIVr"
      },
      "execution_count": null,
      "outputs": []
    },
    {
      "cell_type": "code",
      "source": [
        "cotacoes_petr['Close_anterior'] = cotacoes_petr['Close'].shift(1)"
      ],
      "metadata": {
        "id": "BTEVJLl-iMmA"
      },
      "execution_count": null,
      "outputs": []
    },
    {
      "cell_type": "code",
      "source": [
        "cotacoes_petr.head()"
      ],
      "metadata": {
        "id": "9F-W0dPhipk4"
      },
      "execution_count": null,
      "outputs": []
    },
    {
      "cell_type": "markdown",
      "source": [
        "Ou a máxima do proximo dia..."
      ],
      "metadata": {
        "id": "pDJbjeukiq1R"
      }
    },
    {
      "cell_type": "code",
      "source": [
        "cotacoes_petr['Close'].shift(-1)"
      ],
      "metadata": {
        "id": "ptiu2Vehizqj"
      },
      "execution_count": null,
      "outputs": []
    },
    {
      "cell_type": "code",
      "source": [
        " cotacoes_petr['Max_proximo_dia'] = cotacoes_petr['High'].shift(-1)"
      ],
      "metadata": {
        "id": "3ohHPVOXi3ap"
      },
      "execution_count": null,
      "outputs": []
    },
    {
      "cell_type": "code",
      "source": [
        "cotacoes_petr.head()"
      ],
      "metadata": {
        "id": "oOtTJOwujDnZ"
      },
      "execution_count": null,
      "outputs": []
    },
    {
      "cell_type": "markdown",
      "source": [
        "## 2.4. Índices: explorando as séries temporais com index datetime"
      ],
      "metadata": {
        "id": "EcBn-L_zjEY4"
      }
    },
    {
      "cell_type": "code",
      "source": [
        "import pandas as pd"
      ],
      "metadata": {
        "id": "4I8ZJtrqaKUx"
      },
      "execution_count": null,
      "outputs": []
    },
    {
      "cell_type": "code",
      "source": [
        "pd.read_csv('PETR4.csv')"
      ],
      "metadata": {
        "id": "x1liwCtRaetH"
      },
      "execution_count": null,
      "outputs": []
    },
    {
      "cell_type": "code",
      "source": [
        "petr = pd.read_csv('PETR4.csv', index_col = 'Date')"
      ],
      "metadata": {
        "id": "eTUSQ-CHapBQ"
      },
      "execution_count": null,
      "outputs": []
    },
    {
      "cell_type": "code",
      "source": [
        "petr"
      ],
      "metadata": {
        "id": "iatHXPWcavrH"
      },
      "execution_count": null,
      "outputs": []
    },
    {
      "cell_type": "code",
      "source": [
        "petr.dtypes"
      ],
      "metadata": {
        "id": "8EsScvMqawiX"
      },
      "execution_count": null,
      "outputs": []
    },
    {
      "cell_type": "code",
      "source": [
        "petr.index"
      ],
      "metadata": {
        "id": "Klyj2naLa35p"
      },
      "execution_count": null,
      "outputs": []
    },
    {
      "cell_type": "markdown",
      "source": [
        "Observe que mesmo parecendo um index datetime, o dtype mostra que não está sendo reconhecido como uma data"
      ],
      "metadata": {
        "id": "eF95Nw18a63A"
      }
    },
    {
      "cell_type": "code",
      "source": [
        "petr.index = pd.to_datetime(petr.index)"
      ],
      "metadata": {
        "id": "M06wcIzQbBeY"
      },
      "execution_count": null,
      "outputs": []
    },
    {
      "cell_type": "code",
      "source": [
        "petr.index"
      ],
      "metadata": {
        "id": "4QhtUXnXbF3Z"
      },
      "execution_count": null,
      "outputs": []
    },
    {
      "cell_type": "markdown",
      "source": [
        "Se nenhum timezone está delimitado ainda, utilize o 'tz_localize'"
      ],
      "metadata": {
        "id": "b7uqoY9dbHHZ"
      }
    },
    {
      "cell_type": "code",
      "source": [
        "petr.index = petr.index.tz_localize('UTC')"
      ],
      "metadata": {
        "id": "vA9OlBtWbUG4"
      },
      "execution_count": null,
      "outputs": []
    },
    {
      "cell_type": "code",
      "source": [
        "petr.index"
      ],
      "metadata": {
        "id": "FzytQYBFbcr4"
      },
      "execution_count": null,
      "outputs": []
    },
    {
      "cell_type": "code",
      "source": [
        "petr"
      ],
      "metadata": {
        "id": "n2l7nY9jbnMA"
      },
      "execution_count": null,
      "outputs": []
    },
    {
      "cell_type": "markdown",
      "source": [
        "Quando já existe um timezone, utilize o 'tz_convert'"
      ],
      "metadata": {
        "id": "OckX9KjQboHI"
      }
    },
    {
      "cell_type": "code",
      "source": [
        "petr.index = petr.index.tz_convert('America/Sao_Paulo')"
      ],
      "metadata": {
        "id": "45c4yaCeb1RZ"
      },
      "execution_count": null,
      "outputs": []
    },
    {
      "cell_type": "code",
      "source": [
        "petr.index"
      ],
      "metadata": {
        "id": "rRK3b7o0cTqG"
      },
      "execution_count": null,
      "outputs": []
    },
    {
      "cell_type": "code",
      "source": [
        "petr.head()"
      ],
      "metadata": {
        "id": "5sbAzaTCcdpA"
      },
      "execution_count": null,
      "outputs": []
    },
    {
      "cell_type": "markdown",
      "source": [
        "#### Formatação da data"
      ],
      "metadata": {
        "id": "fFXyU8cBcfen"
      }
    },
    {
      "cell_type": "markdown",
      "source": [
        "Se quisessemos acessar os dados do índice mas com formatos de data/hora específico. Por ex, apenas o ano..."
      ],
      "metadata": {
        "id": "aIncwd-Bm-8z"
      }
    },
    {
      "cell_type": "code",
      "source": [
        "petr.index.year"
      ],
      "metadata": {
        "id": "kw98dWSbnCbF"
      },
      "execution_count": null,
      "outputs": []
    },
    {
      "cell_type": "code",
      "source": [
        "petr.index.month"
      ],
      "metadata": {
        "id": "U9Ed13CAnIjL"
      },
      "execution_count": null,
      "outputs": []
    },
    {
      "cell_type": "code",
      "source": [
        "petr.index.day"
      ],
      "metadata": {
        "id": "laBA9UjtnK4L"
      },
      "execution_count": null,
      "outputs": []
    },
    {
      "cell_type": "code",
      "source": [
        "petr.index.date"
      ],
      "metadata": {
        "id": "cDuu0SXhnOkK"
      },
      "execution_count": null,
      "outputs": []
    },
    {
      "cell_type": "code",
      "source": [
        "petr.index.time"
      ],
      "metadata": {
        "id": "tOlb2RMxnTjV"
      },
      "execution_count": null,
      "outputs": []
    },
    {
      "cell_type": "code",
      "source": [
        "petr.index.month_name()"
      ],
      "metadata": {
        "id": "K3z0EyfqnVWb"
      },
      "execution_count": null,
      "outputs": []
    },
    {
      "cell_type": "code",
      "source": [
        "petr.index.day_name()"
      ],
      "metadata": {
        "id": "AJ0Qz0P2nadz"
      },
      "execution_count": null,
      "outputs": []
    },
    {
      "cell_type": "markdown",
      "source": [
        "#### Biblioteca datetime"
      ],
      "metadata": {
        "id": "EOwsWwqfndty"
      }
    },
    {
      "cell_type": "markdown",
      "source": [
        "Aliado à biblioteca datetime, a manipulação de data/hora fica mais versátil"
      ],
      "metadata": {
        "id": "dih0-gM7nmbD"
      }
    },
    {
      "cell_type": "code",
      "source": [
        "from datetime import datetime, timedelta"
      ],
      "metadata": {
        "id": "s-ooZGjVnq0T"
      },
      "execution_count": null,
      "outputs": []
    },
    {
      "cell_type": "code",
      "source": [
        "data_atual = '04-01-2022'"
      ],
      "metadata": {
        "id": "TowBHtclnxEz"
      },
      "execution_count": null,
      "outputs": []
    },
    {
      "cell_type": "code",
      "source": [
        "type(data_atual)"
      ],
      "metadata": {
        "id": "RqzWiCxvoFvL"
      },
      "execution_count": null,
      "outputs": []
    },
    {
      "cell_type": "markdown",
      "source": [
        "Convertemos para um objeto datetime"
      ],
      "metadata": {
        "id": "nqX-T6DDoHnK"
      }
    },
    {
      "cell_type": "code",
      "source": [
        "datetime.strptime(data_atual, \"%d-%m-%Y\")"
      ],
      "metadata": {
        "id": "5YD-QFZQoPUn"
      },
      "execution_count": null,
      "outputs": []
    },
    {
      "cell_type": "markdown",
      "source": [
        "Obtendo data e hora do momento atual"
      ],
      "metadata": {
        "id": "EJm5ZJ0Hoa-S"
      }
    },
    {
      "cell_type": "code",
      "source": [
        "datetime.now()"
      ],
      "metadata": {
        "id": "DXPYY6fDpZqb"
      },
      "execution_count": null,
      "outputs": []
    },
    {
      "cell_type": "code",
      "source": [
        "data_hora_atual = datetime.now()"
      ],
      "metadata": {
        "id": "Kl2ShKpspamx"
      },
      "execution_count": null,
      "outputs": []
    },
    {
      "cell_type": "code",
      "source": [
        "datetime.strftime(data_hora_atual, \"%A\")"
      ],
      "metadata": {
        "id": "Z7_aGmAFpi6b"
      },
      "execution_count": null,
      "outputs": []
    },
    {
      "cell_type": "code",
      "source": [
        "datetime.strftime(data_hora_atual, \"%B\")"
      ],
      "metadata": {
        "id": "dBvHrgizp2T4"
      },
      "execution_count": null,
      "outputs": []
    },
    {
      "cell_type": "code",
      "source": [
        "datetime.strftime(data_hora_atual, \"%C\")"
      ],
      "metadata": {
        "id": "0jBvipd7qLXz"
      },
      "execution_count": null,
      "outputs": []
    },
    {
      "cell_type": "code",
      "source": [
        "datetime.strftime(data_hora_atual, \"%D\")"
      ],
      "metadata": {
        "id": "hbBHPEOUqR1K"
      },
      "execution_count": null,
      "outputs": []
    },
    {
      "cell_type": "markdown",
      "source": [
        "Data composta"
      ],
      "metadata": {
        "id": "i9IquejNqTMS"
      }
    },
    {
      "cell_type": "code",
      "source": [
        "datetime.strftime(data_hora_atual, \"%d/%B\")"
      ],
      "metadata": {
        "id": "SJzJg66Xq0-C"
      },
      "execution_count": null,
      "outputs": []
    },
    {
      "cell_type": "markdown",
      "source": [
        "#### Usando o timedelta"
      ],
      "metadata": {
        "id": "S4-a6im6q38q"
      }
    },
    {
      "cell_type": "code",
      "source": [
        "data_200_dias_atras = datetime.now() -  timedelta(days = 200)"
      ],
      "metadata": {
        "id": "XowdfDV2rJYz"
      },
      "execution_count": null,
      "outputs": []
    },
    {
      "cell_type": "code",
      "source": [
        "data_200_dias_atras"
      ],
      "metadata": {
        "id": "tPdPddF8rWMa"
      },
      "execution_count": null,
      "outputs": []
    },
    {
      "cell_type": "code",
      "source": [
        "datetime.strftime(data_200_dias_atras, \"%D\")"
      ],
      "metadata": {
        "id": "bEtfTRvPrXaK"
      },
      "execution_count": null,
      "outputs": []
    },
    {
      "cell_type": "code",
      "source": [
        "datetime.strftime(data_200_dias_atras, \"%y\")"
      ],
      "metadata": {
        "id": "iHvVwPR1reu5"
      },
      "execution_count": null,
      "outputs": []
    },
    {
      "cell_type": "markdown",
      "source": [
        "#### Usando a Pandas"
      ],
      "metadata": {
        "id": "kerLwQQgrl2t"
      }
    },
    {
      "cell_type": "code",
      "source": [
        "data_atual = '01-01-2023'"
      ],
      "metadata": {
        "id": "UWdnLsaor29T"
      },
      "execution_count": null,
      "outputs": []
    },
    {
      "cell_type": "code",
      "source": [
        "data_atual = pd.to_datetime(data_atual, format = \"%d-%m-%Y\")"
      ],
      "metadata": {
        "id": "ph6-50m1sPvZ"
      },
      "execution_count": null,
      "outputs": []
    },
    {
      "cell_type": "code",
      "source": [
        "data_atual"
      ],
      "metadata": {
        "id": "X22Qh9wXsWox"
      },
      "execution_count": null,
      "outputs": []
    },
    {
      "cell_type": "markdown",
      "source": [
        "Podemos criar uma lista de datas especificando o timeframe que queremos. Nesse caso, 'T' = minutos"
      ],
      "metadata": {
        "id": "yOx__SpmsbjR"
      }
    },
    {
      "cell_type": "code",
      "source": [
        "pd.date_range('04/01/2023', periods = 5, freq = 'T')"
      ],
      "metadata": {
        "id": "HKGirWMosfV7"
      },
      "execution_count": null,
      "outputs": []
    },
    {
      "cell_type": "code",
      "source": [
        "pd.date_range('04/01/2023', periods = 10, freq = '5T')"
      ],
      "metadata": {
        "id": "c4q7eWSxtanZ"
      },
      "execution_count": null,
      "outputs": []
    },
    {
      "cell_type": "markdown",
      "source": [
        "Criando variáveis auxiliares"
      ],
      "metadata": {
        "id": "Bdrb-38Ttp7o"
      }
    },
    {
      "cell_type": "code",
      "source": [
        "petr.index"
      ],
      "metadata": {
        "id": "7Qe-b0uyZ91p"
      },
      "execution_count": null,
      "outputs": []
    },
    {
      "cell_type": "code",
      "source": [
        "petr.index.time"
      ],
      "metadata": {
        "id": "3mIS1LBMaat3"
      },
      "execution_count": null,
      "outputs": []
    },
    {
      "cell_type": "code",
      "source": [
        "petr['Horario'] = petr.index"
      ],
      "metadata": {
        "id": "0vd357Dbad5G"
      },
      "execution_count": null,
      "outputs": []
    },
    {
      "cell_type": "code",
      "source": [
        "petr['Horario'] = petr['Horario'].dt.time"
      ],
      "metadata": {
        "id": "haFv-I-QakxH"
      },
      "execution_count": null,
      "outputs": []
    },
    {
      "cell_type": "code",
      "source": [
        "petr.head()"
      ],
      "metadata": {
        "id": "Tu3VOC0nait4"
      },
      "execution_count": null,
      "outputs": []
    },
    {
      "cell_type": "code",
      "source": [
        "petr['Dia_do_ano'] = petr.index"
      ],
      "metadata": {
        "id": "6C567hIabSyn"
      },
      "execution_count": null,
      "outputs": []
    },
    {
      "cell_type": "code",
      "source": [
        "petr['Dia_do_ano'] = petr['Dia_do_ano'].dt.dayofyear"
      ],
      "metadata": {
        "id": "v_KG5HkKaove"
      },
      "execution_count": null,
      "outputs": []
    },
    {
      "cell_type": "code",
      "source": [
        "petr.tail()"
      ],
      "metadata": {
        "id": "QaTtHGVZbaAN"
      },
      "execution_count": null,
      "outputs": []
    },
    {
      "cell_type": "markdown",
      "source": [
        "#### Método resample"
      ],
      "metadata": {
        "id": "92uDG2d4ba5e"
      }
    },
    {
      "cell_type": "markdown",
      "source": [
        "E por fim, o método resample. Ele permite agrupar timeframes menores para criar um conjunto de dados agrupado. Nesse exemplo, vamos converter os dados diários em dados mensais"
      ],
      "metadata": {
        "id": "IcsNYEeIbiVB"
      }
    },
    {
      "cell_type": "code",
      "source": [
        "petr"
      ],
      "metadata": {
        "id": "5eDw5k-tb23O"
      },
      "execution_count": null,
      "outputs": []
    },
    {
      "cell_type": "code",
      "source": [
        "petr_month = petr.resample('1M').agg({'Open':'first', 'High':'max', 'Low':'min', 'Close': 'last','Volume':'sum' })"
      ],
      "metadata": {
        "id": "ZfdInUHWb-y_"
      },
      "execution_count": null,
      "outputs": []
    },
    {
      "cell_type": "code",
      "source": [
        "petr_month.head()"
      ],
      "metadata": {
        "id": "w9lbqJ4WdMUn"
      },
      "execution_count": null,
      "outputs": []
    },
    {
      "cell_type": "code",
      "source": [
        "petr_month.Close.plot();"
      ],
      "metadata": {
        "id": "Jn6YWkiLdVbu"
      },
      "execution_count": null,
      "outputs": []
    },
    {
      "cell_type": "code",
      "source": [
        "petr.Close.plot();"
      ],
      "metadata": {
        "id": "IZg7C7YOdcQ2"
      },
      "execution_count": null,
      "outputs": []
    },
    {
      "cell_type": "markdown",
      "source": [
        "## 2.5. Colunas: filtrar, renomear e reordenar"
      ],
      "metadata": {
        "id": "ZTGxRk1Gdg9G"
      }
    },
    {
      "cell_type": "code",
      "source": [
        "petr.head()"
      ],
      "metadata": {
        "id": "P6dZw3goZd80"
      },
      "execution_count": null,
      "outputs": []
    },
    {
      "cell_type": "code",
      "source": [
        "petr.columns"
      ],
      "metadata": {
        "id": "qtOz6CfwZgdT"
      },
      "execution_count": null,
      "outputs": []
    },
    {
      "cell_type": "code",
      "source": [
        "list(petr.columns)"
      ],
      "metadata": {
        "id": "1CFQK2pcZohE"
      },
      "execution_count": null,
      "outputs": []
    },
    {
      "cell_type": "markdown",
      "source": [
        "Vamos retomar apenas as colunas originais OHLCV dos dados"
      ],
      "metadata": {
        "id": "u2vMjZNPZrss"
      }
    },
    {
      "cell_type": "code",
      "source": [
        "petr[['Open', 'High', 'Low', 'Close']]"
      ],
      "metadata": {
        "id": "T9wjQClZZ_y-"
      },
      "execution_count": null,
      "outputs": []
    },
    {
      "cell_type": "code",
      "source": [
        "petr_filtrada = petr[['Open', 'High', 'Low', 'Close','Adj Close', 'Volume']]"
      ],
      "metadata": {
        "id": "kk5YjN3WaGfb"
      },
      "execution_count": null,
      "outputs": []
    },
    {
      "cell_type": "code",
      "source": [
        "petr_filtrada"
      ],
      "metadata": {
        "id": "YqFb6WHiadtk"
      },
      "execution_count": null,
      "outputs": []
    },
    {
      "cell_type": "code",
      "source": [
        "petr_filtrada"
      ],
      "metadata": {
        "id": "kfpO7DjfbeuN"
      },
      "execution_count": null,
      "outputs": []
    },
    {
      "cell_type": "markdown",
      "source": [
        "E agora as 4 primeiras"
      ],
      "metadata": {
        "id": "T1Mxovzfaj0F"
      }
    },
    {
      "cell_type": "code",
      "source": [
        "petr_filtrada = petr_filtrada.iloc[:, 0:4]"
      ],
      "metadata": {
        "id": "w1w5cV8OaqVg"
      },
      "execution_count": null,
      "outputs": []
    },
    {
      "cell_type": "markdown",
      "source": [
        "#### Renomeando colunas"
      ],
      "metadata": {
        "id": "vd_htGVwbw19"
      }
    },
    {
      "cell_type": "markdown",
      "source": [
        "Duas formas de renomear as colunas"
      ],
      "metadata": {
        "id": "oSEyP-o8bDF6"
      }
    },
    {
      "cell_type": "code",
      "source": [
        "petr_filtrada.columns"
      ],
      "metadata": {
        "id": "x4eAGOpKbNtG"
      },
      "execution_count": null,
      "outputs": []
    },
    {
      "cell_type": "code",
      "source": [
        "petr_filtrada.columns = ['Abertura', 'Máxima', 'Mínima', 'Fechamento']"
      ],
      "metadata": {
        "id": "AglcGfNtbUHM"
      },
      "execution_count": null,
      "outputs": []
    },
    {
      "cell_type": "code",
      "source": [
        "petr_filtrada.head()"
      ],
      "metadata": {
        "id": "ueyLdwYGbmD0"
      },
      "execution_count": null,
      "outputs": []
    },
    {
      "cell_type": "markdown",
      "source": [
        "Usamos um dicionário para renomear as colunas, contendo a estrutura {'nome antigo' : 'novo nome'}"
      ],
      "metadata": {
        "id": "2xjtpBvWbqXM"
      }
    },
    {
      "cell_type": "code",
      "source": [
        "dicionario = {'Abertura' : 'Open', 'Máxima' : 'High', 'Mínima' : 'Low', 'Fechamento' : 'Close'}"
      ],
      "metadata": {
        "id": "JLHNpunWcIWs"
      },
      "execution_count": null,
      "outputs": []
    },
    {
      "cell_type": "code",
      "source": [
        "petr_filtrada.rename(dicionario, axis = 1)"
      ],
      "metadata": {
        "id": "vfUjIJmvb9__"
      },
      "execution_count": null,
      "outputs": []
    },
    {
      "cell_type": "code",
      "source": [
        "petr_filtrada"
      ],
      "metadata": {
        "id": "7JuSj2Dtcv4r"
      },
      "execution_count": null,
      "outputs": []
    },
    {
      "cell_type": "code",
      "source": [
        "petr_filtrada = petr_filtrada.rename(dicionario, axis = 1)"
      ],
      "metadata": {
        "id": "-Xd73Bm7cy40"
      },
      "execution_count": null,
      "outputs": []
    },
    {
      "cell_type": "code",
      "source": [],
      "metadata": {
        "id": "Ti0PeK4VdWjs"
      },
      "execution_count": null,
      "outputs": []
    },
    {
      "cell_type": "markdown",
      "source": [
        "Também podemos passar o dicionário inteiro"
      ],
      "metadata": {
        "id": "OzhtQBNPdTLU"
      }
    },
    {
      "cell_type": "code",
      "source": [
        "petr_filtrada = petr_filtrada.rename( {'Abertura' : 'Open', 'Máxima' : 'High', 'Mínima' : 'Low', 'Fechamento' : 'Close'} , axis = 1)"
      ],
      "metadata": {
        "id": "i-R3XvZmc7zr"
      },
      "execution_count": null,
      "outputs": []
    },
    {
      "cell_type": "code",
      "source": [
        "petr_filtrada.head()"
      ],
      "metadata": {
        "id": "yukkJmhDc6wT"
      },
      "execution_count": null,
      "outputs": []
    },
    {
      "cell_type": "markdown",
      "source": [
        "#### Reordenar as colunas"
      ],
      "metadata": {
        "id": "UBMvJgDDdZV7"
      }
    },
    {
      "cell_type": "code",
      "source": [
        "list(petr_filtrada.columns)"
      ],
      "metadata": {
        "id": "ydcPdDEqdvRF"
      },
      "execution_count": null,
      "outputs": []
    },
    {
      "cell_type": "code",
      "source": [
        "petr_filtrada[['Open', 'Close', 'Low', 'High']]"
      ],
      "metadata": {
        "id": "5VZpD5uedmQT"
      },
      "execution_count": null,
      "outputs": []
    },
    {
      "cell_type": "markdown",
      "source": [
        "#### Adicionando novas colunas em posições específicas"
      ],
      "metadata": {
        "id": "7gGPAHyUdy5E"
      }
    },
    {
      "cell_type": "markdown",
      "source": [
        "Também podemos inserir uma nova coluna não necessariamente como a última (padrão), mas especificando qual a posição, o nome e os dados em si"
      ],
      "metadata": {
        "id": "mm3beRmye665"
      }
    },
    {
      "cell_type": "code",
      "source": [
        "dados_nova_col = 'PETR4'"
      ],
      "metadata": {
        "id": "yw-fAcQme8nD"
      },
      "execution_count": null,
      "outputs": []
    },
    {
      "cell_type": "code",
      "source": [
        "petr_filtrada.insert(0, 'Ativo', dados_nova_col)"
      ],
      "metadata": {
        "id": "FGymaC1Dfmsx"
      },
      "execution_count": null,
      "outputs": []
    },
    {
      "cell_type": "code",
      "source": [
        "petr_filtrada"
      ],
      "metadata": {
        "id": "3ptc8Ew0f4xi"
      },
      "execution_count": null,
      "outputs": []
    },
    {
      "cell_type": "markdown",
      "source": [
        "Método assign"
      ],
      "metadata": {
        "id": "VrdWM8xyf7QU"
      }
    },
    {
      "cell_type": "markdown",
      "source": [
        "Outra forma menos usual mas que pode ser útil para criar novas colunas é através do .assign"
      ],
      "metadata": {
        "id": "FLabZkPNgb1x"
      }
    },
    {
      "cell_type": "code",
      "source": [
        "petr_filtrada['Close'] - petr_filtrada['Open']"
      ],
      "metadata": {
        "id": "neHrec7phscQ"
      },
      "execution_count": null,
      "outputs": []
    },
    {
      "cell_type": "code",
      "source": [
        "petr_filtrada.assign(resultado = (petr_filtrada['Close'] - petr_filtrada['Open']) ).tail()"
      ],
      "metadata": {
        "id": "OQbhiOxNguVB"
      },
      "execution_count": null,
      "outputs": []
    },
    {
      "cell_type": "markdown",
      "source": [
        "## 2.6. Dataframes mais complexos, incluindo multi-index"
      ],
      "metadata": {
        "id": "UfNW0sImiQUC"
      }
    },
    {
      "cell_type": "markdown",
      "source": [
        "#### Lista dos ativos do IBOV"
      ],
      "metadata": {
        "id": "_IvalSsPN6Ob"
      }
    },
    {
      "cell_type": "markdown",
      "source": [
        "Para demonstrar manipulações de dados em um dataframe de várias colunas, vamos extrair os dados das ações que compõem o IBOV\n",
        "\n",
        "Para saber a composição atualizada do IBOV, acesse o link: https://www.b3.com.br/pt_br/market-data-e-indices/indices/indices-amplos/indice-ibovespa-ibovespa-composicao-da-carteira.htm"
      ],
      "metadata": {
        "id": "06KylzvXtb30"
      }
    },
    {
      "cell_type": "markdown",
      "source": [
        "Nesta seção, vamos utilizar algumas bibliotecas de dados de mercado financeiro, como a yfinance, que extrai dados do Yahoo Finance"
      ],
      "metadata": {
        "id": "XTsQ5_zCtm9u"
      }
    },
    {
      "cell_type": "markdown",
      "source": [
        "Os ativos que compõem o IBOV são os seguintes:\n",
        "\n",
        "[\"RADL3\", \"BRML3\", \"QUAL3\", \"ELET3\", \"BBDC3\", \"CCRO3\", \"BBSE3\", \"JBSS3\", \"ENBR3\", \"MRVE3\", \"ASAI3\", \"CRFB3\", \"TOTS3\", \"GGBR4\", \"TIMS3\", \"IRBR3\", \"USIM5\", \"BRFS3\", \"BBDC4\", \"BRAP4\", \"ABEV3\", \"UGPA3\", \"PETR3\", \"VBBR3\", \"BPAC11\", \"ITSA4\", \"BPAN4\", \"CSAN3\", \"DXCO3\", \"TAEE11\", \"PCAR3\", \"CIEL3\", \"RENT3\", \"PRIO3\", \"EGIE3\", \"HAPV3\", \"LWSA3\", \"LREN3\", \"FLRY3\", \"CPLE6\", \"RRRP3\", \"ALPA4\", \"CASH3\", \"COGN3\", \"ENGI11\", \"VALE3\", \"PETZ3\", \"SUZB3\", \"EMBR3\", \"MRFG3\", \"KLBN11\", \"AZUL4\", \"CMIN3\", \"AMER3\", \"ELET6\", \"BRKM5\", \"BEEF3\", \"CSNA3\", \"MGLU3\", \"SLCE3\", \"PETR4\", \"POSI3\", \"GOLL4\", \"SBSP3\", \"CYRE3\", \"EQTL3\", \"RDOR3\", \"GOAU4\", \"WEGE3\", \"ECOR3\", \"ARZZ3\", \"NTCO3\", \"CPFE3\", \"IGTI11\", \"EZTC3\", \"B3SA3\", \"CMIG4\", \"RAIL3\", \"RAIZ4\", \"HYPE3\", \"ITUB4\", \"ENEV3\", \"BBAS3\", \"VIIA3\", \"CVCB3\", \"SOMA3\", \"VIVT3\", \"MULT3\", \"SMTO3\", \"YDUQ3\", \"SANB11\"]"
      ],
      "metadata": {
        "id": "D0GFUqjftpNK"
      }
    },
    {
      "cell_type": "markdown",
      "source": [
        "Vamos transformar isso agora numa lista"
      ],
      "metadata": {
        "id": "_5XEsrUuuCXy"
      }
    },
    {
      "cell_type": "code",
      "source": [
        "tickers_IBOV = [\"RADL3\", \"BRML3\", \"QUAL3\", \"ELET3\", \"BBDC3\", \"CCRO3\", \"BBSE3\", \"JBSS3\", \"ENBR3\", \"MRVE3\", \"ASAI3\", \"CRFB3\", \"TOTS3\", \"GGBR4\", \"TIMS3\", \"IRBR3\", \"USIM5\", \"BRFS3\", \"BBDC4\", \"BRAP4\", \"ABEV3\", \"UGPA3\", \"PETR3\", \"VBBR3\", \"BPAC11\", \"ITSA4\", \"BPAN4\", \"CSAN3\", \"DXCO3\", \"TAEE11\", \"PCAR3\", \"CIEL3\", \"RENT3\", \"PRIO3\", \"EGIE3\", \"HAPV3\", \"LWSA3\", \"LREN3\", \"FLRY3\", \"CPLE6\", \"RRRP3\", \"ALPA4\", \"CASH3\", \"COGN3\", \"ENGI11\", \"VALE3\", \"PETZ3\", \"SUZB3\", \"EMBR3\", \"MRFG3\", \"KLBN11\", \"AZUL4\", \"CMIN3\", \"AMER3\", \"ELET6\", \"BRKM5\", \"BEEF3\", \"CSNA3\", \"MGLU3\", \"SLCE3\", \"PETR4\", \"POSI3\", \"GOLL4\", \"SBSP3\", \"CYRE3\", \"EQTL3\", \"RDOR3\", \"GOAU4\", \"WEGE3\", \"ECOR3\", \"ARZZ3\", \"NTCO3\", \"CPFE3\", \"IGTI11\", \"EZTC3\", \"B3SA3\", \"CMIG4\", \"RAIL3\", \"RAIZ4\", \"HYPE3\", \"ITUB4\", \"ENEV3\", \"BBAS3\", \"VIIA3\", \"CVCB3\", \"SOMA3\", \"VIVT3\", \"MULT3\", \"SMTO3\", \"YDUQ3\", \"SANB11\"]"
      ],
      "metadata": {
        "id": "iLbq9K-AuEJj"
      },
      "execution_count": null,
      "outputs": []
    },
    {
      "cell_type": "code",
      "source": [
        "tickers_IBOV.sort()"
      ],
      "metadata": {
        "id": "4zDyvpM0uGWT"
      },
      "execution_count": null,
      "outputs": []
    },
    {
      "cell_type": "code",
      "source": [
        "tickers_IBOV"
      ],
      "metadata": {
        "id": "EhH6Epp8uJ7j"
      },
      "execution_count": null,
      "outputs": []
    },
    {
      "cell_type": "markdown",
      "source": [
        "PONTO IMPORTANTE\n",
        "\n",
        "As ações brasileiras no Yahoo Finance terminam com \".SA\". Isso é válido inclusive para outros papéis, como ETFs, FIIs, BDRs\n",
        "\n",
        "Como acrescentar \".SA\" ao fim do nome de um papel?\n",
        "\n",
        "Veja o raciocínio abaixo:"
      ],
      "metadata": {
        "id": "Jo66mKYMuKai"
      }
    },
    {
      "cell_type": "code",
      "source": [
        "acao = 'PETR4'"
      ],
      "metadata": {
        "id": "AKAEpvjPuWay"
      },
      "execution_count": null,
      "outputs": []
    },
    {
      "cell_type": "code",
      "source": [
        "acao + '.SA'"
      ],
      "metadata": {
        "id": "tq0kD6-Uub3q"
      },
      "execution_count": null,
      "outputs": []
    },
    {
      "cell_type": "markdown",
      "source": [
        "Precisamos então criar uma estrutura que faça isso para todos os papéis de uma vez"
      ],
      "metadata": {
        "id": "IgIl0edgudUT"
      }
    },
    {
      "cell_type": "code",
      "source": [
        "tickers_IBOV_SA = [i + '.SA' for i in tickers_IBOV]"
      ],
      "metadata": {
        "id": "wdGtEKcduf7a"
      },
      "execution_count": null,
      "outputs": []
    },
    {
      "cell_type": "markdown",
      "source": [
        "Uma vez que temos uma lista com o nome dos tickers corrigidos para fazer a busca na yfinance (que extrai os dados da Yahoo Finance)"
      ],
      "metadata": {
        "id": "IqJ5xjt9uvnL"
      }
    },
    {
      "cell_type": "markdown",
      "source": [
        "**DISCLAIMER**\n",
        "\n",
        "Caso a yfinance apresente problemas, utilize o .csv que será disponibilizado (detalhes abaixo neste código)"
      ],
      "metadata": {
        "id": "0jdtsjCHvBZC"
      }
    },
    {
      "cell_type": "markdown",
      "source": [
        "#### Instalação e abertura da yfinance, importação de dados"
      ],
      "metadata": {
        "id": "5rY-M4d0NhDG"
      }
    },
    {
      "cell_type": "code",
      "source": [
        "!pip install yfinance"
      ],
      "metadata": {
        "id": "Gu7ds-BEvDDh"
      },
      "execution_count": null,
      "outputs": []
    },
    {
      "cell_type": "code",
      "source": [
        "import yfinance as yf"
      ],
      "metadata": {
        "id": "98No-SzgvLP7"
      },
      "execution_count": null,
      "outputs": []
    },
    {
      "cell_type": "code",
      "source": [
        "yf.download('VALE3.SA', start = '2021-01-01', end = '2021-12-31', period = \"1d\")"
      ],
      "metadata": {
        "id": "c4Ci04HMvSgb"
      },
      "execution_count": null,
      "outputs": []
    },
    {
      "cell_type": "markdown",
      "source": [
        "#### **Extração para vários ativos de uma vez**"
      ],
      "metadata": {
        "id": "Zp_egQ1Kvb78"
      }
    },
    {
      "cell_type": "markdown",
      "source": [
        "Observe a estrutura dos dados acima. Temos Abertura, Máxima, Mínima, Fechamento, Fechamento Ajustado e Volume. Podemos reproduzir a mesma estrutura caso queiramos obter dados de vários papéis ao mesmo tempo."
      ],
      "metadata": {
        "id": "t192KS_lv1DE"
      }
    },
    {
      "cell_type": "code",
      "source": [
        "yf.download(tickers_IBOV_SA, start = '2021-01-01', end = '2021-12-31', period = \"1d\")"
      ],
      "metadata": {
        "id": "GIqqwWW1vm4B"
      },
      "execution_count": null,
      "outputs": []
    },
    {
      "cell_type": "code",
      "source": [
        "cotacoes_ibov = yf.download(tickers_IBOV_SA, start = '2021-01-01', end = '2021-12-31', period = \"1d\")"
      ],
      "metadata": {
        "id": "DVhUFcI1vzOz"
      },
      "execution_count": null,
      "outputs": []
    },
    {
      "cell_type": "markdown",
      "source": [
        "#### **Caso a biblioteca yfinance não esteja funcionando**"
      ],
      "metadata": {
        "id": "VWx8xGNM2TJU"
      }
    },
    {
      "cell_type": "code",
      "source": [
        "import pandas as pd"
      ],
      "metadata": {
        "id": "ItMtEBMdqee8"
      },
      "execution_count": null,
      "outputs": []
    },
    {
      "cell_type": "markdown",
      "source": [
        "Siga os passos abaixo para abrir o arquivo .csv que disponibilizamos com os dados OHLC dos papéis do IBOV"
      ],
      "metadata": {
        "id": "zuGikwZUNve0"
      }
    },
    {
      "cell_type": "code",
      "source": [
        "# Não é necessário rodar esta célula, este comando foi gerado durante a aula apenas para exportar o dataframe\n",
        "cotacoes_ibov.to_csv('cotacoes_ibov.csv')"
      ],
      "metadata": {
        "id": "Xyivnz9-2Kt0"
      },
      "execution_count": null,
      "outputs": []
    },
    {
      "cell_type": "markdown",
      "source": [
        "Utilize o arquivo fornecido nesta aula (cotacoes_ibov.csv)"
      ],
      "metadata": {
        "id": "IjSZOiZh2S9c"
      }
    },
    {
      "cell_type": "code",
      "source": [
        "cotacoes_csv = pd.read_csv('cotacoes_ibov.csv', header = [0, 1], index_col = 0)"
      ],
      "metadata": {
        "id": "mpzmPQv72Sz6"
      },
      "execution_count": null,
      "outputs": []
    },
    {
      "cell_type": "code",
      "source": [
        "cotacoes_ibov = cotacoes_csv"
      ],
      "metadata": {
        "id": "Su8ipYfV2SsF"
      },
      "execution_count": null,
      "outputs": []
    },
    {
      "cell_type": "markdown",
      "source": [
        "#### Caso a yfinance esteja funcionando normalmente, basta continuar a rotina"
      ],
      "metadata": {
        "id": "GOBaSzGC2Sj8"
      }
    },
    {
      "cell_type": "code",
      "source": [
        "cotacoes_ibov.columns"
      ],
      "metadata": {
        "id": "GtEKJu0jwB0j"
      },
      "execution_count": null,
      "outputs": []
    },
    {
      "cell_type": "markdown",
      "source": [
        "Para facilitar nossa vida, podemos obter apenas os dados da coluna **Adj Close** para todos os papéis de uma vez"
      ],
      "metadata": {
        "id": "0qU-6Zc8wTVW"
      }
    },
    {
      "cell_type": "code",
      "source": [
        "adjclose_ibov = yf.download(tickers_IBOV_SA, start = '2021-01-01', end = '2021-12-31', period = \"1d\")['Adj Close']"
      ],
      "metadata": {
        "id": "vOSN18jiwg7O"
      },
      "execution_count": null,
      "outputs": []
    },
    {
      "cell_type": "code",
      "source": [
        "adjclose_ibov"
      ],
      "metadata": {
        "id": "3UMLJDpfw7h0"
      },
      "execution_count": null,
      "outputs": []
    },
    {
      "cell_type": "markdown",
      "source": [
        "Visualização dos rótulos de cada nível"
      ],
      "metadata": {
        "id": "js2Fh56WxeYd"
      }
    },
    {
      "cell_type": "code",
      "source": [
        "set(cotacoes_ibov.columns.get_level_values(0))"
      ],
      "metadata": {
        "id": "wb5CaqCZwl5i"
      },
      "execution_count": null,
      "outputs": []
    },
    {
      "cell_type": "code",
      "source": [
        "set(cotacoes_ibov.columns.get_level_values(1))"
      ],
      "metadata": {
        "id": "QA8Feg21wvZ7"
      },
      "execution_count": null,
      "outputs": []
    },
    {
      "cell_type": "markdown",
      "source": [
        "Poderiamos \"dropar\" o index 0 para nao sermos multi-index. Nesse exemplo não faria tanto sentido pois perderiamos o parâmetro base OHLCV. Mas pode ser muito útil em outras tabelas"
      ],
      "metadata": {
        "id": "PNELjVNTxd5D"
      }
    },
    {
      "cell_type": "code",
      "source": [
        "cotacoes_ibov.droplevel(0, axis = 1)"
      ],
      "metadata": {
        "id": "bQhdgof_xrzL"
      },
      "execution_count": null,
      "outputs": []
    },
    {
      "cell_type": "markdown",
      "source": [
        "Filtrar apenas o índice que contém os preços de Adj Close"
      ],
      "metadata": {
        "id": "52p0bVKix4Sj"
      }
    },
    {
      "cell_type": "code",
      "source": [
        "cotacoes_ibov_adj_close = cotacoes_ibov['Adj Close']"
      ],
      "metadata": {
        "id": "gNRm8cTLyD7r"
      },
      "execution_count": null,
      "outputs": []
    },
    {
      "cell_type": "code",
      "source": [
        "cotacoes_ibov.columns"
      ],
      "metadata": {
        "id": "51QvKIjQyG6s"
      },
      "execution_count": null,
      "outputs": []
    },
    {
      "cell_type": "markdown",
      "source": [
        "Filtrar apenas o índice que contém os preços de Adj Close e ABEV3.SA ao mesmo tempo (acaba sendo uma única coluna).\n",
        "\n",
        "Como é apenas uma coluna, ele desconsidera o formato dateframe e traz como um formato \"series\" da biblioteca pandas\n"
      ],
      "metadata": {
        "id": "OUxS9pIxyZ1j"
      }
    },
    {
      "cell_type": "code",
      "source": [
        "cotacoes_ibov_adjclose_abev = cotacoes_ibov[('Adj Close', 'ABEV3.SA')]"
      ],
      "metadata": {
        "id": "Upd7HOIDydii"
      },
      "execution_count": null,
      "outputs": []
    },
    {
      "cell_type": "code",
      "source": [
        "cotacoes_ibov_adjclose_abev"
      ],
      "metadata": {
        "id": "xTToUYKpymwr"
      },
      "execution_count": null,
      "outputs": []
    },
    {
      "cell_type": "code",
      "source": [
        "cotacoes_ibov_adjclose_abev.plot();"
      ],
      "metadata": {
        "id": "DhREgkKjynzk"
      },
      "execution_count": null,
      "outputs": []
    },
    {
      "cell_type": "markdown",
      "source": [
        "Usando pd.DataFrame podemos reconfigurar como dataframe"
      ],
      "metadata": {
        "id": "VAz4H0_syvi7"
      }
    },
    {
      "cell_type": "code",
      "source": [
        "cotacoes_ibov_adjclose_abev = pd.DataFrame(cotacoes_ibov_adjclose_abev)"
      ],
      "metadata": {
        "id": "xcRIWlD-y0wu"
      },
      "execution_count": null,
      "outputs": []
    },
    {
      "cell_type": "code",
      "source": [
        "cotacoes_ibov_adjclose_abev"
      ],
      "metadata": {
        "id": "qlt0DOzCy3q1"
      },
      "execution_count": null,
      "outputs": []
    },
    {
      "cell_type": "markdown",
      "source": [
        "## 2.7. Manejo dos NAs e NaN"
      ],
      "metadata": {
        "id": "FCFYsItOy4O0"
      }
    },
    {
      "cell_type": "markdown",
      "source": [
        "### 2.7.1. Checar o número de NaN do dataset"
      ],
      "metadata": {
        "id": "3xIBpizvrVva"
      }
    },
    {
      "cell_type": "markdown",
      "source": [
        "O método mais básico para lidar com missings é o isna()\n",
        "\n",
        "Ele retorna um booleano (True/False)."
      ],
      "metadata": {
        "id": "T07suQ5lriJt"
      }
    },
    {
      "cell_type": "code",
      "source": [
        "cotacoes_ibov.isna()"
      ],
      "metadata": {
        "id": "k-Kwx7wXrkst"
      },
      "execution_count": null,
      "outputs": []
    },
    {
      "cell_type": "markdown",
      "source": [
        "Como vimos, no Python o True equivale a 1 e False equivale a 0. Se eu somar uma coluna/linha composta por True/False eu consigo saber quantos True existem (e nesse caso do .isna, saber qts NAs existem)\n",
        "\n",
        "O método sum() = sum(0), já que 0 é o default do método e representa a soma de todos as células de uma coluna.\n",
        "\n",
        "Se colocarmos sum(1), teremos a soma de todas as celulas de uma linha"
      ],
      "metadata": {
        "id": "cdZEAcxirvQs"
      }
    },
    {
      "cell_type": "code",
      "source": [
        "cotacoes_ibov.isna().sum()"
      ],
      "metadata": {
        "id": "xTnaHK1tsRE9"
      },
      "execution_count": null,
      "outputs": []
    },
    {
      "cell_type": "code",
      "source": [
        "count_null = cotacoes_ibov.isna().sum()"
      ],
      "metadata": {
        "id": "7mfsQyk1spwN"
      },
      "execution_count": null,
      "outputs": []
    },
    {
      "cell_type": "code",
      "source": [
        "count_null.head(25)"
      ],
      "metadata": {
        "id": "_FUhoOuCsyrF"
      },
      "execution_count": null,
      "outputs": []
    },
    {
      "cell_type": "markdown",
      "source": [
        "ASAI3 possui 37 células com NA. Começou a ser negociada no IBOV em março apenas\n",
        "\n",
        "CMIN3 possui 32"
      ],
      "metadata": {
        "id": "Wh57KfZ9s0gm"
      }
    },
    {
      "cell_type": "markdown",
      "source": [
        "Soma dos NAs por linhas. Primeira linha 24 NAs.\n",
        "\n",
        "Lembrando que uma linha é composta por 6 índices 0 (Adj Close', 'Close', 'High', 'Low', 'Open', 'Volume),\n",
        "\n",
        "podemos concluir que existem 4 ativos (24/6) com NA na primeira linha"
      ],
      "metadata": {
        "id": "SExRBhsLs_N-"
      }
    },
    {
      "cell_type": "code",
      "source": [
        "count_null_linha = cotacoes_ibov.isna().sum(1)"
      ],
      "metadata": {
        "id": "aqzOGBtqt139"
      },
      "execution_count": null,
      "outputs": []
    },
    {
      "cell_type": "markdown",
      "source": [
        "O atributo shape retorna o número de linhas e coluna de um dataframe"
      ],
      "metadata": {
        "id": "0GISH4dMuYgY"
      }
    },
    {
      "cell_type": "code",
      "source": [
        "cotacoes_ibov.shape"
      ],
      "metadata": {
        "id": "eUvCiJA7uyet"
      },
      "execution_count": null,
      "outputs": []
    },
    {
      "cell_type": "code",
      "source": [
        "cotacoes_ibov.shape[0]"
      ],
      "metadata": {
        "id": "htHpEP5yu1Fv"
      },
      "execution_count": null,
      "outputs": []
    },
    {
      "cell_type": "code",
      "source": [
        "cotacoes_ibov.shape[1]"
      ],
      "metadata": {
        "id": "t5GDezwgvD1V"
      },
      "execution_count": null,
      "outputs": []
    },
    {
      "cell_type": "code",
      "source": [
        "len(cotacoes_ibov.columns)"
      ],
      "metadata": {
        "id": "pBpXfACUvETv"
      },
      "execution_count": null,
      "outputs": []
    },
    {
      "cell_type": "markdown",
      "source": [
        "Medir o % de missings"
      ],
      "metadata": {
        "id": "9iDB1u5IvWP3"
      }
    },
    {
      "cell_type": "code",
      "source": [
        "count_null/cotacoes_ibov.shape[0]"
      ],
      "metadata": {
        "id": "7vFdpPiMvpsD"
      },
      "execution_count": null,
      "outputs": []
    },
    {
      "cell_type": "markdown",
      "source": [
        "Usando as informações do shape e do isna, podemos fazer um filtro para retornar quais linhas (cotacoes_IBOV.shape[0]) ou colunas cotacoes_IBOV.shape[1] possuem uma fração específica de NAs\n",
        "\n",
        "No exemplo, exibir as linhas onde temos pelo menos 1 NA"
      ],
      "metadata": {
        "id": "lyw4OOkTvqJV"
      }
    },
    {
      "cell_type": "code",
      "source": [
        "cotacoes_ibov.isna().sum(1)>0"
      ],
      "metadata": {
        "id": "__37CLfzw-Tm"
      },
      "execution_count": null,
      "outputs": []
    },
    {
      "cell_type": "code",
      "source": [
        "cotacoes_ibov[ cotacoes_ibov.isna().sum(1)>0 ]"
      ],
      "metadata": {
        "id": "DNaN12OBwmYX"
      },
      "execution_count": null,
      "outputs": []
    },
    {
      "cell_type": "markdown",
      "source": [
        "Vamos retornar apenas as linhas que tenham integridade, ou não-missings de pelo menos 90%"
      ],
      "metadata": {
        "id": "cpOMUrBbyPh3"
      }
    },
    {
      "cell_type": "code",
      "source": [
        "cotacoes_ibov.shape[0]"
      ],
      "metadata": {
        "id": "k-94fl4iy7xh"
      },
      "execution_count": null,
      "outputs": []
    },
    {
      "cell_type": "code",
      "source": [
        "len(cotacoes_ibov)"
      ],
      "metadata": {
        "id": "vUPetjx5zDvZ"
      },
      "execution_count": null,
      "outputs": []
    },
    {
      "cell_type": "code",
      "source": [
        "count_null/cotacoes_ibov.shape[0]"
      ],
      "metadata": {
        "id": "TgzPznC5y1Rv"
      },
      "execution_count": null,
      "outputs": []
    },
    {
      "cell_type": "code",
      "source": [
        "cotacoes_ibov.isna().sum(0)/len(cotacoes_ibov)"
      ],
      "metadata": {
        "id": "K8Mm-dR3zHMA"
      },
      "execution_count": null,
      "outputs": []
    },
    {
      "cell_type": "code",
      "source": [
        "cotacoes_ibov.isna().sum(0)/len(cotacoes_ibov) < 0.1"
      ],
      "metadata": {
        "id": "TqvjOW3ozN8P"
      },
      "execution_count": null,
      "outputs": []
    },
    {
      "cell_type": "markdown",
      "source": [
        "Agora um filtro de NA mais complexo, onde os NAs representem mais de 50% dos dados de uma linha (NAs da linha/total de colunas > 0.5).\n",
        "\n",
        "Vemos que nenhuma linha possui tantos NAs"
      ],
      "metadata": {
        "id": "i0kH7iYrzea4"
      }
    },
    {
      "cell_type": "code",
      "source": [
        "cotacoes_ibov.isna().sum(0)"
      ],
      "metadata": {
        "id": "cB5ed4Xz3EED"
      },
      "execution_count": null,
      "outputs": []
    },
    {
      "cell_type": "code",
      "source": [
        "cotacoes_ibov.isna().sum(1)"
      ],
      "metadata": {
        "id": "qiJRfNc23HAQ"
      },
      "execution_count": null,
      "outputs": []
    },
    {
      "cell_type": "code",
      "source": [
        "len(cotacoes_ibov.columns)"
      ],
      "metadata": {
        "id": "O6aQDvFt3JeA"
      },
      "execution_count": null,
      "outputs": []
    },
    {
      "cell_type": "code",
      "source": [
        "cotacoes_ibov.isna().sum(1)/len(cotacoes_ibov.columns)"
      ],
      "metadata": {
        "id": "QgsTbNhI3Q5A"
      },
      "execution_count": null,
      "outputs": []
    },
    {
      "cell_type": "code",
      "source": [
        "(cotacoes_ibov.isna().sum(1)/len(cotacoes_ibov.columns)) > 0.5"
      ],
      "metadata": {
        "id": "SCQUqSD23cME"
      },
      "execution_count": null,
      "outputs": []
    },
    {
      "cell_type": "code",
      "source": [
        "cotacoes_ibov[(cotacoes_ibov.isna().sum(1)/len(cotacoes_ibov.columns)) > 0.5]"
      ],
      "metadata": {
        "id": "TXqwEHbV3kLx"
      },
      "execution_count": null,
      "outputs": []
    },
    {
      "cell_type": "code",
      "source": [
        "cotacoes_ibov[(cotacoes_ibov.isna().sum(1)/len(cotacoes_ibov.columns)) < 0.5]"
      ],
      "metadata": {
        "id": "-g_OzdYc3rKK"
      },
      "execution_count": null,
      "outputs": []
    },
    {
      "cell_type": "code",
      "source": [
        "cotacoes_ibov[(cotacoes_ibov.isna().sum(1)/len(cotacoes_ibov.columns)) < 0.2]"
      ],
      "metadata": {
        "id": "u8wO1B-N3zI6"
      },
      "execution_count": null,
      "outputs": []
    },
    {
      "cell_type": "code",
      "source": [
        "cotacoes_ibov[(cotacoes_ibov.isna().sum(1)/len(cotacoes_ibov.columns)) < 0.03]"
      ],
      "metadata": {
        "id": "PJjZbwvU36mY"
      },
      "execution_count": null,
      "outputs": []
    },
    {
      "cell_type": "markdown",
      "source": [
        "#### Método dropna()"
      ],
      "metadata": {
        "id": "qRyBZPxd3-cq"
      }
    },
    {
      "cell_type": "markdown",
      "source": [
        "Sabendo disso, posso usar o dropna para retirar qualquer linha que seja NA para o ativo CMIN\n",
        "\n",
        "Usando o argumento inplace nem preciso criar uma nova variável\n",
        "\n",
        "(ex., cotacoes_IBOV2 que represente dados sem os NAs excluídos)"
      ],
      "metadata": {
        "id": "LtL-Hgy74cdC"
      }
    },
    {
      "cell_type": "code",
      "source": [
        "cotacoes_ibov.dropna(subset = [('Adj Close', 'ASAI3.SA')], inplace = True)"
      ],
      "metadata": {
        "id": "nmLQarQF4gOf"
      },
      "execution_count": null,
      "outputs": []
    },
    {
      "cell_type": "code",
      "source": [
        "cotacoes_ibov.isna().sum()"
      ],
      "metadata": {
        "id": "gxkBL-Tb4wlB"
      },
      "execution_count": null,
      "outputs": []
    },
    {
      "cell_type": "code",
      "source": [
        "cotacoes_ibov.isna().sum().head(30)"
      ],
      "metadata": {
        "id": "EvPhIECo5RqA"
      },
      "execution_count": null,
      "outputs": []
    },
    {
      "cell_type": "markdown",
      "source": [
        "##### **Exercício**"
      ],
      "metadata": {
        "id": "MpaFSgeF5u5R"
      }
    },
    {
      "cell_type": "markdown",
      "source": [
        "Encontre as colunas que tenham pelo menos 1 NA"
      ],
      "metadata": {
        "id": "cbdtGht75VNx"
      }
    },
    {
      "cell_type": "code",
      "source": [
        "cotacoes_ibov.columns"
      ],
      "metadata": {
        "id": "87FM9RMz5xlq"
      },
      "execution_count": null,
      "outputs": []
    },
    {
      "cell_type": "code",
      "source": [
        "type(cotacoes_ibov.columns)"
      ],
      "metadata": {
        "id": "hy-IS9iW53VY"
      },
      "execution_count": null,
      "outputs": []
    },
    {
      "cell_type": "code",
      "source": [
        "cotacoes_ibov.columns[ cotacoes_ibov.isna().sum(0) >= 1 ]"
      ],
      "metadata": {
        "id": "dgcZbleu6Six"
      },
      "execution_count": null,
      "outputs": []
    },
    {
      "cell_type": "markdown",
      "source": [
        "Posso remover qualquer coluna (ativo) que apresente algum NA usando drop.\n",
        "\n",
        "Esse método exige um argumento (axis) informando se a remoção deve ocorrer nas linhas ou colunas.\n",
        "Axis = 1 colunas"
      ],
      "metadata": {
        "id": "JrOjJaS86jeR"
      }
    },
    {
      "cell_type": "code",
      "source": [
        "cotacoes_ibov_filter_na = cotacoes_ibov.drop(cotacoes_ibov.columns[ cotacoes_ibov.isna().sum(0) >= 1 ], axis = 1)"
      ],
      "metadata": {
        "id": "-pymwTMX69Ij"
      },
      "execution_count": null,
      "outputs": []
    },
    {
      "cell_type": "code",
      "source": [
        "cotacoes_ibov_filter_na.columns"
      ],
      "metadata": {
        "id": "w-uJmW_X7QGi"
      },
      "execution_count": null,
      "outputs": []
    },
    {
      "cell_type": "code",
      "source": [
        "count_na = cotacoes_ibov_filter_na.isna().sum()"
      ],
      "metadata": {
        "id": "PMRMW4DQ7XPr"
      },
      "execution_count": null,
      "outputs": []
    },
    {
      "cell_type": "code",
      "source": [
        "max(count_na)"
      ],
      "metadata": {
        "id": "mFo0gwbN7dnh"
      },
      "execution_count": null,
      "outputs": []
    },
    {
      "cell_type": "markdown",
      "source": [
        "### 2.7.2. Diferentes formas de lidar com os NaN (não existe uma ideal, cada caso deve ser avaliado separadamente)"
      ],
      "metadata": {
        "id": "CnKiOE3-7hWq"
      }
    },
    {
      "cell_type": "markdown",
      "source": [
        "Vamos criar um novo conjunto de dados para facilitar a visualização do tratamento de dados"
      ],
      "metadata": {
        "id": "4ESZ62sDTRoh"
      }
    },
    {
      "cell_type": "code",
      "source": [
        "!pip install yfinance\n",
        "import yfinance as yf"
      ],
      "metadata": {
        "id": "-4Cg9QyXTTvY"
      },
      "execution_count": null,
      "outputs": []
    },
    {
      "cell_type": "code",
      "source": [
        "dados = yf.download('BBAS3.SA', start='2022-12-28', end='2023-01-03')[['Open', 'Close']]"
      ],
      "metadata": {
        "id": "qUu82cmmTauo"
      },
      "execution_count": null,
      "outputs": []
    },
    {
      "cell_type": "code",
      "source": [
        "dados.head()"
      ],
      "metadata": {
        "id": "2A8UISPJTwJ6"
      },
      "execution_count": null,
      "outputs": []
    },
    {
      "cell_type": "code",
      "source": [
        "dados = dados.asfreq('D')"
      ],
      "metadata": {
        "id": "g86a3GxJT1VS"
      },
      "execution_count": null,
      "outputs": []
    },
    {
      "cell_type": "code",
      "source": [
        "dados['Shifted'] = dados.Close.shift(1)"
      ],
      "metadata": {
        "id": "fG7MUEs8URNh"
      },
      "execution_count": null,
      "outputs": []
    },
    {
      "cell_type": "code",
      "source": [
        "dados"
      ],
      "metadata": {
        "id": "3ZAJrUxfUkNf"
      },
      "execution_count": null,
      "outputs": []
    },
    {
      "cell_type": "markdown",
      "source": [
        "Outra forma de visualizar quanto os NaN representam em nosso dataset"
      ],
      "metadata": {
        "id": "9QMdAFIiUk7p"
      }
    },
    {
      "cell_type": "code",
      "source": [
        "dados.info()"
      ],
      "metadata": {
        "id": "rp22YUMSVDax"
      },
      "execution_count": null,
      "outputs": []
    },
    {
      "cell_type": "markdown",
      "source": [
        "Remove as linhas (0) ou colunas (1) que possuem NaN"
      ],
      "metadata": {
        "id": "Lvo5DfZ-VH2s"
      }
    },
    {
      "cell_type": "code",
      "source": [
        "dados_dropna = dados.dropna(axis = 0)"
      ],
      "metadata": {
        "id": "y0pURTwKVcL3"
      },
      "execution_count": null,
      "outputs": []
    },
    {
      "cell_type": "code",
      "source": [
        "dados_dropna"
      ],
      "metadata": {
        "id": "2wfn9QIBVvDj"
      },
      "execution_count": null,
      "outputs": []
    },
    {
      "cell_type": "markdown",
      "source": [
        "Usar um limite de dados non-null\n",
        "\n",
        "Ex., manter linhas que possuam pelo menos 2 dados não-nulos"
      ],
      "metadata": {
        "id": "xY0lSIzfVw3u"
      }
    },
    {
      "cell_type": "code",
      "source": [
        "dados_dropna = dados.dropna(axis = 0, thresh = 2)"
      ],
      "metadata": {
        "id": "TyWAHeLFWKn7"
      },
      "execution_count": null,
      "outputs": []
    },
    {
      "cell_type": "code",
      "source": [
        "dados_dropna"
      ],
      "metadata": {
        "id": "iqyGki74WYQ6"
      },
      "execution_count": null,
      "outputs": []
    },
    {
      "cell_type": "markdown",
      "source": [
        "Caso não queira simplesmente remover, algumas opções são:"
      ],
      "metadata": {
        "id": "QzO6iB6rWaRL"
      }
    },
    {
      "cell_type": "code",
      "source": [
        "dadosfill0 = dados.fillna(0)"
      ],
      "metadata": {
        "id": "QkX-0j6LWkVS"
      },
      "execution_count": null,
      "outputs": []
    },
    {
      "cell_type": "code",
      "source": [
        "dadosfill9 = dados.fillna(999999999)"
      ],
      "metadata": {
        "id": "eHKWLXpJXAv6"
      },
      "execution_count": null,
      "outputs": []
    },
    {
      "cell_type": "code",
      "source": [
        "dadosfill9"
      ],
      "metadata": {
        "id": "o6fDDlOfXlZK"
      },
      "execution_count": null,
      "outputs": []
    },
    {
      "cell_type": "markdown",
      "source": [
        "Preenche os NaN de cada coluna com um valor desejado"
      ],
      "metadata": {
        "id": "Y853hy3MXmNx"
      }
    },
    {
      "cell_type": "code",
      "source": [
        "dados_dict = dados.fillna({\"Open\": 0, \"Close\": 1})"
      ],
      "metadata": {
        "id": "S1buJXgJX1f_"
      },
      "execution_count": null,
      "outputs": []
    },
    {
      "cell_type": "markdown",
      "source": [
        "ffill e bfill"
      ],
      "metadata": {
        "id": "AWx1XpPTX9bk"
      }
    },
    {
      "cell_type": "markdown",
      "source": [
        "Forward filling ou backward filling"
      ],
      "metadata": {
        "id": "h_Eh7fG2YD0j"
      }
    },
    {
      "cell_type": "markdown",
      "source": [
        "ffill (forward) = passa o valor prévio \"para a frente\", ou seja,\n",
        "preenche com o valor prévio disponível (útil em séries temporais)"
      ],
      "metadata": {
        "id": "4k4La2n7YKob"
      }
    },
    {
      "cell_type": "code",
      "source": [
        "dados.Close.fillna(method = 'ffill')"
      ],
      "metadata": {
        "id": "PggLXVN0YVxj"
      },
      "execution_count": null,
      "outputs": []
    },
    {
      "cell_type": "code",
      "source": [
        "dados.Close"
      ],
      "metadata": {
        "id": "mOXhG3lQYd_t"
      },
      "execution_count": null,
      "outputs": []
    },
    {
      "cell_type": "markdown",
      "source": [
        "bfill (backward) = traz o próximo valor disponível para trás"
      ],
      "metadata": {
        "id": "3fgRyvHXYhdV"
      }
    },
    {
      "cell_type": "code",
      "source": [
        "dados.Close.fillna(method = 'bfill')"
      ],
      "metadata": {
        "id": "teXXs8BkYlTK"
      },
      "execution_count": null,
      "outputs": []
    },
    {
      "cell_type": "markdown",
      "source": [
        "Preencher os NaNs com métricas do próprio conjunto de dados"
      ],
      "metadata": {
        "id": "hEc8aU0PYnwL"
      }
    },
    {
      "cell_type": "code",
      "source": [
        "dados.fillna({'Open':dados.Open.mean(), 'Close': dados.Close.median() })"
      ],
      "metadata": {
        "id": "NYzKefnqY9LL"
      },
      "execution_count": null,
      "outputs": []
    },
    {
      "cell_type": "code",
      "source": [
        "dados"
      ],
      "metadata": {
        "id": "ecPUIykCZWwj"
      },
      "execution_count": null,
      "outputs": []
    },
    {
      "cell_type": "markdown",
      "source": [
        "Interpolar (linear, nearest, zero, slinear, quadratic, cubic, spline, barycentric, polynomial)"
      ],
      "metadata": {
        "id": "hXQpdsmUZY86"
      }
    },
    {
      "cell_type": "code",
      "source": [
        "dados['Interpolate'] = dados.Close.interpolate(method = 'linear')"
      ],
      "metadata": {
        "id": "xeTv6DsCZjTF"
      },
      "execution_count": null,
      "outputs": []
    },
    {
      "cell_type": "code",
      "source": [
        "dados"
      ],
      "metadata": {
        "id": "lmo7z7D8ZxRE"
      },
      "execution_count": null,
      "outputs": []
    },
    {
      "cell_type": "markdown",
      "source": [
        "Visualizando os dados interpolados com equação linear"
      ],
      "metadata": {
        "id": "F6wPc5UaZ4-t"
      }
    },
    {
      "cell_type": "code",
      "source": [
        "dados.plot.scatter(x = 'Close', y = 'Close')"
      ],
      "metadata": {
        "id": "SrCNZqJkZ7pt"
      },
      "execution_count": null,
      "outputs": []
    },
    {
      "cell_type": "code",
      "source": [
        "dados.plot.scatter(x = 'Interpolate', y = 'Interpolate')"
      ],
      "metadata": {
        "id": "BEzCC8SsaJdk"
      },
      "execution_count": null,
      "outputs": []
    },
    {
      "cell_type": "markdown",
      "source": [
        "### 2.7.3. Visualização para dados de cotações em séries longas"
      ],
      "metadata": {
        "id": "2Ro6oezVapDM"
      }
    },
    {
      "cell_type": "markdown",
      "source": [
        "As técnicas utilizadas anteriormente podem ser muito úteis nos mais diversos dataframes e conjuntos de dados.\n",
        "\n",
        "Pensando em OHLC de séries temporais longas, vejamos um pouco mais essas técnicas\n",
        "\n",
        "Vamos abrir uma base de dados externa.\n",
        "\n",
        "Trabalhar NA é uma coisa extramamente importante que merece dedicar tempo."
      ],
      "metadata": {
        "id": "Yhp2ZsgYccor"
      }
    },
    {
      "cell_type": "code",
      "source": [
        "dados = pd.read_csv('Bovespa.csv')"
      ],
      "metadata": {
        "id": "2kkE0INJcgll"
      },
      "execution_count": null,
      "outputs": []
    },
    {
      "cell_type": "code",
      "source": [
        "dados.head()"
      ],
      "metadata": {
        "id": "b_Awnd2Ncs7V"
      },
      "execution_count": null,
      "outputs": []
    },
    {
      "cell_type": "markdown",
      "source": [
        "Vamos criar um novo dataframe para uma ação específica"
      ],
      "metadata": {
        "id": "jkscwUo5cuIl"
      }
    },
    {
      "cell_type": "code",
      "source": [
        "dados.index = pd.to_datetime(dados.Date)"
      ],
      "metadata": {
        "id": "G0JNz0wVc1Fl"
      },
      "execution_count": null,
      "outputs": []
    },
    {
      "cell_type": "code",
      "source": [
        "acao = 'CYRE3'"
      ],
      "metadata": {
        "id": "YMtrFK2_c9kW"
      },
      "execution_count": null,
      "outputs": []
    },
    {
      "cell_type": "code",
      "source": [
        "CYRE = dados[acao]"
      ],
      "metadata": {
        "id": "u_a2t3QbdIkz"
      },
      "execution_count": null,
      "outputs": []
    },
    {
      "cell_type": "code",
      "source": [
        "CYRE.plot(figsize = (12,7));"
      ],
      "metadata": {
        "id": "UGwYHI02dNZt"
      },
      "execution_count": null,
      "outputs": []
    },
    {
      "cell_type": "code",
      "source": [
        "CYRE = pd.DataFrame(CYRE)"
      ],
      "metadata": {
        "id": "Mzqs4UUadPS8"
      },
      "execution_count": null,
      "outputs": []
    },
    {
      "cell_type": "markdown",
      "source": [
        "O preenchimento usando a técnica de **\"forward filling\"** é normalmente o mais utilizado no mercado financeiro."
      ],
      "metadata": {
        "id": "QDp6ACQBdZ1d"
      }
    },
    {
      "cell_type": "code",
      "source": [
        "CYRE2 = CYRE.ffill(axis = 0)"
      ],
      "metadata": {
        "id": "WE9ys3gDdzC1"
      },
      "execution_count": null,
      "outputs": []
    },
    {
      "cell_type": "code",
      "source": [
        "CYRE2.plot(figsize = (12,7));"
      ],
      "metadata": {
        "id": "P1cTDW-AeFCd"
      },
      "execution_count": null,
      "outputs": []
    },
    {
      "cell_type": "code",
      "source": [
        "acao = 'WEGE3'"
      ],
      "metadata": {
        "id": "vPyv68OmeI3G"
      },
      "execution_count": null,
      "outputs": []
    },
    {
      "cell_type": "code",
      "source": [
        "weg = dados[acao]"
      ],
      "metadata": {
        "id": "mikajMlDeWYk"
      },
      "execution_count": null,
      "outputs": []
    },
    {
      "cell_type": "code",
      "source": [
        "weg.plot();"
      ],
      "metadata": {
        "id": "0l15gzEheYTW"
      },
      "execution_count": null,
      "outputs": []
    },
    {
      "cell_type": "code",
      "source": [
        "weg.fillna(0).plot();"
      ],
      "metadata": {
        "id": "pN8HQNadeZTk"
      },
      "execution_count": null,
      "outputs": []
    },
    {
      "cell_type": "markdown",
      "source": [
        "Uma outra opção é o preenchimento com a média, o que para dados de mercado financeiro pode não fazer tanto sentido."
      ],
      "metadata": {
        "id": "EmVXz8qpejA0"
      }
    },
    {
      "cell_type": "code",
      "source": [
        "preco_medio = weg.mean()"
      ],
      "metadata": {
        "id": "O1LKjKo9etP4"
      },
      "execution_count": null,
      "outputs": []
    },
    {
      "cell_type": "code",
      "source": [
        "weg.fillna(preco_medio).plot();"
      ],
      "metadata": {
        "id": "_setuzpnerNH"
      },
      "execution_count": null,
      "outputs": []
    },
    {
      "cell_type": "markdown",
      "source": [
        "### 2.7.4. Biblioteca missingno"
      ],
      "metadata": {
        "id": "8iclchReew4N"
      }
    },
    {
      "cell_type": "markdown",
      "source": [
        "Vamos aprender sobre uma nova biblioteca que tem como objetivo analisar os missings"
      ],
      "metadata": {
        "id": "XueB4NQXe-A9"
      }
    },
    {
      "cell_type": "code",
      "source": [
        "!pip install missingno"
      ],
      "metadata": {
        "id": "iArFt3pLflUU"
      },
      "execution_count": null,
      "outputs": []
    },
    {
      "cell_type": "code",
      "source": [
        "import missingno as msno"
      ],
      "metadata": {
        "id": "4309cUe2fmxe"
      },
      "execution_count": null,
      "outputs": []
    },
    {
      "cell_type": "code",
      "source": [
        "msno.matrix(dados)"
      ],
      "metadata": {
        "id": "exCoGKJqfqLU"
      },
      "execution_count": null,
      "outputs": []
    },
    {
      "cell_type": "code",
      "source": [
        "msno.bar(dados)"
      ],
      "metadata": {
        "id": "LHPU6vlafyHF"
      },
      "execution_count": null,
      "outputs": []
    },
    {
      "cell_type": "code",
      "source": [
        "# Exibe a correlação entre o número de missings\n",
        "# em diferentes colunas como um mapa de calor (heatmap)\n",
        "\n",
        "msno.heatmap(dados)"
      ],
      "metadata": {
        "id": "Xl6F2WLGgJ7-"
      },
      "execution_count": null,
      "outputs": []
    },
    {
      "cell_type": "markdown",
      "source": [
        "## 2.8. Redução do número de colunas - \"Wide to Long\""
      ],
      "metadata": {
        "id": "8yKsB0S_gZfm"
      }
    },
    {
      "cell_type": "markdown",
      "source": [
        "#### Retomando DF 'cotacoes_ibov'"
      ],
      "metadata": {
        "id": "G_FD-54E612o"
      }
    },
    {
      "cell_type": "code",
      "source": [
        "cotacoes_ibov"
      ],
      "metadata": {
        "id": "kc5tXWwuvQfC"
      },
      "execution_count": null,
      "outputs": []
    },
    {
      "cell_type": "code",
      "source": [
        "# Apenas execute esta célula caso você esteja reiniciando os estudos e não tenha capturado o dataframe cotacoes_ibov ainda\n",
        "\n",
        "#import pandas as pd\n",
        "#cotacoes_csv = pd.read_csv('cotacoes_ibov.csv', header = [0, 1], index_col = 0)\n",
        "#cotacoes_ibov = cotacoes_csv"
      ],
      "metadata": {
        "id": "AYoNMvtwwt0E"
      },
      "execution_count": null,
      "outputs": []
    },
    {
      "cell_type": "markdown",
      "source": [
        "#### **Transformação wide to long**"
      ],
      "metadata": {
        "id": "hDCmvQ5G66KF"
      }
    },
    {
      "cell_type": "markdown",
      "source": [
        "**Melt**\n",
        "\n",
        "O melt é utilizado na biblioteca pandas para realizar uma transformação que chamamos de \"wide to long\".\n",
        "\n",
        "Ou seja, se tivermos um dataframe grande e largo podemos transformá-lo num dataframe longo, com poucas colunas mas com muitas linhas.\n",
        "\n",
        "O que antes eram as colunas agora viram categorias em colunas novas, as \"variáveis\", e os valores são todos mostrados na coluna valor, ou \"value\"."
      ],
      "metadata": {
        "id": "w4UuMg80xdTU"
      }
    },
    {
      "cell_type": "code",
      "source": [
        "cotacoes_ibov_longo = pd.melt(cotacoes_ibov, ignore_index = False)"
      ],
      "metadata": {
        "id": "Clp-RRsSyEuz"
      },
      "execution_count": null,
      "outputs": []
    },
    {
      "cell_type": "code",
      "source": [
        "cotacoes_ibov_longo"
      ],
      "metadata": {
        "id": "Wa9SMZVEyVTN"
      },
      "execution_count": null,
      "outputs": []
    },
    {
      "cell_type": "markdown",
      "source": [
        "#### Utilizando filtros de colunas nos DFs melted"
      ],
      "metadata": {
        "id": "OkET95r30dq-"
      }
    },
    {
      "cell_type": "code",
      "source": [
        "cotacoes_ibov_longo_abev = cotacoes_ibov_longo[ (cotacoes_ibov_longo['variable_0'] == 'Close') & (cotacoes_ibov_longo['variable_1'] == 'ABEV3.SA')]"
      ],
      "metadata": {
        "id": "CkRrgjENy6Ik"
      },
      "execution_count": null,
      "outputs": []
    },
    {
      "cell_type": "code",
      "source": [
        "cotacoes_ibov_longo_abev.value.plot();"
      ],
      "metadata": {
        "id": "ptXug1KkzeGt"
      },
      "execution_count": null,
      "outputs": []
    },
    {
      "cell_type": "code",
      "source": [
        "cotacoes_ibov_longo_abev"
      ],
      "metadata": {
        "id": "NHHYe5Ss1ZHu"
      },
      "execution_count": null,
      "outputs": []
    },
    {
      "cell_type": "markdown",
      "source": [
        "#### Verificando e alterando o nome das colunas"
      ],
      "metadata": {
        "id": "U5ehqDTW0MEN"
      }
    },
    {
      "cell_type": "code",
      "source": [
        "cotacoes_ibov_longo.columns"
      ],
      "metadata": {
        "id": "937u7dL-zqJc"
      },
      "execution_count": null,
      "outputs": []
    },
    {
      "cell_type": "code",
      "source": [
        "cotacoes_ibov_longo.columns = ['Parametro', 'Ativo', 'Valor']"
      ],
      "metadata": {
        "id": "SuQByPEE0Lnk"
      },
      "execution_count": null,
      "outputs": []
    },
    {
      "cell_type": "code",
      "source": [
        "cotacoes_ibov_longo.head()"
      ],
      "metadata": {
        "id": "xcEo4Mfm0WeU"
      },
      "execution_count": null,
      "outputs": []
    },
    {
      "cell_type": "markdown",
      "source": [
        "#### Método 'pivot'"
      ],
      "metadata": {
        "id": "vO5ST-hi5v4O"
      }
    },
    {
      "cell_type": "markdown",
      "source": [
        "Vamos retornar ao formato padrão"
      ],
      "metadata": {
        "id": "bDy8MiFT0Xe7"
      }
    },
    {
      "cell_type": "markdown",
      "source": [
        "Primeiramente vamos estudar o caso de multi index"
      ],
      "metadata": {
        "id": "KLD2N2md2qal"
      }
    },
    {
      "cell_type": "code",
      "source": [
        "cotacoes_ibov_longo_retorno = cotacoes_ibov_longo.pivot(columns = ['Parametro', 'Ativo'], values = 'Valor')"
      ],
      "metadata": {
        "id": "WySZnEio0ncz"
      },
      "execution_count": null,
      "outputs": []
    },
    {
      "cell_type": "code",
      "source": [
        "cotacoes_ibov_longo_retorno.columns"
      ],
      "metadata": {
        "id": "k0eVM9412t-u"
      },
      "execution_count": null,
      "outputs": []
    },
    {
      "cell_type": "code",
      "source": [
        "cotacoes_ibov_longo_retorno.head()"
      ],
      "metadata": {
        "id": "D7Fv0iTB2zRE"
      },
      "execution_count": null,
      "outputs": []
    },
    {
      "cell_type": "code",
      "source": [
        "retorno_ibov_ohlc = cotacoes_ibov_longo.pivot(columns = ['Parametro', 'Ativo'])"
      ],
      "metadata": {
        "id": "KAkRtQLN3S0M"
      },
      "execution_count": null,
      "outputs": []
    },
    {
      "cell_type": "code",
      "source": [
        "retorno_ibov_ohlc['Valor']"
      ],
      "metadata": {
        "id": "vR9aJhTI3Spd"
      },
      "execution_count": null,
      "outputs": []
    },
    {
      "cell_type": "markdown",
      "source": [
        "#### E caso tivéssemos um DF simples, single index?"
      ],
      "metadata": {
        "id": "2qO6gGhb2mTt"
      }
    },
    {
      "cell_type": "code",
      "source": [
        "cotacoes_ibov_abev = cotacoes_ibov_longo[cotacoes_ibov_longo['Ativo'] == 'ABEV3.SA']"
      ],
      "metadata": {
        "id": "83w7BElByrqc"
      },
      "execution_count": null,
      "outputs": []
    },
    {
      "cell_type": "code",
      "source": [
        "cotacoes_ibov_abev"
      ],
      "metadata": {
        "id": "TWL4ik4m03os"
      },
      "execution_count": null,
      "outputs": []
    },
    {
      "cell_type": "code",
      "source": [
        "cotacoes_ibov_abev.pivot(columns = 'Parametro', values = 'Valor')"
      ],
      "metadata": {
        "id": "MaGVvZNQ10-M"
      },
      "execution_count": null,
      "outputs": []
    },
    {
      "cell_type": "markdown",
      "source": [
        "## 2.9. Filtros mais complexos"
      ],
      "metadata": {
        "id": "J3KkQNy22Aqk"
      }
    },
    {
      "cell_type": "markdown",
      "source": [
        "#### **Filtros com mais de uma condição**"
      ],
      "metadata": {
        "id": "2-Coh0zgcgzX"
      }
    },
    {
      "cell_type": "markdown",
      "source": [
        "Vamos criar uma cópia do dataframe original para fazermos algumas práticas de filtros e substituições"
      ],
      "metadata": {
        "id": "bWb2bdox5rAe"
      }
    },
    {
      "cell_type": "code",
      "source": [
        "df_cotacoes = cotacoes_ibov_longo.copy()"
      ],
      "metadata": {
        "id": "NVpkY3Eqlupj"
      },
      "execution_count": null,
      "outputs": []
    },
    {
      "cell_type": "code",
      "source": [
        "df_cotacoes"
      ],
      "metadata": {
        "id": "EKkJ1EXTw4qP"
      },
      "execution_count": null,
      "outputs": []
    },
    {
      "cell_type": "code",
      "source": [
        "df_cotacoes_adjclose = df_cotacoes[df_cotacoes['variable_0'] == 'Adj Close' ]"
      ],
      "metadata": {
        "id": "DGairyyuw-11"
      },
      "execution_count": null,
      "outputs": []
    },
    {
      "cell_type": "code",
      "source": [
        "df_cotacoes_adjclose"
      ],
      "metadata": {
        "id": "Pt6M7a8yxjiJ"
      },
      "execution_count": null,
      "outputs": []
    },
    {
      "cell_type": "code",
      "source": [
        "df_cotacoes[df_cotacoes.variable_0 == 'Adj Close' ]"
      ],
      "metadata": {
        "id": "qAB4E7oIxkbq"
      },
      "execution_count": null,
      "outputs": []
    },
    {
      "cell_type": "markdown",
      "source": [
        "Além de filtrar a coluna \"variable_0\", agora queremos estabelecer um filtro também na coluna \"value\" queremos selecionar as linhas que possuem valor menor de 10\n",
        "\n",
        "Por causa da presença do \"&\", as duas condições precisam ser respeitadas"
      ],
      "metadata": {
        "id": "Ik_J-6XecbSA"
      }
    },
    {
      "cell_type": "code",
      "source": [
        "df_cotacoes_lowcost = df_cotacoes[(df_cotacoes.variable_0 == 'Adj Close') & (df_cotacoes.value < 10 )]"
      ],
      "metadata": {
        "id": "BthZ7rG4cnLx"
      },
      "execution_count": null,
      "outputs": []
    },
    {
      "cell_type": "code",
      "source": [
        "set(df_cotacoes_lowcost.variable_1)"
      ],
      "metadata": {
        "id": "djdmTR6UdHEk"
      },
      "execution_count": null,
      "outputs": []
    },
    {
      "cell_type": "markdown",
      "source": [
        "Cotações maiores que R\\$ 8,00 e menores que R$ 10,00"
      ],
      "metadata": {
        "id": "5y3noHeJdUGA"
      }
    },
    {
      "cell_type": "code",
      "source": [
        "df_cotacoes[(df_cotacoes.variable_0 == 'Adj Close') & (df_cotacoes.value < 10 ) & (df_cotacoes.value > 8 )]"
      ],
      "metadata": {
        "id": "g_2AipBZeI5X"
      },
      "execution_count": null,
      "outputs": []
    },
    {
      "cell_type": "code",
      "source": [
        "set(df_cotacoes[(df_cotacoes.variable_0 == 'Adj Close') & (df_cotacoes.value < 10 ) & (df_cotacoes.value > 8 )].variable_1)"
      ],
      "metadata": {
        "id": "YGxorTaJegw1"
      },
      "execution_count": null,
      "outputs": []
    },
    {
      "cell_type": "markdown",
      "source": [
        "**Exercício**\n",
        "\n",
        "Calcule a média do volume de negociação de PETR4"
      ],
      "metadata": {
        "id": "gcN8Qu2Meqgk"
      }
    },
    {
      "cell_type": "code",
      "source": [
        "df_cotacoes.head()"
      ],
      "metadata": {
        "id": "Ud1pdUmOe_qI"
      },
      "execution_count": null,
      "outputs": []
    },
    {
      "cell_type": "code",
      "source": [
        "df_cotacoes.mean()"
      ],
      "metadata": {
        "id": "3hEEtpB1fTPd"
      },
      "execution_count": null,
      "outputs": []
    },
    {
      "cell_type": "code",
      "source": [
        "df_petro = df_cotacoes[(df_cotacoes['variable_0'] == 'Volume') & (df_cotacoes['variable_1'] == 'PETR4.SA')]"
      ],
      "metadata": {
        "id": "sKLZbcJAfdzl"
      },
      "execution_count": null,
      "outputs": []
    },
    {
      "cell_type": "code",
      "source": [
        "df_petro.head()"
      ],
      "metadata": {
        "id": "0iVSbpvpf1wR"
      },
      "execution_count": null,
      "outputs": []
    },
    {
      "cell_type": "code",
      "source": [
        "volume_medio = df_petro.value.mean()"
      ],
      "metadata": {
        "id": "VDXjFt4gf8Zt"
      },
      "execution_count": null,
      "outputs": []
    },
    {
      "cell_type": "code",
      "source": [
        "type(volume_medio)"
      ],
      "metadata": {
        "id": "tCaMfjkgg1yH"
      },
      "execution_count": null,
      "outputs": []
    },
    {
      "cell_type": "code",
      "source": [
        "df_cotacoes[df_cotacoes.value > df_petro.value.mean()]"
      ],
      "metadata": {
        "id": "pipZrrgMgD5d"
      },
      "execution_count": null,
      "outputs": []
    },
    {
      "cell_type": "code",
      "source": [
        "set(df_cotacoes[df_cotacoes.value > df_petro.value.mean()].variable_1)"
      ],
      "metadata": {
        "id": "v7MNxY-_giDc"
      },
      "execution_count": null,
      "outputs": []
    },
    {
      "cell_type": "markdown",
      "source": [
        "#### **Filtros com mais de uma condição, incluindo \"ou\"**"
      ],
      "metadata": {
        "id": "TZpjgFgKgr9s"
      }
    },
    {
      "cell_type": "markdown",
      "source": [
        "Vamos complicar um pouco mais\n",
        "\n",
        "Além do filtro acima, vamos criar um outro filtro onde a coluna variable_0 precisa ser \"Adj Close\" e o valor precisa ser menor que 10 OU maior que 80"
      ],
      "metadata": {
        "id": "rYqVUn35hK-P"
      }
    },
    {
      "cell_type": "code",
      "source": [
        "df_cotacoes[(df_cotacoes.variable_0 == \"Adj Close\") & ((df_cotacoes.value < 10) | (df_cotacoes.value > 80))]"
      ],
      "metadata": {
        "id": "ZxQlK1cmH1Nt"
      },
      "execution_count": null,
      "outputs": []
    },
    {
      "cell_type": "markdown",
      "source": [
        "#### **Filtro com base em lista**"
      ],
      "metadata": {
        "id": "NvW6JDTcIGFm"
      }
    },
    {
      "cell_type": "markdown",
      "source": [
        "Vamos selecionar ativos com base em uma lista\n",
        "\n",
        "Ou seja, precisamos filtrar as linhas de tal forma que contenham apenas os papéis que determinamos na lista"
      ],
      "metadata": {
        "id": "IBzQe49TImqF"
      }
    },
    {
      "cell_type": "code",
      "source": [
        "ativos_churrasco = ['ABEV3.SA','JBSS3.SA','CRFB3.SA','KLBN11.SA','RADL3.SA']"
      ],
      "metadata": {
        "id": "mxpnUVQBItp_"
      },
      "execution_count": null,
      "outputs": []
    },
    {
      "cell_type": "code",
      "source": [
        "df_cotacoes_churrasco = df_cotacoes[df_cotacoes.variable_1.isin(ativos_churrasco)]"
      ],
      "metadata": {
        "id": "r_TsuV7bI053"
      },
      "execution_count": null,
      "outputs": []
    },
    {
      "cell_type": "markdown",
      "source": [
        "Como selecionar todos os papéis que não estão na lista?"
      ],
      "metadata": {
        "id": "CbGYA5NdI3Bd"
      }
    },
    {
      "cell_type": "code",
      "source": [
        "alguns_bancos = ['ITUB4.SA','BBDC4.SA','BBAS3.SA','SANB11.SA','BIDI11.SA']"
      ],
      "metadata": {
        "id": "spyqFiY3JMBe"
      },
      "execution_count": null,
      "outputs": []
    },
    {
      "cell_type": "code",
      "source": [
        "df_cotacoes_sembancos = df_cotacoes[~df_cotacoes.variable_1.isin(alguns_bancos)]"
      ],
      "metadata": {
        "id": "IR-UHkQFJO5G"
      },
      "execution_count": null,
      "outputs": []
    },
    {
      "cell_type": "code",
      "source": [
        "df_cotacoes_sembancos"
      ],
      "metadata": {
        "id": "VWKmPQjlJbBt"
      },
      "execution_count": null,
      "outputs": []
    },
    {
      "cell_type": "markdown",
      "source": [
        "#### **Filtro com base em date range**"
      ],
      "metadata": {
        "id": "LT4VXbrMJcMR"
      }
    },
    {
      "cell_type": "markdown",
      "source": [
        "Vamos lembrar como funciona o .loc"
      ],
      "metadata": {
        "id": "UZELNx0GJn7e"
      }
    },
    {
      "cell_type": "code",
      "source": [
        "df_cotacoes.loc['2021-12-30']"
      ],
      "metadata": {
        "id": "TSTcho6JJqFI"
      },
      "execution_count": null,
      "outputs": []
    },
    {
      "cell_type": "markdown",
      "source": [
        "Utilizando o operador \"date_range\" para retornar todas as datas que estão presentes em um intervalo"
      ],
      "metadata": {
        "id": "nFdiz3JvJ2a3"
      }
    },
    {
      "cell_type": "code",
      "source": [
        "ibov_date_range = pd.date_range(start='2021-03-21',end='2021-03-31')"
      ],
      "metadata": {
        "id": "TuaXrMJTJ9oB"
      },
      "execution_count": null,
      "outputs": []
    },
    {
      "cell_type": "code",
      "source": [
        "ibov_date_range"
      ],
      "metadata": {
        "id": "7D_k27zgKD_N"
      },
      "execution_count": null,
      "outputs": []
    },
    {
      "cell_type": "code",
      "source": [
        "type(ibov_date_range)"
      ],
      "metadata": {
        "id": "-WamcBj4KX16"
      },
      "execution_count": null,
      "outputs": []
    },
    {
      "cell_type": "code",
      "source": [
        "df_cotacoes[df_cotacoes.index.isin(ibov_date_range)]"
      ],
      "metadata": {
        "id": "AccAgcFnKIZu"
      },
      "execution_count": null,
      "outputs": []
    },
    {
      "cell_type": "code",
      "source": [
        "df_cotacoes.dtypes"
      ],
      "metadata": {
        "id": "dxhdMp4xKW5l"
      },
      "execution_count": null,
      "outputs": []
    },
    {
      "cell_type": "code",
      "source": [
        "df_cotacoes.index = pd.to_datetime(df_cotacoes.index)"
      ],
      "metadata": {
        "id": "gMuTCjn5KlJ9"
      },
      "execution_count": null,
      "outputs": []
    },
    {
      "cell_type": "code",
      "source": [
        "df_cotacoes.index"
      ],
      "metadata": {
        "id": "udY47k9ZKjsN"
      },
      "execution_count": null,
      "outputs": []
    },
    {
      "cell_type": "code",
      "source": [
        "df_cotacoes[df_cotacoes.index.isin(ibov_date_range)]"
      ],
      "metadata": {
        "id": "I4ab9kBKK2el"
      },
      "execution_count": null,
      "outputs": []
    },
    {
      "cell_type": "markdown",
      "source": [
        "#### **Filtro com base em caractere da string**"
      ],
      "metadata": {
        "id": "5fy45nZLK9IN"
      }
    },
    {
      "cell_type": "markdown",
      "source": [
        "Lembrando dos operadores de filtros em strings,\n",
        "\n",
        "veja como fazemos para retornar o quinto caractere do ticker de um papel"
      ],
      "metadata": {
        "id": "F7CYRHKTfU5S"
      }
    },
    {
      "cell_type": "code",
      "source": [
        "acao = 'PETR4.SA'"
      ],
      "metadata": {
        "id": "buz9H4yMgDwx"
      },
      "execution_count": null,
      "outputs": []
    },
    {
      "cell_type": "code",
      "source": [
        "acao[4]"
      ],
      "metadata": {
        "id": "33brU03qgQXK"
      },
      "execution_count": null,
      "outputs": []
    },
    {
      "cell_type": "code",
      "source": [
        "acao[-4]"
      ],
      "metadata": {
        "id": "q3_RNgtlgXZp"
      },
      "execution_count": null,
      "outputs": []
    },
    {
      "cell_type": "markdown",
      "source": [
        "Dado isso, como podemos fazer para retornar apenas as ações ordinárias, ou seja, que têm final '3'?"
      ],
      "metadata": {
        "id": "YBmDzADMgYdq"
      }
    },
    {
      "cell_type": "code",
      "source": [
        "df_cotacoes['variable_1']"
      ],
      "metadata": {
        "id": "wQkMG0Xggds2"
      },
      "execution_count": null,
      "outputs": []
    },
    {
      "cell_type": "code",
      "source": [
        "df_cotacoes.variable_1.str[-4]"
      ],
      "metadata": {
        "id": "-wE8u-0Lggja"
      },
      "execution_count": null,
      "outputs": []
    },
    {
      "cell_type": "code",
      "source": [
        "df_cotacoes[df_cotacoes.variable_1.str[-4] == '3'  ]"
      ],
      "metadata": {
        "id": "ZE6RSHVjgo4i"
      },
      "execution_count": null,
      "outputs": []
    },
    {
      "cell_type": "code",
      "source": [
        "df_cotacoes[df_cotacoes.variable_1.str[-4] == '4'  ]"
      ],
      "metadata": {
        "id": "vHWDUAM1hE8w"
      },
      "execution_count": null,
      "outputs": []
    },
    {
      "cell_type": "code",
      "source": [
        "set(df_cotacoes[df_cotacoes.variable_1.str[-4] == '3'  ].variable_1)"
      ],
      "metadata": {
        "id": "nsCmQHNChY5K"
      },
      "execution_count": null,
      "outputs": []
    },
    {
      "cell_type": "code",
      "source": [
        "set(df_cotacoes[df_cotacoes.variable_1.str[-4] == '4'  ].variable_1)"
      ],
      "metadata": {
        "id": "2AnpJYGKhO1J"
      },
      "execution_count": null,
      "outputs": []
    },
    {
      "cell_type": "markdown",
      "source": [
        "#### **Filtros .where e .mask**"
      ],
      "metadata": {
        "id": "9e8LMwrlhXjp"
      }
    },
    {
      "cell_type": "markdown",
      "source": [
        "Nesses casos, ao invés de remover os valores que nao obedecem o filtro, as linha/coluna são substituídas por NaN ou pelo valor/str desejado"
      ],
      "metadata": {
        "id": "HUAdeB6MhfMJ"
      }
    },
    {
      "cell_type": "code",
      "source": [
        "df_cotacoes.where(df_cotacoes.variable_1 == 'ABEV3.SA')"
      ],
      "metadata": {
        "id": "_j-tqCcrhpgh"
      },
      "execution_count": null,
      "outputs": []
    },
    {
      "cell_type": "code",
      "source": [
        "df_cotacoes.where(df_cotacoes.variable_1 == 'ABEV3.SA', 0)"
      ],
      "metadata": {
        "id": "NbQSl2XVh1Ky"
      },
      "execution_count": null,
      "outputs": []
    },
    {
      "cell_type": "code",
      "source": [
        "df_cotacoes.where(df_cotacoes.variable_1 == 'ABEV3.SA', 'Vazio')"
      ],
      "metadata": {
        "id": "_LEcRSRxh6VZ"
      },
      "execution_count": null,
      "outputs": []
    },
    {
      "cell_type": "code",
      "source": [
        "df_cotacoes.mask(df_cotacoes.variable_1 == 'ABEV3.SA')"
      ],
      "metadata": {
        "id": "hUHSJfejh8F5"
      },
      "execution_count": null,
      "outputs": []
    },
    {
      "cell_type": "code",
      "source": [
        "df_cotacoes.mask(df_cotacoes.variable_1 == 'ABEV3.SA').head()"
      ],
      "metadata": {
        "id": "gA8TK4viiH6h"
      },
      "execution_count": null,
      "outputs": []
    },
    {
      "cell_type": "code",
      "source": [
        "df_cotacoes.mask(df_cotacoes.variable_1 == 'ABEV3.SA').tail()"
      ],
      "metadata": {
        "id": "U83fdDdCiL9J"
      },
      "execution_count": null,
      "outputs": []
    },
    {
      "cell_type": "markdown",
      "source": [
        "## 2.10. Ordenação"
      ],
      "metadata": {
        "id": "eeOcs3IoiM8p"
      }
    },
    {
      "cell_type": "markdown",
      "source": [
        "Existem métodos diretos para ordenar/classificar índices e colunas"
      ],
      "metadata": {
        "id": "kSsrgpvDmATY"
      }
    },
    {
      "cell_type": "code",
      "source": [
        "df_cotacoes.head()"
      ],
      "metadata": {
        "id": "KWygG-8smjHa"
      },
      "execution_count": null,
      "outputs": []
    },
    {
      "cell_type": "code",
      "source": [
        "df_cotacoes.sort_index()"
      ],
      "metadata": {
        "id": "5uRycstcmkpx"
      },
      "execution_count": null,
      "outputs": []
    },
    {
      "cell_type": "markdown",
      "source": [
        "Ordem decrescente"
      ],
      "metadata": {
        "id": "sIxjn9genBxg"
      }
    },
    {
      "cell_type": "code",
      "source": [
        "df_cotacoes.sort_index(ascending = False)"
      ],
      "metadata": {
        "id": "7KIEWAiNnMSx"
      },
      "execution_count": null,
      "outputs": []
    },
    {
      "cell_type": "markdown",
      "source": [
        "E baseando-se em uma ou mais colunas"
      ],
      "metadata": {
        "id": "I9QjyLSEnamw"
      }
    },
    {
      "cell_type": "code",
      "source": [
        "df_cotacoes.sort_values('value', ascending = False)"
      ],
      "metadata": {
        "id": "t-kFtHNXnl79"
      },
      "execution_count": null,
      "outputs": []
    },
    {
      "cell_type": "code",
      "source": [
        "df_cotacoes.sort_values('variable_1', ascending = True)"
      ],
      "metadata": {
        "id": "6FHsDOCNnysx"
      },
      "execution_count": null,
      "outputs": []
    },
    {
      "cell_type": "code",
      "source": [
        "df_cotacoes.sort_values(['variable_1', 'variable_0'], ascending = True)"
      ],
      "metadata": {
        "id": "NQGpPognoCjI"
      },
      "execution_count": null,
      "outputs": []
    },
    {
      "cell_type": "markdown",
      "source": [
        "Em alguns casos, você deseja listar os maiores ou menores valores (ex., top 10 volumes negociados)"
      ],
      "metadata": {
        "id": "ZjYh6is5rMg-"
      }
    },
    {
      "cell_type": "code",
      "source": [
        "df_volumes = df_cotacoes[df_cotacoes.variable_0 == 'Volume']"
      ],
      "metadata": {
        "id": "6H64sAgZroqc"
      },
      "execution_count": null,
      "outputs": []
    },
    {
      "cell_type": "code",
      "source": [
        "df_volumes.head()"
      ],
      "metadata": {
        "id": "JkEKJASzr6z-"
      },
      "execution_count": null,
      "outputs": []
    },
    {
      "cell_type": "code",
      "source": [
        "df_volumes.nlargest(10, 'value')"
      ],
      "metadata": {
        "id": "WxQdS_33r8Uw"
      },
      "execution_count": null,
      "outputs": []
    },
    {
      "cell_type": "markdown",
      "source": [
        "Ou os 5 menores preços de fechamento registrados"
      ],
      "metadata": {
        "id": "bJS4wIplsKiH"
      }
    },
    {
      "cell_type": "code",
      "source": [
        "df_close = df_cotacoes[df_cotacoes.variable_0 == 'Close']"
      ],
      "metadata": {
        "id": "slEZZjAxsUuz"
      },
      "execution_count": null,
      "outputs": []
    },
    {
      "cell_type": "code",
      "source": [
        "df_close.head()"
      ],
      "metadata": {
        "id": "A3_uOlC7sbNf"
      },
      "execution_count": null,
      "outputs": []
    },
    {
      "cell_type": "code",
      "source": [
        "df_close.nsmallest(5, 'value')"
      ],
      "metadata": {
        "id": "Ji3NmMpfscKw"
      },
      "execution_count": null,
      "outputs": []
    },
    {
      "cell_type": "markdown",
      "source": [
        "## 2.11. Strings em dataframes"
      ],
      "metadata": {
        "id": "iDO30yudsiwv"
      }
    },
    {
      "cell_type": "markdown",
      "source": [
        "### 2.11.1. Substituição com regex"
      ],
      "metadata": {
        "id": "MwCWz1FAEdpP"
      }
    },
    {
      "cell_type": "markdown",
      "source": [
        "Imagine que eu quero remover o \"SA\" do nome dos ativos"
      ],
      "metadata": {
        "id": "1vQqP7oHFX4u"
      }
    },
    {
      "cell_type": "code",
      "source": [
        "df_cotacoes_copy = df_cotacoes.copy()"
      ],
      "metadata": {
        "id": "jMx_sxJeGbDG"
      },
      "execution_count": null,
      "outputs": []
    },
    {
      "cell_type": "code",
      "source": [
        "df_cotacoes_copy.head()"
      ],
      "metadata": {
        "id": "csl1PEeNGfWO"
      },
      "execution_count": null,
      "outputs": []
    },
    {
      "cell_type": "markdown",
      "source": [
        "Nesse caso em especial não teríamos muitos problemas porque o SA está precedido pelo \".\". Então bastaria usar o replace \".SA\""
      ],
      "metadata": {
        "id": "xocS19nTGga9"
      }
    },
    {
      "cell_type": "markdown",
      "source": [
        "Mas para fins didáticos, vamos ignorar o \".\""
      ],
      "metadata": {
        "id": "EOhWn8w_GplE"
      }
    },
    {
      "cell_type": "code",
      "source": [
        "df_cotacoes_copy['Ativo']= df_cotacoes_copy.variable_1.str.replace(\"SA\", \"\")"
      ],
      "metadata": {
        "id": "OAjmv6VOGx-t"
      },
      "execution_count": null,
      "outputs": []
    },
    {
      "cell_type": "code",
      "source": [
        "df_cotacoes_copy.head()"
      ],
      "metadata": {
        "id": "Q11g0grdHGP1"
      },
      "execution_count": null,
      "outputs": []
    },
    {
      "cell_type": "markdown",
      "source": [
        "Parece resolvido, mas e se pensarmos em ativos como Banco do Brasil ('BBSA3'), Assaí ('ASAI3'), Itaúsa ('ITSA3')?"
      ],
      "metadata": {
        "id": "-vGq3A4kHOf9"
      }
    },
    {
      "cell_type": "code",
      "source": [
        "set(df_cotacoes_copy.Ativo)"
      ],
      "metadata": {
        "id": "LOfpam4VHW3O"
      },
      "execution_count": null,
      "outputs": []
    },
    {
      "cell_type": "markdown",
      "source": [
        "Por isso, temos técnicas de susbtituição e localização mais eficientes usando as expressões regulares (regex)"
      ],
      "metadata": {
        "id": "6UalDhuHHf-t"
      }
    },
    {
      "cell_type": "code",
      "source": [
        "# Para remover os \".SA\" dos tickers, precisamos usar um método chamado \"replace\"\n",
        "# Precisamos indicar o que queremos remover e o que virá no lugar\n",
        "# r'.SA$' nos indica qualquer palavra terminada em .SA\n",
        "\n",
        "\n",
        "df_cotacoes_copy['Ativo']= df_cotacoes_copy.variable_1.str.replace('.SA$', \"\", regex = True)"
      ],
      "metadata": {
        "id": "Kx9JziPJHnrN"
      },
      "execution_count": null,
      "outputs": []
    },
    {
      "cell_type": "code",
      "source": [
        "df_cotacoes_copy.head()"
      ],
      "metadata": {
        "id": "0PqF62EvIOAg"
      },
      "execution_count": null,
      "outputs": []
    },
    {
      "cell_type": "code",
      "source": [
        "df_cotacoes_copy['Ativo']= df_cotacoes_copy.variable_1.replace(to_replace = r'.SA$', value = \"\", regex = True)"
      ],
      "metadata": {
        "id": "jXfHTH0vIPKM"
      },
      "execution_count": null,
      "outputs": []
    },
    {
      "cell_type": "code",
      "source": [
        "df_cotacoes_copy.replace(to_replace = r'^.SA', value = \"\", regex = True)"
      ],
      "metadata": {
        "id": "eHTOJ4kFIlVE"
      },
      "execution_count": null,
      "outputs": []
    },
    {
      "cell_type": "code",
      "source": [
        "# Para trocar \"VIIA\" por \"VVAR\", o raciocínio é o mesmo:\n",
        "# Nesse caso, ^ para indicar uma string que comece com VIIA\n",
        "\n",
        "\n",
        "df_cotacoes_alterado = df_cotacoes_copy.replace(to_replace = '^VIIA', value = \"VVAR\", regex = True)"
      ],
      "metadata": {
        "id": "nAPjSj_oIupV"
      },
      "execution_count": null,
      "outputs": []
    },
    {
      "cell_type": "code",
      "source": [
        "set(df_cotacoes_alterado.variable_1)"
      ],
      "metadata": {
        "id": "IowVmbDxKNAZ"
      },
      "execution_count": null,
      "outputs": []
    },
    {
      "cell_type": "markdown",
      "source": [
        "### 2.11.2. Concatenar e dividir"
      ],
      "metadata": {
        "id": "rcF3pHkEKVxN"
      }
    },
    {
      "cell_type": "markdown",
      "source": [
        "#### Concatenação"
      ],
      "metadata": {
        "id": "iNK609Styfaf"
      }
    },
    {
      "cell_type": "markdown",
      "source": [
        "Concatenar strings e indicar um separador desejado"
      ],
      "metadata": {
        "id": "4JsJ9LJRxUbZ"
      }
    },
    {
      "cell_type": "code",
      "source": [
        "df_cotacoes.head()"
      ],
      "metadata": {
        "id": "_YjzG1RtxWVW"
      },
      "execution_count": null,
      "outputs": []
    },
    {
      "cell_type": "code",
      "source": [
        "df_cotacoes['Ativo_Parametro'] = df_cotacoes.variable_1.str.cat(df_cotacoes.variable_0, sep = '_')"
      ],
      "metadata": {
        "id": "mXdTbDO1xYx-"
      },
      "execution_count": null,
      "outputs": []
    },
    {
      "cell_type": "code",
      "source": [
        "df_cotacoes.head()"
      ],
      "metadata": {
        "id": "A9R_5JgzyLQx"
      },
      "execution_count": null,
      "outputs": []
    },
    {
      "cell_type": "markdown",
      "source": [
        "Exercício\n",
        "\n",
        "Remova o .SA antes de fazer a concatenação"
      ],
      "metadata": {
        "id": "enwmo4lvyMqP"
      }
    },
    {
      "cell_type": "markdown",
      "source": [
        "#### Divisão de strings"
      ],
      "metadata": {
        "id": "NmkozYfzydEL"
      }
    },
    {
      "cell_type": "markdown",
      "source": [
        "\n",
        "\n",
        "Dividir strings e indicar output como listas ou colunas do próprio df"
      ],
      "metadata": {
        "id": "ByJKT0vJyUJg"
      }
    },
    {
      "cell_type": "code",
      "source": [
        "df_cotacoes.head()"
      ],
      "metadata": {
        "id": "Cb1-ElstyccH"
      },
      "execution_count": null,
      "outputs": []
    },
    {
      "cell_type": "code",
      "source": [
        "df_cotacoes.Ativo_Parametro.str.split('_')"
      ],
      "metadata": {
        "id": "j16eQXMXyk13"
      },
      "execution_count": null,
      "outputs": []
    },
    {
      "cell_type": "code",
      "source": [
        "df_cotacoes['Colunas_divididas'] = df_cotacoes.Ativo_Parametro.str.split('_')"
      ],
      "metadata": {
        "id": "0RvWAbwjy6Om"
      },
      "execution_count": null,
      "outputs": []
    },
    {
      "cell_type": "code",
      "source": [
        "df_cotacoes.head()"
      ],
      "metadata": {
        "id": "tIy7y-HSzF8R"
      },
      "execution_count": null,
      "outputs": []
    },
    {
      "cell_type": "code",
      "source": [
        "df_cotacoes[ ['Ativo', 'Parametro'] ] = df_cotacoes.Ativo_Parametro.str.split('_', expand = True)"
      ],
      "metadata": {
        "id": "bZw5iEbrzHjL"
      },
      "execution_count": null,
      "outputs": []
    },
    {
      "cell_type": "code",
      "source": [
        "df_cotacoes.head()"
      ],
      "metadata": {
        "id": "_1TNWiBGzwvH"
      },
      "execution_count": null,
      "outputs": []
    },
    {
      "cell_type": "markdown",
      "source": [
        "## 2.12. Duplicatas"
      ],
      "metadata": {
        "id": "AVvSUeSlz9vd"
      }
    },
    {
      "cell_type": "markdown",
      "source": [
        "#### Análise de duplicatas"
      ],
      "metadata": {
        "id": "bMq4ofgtQNbf"
      }
    },
    {
      "cell_type": "code",
      "source": [
        "df_cotacoes.head()"
      ],
      "metadata": {
        "id": "AE9H91uPPdco"
      },
      "execution_count": null,
      "outputs": []
    },
    {
      "cell_type": "code",
      "source": [
        "df_cotacoes.duplicated().any()"
      ],
      "metadata": {
        "id": "F4RK18tTQfAX"
      },
      "execution_count": null,
      "outputs": []
    },
    {
      "cell_type": "markdown",
      "source": [
        "Quantas duplicatas aparecem?"
      ],
      "metadata": {
        "id": "N-6QQy8NW2O2"
      }
    },
    {
      "cell_type": "code",
      "source": [
        "df_cotacoes.duplicated().sum()"
      ],
      "metadata": {
        "id": "qOI-9EeuWzm9"
      },
      "execution_count": null,
      "outputs": []
    },
    {
      "cell_type": "markdown",
      "source": [
        "Ou seja, então há duplicatas. Vamos fazer uma verificação mais precisa coluna a coluna"
      ],
      "metadata": {
        "id": "NwwoODsgQjCf"
      }
    },
    {
      "cell_type": "code",
      "source": [
        "df_cotacoes['variable_0'].duplicated().any()"
      ],
      "metadata": {
        "id": "OtQY3UirQ0pZ"
      },
      "execution_count": null,
      "outputs": []
    },
    {
      "cell_type": "code",
      "source": [
        "df_cotacoes['variable_1'].duplicated().any()"
      ],
      "metadata": {
        "id": "-AMzsk6GRCMA"
      },
      "execution_count": null,
      "outputs": []
    },
    {
      "cell_type": "code",
      "source": [
        "df_cotacoes['value'].duplicated().any()"
      ],
      "metadata": {
        "id": "5nKpjWwYRDRW"
      },
      "execution_count": null,
      "outputs": []
    },
    {
      "cell_type": "code",
      "source": [
        "print(df_cotacoes['variable_0'].duplicated().any(),\n",
        "df_cotacoes['variable_1'].duplicated().any(),\n",
        "df_cotacoes['value'].duplicated().any())"
      ],
      "metadata": {
        "id": "XTZ7-Yr3RE3w"
      },
      "execution_count": null,
      "outputs": []
    },
    {
      "cell_type": "markdown",
      "source": [
        "Onde estão estas duplicatas?"
      ],
      "metadata": {
        "id": "uLo1_S5CRNkO"
      }
    },
    {
      "cell_type": "code",
      "source": [
        "df_cotacoes[df_cotacoes.duplicated(keep = False)].tail()"
      ],
      "metadata": {
        "id": "o56ZYyznRvrA"
      },
      "execution_count": null,
      "outputs": []
    },
    {
      "cell_type": "code",
      "source": [
        "df_cotacoes.duplicated(subset = ['variable_0'])"
      ],
      "metadata": {
        "id": "dd9iChVuTQF9"
      },
      "execution_count": null,
      "outputs": []
    },
    {
      "cell_type": "code",
      "source": [
        "df_cotacoes.head()"
      ],
      "metadata": {
        "id": "rfprg4tsUBQY"
      },
      "execution_count": null,
      "outputs": []
    },
    {
      "cell_type": "code",
      "source": [
        "df_cotacoes.duplicated(subset = ['variable_0', 'variable_1'])"
      ],
      "metadata": {
        "id": "zXqoVarXUFRO"
      },
      "execution_count": null,
      "outputs": []
    },
    {
      "cell_type": "markdown",
      "source": [
        "#### Remoção de duplicatas"
      ],
      "metadata": {
        "id": "3kvUSJJuUQi-"
      }
    },
    {
      "cell_type": "markdown",
      "source": [
        "Caso quiséssemos manter apenas o primeiro valor de cada parametro e ativo"
      ],
      "metadata": {
        "id": "X8xer82OUZNt"
      }
    },
    {
      "cell_type": "code",
      "source": [
        "sem_duplicatas_first = df_cotacoes.drop_duplicates(subset = ['variable_0', 'variable_1'], keep = 'first')"
      ],
      "metadata": {
        "id": "1EU-YequUZqA"
      },
      "execution_count": null,
      "outputs": []
    },
    {
      "cell_type": "code",
      "source": [
        "sem_duplicatas_first.head()"
      ],
      "metadata": {
        "id": "9gcVcGtjU2mv"
      },
      "execution_count": null,
      "outputs": []
    },
    {
      "cell_type": "markdown",
      "source": [
        "Outra forma de remover duplicatas é usando o .unique Nesse caso, ele retorna um array e não um filtro de duplicatas do df"
      ],
      "metadata": {
        "id": "PaH7flMKVBBv"
      }
    },
    {
      "cell_type": "code",
      "source": [
        "df_cotacoes.variable_1.unique()"
      ],
      "metadata": {
        "id": "znoDj77eVJkn"
      },
      "execution_count": null,
      "outputs": []
    },
    {
      "cell_type": "markdown",
      "source": [
        "## 2.13. Drop"
      ],
      "metadata": {
        "id": "sIi7RNteVSrd"
      }
    },
    {
      "cell_type": "code",
      "source": [
        "df_cotacoes.head()"
      ],
      "metadata": {
        "id": "NCgNgEqgeTH9"
      },
      "execution_count": null,
      "outputs": []
    },
    {
      "cell_type": "markdown",
      "source": [
        "Embora já tenhamos utilizado antes, vamos explorar o drop um pouco mais pois merece atenção.\n",
        "\n",
        "Trata-se da função que deve ser utilizada quando precisamos remover linhas ou colunas"
      ],
      "metadata": {
        "id": "HYYtxlXEej9W"
      }
    },
    {
      "cell_type": "code",
      "source": [
        "df_cotacoes.index"
      ],
      "metadata": {
        "id": "p-Y0L-SEepMF"
      },
      "execution_count": null,
      "outputs": []
    },
    {
      "cell_type": "code",
      "source": [
        "# Suponha que você quer remover três datas:\n",
        "\n",
        "data01 = '2021-01-04'\n",
        "data02 = '2021-01-06'\n",
        "data03 = '2021-01-12'"
      ],
      "metadata": {
        "id": "Ej7CqdXQewqs"
      },
      "execution_count": null,
      "outputs": []
    },
    {
      "cell_type": "code",
      "source": [
        "type(data01)"
      ],
      "metadata": {
        "id": "DSnZyxdNe7v0"
      },
      "execution_count": null,
      "outputs": []
    },
    {
      "cell_type": "code",
      "source": [
        "df_cotacoes.drop([data01, data02, data03])"
      ],
      "metadata": {
        "id": "d2JwxuVce_N-"
      },
      "execution_count": null,
      "outputs": []
    },
    {
      "cell_type": "markdown",
      "source": [
        "Agora, vamos ver uma situação onde o formato 'datetime' está presente"
      ],
      "metadata": {
        "id": "ugatvwxqfYEW"
      }
    },
    {
      "cell_type": "code",
      "source": [
        "df_cotacoes.index = pd.to_datetime(df_cotacoes.index)"
      ],
      "metadata": {
        "id": "ESEKVgm_ffZr"
      },
      "execution_count": null,
      "outputs": []
    },
    {
      "cell_type": "code",
      "source": [
        "df_cotacoes.index"
      ],
      "metadata": {
        "id": "v4QHsNvCfni0"
      },
      "execution_count": null,
      "outputs": []
    },
    {
      "cell_type": "markdown",
      "source": [
        "O seguinte comando vai resultar em erro pois o index tem formato 'datetime' e as datas passadas são 'str'"
      ],
      "metadata": {
        "id": "qCKq3a3QhTA-"
      }
    },
    {
      "cell_type": "code",
      "source": [
        "df_cotacoes.drop([data01, data02, data03])"
      ],
      "metadata": {
        "id": "2st4_23Jfofc"
      },
      "execution_count": null,
      "outputs": []
    },
    {
      "cell_type": "code",
      "source": [
        "data01 = pd.to_datetime('2021-01-04')\n",
        "data02 = pd.to_datetime('2021-01-06')\n",
        "data03 = pd.to_datetime('2021-01-12')"
      ],
      "metadata": {
        "id": "XNDN7svAfs8P"
      },
      "execution_count": null,
      "outputs": []
    },
    {
      "cell_type": "code",
      "source": [
        "df_cotacoes.drop([data01, data02, data03])"
      ],
      "metadata": {
        "id": "FqZ98aJ2f7Bt"
      },
      "execution_count": null,
      "outputs": []
    },
    {
      "cell_type": "markdown",
      "source": [
        "Podemos também remover colunas, pelo nome:"
      ],
      "metadata": {
        "id": "Ya5du-D_f8zF"
      }
    },
    {
      "cell_type": "code",
      "source": [
        "df_cotacoes.drop(['value'], axis = 1).head()"
      ],
      "metadata": {
        "id": "2EpPwZ6fgBIm"
      },
      "execution_count": null,
      "outputs": []
    },
    {
      "cell_type": "code",
      "source": [
        "df_cotacoes"
      ],
      "metadata": {
        "id": "kJI6Y5-6gJ3k"
      },
      "execution_count": null,
      "outputs": []
    },
    {
      "cell_type": "markdown",
      "source": [
        "Podemos remover pelo índice"
      ],
      "metadata": {
        "id": "gyowgZuVgX_d"
      }
    },
    {
      "cell_type": "code",
      "source": [
        "df_cotacoes.columns"
      ],
      "metadata": {
        "id": "WfynZKnxgnh0"
      },
      "execution_count": null,
      "outputs": []
    },
    {
      "cell_type": "code",
      "source": [
        "df_cotacoes.columns[[0,2]]"
      ],
      "metadata": {
        "id": "ZQrlHq0ogqck"
      },
      "execution_count": null,
      "outputs": []
    },
    {
      "cell_type": "code",
      "source": [
        "df_cotacoes.drop(df_cotacoes.columns[[0,2]], axis = 1)"
      ],
      "metadata": {
        "id": "inlicdSdgtsd"
      },
      "execution_count": null,
      "outputs": []
    },
    {
      "cell_type": "markdown",
      "source": [
        "## 2.14. Distribuição de dados em grupos"
      ],
      "metadata": {
        "id": "5ZrwWaVag-QF"
      }
    },
    {
      "cell_type": "code",
      "source": [
        "import pandas as pd"
      ],
      "metadata": {
        "id": "I07hcSwrbMNd"
      },
      "execution_count": null,
      "outputs": []
    },
    {
      "cell_type": "code",
      "source": [
        "petr = pd.read_csv('PETR4.csv', index_col = 'Date')"
      ],
      "metadata": {
        "id": "SF7rSjyxdgRn"
      },
      "execution_count": null,
      "outputs": []
    },
    {
      "cell_type": "code",
      "source": [
        "petr.head()"
      ],
      "metadata": {
        "id": "v5Ad6Ir5djc5"
      },
      "execution_count": null,
      "outputs": []
    },
    {
      "cell_type": "code",
      "source": [
        "petr.index"
      ],
      "metadata": {
        "id": "lW3I43xjduvz"
      },
      "execution_count": null,
      "outputs": []
    },
    {
      "cell_type": "markdown",
      "source": [
        "Filtrar apenas o ano de 2021"
      ],
      "metadata": {
        "id": "Pat9zyOid63y"
      }
    },
    {
      "cell_type": "code",
      "source": [
        "datas = pd.date_range(start = '2021-01-01', end = '2021-12-31')"
      ],
      "metadata": {
        "id": "cZB3ja5ueNWc"
      },
      "execution_count": null,
      "outputs": []
    },
    {
      "cell_type": "code",
      "source": [
        "petr[petr.index.isin(datas) ]"
      ],
      "metadata": {
        "id": "vMMd9NAUeTJz"
      },
      "execution_count": null,
      "outputs": []
    },
    {
      "cell_type": "markdown",
      "source": [
        "Converter o índice para datetime"
      ],
      "metadata": {
        "id": "P8yTIyGBeh2Q"
      }
    },
    {
      "cell_type": "code",
      "source": [
        "petr.index = pd.to_datetime(petr.index)"
      ],
      "metadata": {
        "id": "FJz6Lbe1eqDY"
      },
      "execution_count": null,
      "outputs": []
    },
    {
      "cell_type": "code",
      "source": [
        "petr = petr[petr.index.isin(datas) ]"
      ],
      "metadata": {
        "id": "mymQmSK-etCp"
      },
      "execution_count": null,
      "outputs": []
    },
    {
      "cell_type": "code",
      "source": [
        "petr.head()"
      ],
      "metadata": {
        "id": "yL_LRQ58evEG"
      },
      "execution_count": null,
      "outputs": []
    },
    {
      "cell_type": "markdown",
      "source": [
        "Agora vamos criar uma nova coluna que determina o resultado do pregão"
      ],
      "metadata": {
        "id": "R6QOHISTe4Ty"
      }
    },
    {
      "cell_type": "code",
      "source": [
        "petr['Resultado%'] = (petr['Close'] - petr['Open'])/petr['Open']*100"
      ],
      "metadata": {
        "id": "-pSyrId9e8_4"
      },
      "execution_count": null,
      "outputs": []
    },
    {
      "cell_type": "code",
      "source": [
        "petr.head()"
      ],
      "metadata": {
        "id": "Wly1NZ1RfTaZ"
      },
      "execution_count": null,
      "outputs": []
    },
    {
      "cell_type": "markdown",
      "source": [
        "Poderia dividí-los em positivo x negativo"
      ],
      "metadata": {
        "id": "PR3m6nt5fUxs"
      }
    },
    {
      "cell_type": "code",
      "source": [
        "import numpy as np"
      ],
      "metadata": {
        "id": "eAdUaigRflvO"
      },
      "execution_count": null,
      "outputs": []
    },
    {
      "cell_type": "code",
      "source": [
        "petr['Resultado_binario'] = np.where(petr['Resultado%'] > 0, 'Positivo', 'Negativo')"
      ],
      "metadata": {
        "id": "sqsIKK77f0gz"
      },
      "execution_count": null,
      "outputs": []
    },
    {
      "cell_type": "code",
      "source": [
        "petr.head()"
      ],
      "metadata": {
        "id": "nSMEhIIsgH8t"
      },
      "execution_count": null,
      "outputs": []
    },
    {
      "cell_type": "code",
      "source": [
        "petr.tail()"
      ],
      "metadata": {
        "id": "dWjBBE61gX0S"
      },
      "execution_count": null,
      "outputs": []
    },
    {
      "cell_type": "markdown",
      "source": [
        "Vamos contar quantos dias tivemos resultados positivos ou negativos"
      ],
      "metadata": {
        "id": "-fCc3wuegZM4"
      }
    },
    {
      "cell_type": "code",
      "source": [
        "len(petr[petr['Resultado_binario'] == 'Positivo'])"
      ],
      "metadata": {
        "id": "zHJoav6Ag2Gp"
      },
      "execution_count": null,
      "outputs": []
    },
    {
      "cell_type": "code",
      "source": [
        "len(petr[petr['Resultado_binario'] == 'Negativo'])"
      ],
      "metadata": {
        "id": "gez9v-jmg_-o"
      },
      "execution_count": null,
      "outputs": []
    },
    {
      "cell_type": "markdown",
      "source": [
        "Veja que tivemos mais dias negativos que positivos."
      ],
      "metadata": {
        "id": "4pPUfumahQUv"
      }
    },
    {
      "cell_type": "markdown",
      "source": [
        "E se quisessemos encontrar um jeito de dividir os dados em dois grupos de mesmo tamanho?"
      ],
      "metadata": {
        "id": "Zn6RnHtUhTZo"
      }
    },
    {
      "cell_type": "code",
      "source": [
        "pd.cut(petr['Resultado%'], 2)"
      ],
      "metadata": {
        "id": "D0yx6VzmhVX8"
      },
      "execution_count": null,
      "outputs": []
    },
    {
      "cell_type": "code",
      "source": [
        "petr['Grupos_mesmo_tamanho'] = pd.cut(petr['Resultado%'], 2)"
      ],
      "metadata": {
        "id": "b1NWxn9Yhjcr"
      },
      "execution_count": null,
      "outputs": []
    },
    {
      "cell_type": "code",
      "source": [
        "petr.head()"
      ],
      "metadata": {
        "id": "fdw3bXsnjjEM"
      },
      "execution_count": null,
      "outputs": []
    },
    {
      "cell_type": "markdown",
      "source": [
        "É possível também nomear as classes/categorias"
      ],
      "metadata": {
        "id": "n9qWvWo7kEFk"
      }
    },
    {
      "cell_type": "code",
      "source": [
        "petr['Grupos_mesmo_tamanho'] = pd.cut(petr['Resultado%'], 2, labels = ['piores_dias', 'melhores_dias'])"
      ],
      "metadata": {
        "id": "3q8CcGPXjmAm"
      },
      "execution_count": null,
      "outputs": []
    },
    {
      "cell_type": "code",
      "source": [
        "petr.head()"
      ],
      "metadata": {
        "id": "uc_OWWklkGgN"
      },
      "execution_count": null,
      "outputs": []
    },
    {
      "cell_type": "markdown",
      "source": [
        "Podemos determinar os intervalos"
      ],
      "metadata": {
        "id": "VuVfU8WukagV"
      }
    },
    {
      "cell_type": "code",
      "source": [
        "lista_intervalos = [(-50, -2), (-2, -1), (-1, 1), (1, 2), (2, 50)]"
      ],
      "metadata": {
        "id": "PGzq0O9Ak_-U"
      },
      "execution_count": null,
      "outputs": []
    },
    {
      "cell_type": "code",
      "source": [
        "bins = pd.IntervalIndex.from_tuples(lista_intervalos)"
      ],
      "metadata": {
        "id": "0nVpY1k7lXd4"
      },
      "execution_count": null,
      "outputs": []
    },
    {
      "cell_type": "code",
      "source": [
        "petr['Grupos_pre_definidos'] = pd.cut(petr['Resultado%'], bins)"
      ],
      "metadata": {
        "id": "98WfT-g2liCD"
      },
      "execution_count": null,
      "outputs": []
    },
    {
      "cell_type": "code",
      "source": [
        "petr.head()"
      ],
      "metadata": {
        "id": "qyKYFM7VlzTt"
      },
      "execution_count": null,
      "outputs": []
    },
    {
      "cell_type": "code",
      "source": [
        "petr.dtypes"
      ],
      "metadata": {
        "id": "QBxC86mmn1Pd"
      },
      "execution_count": null,
      "outputs": []
    },
    {
      "cell_type": "code",
      "source": [
        "petr.Grupos_pre_definidos.value_counts()"
      ],
      "metadata": {
        "id": "R4KmuSeGpo3N"
      },
      "execution_count": null,
      "outputs": []
    },
    {
      "cell_type": "code",
      "source": [
        "petr[petr['Resultado%'].between(-1,1)]"
      ],
      "metadata": {
        "id": "vmWpysFop4th"
      },
      "execution_count": null,
      "outputs": []
    },
    {
      "cell_type": "markdown",
      "source": [
        "## 2.15. Formatação de dataframes e modificação do estilo"
      ],
      "metadata": {
        "id": "T_Nzege6qQJ9"
      }
    },
    {
      "cell_type": "code",
      "source": [
        "import pandas as pd"
      ],
      "metadata": {
        "id": "jlswVM8bjvGG"
      },
      "execution_count": null,
      "outputs": []
    },
    {
      "cell_type": "code",
      "source": [
        "petr = pd.read_csv('PETR4.csv', index_col='Date')"
      ],
      "metadata": {
        "id": "fnGN0NrjkYty"
      },
      "execution_count": null,
      "outputs": []
    },
    {
      "cell_type": "code",
      "source": [
        "petr.head()"
      ],
      "metadata": {
        "id": "fQP926TkkbTQ"
      },
      "execution_count": null,
      "outputs": []
    },
    {
      "cell_type": "code",
      "source": [
        "petr.index = pd.to_datetime(petr.index)"
      ],
      "metadata": {
        "id": "ZF_3DBUskcy6"
      },
      "execution_count": null,
      "outputs": []
    },
    {
      "cell_type": "code",
      "source": [
        "petr = petr[petr.index >= '2022-12']"
      ],
      "metadata": {
        "id": "mqcQ3A2hkh1d"
      },
      "execution_count": null,
      "outputs": []
    },
    {
      "cell_type": "code",
      "source": [
        "petr['Resultado%'] = (petr['Close'] - petr['Open'])/petr['Open']*100"
      ],
      "metadata": {
        "id": "YF0depUokzlP"
      },
      "execution_count": null,
      "outputs": []
    },
    {
      "cell_type": "code",
      "source": [
        "petr.head()"
      ],
      "metadata": {
        "id": "Uysc2LIDkr8N"
      },
      "execution_count": null,
      "outputs": []
    },
    {
      "cell_type": "code",
      "source": [
        "petr.insert(0, 'Ativo', 'PETR4')"
      ],
      "metadata": {
        "id": "nksYPjeak7j1"
      },
      "execution_count": null,
      "outputs": []
    },
    {
      "cell_type": "code",
      "source": [
        "petr.head()"
      ],
      "metadata": {
        "id": "b6KCmesqlcT7"
      },
      "execution_count": null,
      "outputs": []
    },
    {
      "cell_type": "markdown",
      "source": [
        "Arredondar os dados OHLC seria o primeiro passo de formatação a se pensar"
      ],
      "metadata": {
        "id": "X9bsiQqaldIK"
      }
    },
    {
      "cell_type": "code",
      "source": [
        "preco = 29.893042480"
      ],
      "metadata": {
        "id": "5-tYmmINlp53"
      },
      "execution_count": null,
      "outputs": []
    },
    {
      "cell_type": "code",
      "source": [
        "round(preco, 2)"
      ],
      "metadata": {
        "id": "vX8Yo6WRl1i6"
      },
      "execution_count": null,
      "outputs": []
    },
    {
      "cell_type": "code",
      "source": [
        "round(petr, 2)"
      ],
      "metadata": {
        "id": "OZA7DR4wl9ap"
      },
      "execution_count": null,
      "outputs": []
    },
    {
      "cell_type": "code",
      "source": [
        "petr.head()"
      ],
      "metadata": {
        "id": "FYKfU_dqmIs7"
      },
      "execution_count": null,
      "outputs": []
    },
    {
      "cell_type": "markdown",
      "source": [
        "Apresentando o método apply"
      ],
      "metadata": {
        "id": "e7aJ1PUmmOFe"
      }
    },
    {
      "cell_type": "code",
      "source": [
        "lambda x: round(x,2)"
      ],
      "metadata": {
        "id": "8boHQ12nmm8q"
      },
      "execution_count": null,
      "outputs": []
    },
    {
      "cell_type": "code",
      "source": [
        "petr.apply(lambda x: round(x,2))"
      ],
      "metadata": {
        "id": "1dA_wNxbmXCt"
      },
      "execution_count": null,
      "outputs": []
    },
    {
      "cell_type": "markdown",
      "source": [
        "Como temos a coluna ativo que é str teremos problemas"
      ],
      "metadata": {
        "id": "08SC_5sCm33l"
      }
    },
    {
      "cell_type": "code",
      "source": [
        "petr.iloc[:, 1:] = petr.iloc[:, 1:].apply(lambda x: round(x,2))"
      ],
      "metadata": {
        "id": "lhfAGRGNnEKs"
      },
      "execution_count": null,
      "outputs": []
    },
    {
      "cell_type": "code",
      "source": [
        "petr.head()"
      ],
      "metadata": {
        "id": "kpqEy-cDnX-V"
      },
      "execution_count": null,
      "outputs": []
    },
    {
      "cell_type": "markdown",
      "source": [
        "Vamos aprender sobre o operador %f no Python, que serve para ajustar a formatação da exibição de números (floats)\n",
        "\n",
        "\n",
        "Exemplo"
      ],
      "metadata": {
        "id": "FanHaE-in9D6"
      }
    },
    {
      "cell_type": "code",
      "source": [
        "x = 15.8383903"
      ],
      "metadata": {
        "id": "IkhA0iJCoE1p"
      },
      "execution_count": null,
      "outputs": []
    },
    {
      "cell_type": "code",
      "source": [
        "print('O número é', x)"
      ],
      "metadata": {
        "id": "kPGje6POoOol"
      },
      "execution_count": null,
      "outputs": []
    },
    {
      "cell_type": "code",
      "source": [
        "print('%.1f' % x)"
      ],
      "metadata": {
        "id": "9KWDaNgioRAU"
      },
      "execution_count": null,
      "outputs": []
    },
    {
      "cell_type": "code",
      "source": [
        "print('%.2f' % x)"
      ],
      "metadata": {
        "id": "WFD6tGU3oiuq"
      },
      "execution_count": null,
      "outputs": []
    },
    {
      "cell_type": "code",
      "source": [
        "print('O número é %.2f' % x)"
      ],
      "metadata": {
        "id": "9J8yw_U1ok4E"
      },
      "execution_count": null,
      "outputs": []
    },
    {
      "cell_type": "code",
      "source": [
        "'O número é %.2f' % x"
      ],
      "metadata": {
        "id": "UP5kWQVzor2b"
      },
      "execution_count": null,
      "outputs": []
    },
    {
      "cell_type": "markdown",
      "source": [
        "Basta lembrar dos parâmetros\n",
        "\n",
        "**%:** determina que há uma configuração de formatação\n",
        "\n",
        "**.1f:** 1 dígito depois do separador decimal\n",
        "\n",
        "**% x:** exibe a variável com a formatação referida"
      ],
      "metadata": {
        "id": "G7XPkvU1o886"
      }
    },
    {
      "cell_type": "markdown",
      "source": [
        "Outra forma seria editando as opções dos objetos pandas como um todo. Funciona como um inplace, depois precisará reiniciar o kernel para cancelar"
      ],
      "metadata": {
        "id": "eWvM0YDSpFb4"
      }
    },
    {
      "cell_type": "code",
      "source": [
        "pd.set_option('display.float_format', lambda x:  '%.3f' % x)"
      ],
      "metadata": {
        "id": "q7Op2kenpOZb"
      },
      "execution_count": null,
      "outputs": []
    },
    {
      "cell_type": "code",
      "source": [
        "petr.head()"
      ],
      "metadata": {
        "id": "aip2fPqrpvjj"
      },
      "execution_count": null,
      "outputs": []
    },
    {
      "cell_type": "markdown",
      "source": [
        "#### Método style"
      ],
      "metadata": {
        "id": "WI01uH5HNqAQ"
      }
    },
    {
      "cell_type": "code",
      "source": [
        "petr.style.format('{:.1f}', subset = ['Adj Close', 'Resultado%'])"
      ],
      "metadata": {
        "id": "o1re8Z8fP63i"
      },
      "execution_count": null,
      "outputs": []
    },
    {
      "cell_type": "markdown",
      "source": [
        "Vamos criar uma estrutura de repetição para detectar quais são as colunas do tipo 'float'"
      ],
      "metadata": {
        "id": "L7puFUK_P8fZ"
      }
    },
    {
      "cell_type": "code",
      "source": [
        "import numpy as np"
      ],
      "metadata": {
        "id": "r39Mh1LwQrSj"
      },
      "execution_count": null,
      "outputs": []
    },
    {
      "cell_type": "code",
      "source": [
        "len(petr.columns)"
      ],
      "metadata": {
        "id": "_A4BJD6kQ2VT"
      },
      "execution_count": null,
      "outputs": []
    },
    {
      "cell_type": "code",
      "source": [
        "range(0, len(petr.columns))"
      ],
      "metadata": {
        "id": "cY-UwZgYRB6t"
      },
      "execution_count": null,
      "outputs": []
    },
    {
      "cell_type": "code",
      "source": [
        "list(range(0, len(petr.columns)))"
      ],
      "metadata": {
        "id": "zCwvI18uRHW-"
      },
      "execution_count": null,
      "outputs": []
    },
    {
      "cell_type": "code",
      "source": [
        "lista_colunas_float = []"
      ],
      "metadata": {
        "id": "LCYic9QORm03"
      },
      "execution_count": null,
      "outputs": []
    },
    {
      "cell_type": "code",
      "source": [
        "for i in range(0, len(petr.columns)):\n",
        "  if type(petr.iloc[1, i]) == np.float64:\n",
        "    lista_colunas_float.append(i)"
      ],
      "metadata": {
        "id": "f2bHVyXqRIae"
      },
      "execution_count": null,
      "outputs": []
    },
    {
      "cell_type": "code",
      "source": [
        "lista_colunas_float"
      ],
      "metadata": {
        "id": "TrO5_zPvR4W0"
      },
      "execution_count": null,
      "outputs": []
    },
    {
      "cell_type": "markdown",
      "source": [
        "Vamos implementar na prática"
      ],
      "metadata": {
        "id": "cOppLzzER7mB"
      }
    },
    {
      "cell_type": "code",
      "source": [
        "petr.columns[lista_colunas_float]"
      ],
      "metadata": {
        "id": "j0ndp28uSNnT"
      },
      "execution_count": null,
      "outputs": []
    },
    {
      "cell_type": "code",
      "source": [
        "petr.style.format('{:.2f}', subset = petr.columns[lista_colunas_float])"
      ],
      "metadata": {
        "id": "11T-psmLSFXL"
      },
      "execution_count": null,
      "outputs": []
    },
    {
      "cell_type": "code",
      "source": [
        "petr.style.format('{:.2f}', subset = petr.columns[lista_colunas_float]).highlight_max()"
      ],
      "metadata": {
        "id": "f5RzxSntSUPT"
      },
      "execution_count": null,
      "outputs": []
    },
    {
      "cell_type": "code",
      "source": [
        "petr.style.format('{:.2f}', subset = petr.columns[lista_colunas_float]).highlight_max(color = 'red')"
      ],
      "metadata": {
        "id": "2qFm5hlMSpl-"
      },
      "execution_count": null,
      "outputs": []
    },
    {
      "cell_type": "code",
      "source": [
        "petr.style.format('{:.2f}', subset = petr.columns[lista_colunas_float]).highlight_max(subset = ['Resultado%'],color = 'green')"
      ],
      "metadata": {
        "id": "5lYGZpeHTyAx"
      },
      "execution_count": null,
      "outputs": []
    },
    {
      "cell_type": "code",
      "source": [
        "petr.style.format('{:.2f}', subset = petr.columns[lista_colunas_float]).highlight_min(subset = ['Resultado%'],color = 'red')"
      ],
      "metadata": {
        "id": "avz-E8K_UKH_"
      },
      "execution_count": null,
      "outputs": []
    },
    {
      "cell_type": "markdown",
      "source": [
        "Vamos conhecer o método background_gradient"
      ],
      "metadata": {
        "id": "VkHDl2AgURn0"
      }
    },
    {
      "cell_type": "code",
      "source": [
        "petr.style.format('{:.2f}', subset = petr.columns[lista_colunas_float]).background_gradient(subset = ['Resultado%'])"
      ],
      "metadata": {
        "id": "Ju7lmqsSUk4M"
      },
      "execution_count": null,
      "outputs": []
    },
    {
      "cell_type": "code",
      "source": [
        "petr.style.format('{:.2f}', subset = petr.columns[lista_colunas_float]).background_gradient(subset = ['Resultado%'], cmap = 'YlOrRd')"
      ],
      "metadata": {
        "id": "wqp2vHieU0fS"
      },
      "execution_count": null,
      "outputs": []
    },
    {
      "cell_type": "markdown",
      "source": [
        "Mapa de cores da matplotlib\n",
        "\n",
        "https://matplotlib.org/stable/tutorials/colors/colormaps.html"
      ],
      "metadata": {
        "id": "KKY261K0VGkf"
      }
    },
    {
      "cell_type": "code",
      "source": [
        "petr.style.format('{:.2f}', subset = petr.columns[lista_colunas_float]).background_gradient(subset = ['Resultado%'], cmap = 'RdYlGn')"
      ],
      "metadata": {
        "id": "78pwpUoXV2tv"
      },
      "execution_count": null,
      "outputs": []
    },
    {
      "cell_type": "code",
      "source": [
        "petr.style.format(\"{:.2f}\", subset=petr.columns[lista_colunas_float]).\\\n",
        "      applymap(lambda x: \"font-weight: bold; color: white; background-color : #d40202\"\n",
        "      if x < 0 else \"font-weight: bold; color: white; background-color : #4eb55c\", subset=[\"Resultado%\"])"
      ],
      "metadata": {
        "id": "k-68pmSwWcSJ"
      },
      "execution_count": null,
      "outputs": []
    },
    {
      "cell_type": "code",
      "source": [
        "petr.style.format(\"{:.2f}\", subset=petr.columns[lista_colunas_float]).\\\n",
        "      applymap(lambda x: \"font-weight: bold; color: white; background-color : #d40202\"\n",
        "              if x < 0 else \"font-weight: bold; color: white; background-color : #4eb55c\", subset=[\"Resultado%\"]).\\\n",
        "      set_table_styles([{\"selector\": \"td\", \"props\": \"text-align: center\"},\n",
        "                        {\"selector\": \"th\", \"props\": \"text-align: center; font-weight: bold; background-color: lightblue; color: black; font-size: 14pt\"},\n",
        "                        {\"selector\": \"th.index_name\", \"props\": \"text-align: center; font-weight: bold; background-color: purple; color: black; font-size: 14pt\"},\n",
        "                        {\"selector\": \"th.row_heading\", \"props\": \"text-align: center; font-weight: bold; background-color: yellow; color: black; font-size: 11pt\"},\n",
        "                        {\"selector\": \"td:hover\", \"props\": \"text-align: center; font-weight: bold; background-color: pink; color: black; font-size: 15pt\"}])"
      ],
      "metadata": {
        "id": "jbAetyybWikX"
      },
      "execution_count": null,
      "outputs": []
    },
    {
      "cell_type": "code",
      "source": [],
      "metadata": {
        "id": "iLeipJdLYDLQ"
      },
      "execution_count": null,
      "outputs": []
    }
  ]
}