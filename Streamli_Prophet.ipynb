{
  "nbformat": 4,
  "nbformat_minor": 0,
  "metadata": {
    "colab": {
      "provenance": [],
      "authorship_tag": "ABX9TyPRVs4arsq2FcODs7hmhd1U",
      "include_colab_link": true
    },
    "kernelspec": {
      "name": "python3",
      "display_name": "Python 3"
    },
    "language_info": {
      "name": "python"
    }
  },
  "cells": [
    {
      "cell_type": "markdown",
      "metadata": {
        "id": "view-in-github",
        "colab_type": "text"
      },
      "source": [
        "<a href=\"https://colab.research.google.com/github/furlancad/PythonFinancas/blob/main/Streamli_Prophet.ipynb\" target=\"_parent\"><img src=\"https://colab.research.google.com/assets/colab-badge.svg\" alt=\"Open In Colab\"/></a>"
      ]
    },
    {
      "cell_type": "code",
      "execution_count": null,
      "metadata": {
        "id": "3hD-5iGi7MWU"
      },
      "outputs": [],
      "source": [
        "!pip install streamlit\n",
        "!pip install yfinance\n",
        "!pip install pandas"
      ]
    },
    {
      "cell_type": "code",
      "source": [
        "!pip install ephem\n",
        "!pip install pystan\n",
        "#!pip install fbprophet\n",
        "!pip install prophet"
      ],
      "metadata": {
        "id": "DlmFb4XQ9XHU"
      },
      "execution_count": null,
      "outputs": []
    },
    {
      "cell_type": "code",
      "source": [],
      "metadata": {
        "id": "XK-1yxPx-Unb"
      },
      "execution_count": null,
      "outputs": []
    },
    {
      "cell_type": "code",
      "source": [
        "import streamlit as st\n",
        "from datetime import date\n",
        "\n",
        "import yfinance as yf\n",
        "import pandas as pd\n",
        "\n",
        "from prophet import Prophet\n",
        "from prophet.plot import plot_plotly, plot_components_plotly\n",
        "from plotly import graph_objs as go\n"
      ],
      "metadata": {
        "id": "ZWf4ao9v7UY9"
      },
      "execution_count": 10,
      "outputs": []
    },
    {
      "cell_type": "code",
      "source": [
        "inicio = '2017-01-01'\n",
        "fim = date.today().strftime('%Y-%m-%d')"
      ],
      "metadata": {
        "id": "x7gvoORXBgan"
      },
      "execution_count": 11,
      "outputs": []
    },
    {
      "cell_type": "code",
      "source": [
        "st.title('Analise de ações')"
      ],
      "metadata": {
        "colab": {
          "base_uri": "https://localhost:8080/"
        },
        "id": "VftSCTnMB1Hi",
        "outputId": "bba94f8a-0950-4477-e54a-67d0d1643940"
      },
      "execution_count": 12,
      "outputs": [
        {
          "output_type": "execute_result",
          "data": {
            "text/plain": [
              "DeltaGenerator()"
            ]
          },
          "metadata": {},
          "execution_count": 12
        }
      ]
    },
    {
      "cell_type": "code",
      "source": [
        "#Criando a sidebar\n",
        "st.sidebar.header('Escolha a ação')"
      ],
      "metadata": {
        "colab": {
          "base_uri": "https://localhost:8080/"
        },
        "id": "iBxtvg8sB8pu",
        "outputId": "ad3f71ee-cb60-4f85-efd4-60320c61ebd1"
      },
      "execution_count": 13,
      "outputs": [
        {
          "output_type": "execute_result",
          "data": {
            "text/plain": [
              "DeltaGenerator(_root_container=1, _parent=DeltaGenerator())"
            ]
          },
          "metadata": {},
          "execution_count": 13
        }
      ]
    },
    {
      "cell_type": "code",
      "source": [
        "n_dias = st.slider('Quantidade de dias de previsão', 30, 365)"
      ],
      "metadata": {
        "id": "LIcTqwsaCX8F"
      },
      "execution_count": null,
      "outputs": []
    }
  ]
}