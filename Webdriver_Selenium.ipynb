{
  "nbformat": 4,
  "nbformat_minor": 0,
  "metadata": {
    "colab": {
      "provenance": [],
      "authorship_tag": "ABX9TyPHkcOvzMz+SI8evz+s0dQF",
      "include_colab_link": true
    },
    "kernelspec": {
      "name": "python3",
      "display_name": "Python 3"
    },
    "language_info": {
      "name": "python"
    }
  },
  "cells": [
    {
      "cell_type": "markdown",
      "metadata": {
        "id": "view-in-github",
        "colab_type": "text"
      },
      "source": [
        "<a href=\"https://colab.research.google.com/github/furlancad/PythonFinancas/blob/main/Webdriver_Selenium.ipynb\" target=\"_parent\"><img src=\"https://colab.research.google.com/assets/colab-badge.svg\" alt=\"Open In Colab\"/></a>"
      ]
    },
    {
      "cell_type": "code",
      "execution_count": 35,
      "metadata": {
        "id": "TpduxWzoeUFP"
      },
      "outputs": [],
      "source": [
        "!pip install selenium --quiet"
      ]
    },
    {
      "cell_type": "code",
      "source": [
        "from selenium import webdriver\n",
        "from selenium.webdriver.common.by import By"
      ],
      "metadata": {
        "id": "Jc45xZePedK8"
      },
      "execution_count": 36,
      "outputs": []
    },
    {
      "cell_type": "code",
      "source": [
        "!apt-get install chromium-driver"
      ],
      "metadata": {
        "colab": {
          "base_uri": "https://localhost:8080/"
        },
        "id": "f3-MV2DBh9u9",
        "outputId": "d90a643a-868f-4a7c-bd70-faaacc5085d8"
      },
      "execution_count": 37,
      "outputs": [
        {
          "output_type": "stream",
          "name": "stdout",
          "text": [
            "Reading package lists... Done\n",
            "Building dependency tree... Done\n",
            "Reading state information... Done\n",
            "Note, selecting 'chromium-chromedriver' instead of 'chromium-driver'\n",
            "chromium-chromedriver is already the newest version (1:85.0.4183.83-0ubuntu2.22.04.1).\n",
            "0 upgraded, 0 newly installed, 0 to remove and 38 not upgraded.\n"
          ]
        }
      ]
    },
    {
      "cell_type": "code",
      "source": [
        "def web_driver():\n",
        "    options = webdriver.ChromeOptions()\n",
        "    options.add_argument(\"--verbose\")\n",
        "    options.add_argument('--no-sandbox')\n",
        "    options.add_argument('--headless')\n",
        "    options.add_argument('--disable-gpu')\n",
        "    options.add_argument(\"--window-size=1920, 1200\")\n",
        "    options.add_argument('--disable-dev-shm-usage')\n",
        "    driver = webdriver.Chrome(options=options)\n",
        "    return driver"
      ],
      "metadata": {
        "id": "PORtNVgDkFMx"
      },
      "execution_count": 38,
      "outputs": []
    },
    {
      "cell_type": "code",
      "source": [
        "driver = web_driver()\n",
        "\n",
        "driver.get('https://books.toscrape.com/')\n",
        "\n",
        "#driver.quit()"
      ],
      "metadata": {
        "id": "MiIzpbZllcTB"
      },
      "execution_count": 39,
      "outputs": []
    },
    {
      "cell_type": "code",
      "source": [
        "driver.page_source"
      ],
      "metadata": {
        "id": "3t30X91al2S7"
      },
      "execution_count": null,
      "outputs": []
    },
    {
      "cell_type": "code",
      "source": [
        "driver.find_elements(By.XPATH, '//*[@id=\"default\"]/div/div/div/div/section/div[2]/ol/li[1]/article/div[1]/a/img')"
      ],
      "metadata": {
        "id": "INPV-RS4l5cd"
      },
      "execution_count": null,
      "outputs": []
    },
    {
      "cell_type": "code",
      "source": [
        "containers = driver.find_elements(By.XPATH, '//article[@class=\"product_pod\"]')\n",
        "containers"
      ],
      "metadata": {
        "id": "_DlbL7cwnrZ3"
      },
      "execution_count": null,
      "outputs": []
    },
    {
      "cell_type": "code",
      "source": [
        "for container in containers:\n",
        "  image = container.find_element(By.XPATH,\n",
        "                                 './/div[@class=\"image_container\"]/a/img'\n",
        "                                 ).get_attribute('src')\n",
        "  link = container.find_element(By.XPATH,\n",
        "                                './/div[@class=\"image_container\"]/a'\n",
        "                                ).get_attribute('href')\n",
        "  title = container.find_element(By.XPATH,\n",
        "                                './/h3/a'\n",
        "                                ).text\n",
        "  price = container.find_element(By.XPATH,\n",
        "                                './/p[@class=\"price_color\"]'\n",
        "                                ).text\n",
        "  stock = container.find_element(By.XPATH,\n",
        "                                './/p[@class=\"instock availability\"]'\n",
        "                                ).text\n",
        "  print(image, link)\n",
        "  print(title, price, '=> ', stock)"
      ],
      "metadata": {
        "colab": {
          "base_uri": "https://localhost:8080/"
        },
        "id": "tXjGMPfOo9Ve",
        "outputId": "2ce74cab-bdbb-47c2-9a95-a2f19205175a"
      },
      "execution_count": 51,
      "outputs": [
        {
          "output_type": "stream",
          "name": "stdout",
          "text": [
            "https://books.toscrape.com/media/cache/2c/da/2cdad67c44b002e7ead0cc35693c0e8b.jpg https://books.toscrape.com/catalogue/a-light-in-the-attic_1000/index.html\n",
            "A Light in the ... £51.77 =>  In stock\n",
            "https://books.toscrape.com/media/cache/26/0c/260c6ae16bce31c8f8c95daddd9f4a1c.jpg https://books.toscrape.com/catalogue/tipping-the-velvet_999/index.html\n",
            "Tipping the Velvet £53.74 =>  In stock\n",
            "https://books.toscrape.com/media/cache/3e/ef/3eef99c9d9adef34639f510662022830.jpg https://books.toscrape.com/catalogue/soumission_998/index.html\n",
            "Soumission £50.10 =>  In stock\n",
            "https://books.toscrape.com/media/cache/32/51/3251cf3a3412f53f339e42cac2134093.jpg https://books.toscrape.com/catalogue/sharp-objects_997/index.html\n",
            "Sharp Objects £47.82 =>  In stock\n",
            "https://books.toscrape.com/media/cache/be/a5/bea5697f2534a2f86a3ef27b5a8c12a6.jpg https://books.toscrape.com/catalogue/sapiens-a-brief-history-of-humankind_996/index.html\n",
            "Sapiens: A Brief History ... £54.23 =>  In stock\n",
            "https://books.toscrape.com/media/cache/68/33/68339b4c9bc034267e1da611ab3b34f8.jpg https://books.toscrape.com/catalogue/the-requiem-red_995/index.html\n",
            "The Requiem Red £22.65 =>  In stock\n",
            "https://books.toscrape.com/media/cache/92/27/92274a95b7c251fea59a2b8a78275ab4.jpg https://books.toscrape.com/catalogue/the-dirty-little-secrets-of-getting-your-dream-job_994/index.html\n",
            "The Dirty Little Secrets ... £33.34 =>  In stock\n",
            "https://books.toscrape.com/media/cache/3d/54/3d54940e57e662c4dd1f3ff00c78cc64.jpg https://books.toscrape.com/catalogue/the-coming-woman-a-novel-based-on-the-life-of-the-infamous-feminist-victoria-woodhull_993/index.html\n",
            "The Coming Woman: A ... £17.93 =>  In stock\n",
            "https://books.toscrape.com/media/cache/66/88/66883b91f6804b2323c8369331cb7dd1.jpg https://books.toscrape.com/catalogue/the-boys-in-the-boat-nine-americans-and-their-epic-quest-for-gold-at-the-1936-berlin-olympics_992/index.html\n",
            "The Boys in the ... £22.60 =>  In stock\n",
            "https://books.toscrape.com/media/cache/58/46/5846057e28022268153beff6d352b06c.jpg https://books.toscrape.com/catalogue/the-black-maria_991/index.html\n",
            "The Black Maria £52.15 =>  In stock\n",
            "https://books.toscrape.com/media/cache/be/f4/bef44da28c98f905a3ebec0b87be8530.jpg https://books.toscrape.com/catalogue/starving-hearts-triangular-trade-trilogy-1_990/index.html\n",
            "Starving Hearts (Triangular Trade ... £13.99 =>  In stock\n",
            "https://books.toscrape.com/media/cache/10/48/1048f63d3b5061cd2f424d20b3f9b666.jpg https://books.toscrape.com/catalogue/shakespeares-sonnets_989/index.html\n",
            "Shakespeare's Sonnets £20.66 =>  In stock\n",
            "https://books.toscrape.com/media/cache/5b/88/5b88c52633f53cacf162c15f4f823153.jpg https://books.toscrape.com/catalogue/set-me-free_988/index.html\n",
            "Set Me Free £17.46 =>  In stock\n",
            "https://books.toscrape.com/media/cache/94/b1/94b1b8b244bce9677c2f29ccc890d4d2.jpg https://books.toscrape.com/catalogue/scott-pilgrims-precious-little-life-scott-pilgrim-1_987/index.html\n",
            "Scott Pilgrim's Precious Little ... £52.29 =>  In stock\n",
            "https://books.toscrape.com/media/cache/81/c4/81c4a973364e17d01f217e1188253d5e.jpg https://books.toscrape.com/catalogue/rip-it-up-and-start-again_986/index.html\n",
            "Rip it Up and ... £35.02 =>  In stock\n",
            "https://books.toscrape.com/media/cache/54/60/54607fe8945897cdcced0044103b10b6.jpg https://books.toscrape.com/catalogue/our-band-could-be-your-life-scenes-from-the-american-indie-underground-1981-1991_985/index.html\n",
            "Our Band Could Be ... £57.25 =>  In stock\n",
            "https://books.toscrape.com/media/cache/55/33/553310a7162dfbc2c6d19a84da0df9e1.jpg https://books.toscrape.com/catalogue/olio_984/index.html\n",
            "Olio £23.88 =>  In stock\n",
            "https://books.toscrape.com/media/cache/09/a3/09a3aef48557576e1a85ba7efea8ecb7.jpg https://books.toscrape.com/catalogue/mesaerion-the-best-science-fiction-stories-1800-1849_983/index.html\n",
            "Mesaerion: The Best Science ... £37.59 =>  In stock\n",
            "https://books.toscrape.com/media/cache/0b/bc/0bbcd0a6f4bcd81ccb1049a52736406e.jpg https://books.toscrape.com/catalogue/libertarianism-for-beginners_982/index.html\n",
            "Libertarianism for Beginners £51.33 =>  In stock\n",
            "https://books.toscrape.com/media/cache/27/a5/27a53d0bb95bdd88288eaf66c9230d7e.jpg https://books.toscrape.com/catalogue/its-only-the-himalayas_981/index.html\n",
            "It's Only the Himalayas £45.17 =>  In stock\n"
          ]
        }
      ]
    },
    {
      "cell_type": "code",
      "source": [],
      "metadata": {
        "id": "tPDjoE1BqtP6"
      },
      "execution_count": 43,
      "outputs": []
    }
  ]
}